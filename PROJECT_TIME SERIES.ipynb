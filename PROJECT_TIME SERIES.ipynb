{
 "cells": [
  {
   "cell_type": "code",
   "execution_count": 684,
   "id": "87632b96-ba67-4545-add0-b7aef326c326",
   "metadata": {},
   "outputs": [],
   "source": [
    "# Install and Load Required Packages\n",
    "#installed.packages(\"forecast\")\n",
    "#installed.packages(\"ggplot2\")\n",
    "#installed.packages(\"tseries\")\n",
    "#installed.packages('aTSA')\n",
    "#installed.packages(\"dplyr\")\n",
    "#installed.packages(\"fpp2\")\n",
    "library(ggplot2)\n",
    "library(forecast)\n",
    "library(tseries)\n",
    "library(dplyr)\n",
    "library(fpp2)\n",
    "library(aTSA)\n"
   ]
  },
  {
   "cell_type": "markdown",
   "id": "7242e43a-c625-48fc-ba84-48692808b3a5",
   "metadata": {},
   "source": [
    "# **DATA COLLECTION AND DESCRIPTION**"
   ]
  },
  {
   "cell_type": "code",
   "execution_count": 685,
   "id": "7a45a633-c06c-4d48-b19c-b6cb1c7c8b78",
   "metadata": {},
   "outputs": [],
   "source": [
    "# Load the Data into the environment\n",
    "cocoa_price <- read.csv(\"CocoaPrice.csv\")"
   ]
  },
  {
   "cell_type": "code",
   "execution_count": 686,
   "id": "b2c1a3b6-1343-4d08-be93-e423d0d7b18e",
   "metadata": {},
   "outputs": [
    {
     "data": {
      "text/html": [
       "<table class=\"dataframe\">\n",
       "<caption>A data.frame: 6 × 2</caption>\n",
       "<thead>\n",
       "\t<tr><th></th><th scope=col>Date</th><th scope=col>Price</th></tr>\n",
       "\t<tr><th></th><th scope=col>&lt;chr&gt;</th><th scope=col>&lt;dbl&gt;</th></tr>\n",
       "</thead>\n",
       "<tbody>\n",
       "\t<tr><th scope=row>1</th><td>1994-10-01</td><td>1447.95</td></tr>\n",
       "\t<tr><th scope=row>2</th><td>1994-11-01</td><td>1437.05</td></tr>\n",
       "\t<tr><th scope=row>3</th><td>1994-12-01</td><td>1399.43</td></tr>\n",
       "\t<tr><th scope=row>4</th><td>1995-01-01</td><td>1468.86</td></tr>\n",
       "\t<tr><th scope=row>5</th><td>1995-02-01</td><td>1510.55</td></tr>\n",
       "\t<tr><th scope=row>6</th><td>1995-03-01</td><td>1484.91</td></tr>\n",
       "</tbody>\n",
       "</table>\n"
      ],
      "text/latex": [
       "A data.frame: 6 × 2\n",
       "\\begin{tabular}{r|ll}\n",
       "  & Date & Price\\\\\n",
       "  & <chr> & <dbl>\\\\\n",
       "\\hline\n",
       "\t1 & 1994-10-01 & 1447.95\\\\\n",
       "\t2 & 1994-11-01 & 1437.05\\\\\n",
       "\t3 & 1994-12-01 & 1399.43\\\\\n",
       "\t4 & 1995-01-01 & 1468.86\\\\\n",
       "\t5 & 1995-02-01 & 1510.55\\\\\n",
       "\t6 & 1995-03-01 & 1484.91\\\\\n",
       "\\end{tabular}\n"
      ],
      "text/markdown": [
       "\n",
       "A data.frame: 6 × 2\n",
       "\n",
       "| <!--/--> | Date &lt;chr&gt; | Price &lt;dbl&gt; |\n",
       "|---|---|---|\n",
       "| 1 | 1994-10-01 | 1447.95 |\n",
       "| 2 | 1994-11-01 | 1437.05 |\n",
       "| 3 | 1994-12-01 | 1399.43 |\n",
       "| 4 | 1995-01-01 | 1468.86 |\n",
       "| 5 | 1995-02-01 | 1510.55 |\n",
       "| 6 | 1995-03-01 | 1484.91 |\n",
       "\n"
      ],
      "text/plain": [
       "  Date       Price  \n",
       "1 1994-10-01 1447.95\n",
       "2 1994-11-01 1437.05\n",
       "3 1994-12-01 1399.43\n",
       "4 1995-01-01 1468.86\n",
       "5 1995-02-01 1510.55\n",
       "6 1995-03-01 1484.91"
      ]
     },
     "metadata": {},
     "output_type": "display_data"
    }
   ],
   "source": [
    "head(cocoa_price)"
   ]
  },
  {
   "cell_type": "code",
   "execution_count": 687,
   "id": "95081872-3c2d-4f4a-972c-8c580df9239a",
   "metadata": {},
   "outputs": [
    {
     "data": {
      "text/html": [
       "<table class=\"dataframe\">\n",
       "<caption>A data.frame: 6 × 2</caption>\n",
       "<thead>\n",
       "\t<tr><th></th><th scope=col>Date</th><th scope=col>Price</th></tr>\n",
       "\t<tr><th></th><th scope=col>&lt;chr&gt;</th><th scope=col>&lt;dbl&gt;</th></tr>\n",
       "</thead>\n",
       "<tbody>\n",
       "\t<tr><th scope=row>349</th><td>2023-10-01</td><td>3495.03</td></tr>\n",
       "\t<tr><th scope=row>350</th><td>2023-11-01</td><td>3799.15</td></tr>\n",
       "\t<tr><th scope=row>351</th><td>2023-12-01</td><td>3897.04</td></tr>\n",
       "\t<tr><th scope=row>352</th><td>2024-01-01</td><td>4087.54</td></tr>\n",
       "\t<tr><th scope=row>353</th><td>2024-02-01</td><td>5226.12</td></tr>\n",
       "\t<tr><th scope=row>354</th><td>2024-03-01</td><td>6510.16</td></tr>\n",
       "</tbody>\n",
       "</table>\n"
      ],
      "text/latex": [
       "A data.frame: 6 × 2\n",
       "\\begin{tabular}{r|ll}\n",
       "  & Date & Price\\\\\n",
       "  & <chr> & <dbl>\\\\\n",
       "\\hline\n",
       "\t349 & 2023-10-01 & 3495.03\\\\\n",
       "\t350 & 2023-11-01 & 3799.15\\\\\n",
       "\t351 & 2023-12-01 & 3897.04\\\\\n",
       "\t352 & 2024-01-01 & 4087.54\\\\\n",
       "\t353 & 2024-02-01 & 5226.12\\\\\n",
       "\t354 & 2024-03-01 & 6510.16\\\\\n",
       "\\end{tabular}\n"
      ],
      "text/markdown": [
       "\n",
       "A data.frame: 6 × 2\n",
       "\n",
       "| <!--/--> | Date &lt;chr&gt; | Price &lt;dbl&gt; |\n",
       "|---|---|---|\n",
       "| 349 | 2023-10-01 | 3495.03 |\n",
       "| 350 | 2023-11-01 | 3799.15 |\n",
       "| 351 | 2023-12-01 | 3897.04 |\n",
       "| 352 | 2024-01-01 | 4087.54 |\n",
       "| 353 | 2024-02-01 | 5226.12 |\n",
       "| 354 | 2024-03-01 | 6510.16 |\n",
       "\n"
      ],
      "text/plain": [
       "    Date       Price  \n",
       "349 2023-10-01 3495.03\n",
       "350 2023-11-01 3799.15\n",
       "351 2023-12-01 3897.04\n",
       "352 2024-01-01 4087.54\n",
       "353 2024-02-01 5226.12\n",
       "354 2024-03-01 6510.16"
      ]
     },
     "metadata": {},
     "output_type": "display_data"
    }
   ],
   "source": [
    "tail(cocoa_price)"
   ]
  },
  {
   "cell_type": "code",
   "execution_count": 688,
   "id": "ae95cb0d-3e51-4fd9-8c72-7c24f83930e5",
   "metadata": {},
   "outputs": [
    {
     "data": {
      "text/html": [
       "354"
      ],
      "text/latex": [
       "354"
      ],
      "text/markdown": [
       "354"
      ],
      "text/plain": [
       "[1] 354"
      ]
     },
     "metadata": {},
     "output_type": "display_data"
    }
   ],
   "source": [
    "nrow(cocoa_price)"
   ]
  },
  {
   "cell_type": "code",
   "execution_count": 689,
   "id": "87004f45-0dbf-45bb-b5af-a9a7604b33cc",
   "metadata": {},
   "outputs": [
    {
     "data": {
      "text/html": [
       "<style>\n",
       ".list-inline {list-style: none; margin:0; padding: 0}\n",
       ".list-inline>li {display: inline-block}\n",
       ".list-inline>li:not(:last-child)::after {content: \"\\00b7\"; padding: 0 .5ex}\n",
       "</style>\n",
       "<ol class=list-inline><li>'Date'</li><li>'Price'</li></ol>\n"
      ],
      "text/latex": [
       "\\begin{enumerate*}\n",
       "\\item 'Date'\n",
       "\\item 'Price'\n",
       "\\end{enumerate*}\n"
      ],
      "text/markdown": [
       "1. 'Date'\n",
       "2. 'Price'\n",
       "\n",
       "\n"
      ],
      "text/plain": [
       "[1] \"Date\"  \"Price\""
      ]
     },
     "metadata": {},
     "output_type": "display_data"
    }
   ],
   "source": [
    "# Display columns names\n",
    "names(cocoa_price)"
   ]
  },
  {
   "cell_type": "code",
   "execution_count": 690,
   "id": "29282033-fb32-4015-a7d3-9e52b1e8c814",
   "metadata": {},
   "outputs": [],
   "source": [
    "# Convert the Date column to Date format\n",
    "cocoa_price$Date <- as.Date(cocoa_price$Date, \"%Y-%m-%d\")"
   ]
  },
  {
   "cell_type": "markdown",
   "id": "d94e97e0-5f8e-497f-a1ef-43c0c6f20d2a",
   "metadata": {},
   "source": [
    "**DATA PREPROCESSING AND EXPLORATORY ANALYSIS** \n"
   ]
  },
  {
   "cell_type": "code",
   "execution_count": 691,
   "id": "73aad011-ebe3-464c-882d-f56c94502288",
   "metadata": {},
   "outputs": [
    {
     "data": {
      "text/plain": [
       "      Date                Price       \n",
       " Min.   :1994-10-01   Min.   : 874.1  \n",
       " 1st Qu.:2002-02-08   1st Qu.:1396.1  \n",
       " Median :2009-06-16   Median :1806.0  \n",
       " Mean   :2009-06-16   Mean   :1853.0  \n",
       " 3rd Qu.:2016-10-24   3rd Qu.:2168.5  \n",
       " Max.   :2024-03-01   Max.   :6510.2  "
      ]
     },
     "metadata": {},
     "output_type": "display_data"
    }
   ],
   "source": [
    "# Summary Statistics\n",
    "summary(cocoa_price)"
   ]
  },
  {
   "cell_type": "code",
   "execution_count": 692,
   "id": "21cc3891-bb73-4929-86e8-bdf4409f63c3",
   "metadata": {},
   "outputs": [],
   "source": [
    "# Set a time series object 'cocoa_price_ts' from the 'Price' column of 'cocoa_price' dataframe from october 1995 to end and with a monthly frequency\n",
    "cocoa_price_ts <- ts(cocoa_price$Price, start=c(1994, 10), frequency = 12)"
   ]
  },
  {
   "cell_type": "markdown",
   "id": "9851cae4-f2b9-46ca-a4ef-5d7faf03fd9e",
   "metadata": {},
   "source": [
    "**Vital Signs**"
   ]
  },
  {
   "cell_type": "code",
   "execution_count": 693,
   "id": "d714bed0-0cb8-425b-be67-ee418f15a292",
   "metadata": {},
   "outputs": [
    {
     "data": {
      "text/html": [
       "'double'"
      ],
      "text/latex": [
       "'double'"
      ],
      "text/markdown": [
       "'double'"
      ],
      "text/plain": [
       "[1] \"double\""
      ]
     },
     "metadata": {},
     "output_type": "display_data"
    }
   ],
   "source": [
    "# Get the type of data stored in '\n",
    "typeof(cocoa_price_ts)"
   ]
  },
  {
   "cell_type": "code",
   "execution_count": 694,
   "id": "578a31dd-67d7-4a03-b8fe-a575db894225",
   "metadata": {},
   "outputs": [
    {
     "data": {
      "text/html": [
       "'ts'"
      ],
      "text/latex": [
       "'ts'"
      ],
      "text/markdown": [
       "'ts'"
      ],
      "text/plain": [
       "[1] \"ts\""
      ]
     },
     "metadata": {},
     "output_type": "display_data"
    }
   ],
   "source": [
    "# Get the class of '\n",
    "class(cocoa_price_ts)"
   ]
  },
  {
   "cell_type": "code",
   "execution_count": 695,
   "id": "aeb216cf-5ef4-44f9-a8af-83e2cccb543b",
   "metadata": {},
   "outputs": [
    {
     "data": {
      "text/html": [
       "<style>\n",
       ".list-inline {list-style: none; margin:0; padding: 0}\n",
       ".list-inline>li {display: inline-block}\n",
       ".list-inline>li:not(:last-child)::after {content: \"\\00b7\"; padding: 0 .5ex}\n",
       "</style>\n",
       "<ol class=list-inline><li>1994</li><li>10</li></ol>\n"
      ],
      "text/latex": [
       "\\begin{enumerate*}\n",
       "\\item 1994\n",
       "\\item 10\n",
       "\\end{enumerate*}\n"
      ],
      "text/markdown": [
       "1. 1994\n",
       "2. 10\n",
       "\n",
       "\n"
      ],
      "text/plain": [
       "[1] 1994   10"
      ]
     },
     "metadata": {},
     "output_type": "display_data"
    }
   ],
   "source": [
    "# Get the start of '\n",
    "start(cocoa_price_ts)"
   ]
  },
  {
   "cell_type": "code",
   "execution_count": 696,
   "id": "c8d82793-6d66-4d3e-bbf1-f825b4c43dc3",
   "metadata": {},
   "outputs": [
    {
     "data": {
      "text/html": [
       "<style>\n",
       ".list-inline {list-style: none; margin:0; padding: 0}\n",
       ".list-inline>li {display: inline-block}\n",
       ".list-inline>li:not(:last-child)::after {content: \"\\00b7\"; padding: 0 .5ex}\n",
       "</style>\n",
       "<ol class=list-inline><li>2024</li><li>3</li></ol>\n"
      ],
      "text/latex": [
       "\\begin{enumerate*}\n",
       "\\item 2024\n",
       "\\item 3\n",
       "\\end{enumerate*}\n"
      ],
      "text/markdown": [
       "1. 2024\n",
       "2. 3\n",
       "\n",
       "\n"
      ],
      "text/plain": [
       "[1] 2024    3"
      ]
     },
     "metadata": {},
     "output_type": "display_data"
    }
   ],
   "source": [
    "# Get the end time of '\n",
    "end(cocoa_price_ts)"
   ]
  },
  {
   "cell_type": "code",
   "execution_count": 697,
   "id": "b83e9cc6-2fd1-44b1-ad92-8a8c84d82cc4",
   "metadata": {},
   "outputs": [
    {
     "data": {
      "text/html": [
       "12"
      ],
      "text/latex": [
       "12"
      ],
      "text/markdown": [
       "12"
      ],
      "text/plain": [
       "[1] 12"
      ]
     },
     "metadata": {},
     "output_type": "display_data"
    }
   ],
   "source": [
    "# Get the frequency of '\n",
    "frequency(cocoa_price_ts)"
   ]
  },
  {
   "cell_type": "markdown",
   "id": "889a0e8b-1145-47cc-890c-cba5bae88625",
   "metadata": {},
   "source": [
    "**Time series data and Visuals**"
   ]
  },
  {
   "cell_type": "code",
   "execution_count": 698,
   "id": "a8de54ad-72cd-459b-85bf-6180268d7208",
   "metadata": {},
   "outputs": [
    {
     "data": {
      "text/html": [
       "<table class=\"dataframe\">\n",
       "<caption>A Time Series: 31 × 12</caption>\n",
       "<thead>\n",
       "\t<tr><th></th><th scope=col>Jan</th><th scope=col>Feb</th><th scope=col>Mar</th><th scope=col>Apr</th><th scope=col>May</th><th scope=col>Jun</th><th scope=col>Jul</th><th scope=col>Aug</th><th scope=col>Sep</th><th scope=col>Oct</th><th scope=col>Nov</th><th scope=col>Dec</th></tr>\n",
       "</thead>\n",
       "<tbody>\n",
       "\t<tr><th scope=row>1994</th><td>       </td><td>       </td><td>       </td><td>       </td><td>       </td><td>       </td><td>       </td><td>       </td><td>       </td><td>1447.95</td><td>1437.05</td><td>1399.43</td></tr>\n",
       "\t<tr><th scope=row>1995</th><td>1468.86</td><td>1510.55</td><td>1484.91</td><td>1469.26</td><td>1445.32</td><td>1437.14</td><td>1364.10</td><td>1413.00</td><td>1396.86</td><td>1394.50</td><td>1436.50</td><td>1378.84</td></tr>\n",
       "\t<tr><th scope=row>1996</th><td>1349.50</td><td>1369.81</td><td>1338.62</td><td>1456.24</td><td>1524.09</td><td>1537.60</td><td>1495.70</td><td>1499.86</td><td>1476.14</td><td>1477.04</td><td>1469.33</td><td>1474.30</td></tr>\n",
       "\t<tr><th scope=row>1997</th><td>1428.45</td><td>1372.70</td><td>1523.60</td><td>1571.05</td><td>1568.29</td><td>1688.38</td><td>1677.30</td><td>1652.14</td><td>1769.64</td><td>1741.43</td><td>1694.80</td><td>1737.29</td></tr>\n",
       "\t<tr><th scope=row>1998</th><td>1668.10</td><td>1640.85</td><td>1719.18</td><td>1726.38</td><td>1794.35</td><td>1721.86</td><td>1712.17</td><td>1683.62</td><td>1687.32</td><td>1646.41</td><td>1388.52</td><td>1288.09</td></tr>\n",
       "\t<tr><th scope=row>1999</th><td>1254.90</td><td>1257.40</td><td>1206.52</td><td>1108.00</td><td> 998.75</td><td>1119.73</td><td>1074.77</td><td> 980.86</td><td>1009.86</td><td> 954.57</td><td> 893.64</td><td> 909.14</td></tr>\n",
       "\t<tr><th scope=row>2000</th><td> 906.38</td><td> 874.14</td><td> 966.70</td><td> 962.95</td><td>1003.68</td><td> 991.00</td><td> 996.62</td><td> 970.35</td><td>1013.57</td><td>1027.73</td><td> 936.09</td><td> 893.75</td></tr>\n",
       "\t<tr><th scope=row>2001</th><td>1031.86</td><td>1257.00</td><td>1236.73</td><td>1212.60</td><td>1233.23</td><td>1140.10</td><td>1123.82</td><td>1147.17</td><td>1118.85</td><td>1197.35</td><td>1397.77</td><td>1497.00</td></tr>\n",
       "\t<tr><th scope=row>2002</th><td>1567.59</td><td>1713.35</td><td>1815.35</td><td>1770.91</td><td>1749.78</td><td>1734.60</td><td>1881.78</td><td>2004.27</td><td>2206.19</td><td>2246.57</td><td>1811.29</td><td>1985.00</td></tr>\n",
       "\t<tr><th scope=row>2003</th><td>2055.27</td><td>2076.40</td><td>1847.48</td><td>1774.86</td><td>1515.81</td><td>1352.76</td><td>1372.35</td><td>1410.62</td><td>1450.73</td><td>1265.57</td><td>1289.90</td><td>1324.14</td></tr>\n",
       "\t<tr><th scope=row>2004</th><td>1286.43</td><td>1240.85</td><td>1226.57</td><td>1199.19</td><td>1178.15</td><td>1159.27</td><td>1271.91</td><td>1418.73</td><td>1261.05</td><td>1187.76</td><td>1278.18</td><td>1230.00</td></tr>\n",
       "\t<tr><th scope=row>2005</th><td>1181.00</td><td>1255.70</td><td>1331.45</td><td>1225.67</td><td>1190.52</td><td>1266.41</td><td>1237.38</td><td>1205.48</td><td>1227.36</td><td>1208.24</td><td>1217.23</td><td>1279.71</td></tr>\n",
       "\t<tr><th scope=row>2006</th><td>1301.38</td><td>1294.30</td><td>1283.83</td><td>1263.95</td><td>1248.86</td><td>1269.32</td><td>1321.38</td><td>1257.26</td><td>1231.33</td><td>1212.32</td><td>1226.73</td><td>1289.55</td></tr>\n",
       "\t<tr><th scope=row>2007</th><td>1310.18</td><td>1386.45</td><td>1452.59</td><td>1462.55</td><td>1483.32</td><td>1502.57</td><td>1568.77</td><td>1395.91</td><td>1393.45</td><td>1345.65</td><td>1339.77</td><td>1452.05</td></tr>\n",
       "\t<tr><th scope=row>2008</th><td>1505.59</td><td>1709.48</td><td>1721.05</td><td>1668.32</td><td>1729.43</td><td>1941.90</td><td>1874.61</td><td>1880.14</td><td>1866.73</td><td>1692.52</td><td>1622.80</td><td>1816.23</td></tr>\n",
       "\t<tr><th scope=row>2009</th><td>1985.29</td><td>2068.10</td><td>1922.59</td><td>1935.05</td><td>1817.80</td><td>1926.50</td><td>1980.87</td><td>2072.52</td><td>2157.45</td><td>2276.14</td><td>2268.90</td><td>2399.41</td></tr>\n",
       "\t<tr><th scope=row>2010</th><td>2470.30</td><td>2395.70</td><td>2276.96</td><td>2402.38</td><td>2528.90</td><td>2643.59</td><td>2523.64</td><td>2380.05</td><td>2196.36</td><td>2106.24</td><td>2133.95</td><td>2314.13</td></tr>\n",
       "\t<tr><th scope=row>2011</th><td>2366.30</td><td>2542.10</td><td>2421.22</td><td>2168.05</td><td>2142.33</td><td>2094.14</td><td>2217.00</td><td>2137.70</td><td>2087.59</td><td>1952.48</td><td>1863.82</td><td>1670.38</td></tr>\n",
       "\t<tr><th scope=row>2012</th><td>1789.05</td><td>1779.62</td><td>1785.73</td><td>1721.70</td><td>1807.83</td><td>1805.29</td><td>1912.23</td><td>2025.00</td><td>2036.20</td><td>1898.87</td><td>1930.86</td><td>1837.80</td></tr>\n",
       "\t<tr><th scope=row>2013</th><td>1710.73</td><td>1646.40</td><td>1662.25</td><td>1761.45</td><td>1806.68</td><td>1730.30</td><td>1764.57</td><td>1865.50</td><td>1958.81</td><td>2001.91</td><td>2042.05</td><td>2060.86</td></tr>\n",
       "\t<tr><th scope=row>2014</th><td>2070.82</td><td>2191.20</td><td>2199.48</td><td>2209.10</td><td>2205.86</td><td>2334.86</td><td>2361.22</td><td>2456.19</td><td>2497.64</td><td>2446.00</td><td>2332.30</td><td>2400.73</td></tr>\n",
       "\t<tr><th scope=row>2015</th><td>2514.76</td><td>2595.65</td><td>2662.59</td><td>2653.43</td><td>2773.05</td><td>2886.50</td><td>3023.78</td><td>2832.05</td><td>2920.68</td><td>2848.09</td><td>3134.86</td><td>3072.68</td></tr>\n",
       "\t<tr><th scope=row>2016</th><td>2720.15</td><td>2628.86</td><td>2762.23</td><td>2713.90</td><td>2738.29</td><td>2779.36</td><td>2757.90</td><td>2706.39</td><td>2569.27</td><td>2460.05</td><td>2318.86</td><td>2168.71</td></tr>\n",
       "\t<tr><th scope=row>2017</th><td>2064.67</td><td>1910.20</td><td>1924.26</td><td>1830.37</td><td>1794.77</td><td>1778.95</td><td>1726.10</td><td>1683.57</td><td>1677.24</td><td>1783.95</td><td>1812.32</td><td>1620.25</td></tr>\n",
       "\t<tr><th scope=row>2018</th><td>1599.77</td><td>1719.75</td><td>2030.00</td><td>2139.86</td><td>2249.73</td><td>2064.62</td><td>2017.45</td><td>1880.43</td><td>1882.15</td><td>1858.39</td><td>1922.82</td><td>1940.35</td></tr>\n",
       "\t<tr><th scope=row>2019</th><td>1982.14</td><td>1987.95</td><td>1948.19</td><td>2074.95</td><td>2069.32</td><td>2131.85</td><td>2154.70</td><td>1972.36</td><td>2093.19</td><td>2202.57</td><td>2280.90</td><td>2200.00</td></tr>\n",
       "\t<tr><th scope=row>2020</th><td>2346.14</td><td>2490.95</td><td>2118.68</td><td>2089.05</td><td>2123.75</td><td>1979.50</td><td>1831.07</td><td>1969.46</td><td>2070.42</td><td>1947.42</td><td>1992.33</td><td>1978.37</td></tr>\n",
       "\t<tr><th scope=row>2021</th><td>1965.34</td><td>1988.79</td><td>2068.94</td><td>1977.85</td><td>1986.69</td><td>1965.17</td><td>1968.23</td><td>2111.52</td><td>2173.62</td><td>2213.91</td><td>2098.42</td><td>2109.78</td></tr>\n",
       "\t<tr><th scope=row>2022</th><td>2179.34</td><td>2247.93</td><td>2234.49</td><td>2273.07</td><td>2237.81</td><td>2197.33</td><td>2200.62</td><td>2242.10</td><td>2243.96</td><td>2281.01</td><td>2333.84</td><td>2319.35</td></tr>\n",
       "\t<tr><th scope=row>2023</th><td>2357.59</td><td>2418.26</td><td>2491.37</td><td>2575.00</td><td>2673.46</td><td>2880.87</td><td>3028.41</td><td>3157.00</td><td>3395.58</td><td>3495.03</td><td>3799.15</td><td>3897.04</td></tr>\n",
       "\t<tr><th scope=row>2024</th><td>4087.54</td><td>5226.12</td><td>6510.16</td><td>       </td><td>       </td><td>       </td><td>       </td><td>       </td><td>       </td><td>       </td><td>       </td><td>       </td></tr>\n",
       "</tbody>\n",
       "</table>\n"
      ],
      "text/latex": [
       "A Time Series: 31 × 12\n",
       "\\begin{tabular}{r|llllllllllll}\n",
       "  & Jan & Feb & Mar & Apr & May & Jun & Jul & Aug & Sep & Oct & Nov & Dec\\\\\n",
       "\\hline\n",
       "\t1994 &         &         &         &         &         &         &         &         &         & 1447.95 & 1437.05 & 1399.43\\\\\n",
       "\t1995 & 1468.86 & 1510.55 & 1484.91 & 1469.26 & 1445.32 & 1437.14 & 1364.10 & 1413.00 & 1396.86 & 1394.50 & 1436.50 & 1378.84\\\\\n",
       "\t1996 & 1349.50 & 1369.81 & 1338.62 & 1456.24 & 1524.09 & 1537.60 & 1495.70 & 1499.86 & 1476.14 & 1477.04 & 1469.33 & 1474.30\\\\\n",
       "\t1997 & 1428.45 & 1372.70 & 1523.60 & 1571.05 & 1568.29 & 1688.38 & 1677.30 & 1652.14 & 1769.64 & 1741.43 & 1694.80 & 1737.29\\\\\n",
       "\t1998 & 1668.10 & 1640.85 & 1719.18 & 1726.38 & 1794.35 & 1721.86 & 1712.17 & 1683.62 & 1687.32 & 1646.41 & 1388.52 & 1288.09\\\\\n",
       "\t1999 & 1254.90 & 1257.40 & 1206.52 & 1108.00 &  998.75 & 1119.73 & 1074.77 &  980.86 & 1009.86 &  954.57 &  893.64 &  909.14\\\\\n",
       "\t2000 &  906.38 &  874.14 &  966.70 &  962.95 & 1003.68 &  991.00 &  996.62 &  970.35 & 1013.57 & 1027.73 &  936.09 &  893.75\\\\\n",
       "\t2001 & 1031.86 & 1257.00 & 1236.73 & 1212.60 & 1233.23 & 1140.10 & 1123.82 & 1147.17 & 1118.85 & 1197.35 & 1397.77 & 1497.00\\\\\n",
       "\t2002 & 1567.59 & 1713.35 & 1815.35 & 1770.91 & 1749.78 & 1734.60 & 1881.78 & 2004.27 & 2206.19 & 2246.57 & 1811.29 & 1985.00\\\\\n",
       "\t2003 & 2055.27 & 2076.40 & 1847.48 & 1774.86 & 1515.81 & 1352.76 & 1372.35 & 1410.62 & 1450.73 & 1265.57 & 1289.90 & 1324.14\\\\\n",
       "\t2004 & 1286.43 & 1240.85 & 1226.57 & 1199.19 & 1178.15 & 1159.27 & 1271.91 & 1418.73 & 1261.05 & 1187.76 & 1278.18 & 1230.00\\\\\n",
       "\t2005 & 1181.00 & 1255.70 & 1331.45 & 1225.67 & 1190.52 & 1266.41 & 1237.38 & 1205.48 & 1227.36 & 1208.24 & 1217.23 & 1279.71\\\\\n",
       "\t2006 & 1301.38 & 1294.30 & 1283.83 & 1263.95 & 1248.86 & 1269.32 & 1321.38 & 1257.26 & 1231.33 & 1212.32 & 1226.73 & 1289.55\\\\\n",
       "\t2007 & 1310.18 & 1386.45 & 1452.59 & 1462.55 & 1483.32 & 1502.57 & 1568.77 & 1395.91 & 1393.45 & 1345.65 & 1339.77 & 1452.05\\\\\n",
       "\t2008 & 1505.59 & 1709.48 & 1721.05 & 1668.32 & 1729.43 & 1941.90 & 1874.61 & 1880.14 & 1866.73 & 1692.52 & 1622.80 & 1816.23\\\\\n",
       "\t2009 & 1985.29 & 2068.10 & 1922.59 & 1935.05 & 1817.80 & 1926.50 & 1980.87 & 2072.52 & 2157.45 & 2276.14 & 2268.90 & 2399.41\\\\\n",
       "\t2010 & 2470.30 & 2395.70 & 2276.96 & 2402.38 & 2528.90 & 2643.59 & 2523.64 & 2380.05 & 2196.36 & 2106.24 & 2133.95 & 2314.13\\\\\n",
       "\t2011 & 2366.30 & 2542.10 & 2421.22 & 2168.05 & 2142.33 & 2094.14 & 2217.00 & 2137.70 & 2087.59 & 1952.48 & 1863.82 & 1670.38\\\\\n",
       "\t2012 & 1789.05 & 1779.62 & 1785.73 & 1721.70 & 1807.83 & 1805.29 & 1912.23 & 2025.00 & 2036.20 & 1898.87 & 1930.86 & 1837.80\\\\\n",
       "\t2013 & 1710.73 & 1646.40 & 1662.25 & 1761.45 & 1806.68 & 1730.30 & 1764.57 & 1865.50 & 1958.81 & 2001.91 & 2042.05 & 2060.86\\\\\n",
       "\t2014 & 2070.82 & 2191.20 & 2199.48 & 2209.10 & 2205.86 & 2334.86 & 2361.22 & 2456.19 & 2497.64 & 2446.00 & 2332.30 & 2400.73\\\\\n",
       "\t2015 & 2514.76 & 2595.65 & 2662.59 & 2653.43 & 2773.05 & 2886.50 & 3023.78 & 2832.05 & 2920.68 & 2848.09 & 3134.86 & 3072.68\\\\\n",
       "\t2016 & 2720.15 & 2628.86 & 2762.23 & 2713.90 & 2738.29 & 2779.36 & 2757.90 & 2706.39 & 2569.27 & 2460.05 & 2318.86 & 2168.71\\\\\n",
       "\t2017 & 2064.67 & 1910.20 & 1924.26 & 1830.37 & 1794.77 & 1778.95 & 1726.10 & 1683.57 & 1677.24 & 1783.95 & 1812.32 & 1620.25\\\\\n",
       "\t2018 & 1599.77 & 1719.75 & 2030.00 & 2139.86 & 2249.73 & 2064.62 & 2017.45 & 1880.43 & 1882.15 & 1858.39 & 1922.82 & 1940.35\\\\\n",
       "\t2019 & 1982.14 & 1987.95 & 1948.19 & 2074.95 & 2069.32 & 2131.85 & 2154.70 & 1972.36 & 2093.19 & 2202.57 & 2280.90 & 2200.00\\\\\n",
       "\t2020 & 2346.14 & 2490.95 & 2118.68 & 2089.05 & 2123.75 & 1979.50 & 1831.07 & 1969.46 & 2070.42 & 1947.42 & 1992.33 & 1978.37\\\\\n",
       "\t2021 & 1965.34 & 1988.79 & 2068.94 & 1977.85 & 1986.69 & 1965.17 & 1968.23 & 2111.52 & 2173.62 & 2213.91 & 2098.42 & 2109.78\\\\\n",
       "\t2022 & 2179.34 & 2247.93 & 2234.49 & 2273.07 & 2237.81 & 2197.33 & 2200.62 & 2242.10 & 2243.96 & 2281.01 & 2333.84 & 2319.35\\\\\n",
       "\t2023 & 2357.59 & 2418.26 & 2491.37 & 2575.00 & 2673.46 & 2880.87 & 3028.41 & 3157.00 & 3395.58 & 3495.03 & 3799.15 & 3897.04\\\\\n",
       "\t2024 & 4087.54 & 5226.12 & 6510.16 &         &         &         &         &         &         &         &         &        \\\\\n",
       "\\end{tabular}\n"
      ],
      "text/markdown": [
       "\n",
       "A Time Series: 31 × 12\n",
       "\n",
       "| <!--/--> | Jan | Feb | Mar | Apr | May | Jun | Jul | Aug | Sep | Oct | Nov | Dec |\n",
       "|---|---|---|---|---|---|---|---|---|---|---|---|---|\n",
       "| 1994 | <!----> | <!----> | <!----> | <!----> | <!----> | <!----> | <!----> | <!----> | <!----> | 1447.95 | 1437.05 | 1399.43 |\n",
       "| 1995 | 1468.86 | 1510.55 | 1484.91 | 1469.26 | 1445.32 | 1437.14 | 1364.10 | 1413.00 | 1396.86 | 1394.50 | 1436.50 | 1378.84 |\n",
       "| 1996 | 1349.50 | 1369.81 | 1338.62 | 1456.24 | 1524.09 | 1537.60 | 1495.70 | 1499.86 | 1476.14 | 1477.04 | 1469.33 | 1474.30 |\n",
       "| 1997 | 1428.45 | 1372.70 | 1523.60 | 1571.05 | 1568.29 | 1688.38 | 1677.30 | 1652.14 | 1769.64 | 1741.43 | 1694.80 | 1737.29 |\n",
       "| 1998 | 1668.10 | 1640.85 | 1719.18 | 1726.38 | 1794.35 | 1721.86 | 1712.17 | 1683.62 | 1687.32 | 1646.41 | 1388.52 | 1288.09 |\n",
       "| 1999 | 1254.90 | 1257.40 | 1206.52 | 1108.00 |  998.75 | 1119.73 | 1074.77 |  980.86 | 1009.86 |  954.57 |  893.64 |  909.14 |\n",
       "| 2000 |  906.38 |  874.14 |  966.70 |  962.95 | 1003.68 |  991.00 |  996.62 |  970.35 | 1013.57 | 1027.73 |  936.09 |  893.75 |\n",
       "| 2001 | 1031.86 | 1257.00 | 1236.73 | 1212.60 | 1233.23 | 1140.10 | 1123.82 | 1147.17 | 1118.85 | 1197.35 | 1397.77 | 1497.00 |\n",
       "| 2002 | 1567.59 | 1713.35 | 1815.35 | 1770.91 | 1749.78 | 1734.60 | 1881.78 | 2004.27 | 2206.19 | 2246.57 | 1811.29 | 1985.00 |\n",
       "| 2003 | 2055.27 | 2076.40 | 1847.48 | 1774.86 | 1515.81 | 1352.76 | 1372.35 | 1410.62 | 1450.73 | 1265.57 | 1289.90 | 1324.14 |\n",
       "| 2004 | 1286.43 | 1240.85 | 1226.57 | 1199.19 | 1178.15 | 1159.27 | 1271.91 | 1418.73 | 1261.05 | 1187.76 | 1278.18 | 1230.00 |\n",
       "| 2005 | 1181.00 | 1255.70 | 1331.45 | 1225.67 | 1190.52 | 1266.41 | 1237.38 | 1205.48 | 1227.36 | 1208.24 | 1217.23 | 1279.71 |\n",
       "| 2006 | 1301.38 | 1294.30 | 1283.83 | 1263.95 | 1248.86 | 1269.32 | 1321.38 | 1257.26 | 1231.33 | 1212.32 | 1226.73 | 1289.55 |\n",
       "| 2007 | 1310.18 | 1386.45 | 1452.59 | 1462.55 | 1483.32 | 1502.57 | 1568.77 | 1395.91 | 1393.45 | 1345.65 | 1339.77 | 1452.05 |\n",
       "| 2008 | 1505.59 | 1709.48 | 1721.05 | 1668.32 | 1729.43 | 1941.90 | 1874.61 | 1880.14 | 1866.73 | 1692.52 | 1622.80 | 1816.23 |\n",
       "| 2009 | 1985.29 | 2068.10 | 1922.59 | 1935.05 | 1817.80 | 1926.50 | 1980.87 | 2072.52 | 2157.45 | 2276.14 | 2268.90 | 2399.41 |\n",
       "| 2010 | 2470.30 | 2395.70 | 2276.96 | 2402.38 | 2528.90 | 2643.59 | 2523.64 | 2380.05 | 2196.36 | 2106.24 | 2133.95 | 2314.13 |\n",
       "| 2011 | 2366.30 | 2542.10 | 2421.22 | 2168.05 | 2142.33 | 2094.14 | 2217.00 | 2137.70 | 2087.59 | 1952.48 | 1863.82 | 1670.38 |\n",
       "| 2012 | 1789.05 | 1779.62 | 1785.73 | 1721.70 | 1807.83 | 1805.29 | 1912.23 | 2025.00 | 2036.20 | 1898.87 | 1930.86 | 1837.80 |\n",
       "| 2013 | 1710.73 | 1646.40 | 1662.25 | 1761.45 | 1806.68 | 1730.30 | 1764.57 | 1865.50 | 1958.81 | 2001.91 | 2042.05 | 2060.86 |\n",
       "| 2014 | 2070.82 | 2191.20 | 2199.48 | 2209.10 | 2205.86 | 2334.86 | 2361.22 | 2456.19 | 2497.64 | 2446.00 | 2332.30 | 2400.73 |\n",
       "| 2015 | 2514.76 | 2595.65 | 2662.59 | 2653.43 | 2773.05 | 2886.50 | 3023.78 | 2832.05 | 2920.68 | 2848.09 | 3134.86 | 3072.68 |\n",
       "| 2016 | 2720.15 | 2628.86 | 2762.23 | 2713.90 | 2738.29 | 2779.36 | 2757.90 | 2706.39 | 2569.27 | 2460.05 | 2318.86 | 2168.71 |\n",
       "| 2017 | 2064.67 | 1910.20 | 1924.26 | 1830.37 | 1794.77 | 1778.95 | 1726.10 | 1683.57 | 1677.24 | 1783.95 | 1812.32 | 1620.25 |\n",
       "| 2018 | 1599.77 | 1719.75 | 2030.00 | 2139.86 | 2249.73 | 2064.62 | 2017.45 | 1880.43 | 1882.15 | 1858.39 | 1922.82 | 1940.35 |\n",
       "| 2019 | 1982.14 | 1987.95 | 1948.19 | 2074.95 | 2069.32 | 2131.85 | 2154.70 | 1972.36 | 2093.19 | 2202.57 | 2280.90 | 2200.00 |\n",
       "| 2020 | 2346.14 | 2490.95 | 2118.68 | 2089.05 | 2123.75 | 1979.50 | 1831.07 | 1969.46 | 2070.42 | 1947.42 | 1992.33 | 1978.37 |\n",
       "| 2021 | 1965.34 | 1988.79 | 2068.94 | 1977.85 | 1986.69 | 1965.17 | 1968.23 | 2111.52 | 2173.62 | 2213.91 | 2098.42 | 2109.78 |\n",
       "| 2022 | 2179.34 | 2247.93 | 2234.49 | 2273.07 | 2237.81 | 2197.33 | 2200.62 | 2242.10 | 2243.96 | 2281.01 | 2333.84 | 2319.35 |\n",
       "| 2023 | 2357.59 | 2418.26 | 2491.37 | 2575.00 | 2673.46 | 2880.87 | 3028.41 | 3157.00 | 3395.58 | 3495.03 | 3799.15 | 3897.04 |\n",
       "| 2024 | 4087.54 | 5226.12 | 6510.16 | <!----> | <!----> | <!----> | <!----> | <!----> | <!----> | <!----> | <!----> | <!----> |\n",
       "\n"
      ],
      "text/plain": [
       "     Jan     Feb     Mar     Apr     May     Jun     Jul     Aug     Sep    \n",
       "1994                                                                        \n",
       "1995 1468.86 1510.55 1484.91 1469.26 1445.32 1437.14 1364.10 1413.00 1396.86\n",
       "1996 1349.50 1369.81 1338.62 1456.24 1524.09 1537.60 1495.70 1499.86 1476.14\n",
       "1997 1428.45 1372.70 1523.60 1571.05 1568.29 1688.38 1677.30 1652.14 1769.64\n",
       "1998 1668.10 1640.85 1719.18 1726.38 1794.35 1721.86 1712.17 1683.62 1687.32\n",
       "1999 1254.90 1257.40 1206.52 1108.00  998.75 1119.73 1074.77  980.86 1009.86\n",
       "2000  906.38  874.14  966.70  962.95 1003.68  991.00  996.62  970.35 1013.57\n",
       "2001 1031.86 1257.00 1236.73 1212.60 1233.23 1140.10 1123.82 1147.17 1118.85\n",
       "2002 1567.59 1713.35 1815.35 1770.91 1749.78 1734.60 1881.78 2004.27 2206.19\n",
       "2003 2055.27 2076.40 1847.48 1774.86 1515.81 1352.76 1372.35 1410.62 1450.73\n",
       "2004 1286.43 1240.85 1226.57 1199.19 1178.15 1159.27 1271.91 1418.73 1261.05\n",
       "2005 1181.00 1255.70 1331.45 1225.67 1190.52 1266.41 1237.38 1205.48 1227.36\n",
       "2006 1301.38 1294.30 1283.83 1263.95 1248.86 1269.32 1321.38 1257.26 1231.33\n",
       "2007 1310.18 1386.45 1452.59 1462.55 1483.32 1502.57 1568.77 1395.91 1393.45\n",
       "2008 1505.59 1709.48 1721.05 1668.32 1729.43 1941.90 1874.61 1880.14 1866.73\n",
       "2009 1985.29 2068.10 1922.59 1935.05 1817.80 1926.50 1980.87 2072.52 2157.45\n",
       "2010 2470.30 2395.70 2276.96 2402.38 2528.90 2643.59 2523.64 2380.05 2196.36\n",
       "2011 2366.30 2542.10 2421.22 2168.05 2142.33 2094.14 2217.00 2137.70 2087.59\n",
       "2012 1789.05 1779.62 1785.73 1721.70 1807.83 1805.29 1912.23 2025.00 2036.20\n",
       "2013 1710.73 1646.40 1662.25 1761.45 1806.68 1730.30 1764.57 1865.50 1958.81\n",
       "2014 2070.82 2191.20 2199.48 2209.10 2205.86 2334.86 2361.22 2456.19 2497.64\n",
       "2015 2514.76 2595.65 2662.59 2653.43 2773.05 2886.50 3023.78 2832.05 2920.68\n",
       "2016 2720.15 2628.86 2762.23 2713.90 2738.29 2779.36 2757.90 2706.39 2569.27\n",
       "2017 2064.67 1910.20 1924.26 1830.37 1794.77 1778.95 1726.10 1683.57 1677.24\n",
       "2018 1599.77 1719.75 2030.00 2139.86 2249.73 2064.62 2017.45 1880.43 1882.15\n",
       "2019 1982.14 1987.95 1948.19 2074.95 2069.32 2131.85 2154.70 1972.36 2093.19\n",
       "2020 2346.14 2490.95 2118.68 2089.05 2123.75 1979.50 1831.07 1969.46 2070.42\n",
       "2021 1965.34 1988.79 2068.94 1977.85 1986.69 1965.17 1968.23 2111.52 2173.62\n",
       "2022 2179.34 2247.93 2234.49 2273.07 2237.81 2197.33 2200.62 2242.10 2243.96\n",
       "2023 2357.59 2418.26 2491.37 2575.00 2673.46 2880.87 3028.41 3157.00 3395.58\n",
       "2024 4087.54 5226.12 6510.16                                                \n",
       "     Oct     Nov     Dec    \n",
       "1994 1447.95 1437.05 1399.43\n",
       "1995 1394.50 1436.50 1378.84\n",
       "1996 1477.04 1469.33 1474.30\n",
       "1997 1741.43 1694.80 1737.29\n",
       "1998 1646.41 1388.52 1288.09\n",
       "1999  954.57  893.64  909.14\n",
       "2000 1027.73  936.09  893.75\n",
       "2001 1197.35 1397.77 1497.00\n",
       "2002 2246.57 1811.29 1985.00\n",
       "2003 1265.57 1289.90 1324.14\n",
       "2004 1187.76 1278.18 1230.00\n",
       "2005 1208.24 1217.23 1279.71\n",
       "2006 1212.32 1226.73 1289.55\n",
       "2007 1345.65 1339.77 1452.05\n",
       "2008 1692.52 1622.80 1816.23\n",
       "2009 2276.14 2268.90 2399.41\n",
       "2010 2106.24 2133.95 2314.13\n",
       "2011 1952.48 1863.82 1670.38\n",
       "2012 1898.87 1930.86 1837.80\n",
       "2013 2001.91 2042.05 2060.86\n",
       "2014 2446.00 2332.30 2400.73\n",
       "2015 2848.09 3134.86 3072.68\n",
       "2016 2460.05 2318.86 2168.71\n",
       "2017 1783.95 1812.32 1620.25\n",
       "2018 1858.39 1922.82 1940.35\n",
       "2019 2202.57 2280.90 2200.00\n",
       "2020 1947.42 1992.33 1978.37\n",
       "2021 2213.91 2098.42 2109.78\n",
       "2022 2281.01 2333.84 2319.35\n",
       "2023 3495.03 3799.15 3897.04\n",
       "2024                        "
      ]
     },
     "metadata": {},
     "output_type": "display_data"
    }
   ],
   "source": [
    "# Display time series starts from October 1995 to March 2024 \n",
    "cocoa_price_ts"
   ]
  },
  {
   "cell_type": "code",
   "execution_count": 699,
   "id": "bbb78fec-5d29-4f8d-8882-2760474b1ca5",
   "metadata": {},
   "outputs": [
    {
     "data": {
      "image/png": "[encoded data removed]",
      "text/plain": [
       "plot without title"
      ]
     },
     "metadata": {
      "image/png": {
       "height": 420,
       "width": 420
      }
     },
     "output_type": "display_data"
    }
   ],
   "source": [
    "# Plot the time series of cocoa prices\n",
    "plot(cocoa_price_ts,col='blue')"
   ]
  },
  {
   "cell_type": "code",
   "execution_count": 700,
   "id": "ad1ed33a-b12b-435c-80b7-43abd6b2904d",
   "metadata": {},
   "outputs": [
    {
     "data": {
      "image/png": "[encoded data removed]",
      "text/plain": [
       "plot without title"
      ]
     },
     "metadata": {
      "image/png": {
       "height": 420,
       "width": 420
      }
     },
     "output_type": "display_data"
    }
   ],
   "source": [
    "# Plot the time series of cocoa prices with points represented by circles\n",
    "plot(cocoa_price_ts,  pch=16, type='b', col='blue')\n",
    "grid(, col='darkgrey', nx=25)"
   ]
  },
  {
   "cell_type": "code",
   "execution_count": 701,
   "id": "b479c0e4-f924-49b5-80e8-dfcc7e058244",
   "metadata": {},
   "outputs": [
    {
     "data": {
      "text/html": [
       "<table class=\"dataframe\">\n",
       "<caption>A Time Series: 31 × 12</caption>\n",
       "<thead>\n",
       "\t<tr><th></th><th scope=col>Jan</th><th scope=col>Feb</th><th scope=col>Mar</th><th scope=col>Apr</th><th scope=col>May</th><th scope=col>Jun</th><th scope=col>Jul</th><th scope=col>Aug</th><th scope=col>Sep</th><th scope=col>Oct</th><th scope=col>Nov</th><th scope=col>Dec</th></tr>\n",
       "</thead>\n",
       "<tbody>\n",
       "\t<tr><th scope=row>1994</th><td>        </td><td>        </td><td>        </td><td>        </td><td>        </td><td>        </td><td>        </td><td>        </td><td>        </td><td>1994.750</td><td>1994.833</td><td>1994.917</td></tr>\n",
       "\t<tr><th scope=row>1995</th><td>1995.000</td><td>1995.083</td><td>1995.167</td><td>1995.250</td><td>1995.333</td><td>1995.417</td><td>1995.500</td><td>1995.583</td><td>1995.667</td><td>1995.750</td><td>1995.833</td><td>1995.917</td></tr>\n",
       "\t<tr><th scope=row>1996</th><td>1996.000</td><td>1996.083</td><td>1996.167</td><td>1996.250</td><td>1996.333</td><td>1996.417</td><td>1996.500</td><td>1996.583</td><td>1996.667</td><td>1996.750</td><td>1996.833</td><td>1996.917</td></tr>\n",
       "\t<tr><th scope=row>1997</th><td>1997.000</td><td>1997.083</td><td>1997.167</td><td>1997.250</td><td>1997.333</td><td>1997.417</td><td>1997.500</td><td>1997.583</td><td>1997.667</td><td>1997.750</td><td>1997.833</td><td>1997.917</td></tr>\n",
       "\t<tr><th scope=row>1998</th><td>1998.000</td><td>1998.083</td><td>1998.167</td><td>1998.250</td><td>1998.333</td><td>1998.417</td><td>1998.500</td><td>1998.583</td><td>1998.667</td><td>1998.750</td><td>1998.833</td><td>1998.917</td></tr>\n",
       "\t<tr><th scope=row>1999</th><td>1999.000</td><td>1999.083</td><td>1999.167</td><td>1999.250</td><td>1999.333</td><td>1999.417</td><td>1999.500</td><td>1999.583</td><td>1999.667</td><td>1999.750</td><td>1999.833</td><td>1999.917</td></tr>\n",
       "\t<tr><th scope=row>2000</th><td>2000.000</td><td>2000.083</td><td>2000.167</td><td>2000.250</td><td>2000.333</td><td>2000.417</td><td>2000.500</td><td>2000.583</td><td>2000.667</td><td>2000.750</td><td>2000.833</td><td>2000.917</td></tr>\n",
       "\t<tr><th scope=row>2001</th><td>2001.000</td><td>2001.083</td><td>2001.167</td><td>2001.250</td><td>2001.333</td><td>2001.417</td><td>2001.500</td><td>2001.583</td><td>2001.667</td><td>2001.750</td><td>2001.833</td><td>2001.917</td></tr>\n",
       "\t<tr><th scope=row>2002</th><td>2002.000</td><td>2002.083</td><td>2002.167</td><td>2002.250</td><td>2002.333</td><td>2002.417</td><td>2002.500</td><td>2002.583</td><td>2002.667</td><td>2002.750</td><td>2002.833</td><td>2002.917</td></tr>\n",
       "\t<tr><th scope=row>2003</th><td>2003.000</td><td>2003.083</td><td>2003.167</td><td>2003.250</td><td>2003.333</td><td>2003.417</td><td>2003.500</td><td>2003.583</td><td>2003.667</td><td>2003.750</td><td>2003.833</td><td>2003.917</td></tr>\n",
       "\t<tr><th scope=row>2004</th><td>2004.000</td><td>2004.083</td><td>2004.167</td><td>2004.250</td><td>2004.333</td><td>2004.417</td><td>2004.500</td><td>2004.583</td><td>2004.667</td><td>2004.750</td><td>2004.833</td><td>2004.917</td></tr>\n",
       "\t<tr><th scope=row>2005</th><td>2005.000</td><td>2005.083</td><td>2005.167</td><td>2005.250</td><td>2005.333</td><td>2005.417</td><td>2005.500</td><td>2005.583</td><td>2005.667</td><td>2005.750</td><td>2005.833</td><td>2005.917</td></tr>\n",
       "\t<tr><th scope=row>2006</th><td>2006.000</td><td>2006.083</td><td>2006.167</td><td>2006.250</td><td>2006.333</td><td>2006.417</td><td>2006.500</td><td>2006.583</td><td>2006.667</td><td>2006.750</td><td>2006.833</td><td>2006.917</td></tr>\n",
       "\t<tr><th scope=row>2007</th><td>2007.000</td><td>2007.083</td><td>2007.167</td><td>2007.250</td><td>2007.333</td><td>2007.417</td><td>2007.500</td><td>2007.583</td><td>2007.667</td><td>2007.750</td><td>2007.833</td><td>2007.917</td></tr>\n",
       "\t<tr><th scope=row>2008</th><td>2008.000</td><td>2008.083</td><td>2008.167</td><td>2008.250</td><td>2008.333</td><td>2008.417</td><td>2008.500</td><td>2008.583</td><td>2008.667</td><td>2008.750</td><td>2008.833</td><td>2008.917</td></tr>\n",
       "\t<tr><th scope=row>2009</th><td>2009.000</td><td>2009.083</td><td>2009.167</td><td>2009.250</td><td>2009.333</td><td>2009.417</td><td>2009.500</td><td>2009.583</td><td>2009.667</td><td>2009.750</td><td>2009.833</td><td>2009.917</td></tr>\n",
       "\t<tr><th scope=row>2010</th><td>2010.000</td><td>2010.083</td><td>2010.167</td><td>2010.250</td><td>2010.333</td><td>2010.417</td><td>2010.500</td><td>2010.583</td><td>2010.667</td><td>2010.750</td><td>2010.833</td><td>2010.917</td></tr>\n",
       "\t<tr><th scope=row>2011</th><td>2011.000</td><td>2011.083</td><td>2011.167</td><td>2011.250</td><td>2011.333</td><td>2011.417</td><td>2011.500</td><td>2011.583</td><td>2011.667</td><td>2011.750</td><td>2011.833</td><td>2011.917</td></tr>\n",
       "\t<tr><th scope=row>2012</th><td>2012.000</td><td>2012.083</td><td>2012.167</td><td>2012.250</td><td>2012.333</td><td>2012.417</td><td>2012.500</td><td>2012.583</td><td>2012.667</td><td>2012.750</td><td>2012.833</td><td>2012.917</td></tr>\n",
       "\t<tr><th scope=row>2013</th><td>2013.000</td><td>2013.083</td><td>2013.167</td><td>2013.250</td><td>2013.333</td><td>2013.417</td><td>2013.500</td><td>2013.583</td><td>2013.667</td><td>2013.750</td><td>2013.833</td><td>2013.917</td></tr>\n",
       "\t<tr><th scope=row>2014</th><td>2014.000</td><td>2014.083</td><td>2014.167</td><td>2014.250</td><td>2014.333</td><td>2014.417</td><td>2014.500</td><td>2014.583</td><td>2014.667</td><td>2014.750</td><td>2014.833</td><td>2014.917</td></tr>\n",
       "\t<tr><th scope=row>2015</th><td>2015.000</td><td>2015.083</td><td>2015.167</td><td>2015.250</td><td>2015.333</td><td>2015.417</td><td>2015.500</td><td>2015.583</td><td>2015.667</td><td>2015.750</td><td>2015.833</td><td>2015.917</td></tr>\n",
       "\t<tr><th scope=row>2016</th><td>2016.000</td><td>2016.083</td><td>2016.167</td><td>2016.250</td><td>2016.333</td><td>2016.417</td><td>2016.500</td><td>2016.583</td><td>2016.667</td><td>2016.750</td><td>2016.833</td><td>2016.917</td></tr>\n",
       "\t<tr><th scope=row>2017</th><td>2017.000</td><td>2017.083</td><td>2017.167</td><td>2017.250</td><td>2017.333</td><td>2017.417</td><td>2017.500</td><td>2017.583</td><td>2017.667</td><td>2017.750</td><td>2017.833</td><td>2017.917</td></tr>\n",
       "\t<tr><th scope=row>2018</th><td>2018.000</td><td>2018.083</td><td>2018.167</td><td>2018.250</td><td>2018.333</td><td>2018.417</td><td>2018.500</td><td>2018.583</td><td>2018.667</td><td>2018.750</td><td>2018.833</td><td>2018.917</td></tr>\n",
       "\t<tr><th scope=row>2019</th><td>2019.000</td><td>2019.083</td><td>2019.167</td><td>2019.250</td><td>2019.333</td><td>2019.417</td><td>2019.500</td><td>2019.583</td><td>2019.667</td><td>2019.750</td><td>2019.833</td><td>2019.917</td></tr>\n",
       "\t<tr><th scope=row>2020</th><td>2020.000</td><td>2020.083</td><td>2020.167</td><td>2020.250</td><td>2020.333</td><td>2020.417</td><td>2020.500</td><td>2020.583</td><td>2020.667</td><td>2020.750</td><td>2020.833</td><td>2020.917</td></tr>\n",
       "\t<tr><th scope=row>2021</th><td>2021.000</td><td>2021.083</td><td>2021.167</td><td>2021.250</td><td>2021.333</td><td>2021.417</td><td>2021.500</td><td>2021.583</td><td>2021.667</td><td>2021.750</td><td>2021.833</td><td>2021.917</td></tr>\n",
       "\t<tr><th scope=row>2022</th><td>2022.000</td><td>2022.083</td><td>2022.167</td><td>2022.250</td><td>2022.333</td><td>2022.417</td><td>2022.500</td><td>2022.583</td><td>2022.667</td><td>2022.750</td><td>2022.833</td><td>2022.917</td></tr>\n",
       "\t<tr><th scope=row>2023</th><td>2023.000</td><td>2023.083</td><td>2023.167</td><td>2023.250</td><td>2023.333</td><td>2023.417</td><td>2023.500</td><td>2023.583</td><td>2023.667</td><td>2023.750</td><td>2023.833</td><td>2023.917</td></tr>\n",
       "\t<tr><th scope=row>2024</th><td>2024.000</td><td>2024.083</td><td>2024.167</td><td>        </td><td>        </td><td>        </td><td>        </td><td>        </td><td>        </td><td>        </td><td>        </td><td>        </td></tr>\n",
       "</tbody>\n",
       "</table>\n"
      ],
      "text/latex": [
       "A Time Series: 31 × 12\n",
       "\\begin{tabular}{r|llllllllllll}\n",
       "  & Jan & Feb & Mar & Apr & May & Jun & Jul & Aug & Sep & Oct & Nov & Dec\\\\\n",
       "\\hline\n",
       "\t1994 &          &          &          &          &          &          &          &          &          & 1994.750 & 1994.833 & 1994.917\\\\\n",
       "\t1995 & 1995.000 & 1995.083 & 1995.167 & 1995.250 & 1995.333 & 1995.417 & 1995.500 & 1995.583 & 1995.667 & 1995.750 & 1995.833 & 1995.917\\\\\n",
       "\t1996 & 1996.000 & 1996.083 & 1996.167 & 1996.250 & 1996.333 & 1996.417 & 1996.500 & 1996.583 & 1996.667 & 1996.750 & 1996.833 & 1996.917\\\\\n",
       "\t1997 & 1997.000 & 1997.083 & 1997.167 & 1997.250 & 1997.333 & 1997.417 & 1997.500 & 1997.583 & 1997.667 & 1997.750 & 1997.833 & 1997.917\\\\\n",
       "\t1998 & 1998.000 & 1998.083 & 1998.167 & 1998.250 & 1998.333 & 1998.417 & 1998.500 & 1998.583 & 1998.667 & 1998.750 & 1998.833 & 1998.917\\\\\n",
       "\t1999 & 1999.000 & 1999.083 & 1999.167 & 1999.250 & 1999.333 & 1999.417 & 1999.500 & 1999.583 & 1999.667 & 1999.750 & 1999.833 & 1999.917\\\\\n",
       "\t2000 & 2000.000 & 2000.083 & 2000.167 & 2000.250 & 2000.333 & 2000.417 & 2000.500 & 2000.583 & 2000.667 & 2000.750 & 2000.833 & 2000.917\\\\\n",
       "\t2001 & 2001.000 & 2001.083 & 2001.167 & 2001.250 & 2001.333 & 2001.417 & 2001.500 & 2001.583 & 2001.667 & 2001.750 & 2001.833 & 2001.917\\\\\n",
       "\t2002 & 2002.000 & 2002.083 & 2002.167 & 2002.250 & 2002.333 & 2002.417 & 2002.500 & 2002.583 & 2002.667 & 2002.750 & 2002.833 & 2002.917\\\\\n",
       "\t2003 & 2003.000 & 2003.083 & 2003.167 & 2003.250 & 2003.333 & 2003.417 & 2003.500 & 2003.583 & 2003.667 & 2003.750 & 2003.833 & 2003.917\\\\\n",
       "\t2004 & 2004.000 & 2004.083 & 2004.167 & 2004.250 & 2004.333 & 2004.417 & 2004.500 & 2004.583 & 2004.667 & 2004.750 & 2004.833 & 2004.917\\\\\n",
       "\t2005 & 2005.000 & 2005.083 & 2005.167 & 2005.250 & 2005.333 & 2005.417 & 2005.500 & 2005.583 & 2005.667 & 2005.750 & 2005.833 & 2005.917\\\\\n",
       "\t2006 & 2006.000 & 2006.083 & 2006.167 & 2006.250 & 2006.333 & 2006.417 & 2006.500 & 2006.583 & 2006.667 & 2006.750 & 2006.833 & 2006.917\\\\\n",
       "\t2007 & 2007.000 & 2007.083 & 2007.167 & 2007.250 & 2007.333 & 2007.417 & 2007.500 & 2007.583 & 2007.667 & 2007.750 & 2007.833 & 2007.917\\\\\n",
       "\t2008 & 2008.000 & 2008.083 & 2008.167 & 2008.250 & 2008.333 & 2008.417 & 2008.500 & 2008.583 & 2008.667 & 2008.750 & 2008.833 & 2008.917\\\\\n",
       "\t2009 & 2009.000 & 2009.083 & 2009.167 & 2009.250 & 2009.333 & 2009.417 & 2009.500 & 2009.583 & 2009.667 & 2009.750 & 2009.833 & 2009.917\\\\\n",
       "\t2010 & 2010.000 & 2010.083 & 2010.167 & 2010.250 & 2010.333 & 2010.417 & 2010.500 & 2010.583 & 2010.667 & 2010.750 & 2010.833 & 2010.917\\\\\n",
       "\t2011 & 2011.000 & 2011.083 & 2011.167 & 2011.250 & 2011.333 & 2011.417 & 2011.500 & 2011.583 & 2011.667 & 2011.750 & 2011.833 & 2011.917\\\\\n",
       "\t2012 & 2012.000 & 2012.083 & 2012.167 & 2012.250 & 2012.333 & 2012.417 & 2012.500 & 2012.583 & 2012.667 & 2012.750 & 2012.833 & 2012.917\\\\\n",
       "\t2013 & 2013.000 & 2013.083 & 2013.167 & 2013.250 & 2013.333 & 2013.417 & 2013.500 & 2013.583 & 2013.667 & 2013.750 & 2013.833 & 2013.917\\\\\n",
       "\t2014 & 2014.000 & 2014.083 & 2014.167 & 2014.250 & 2014.333 & 2014.417 & 2014.500 & 2014.583 & 2014.667 & 2014.750 & 2014.833 & 2014.917\\\\\n",
       "\t2015 & 2015.000 & 2015.083 & 2015.167 & 2015.250 & 2015.333 & 2015.417 & 2015.500 & 2015.583 & 2015.667 & 2015.750 & 2015.833 & 2015.917\\\\\n",
       "\t2016 & 2016.000 & 2016.083 & 2016.167 & 2016.250 & 2016.333 & 2016.417 & 2016.500 & 2016.583 & 2016.667 & 2016.750 & 2016.833 & 2016.917\\\\\n",
       "\t2017 & 2017.000 & 2017.083 & 2017.167 & 2017.250 & 2017.333 & 2017.417 & 2017.500 & 2017.583 & 2017.667 & 2017.750 & 2017.833 & 2017.917\\\\\n",
       "\t2018 & 2018.000 & 2018.083 & 2018.167 & 2018.250 & 2018.333 & 2018.417 & 2018.500 & 2018.583 & 2018.667 & 2018.750 & 2018.833 & 2018.917\\\\\n",
       "\t2019 & 2019.000 & 2019.083 & 2019.167 & 2019.250 & 2019.333 & 2019.417 & 2019.500 & 2019.583 & 2019.667 & 2019.750 & 2019.833 & 2019.917\\\\\n",
       "\t2020 & 2020.000 & 2020.083 & 2020.167 & 2020.250 & 2020.333 & 2020.417 & 2020.500 & 2020.583 & 2020.667 & 2020.750 & 2020.833 & 2020.917\\\\\n",
       "\t2021 & 2021.000 & 2021.083 & 2021.167 & 2021.250 & 2021.333 & 2021.417 & 2021.500 & 2021.583 & 2021.667 & 2021.750 & 2021.833 & 2021.917\\\\\n",
       "\t2022 & 2022.000 & 2022.083 & 2022.167 & 2022.250 & 2022.333 & 2022.417 & 2022.500 & 2022.583 & 2022.667 & 2022.750 & 2022.833 & 2022.917\\\\\n",
       "\t2023 & 2023.000 & 2023.083 & 2023.167 & 2023.250 & 2023.333 & 2023.417 & 2023.500 & 2023.583 & 2023.667 & 2023.750 & 2023.833 & 2023.917\\\\\n",
       "\t2024 & 2024.000 & 2024.083 & 2024.167 &          &          &          &          &          &          &          &          &         \\\\\n",
       "\\end{tabular}\n"
      ],
      "text/markdown": [
       "\n",
       "A Time Series: 31 × 12\n",
       "\n",
       "| <!--/--> | Jan | Feb | Mar | Apr | May | Jun | Jul | Aug | Sep | Oct | Nov | Dec |\n",
       "|---|---|---|---|---|---|---|---|---|---|---|---|---|\n",
       "| 1994 | <!----> | <!----> | <!----> | <!----> | <!----> | <!----> | <!----> | <!----> | <!----> | 1994.750 | 1994.833 | 1994.917 |\n",
       "| 1995 | 1995.000 | 1995.083 | 1995.167 | 1995.250 | 1995.333 | 1995.417 | 1995.500 | 1995.583 | 1995.667 | 1995.750 | 1995.833 | 1995.917 |\n",
       "| 1996 | 1996.000 | 1996.083 | 1996.167 | 1996.250 | 1996.333 | 1996.417 | 1996.500 | 1996.583 | 1996.667 | 1996.750 | 1996.833 | 1996.917 |\n",
       "| 1997 | 1997.000 | 1997.083 | 1997.167 | 1997.250 | 1997.333 | 1997.417 | 1997.500 | 1997.583 | 1997.667 | 1997.750 | 1997.833 | 1997.917 |\n",
       "| 1998 | 1998.000 | 1998.083 | 1998.167 | 1998.250 | 1998.333 | 1998.417 | 1998.500 | 1998.583 | 1998.667 | 1998.750 | 1998.833 | 1998.917 |\n",
       "| 1999 | 1999.000 | 1999.083 | 1999.167 | 1999.250 | 1999.333 | 1999.417 | 1999.500 | 1999.583 | 1999.667 | 1999.750 | 1999.833 | 1999.917 |\n",
       "| 2000 | 2000.000 | 2000.083 | 2000.167 | 2000.250 | 2000.333 | 2000.417 | 2000.500 | 2000.583 | 2000.667 | 2000.750 | 2000.833 | 2000.917 |\n",
       "| 2001 | 2001.000 | 2001.083 | 2001.167 | 2001.250 | 2001.333 | 2001.417 | 2001.500 | 2001.583 | 2001.667 | 2001.750 | 2001.833 | 2001.917 |\n",
       "| 2002 | 2002.000 | 2002.083 | 2002.167 | 2002.250 | 2002.333 | 2002.417 | 2002.500 | 2002.583 | 2002.667 | 2002.750 | 2002.833 | 2002.917 |\n",
       "| 2003 | 2003.000 | 2003.083 | 2003.167 | 2003.250 | 2003.333 | 2003.417 | 2003.500 | 2003.583 | 2003.667 | 2003.750 | 2003.833 | 2003.917 |\n",
       "| 2004 | 2004.000 | 2004.083 | 2004.167 | 2004.250 | 2004.333 | 2004.417 | 2004.500 | 2004.583 | 2004.667 | 2004.750 | 2004.833 | 2004.917 |\n",
       "| 2005 | 2005.000 | 2005.083 | 2005.167 | 2005.250 | 2005.333 | 2005.417 | 2005.500 | 2005.583 | 2005.667 | 2005.750 | 2005.833 | 2005.917 |\n",
       "| 2006 | 2006.000 | 2006.083 | 2006.167 | 2006.250 | 2006.333 | 2006.417 | 2006.500 | 2006.583 | 2006.667 | 2006.750 | 2006.833 | 2006.917 |\n",
       "| 2007 | 2007.000 | 2007.083 | 2007.167 | 2007.250 | 2007.333 | 2007.417 | 2007.500 | 2007.583 | 2007.667 | 2007.750 | 2007.833 | 2007.917 |\n",
       "| 2008 | 2008.000 | 2008.083 | 2008.167 | 2008.250 | 2008.333 | 2008.417 | 2008.500 | 2008.583 | 2008.667 | 2008.750 | 2008.833 | 2008.917 |\n",
       "| 2009 | 2009.000 | 2009.083 | 2009.167 | 2009.250 | 2009.333 | 2009.417 | 2009.500 | 2009.583 | 2009.667 | 2009.750 | 2009.833 | 2009.917 |\n",
       "| 2010 | 2010.000 | 2010.083 | 2010.167 | 2010.250 | 2010.333 | 2010.417 | 2010.500 | 2010.583 | 2010.667 | 2010.750 | 2010.833 | 2010.917 |\n",
       "| 2011 | 2011.000 | 2011.083 | 2011.167 | 2011.250 | 2011.333 | 2011.417 | 2011.500 | 2011.583 | 2011.667 | 2011.750 | 2011.833 | 2011.917 |\n",
       "| 2012 | 2012.000 | 2012.083 | 2012.167 | 2012.250 | 2012.333 | 2012.417 | 2012.500 | 2012.583 | 2012.667 | 2012.750 | 2012.833 | 2012.917 |\n",
       "| 2013 | 2013.000 | 2013.083 | 2013.167 | 2013.250 | 2013.333 | 2013.417 | 2013.500 | 2013.583 | 2013.667 | 2013.750 | 2013.833 | 2013.917 |\n",
       "| 2014 | 2014.000 | 2014.083 | 2014.167 | 2014.250 | 2014.333 | 2014.417 | 2014.500 | 2014.583 | 2014.667 | 2014.750 | 2014.833 | 2014.917 |\n",
       "| 2015 | 2015.000 | 2015.083 | 2015.167 | 2015.250 | 2015.333 | 2015.417 | 2015.500 | 2015.583 | 2015.667 | 2015.750 | 2015.833 | 2015.917 |\n",
       "| 2016 | 2016.000 | 2016.083 | 2016.167 | 2016.250 | 2016.333 | 2016.417 | 2016.500 | 2016.583 | 2016.667 | 2016.750 | 2016.833 | 2016.917 |\n",
       "| 2017 | 2017.000 | 2017.083 | 2017.167 | 2017.250 | 2017.333 | 2017.417 | 2017.500 | 2017.583 | 2017.667 | 2017.750 | 2017.833 | 2017.917 |\n",
       "| 2018 | 2018.000 | 2018.083 | 2018.167 | 2018.250 | 2018.333 | 2018.417 | 2018.500 | 2018.583 | 2018.667 | 2018.750 | 2018.833 | 2018.917 |\n",
       "| 2019 | 2019.000 | 2019.083 | 2019.167 | 2019.250 | 2019.333 | 2019.417 | 2019.500 | 2019.583 | 2019.667 | 2019.750 | 2019.833 | 2019.917 |\n",
       "| 2020 | 2020.000 | 2020.083 | 2020.167 | 2020.250 | 2020.333 | 2020.417 | 2020.500 | 2020.583 | 2020.667 | 2020.750 | 2020.833 | 2020.917 |\n",
       "| 2021 | 2021.000 | 2021.083 | 2021.167 | 2021.250 | 2021.333 | 2021.417 | 2021.500 | 2021.583 | 2021.667 | 2021.750 | 2021.833 | 2021.917 |\n",
       "| 2022 | 2022.000 | 2022.083 | 2022.167 | 2022.250 | 2022.333 | 2022.417 | 2022.500 | 2022.583 | 2022.667 | 2022.750 | 2022.833 | 2022.917 |\n",
       "| 2023 | 2023.000 | 2023.083 | 2023.167 | 2023.250 | 2023.333 | 2023.417 | 2023.500 | 2023.583 | 2023.667 | 2023.750 | 2023.833 | 2023.917 |\n",
       "| 2024 | 2024.000 | 2024.083 | 2024.167 | <!----> | <!----> | <!----> | <!----> | <!----> | <!----> | <!----> | <!----> | <!----> |\n",
       "\n"
      ],
      "text/plain": [
       "     Jan      Feb      Mar      Apr      May      Jun      Jul      Aug     \n",
       "1994                                                                        \n",
       "1995 1995.000 1995.083 1995.167 1995.250 1995.333 1995.417 1995.500 1995.583\n",
       "1996 1996.000 1996.083 1996.167 1996.250 1996.333 1996.417 1996.500 1996.583\n",
       "1997 1997.000 1997.083 1997.167 1997.250 1997.333 1997.417 1997.500 1997.583\n",
       "1998 1998.000 1998.083 1998.167 1998.250 1998.333 1998.417 1998.500 1998.583\n",
       "1999 1999.000 1999.083 1999.167 1999.250 1999.333 1999.417 1999.500 1999.583\n",
       "2000 2000.000 2000.083 2000.167 2000.250 2000.333 2000.417 2000.500 2000.583\n",
       "2001 2001.000 2001.083 2001.167 2001.250 2001.333 2001.417 2001.500 2001.583\n",
       "2002 2002.000 2002.083 2002.167 2002.250 2002.333 2002.417 2002.500 2002.583\n",
       "2003 2003.000 2003.083 2003.167 2003.250 2003.333 2003.417 2003.500 2003.583\n",
       "2004 2004.000 2004.083 2004.167 2004.250 2004.333 2004.417 2004.500 2004.583\n",
       "2005 2005.000 2005.083 2005.167 2005.250 2005.333 2005.417 2005.500 2005.583\n",
       "2006 2006.000 2006.083 2006.167 2006.250 2006.333 2006.417 2006.500 2006.583\n",
       "2007 2007.000 2007.083 2007.167 2007.250 2007.333 2007.417 2007.500 2007.583\n",
       "2008 2008.000 2008.083 2008.167 2008.250 2008.333 2008.417 2008.500 2008.583\n",
       "2009 2009.000 2009.083 2009.167 2009.250 2009.333 2009.417 2009.500 2009.583\n",
       "2010 2010.000 2010.083 2010.167 2010.250 2010.333 2010.417 2010.500 2010.583\n",
       "2011 2011.000 2011.083 2011.167 2011.250 2011.333 2011.417 2011.500 2011.583\n",
       "2012 2012.000 2012.083 2012.167 2012.250 2012.333 2012.417 2012.500 2012.583\n",
       "2013 2013.000 2013.083 2013.167 2013.250 2013.333 2013.417 2013.500 2013.583\n",
       "2014 2014.000 2014.083 2014.167 2014.250 2014.333 2014.417 2014.500 2014.583\n",
       "2015 2015.000 2015.083 2015.167 2015.250 2015.333 2015.417 2015.500 2015.583\n",
       "2016 2016.000 2016.083 2016.167 2016.250 2016.333 2016.417 2016.500 2016.583\n",
       "2017 2017.000 2017.083 2017.167 2017.250 2017.333 2017.417 2017.500 2017.583\n",
       "2018 2018.000 2018.083 2018.167 2018.250 2018.333 2018.417 2018.500 2018.583\n",
       "2019 2019.000 2019.083 2019.167 2019.250 2019.333 2019.417 2019.500 2019.583\n",
       "2020 2020.000 2020.083 2020.167 2020.250 2020.333 2020.417 2020.500 2020.583\n",
       "2021 2021.000 2021.083 2021.167 2021.250 2021.333 2021.417 2021.500 2021.583\n",
       "2022 2022.000 2022.083 2022.167 2022.250 2022.333 2022.417 2022.500 2022.583\n",
       "2023 2023.000 2023.083 2023.167 2023.250 2023.333 2023.417 2023.500 2023.583\n",
       "2024 2024.000 2024.083 2024.167                                             \n",
       "     Sep      Oct      Nov      Dec     \n",
       "1994          1994.750 1994.833 1994.917\n",
       "1995 1995.667 1995.750 1995.833 1995.917\n",
       "1996 1996.667 1996.750 1996.833 1996.917\n",
       "1997 1997.667 1997.750 1997.833 1997.917\n",
       "1998 1998.667 1998.750 1998.833 1998.917\n",
       "1999 1999.667 1999.750 1999.833 1999.917\n",
       "2000 2000.667 2000.750 2000.833 2000.917\n",
       "2001 2001.667 2001.750 2001.833 2001.917\n",
       "2002 2002.667 2002.750 2002.833 2002.917\n",
       "2003 2003.667 2003.750 2003.833 2003.917\n",
       "2004 2004.667 2004.750 2004.833 2004.917\n",
       "2005 2005.667 2005.750 2005.833 2005.917\n",
       "2006 2006.667 2006.750 2006.833 2006.917\n",
       "2007 2007.667 2007.750 2007.833 2007.917\n",
       "2008 2008.667 2008.750 2008.833 2008.917\n",
       "2009 2009.667 2009.750 2009.833 2009.917\n",
       "2010 2010.667 2010.750 2010.833 2010.917\n",
       "2011 2011.667 2011.750 2011.833 2011.917\n",
       "2012 2012.667 2012.750 2012.833 2012.917\n",
       "2013 2013.667 2013.750 2013.833 2013.917\n",
       "2014 2014.667 2014.750 2014.833 2014.917\n",
       "2015 2015.667 2015.750 2015.833 2015.917\n",
       "2016 2016.667 2016.750 2016.833 2016.917\n",
       "2017 2017.667 2017.750 2017.833 2017.917\n",
       "2018 2018.667 2018.750 2018.833 2018.917\n",
       "2019 2019.667 2019.750 2019.833 2019.917\n",
       "2020 2020.667 2020.750 2020.833 2020.917\n",
       "2021 2021.667 2021.750 2021.833 2021.917\n",
       "2022 2022.667 2022.750 2022.833 2022.917\n",
       "2023 2023.667 2023.750 2023.833 2023.917\n",
       "2024                                    "
      ]
     },
     "metadata": {},
     "output_type": "display_data"
    }
   ],
   "source": [
    "# Extract the time component of '\n",
    "time(cocoa_price_ts)"
   ]
  },
  {
   "cell_type": "code",
   "execution_count": 702,
   "id": "4ff995d7-719d-4519-9045-87e661ca9edf",
   "metadata": {},
   "outputs": [
    {
     "data": {
      "image/png": "[encoded data removed]",
      "text/plain": [
       "plot without title"
      ]
     },
     "metadata": {
      "image/png": {
       "height": 420,
       "width": 420
      }
     },
     "output_type": "display_data"
    }
   ],
   "source": [
    "# Create boxplots of cocoa prices grouped by year (floor of time)\n",
    "boxplot(cocoa_price_ts~floor(time(cocoa_price_ts)), col='lightblue')"
   ]
  },
  {
   "cell_type": "code",
   "execution_count": 703,
   "id": "c0fa53c6-9564-47ea-9fcb-8f61626fff26",
   "metadata": {},
   "outputs": [
    {
     "data": {
      "text/html": [
       "<table class=\"dataframe\">\n",
       "<caption>A Time Series: 31 × 12</caption>\n",
       "<thead>\n",
       "\t<tr><th></th><th scope=col>Jan</th><th scope=col>Feb</th><th scope=col>Mar</th><th scope=col>Apr</th><th scope=col>May</th><th scope=col>Jun</th><th scope=col>Jul</th><th scope=col>Aug</th><th scope=col>Sep</th><th scope=col>Oct</th><th scope=col>Nov</th><th scope=col>Dec</th></tr>\n",
       "</thead>\n",
       "<tbody>\n",
       "\t<tr><th scope=row>1994</th><td>  </td><td>  </td><td>  </td><td>  </td><td>  </td><td>  </td><td>  </td><td>  </td><td>  </td><td>10</td><td>11</td><td>12</td></tr>\n",
       "\t<tr><th scope=row>1995</th><td> 1</td><td> 2</td><td> 3</td><td> 4</td><td> 5</td><td> 6</td><td> 7</td><td> 8</td><td> 9</td><td>10</td><td>11</td><td>12</td></tr>\n",
       "\t<tr><th scope=row>1996</th><td> 1</td><td> 2</td><td> 3</td><td> 4</td><td> 5</td><td> 6</td><td> 7</td><td> 8</td><td> 9</td><td>10</td><td>11</td><td>12</td></tr>\n",
       "\t<tr><th scope=row>1997</th><td> 1</td><td> 2</td><td> 3</td><td> 4</td><td> 5</td><td> 6</td><td> 7</td><td> 8</td><td> 9</td><td>10</td><td>11</td><td>12</td></tr>\n",
       "\t<tr><th scope=row>1998</th><td> 1</td><td> 2</td><td> 3</td><td> 4</td><td> 5</td><td> 6</td><td> 7</td><td> 8</td><td> 9</td><td>10</td><td>11</td><td>12</td></tr>\n",
       "\t<tr><th scope=row>1999</th><td> 1</td><td> 2</td><td> 3</td><td> 4</td><td> 5</td><td> 6</td><td> 7</td><td> 8</td><td> 9</td><td>10</td><td>11</td><td>12</td></tr>\n",
       "\t<tr><th scope=row>2000</th><td> 1</td><td> 2</td><td> 3</td><td> 4</td><td> 5</td><td> 6</td><td> 7</td><td> 8</td><td> 9</td><td>10</td><td>11</td><td>12</td></tr>\n",
       "\t<tr><th scope=row>2001</th><td> 1</td><td> 2</td><td> 3</td><td> 4</td><td> 5</td><td> 6</td><td> 7</td><td> 8</td><td> 9</td><td>10</td><td>11</td><td>12</td></tr>\n",
       "\t<tr><th scope=row>2002</th><td> 1</td><td> 2</td><td> 3</td><td> 4</td><td> 5</td><td> 6</td><td> 7</td><td> 8</td><td> 9</td><td>10</td><td>11</td><td>12</td></tr>\n",
       "\t<tr><th scope=row>2003</th><td> 1</td><td> 2</td><td> 3</td><td> 4</td><td> 5</td><td> 6</td><td> 7</td><td> 8</td><td> 9</td><td>10</td><td>11</td><td>12</td></tr>\n",
       "\t<tr><th scope=row>2004</th><td> 1</td><td> 2</td><td> 3</td><td> 4</td><td> 5</td><td> 6</td><td> 7</td><td> 8</td><td> 9</td><td>10</td><td>11</td><td>12</td></tr>\n",
       "\t<tr><th scope=row>2005</th><td> 1</td><td> 2</td><td> 3</td><td> 4</td><td> 5</td><td> 6</td><td> 7</td><td> 8</td><td> 9</td><td>10</td><td>11</td><td>12</td></tr>\n",
       "\t<tr><th scope=row>2006</th><td> 1</td><td> 2</td><td> 3</td><td> 4</td><td> 5</td><td> 6</td><td> 7</td><td> 8</td><td> 9</td><td>10</td><td>11</td><td>12</td></tr>\n",
       "\t<tr><th scope=row>2007</th><td> 1</td><td> 2</td><td> 3</td><td> 4</td><td> 5</td><td> 6</td><td> 7</td><td> 8</td><td> 9</td><td>10</td><td>11</td><td>12</td></tr>\n",
       "\t<tr><th scope=row>2008</th><td> 1</td><td> 2</td><td> 3</td><td> 4</td><td> 5</td><td> 6</td><td> 7</td><td> 8</td><td> 9</td><td>10</td><td>11</td><td>12</td></tr>\n",
       "\t<tr><th scope=row>2009</th><td> 1</td><td> 2</td><td> 3</td><td> 4</td><td> 5</td><td> 6</td><td> 7</td><td> 8</td><td> 9</td><td>10</td><td>11</td><td>12</td></tr>\n",
       "\t<tr><th scope=row>2010</th><td> 1</td><td> 2</td><td> 3</td><td> 4</td><td> 5</td><td> 6</td><td> 7</td><td> 8</td><td> 9</td><td>10</td><td>11</td><td>12</td></tr>\n",
       "\t<tr><th scope=row>2011</th><td> 1</td><td> 2</td><td> 3</td><td> 4</td><td> 5</td><td> 6</td><td> 7</td><td> 8</td><td> 9</td><td>10</td><td>11</td><td>12</td></tr>\n",
       "\t<tr><th scope=row>2012</th><td> 1</td><td> 2</td><td> 3</td><td> 4</td><td> 5</td><td> 6</td><td> 7</td><td> 8</td><td> 9</td><td>10</td><td>11</td><td>12</td></tr>\n",
       "\t<tr><th scope=row>2013</th><td> 1</td><td> 2</td><td> 3</td><td> 4</td><td> 5</td><td> 6</td><td> 7</td><td> 8</td><td> 9</td><td>10</td><td>11</td><td>12</td></tr>\n",
       "\t<tr><th scope=row>2014</th><td> 1</td><td> 2</td><td> 3</td><td> 4</td><td> 5</td><td> 6</td><td> 7</td><td> 8</td><td> 9</td><td>10</td><td>11</td><td>12</td></tr>\n",
       "\t<tr><th scope=row>2015</th><td> 1</td><td> 2</td><td> 3</td><td> 4</td><td> 5</td><td> 6</td><td> 7</td><td> 8</td><td> 9</td><td>10</td><td>11</td><td>12</td></tr>\n",
       "\t<tr><th scope=row>2016</th><td> 1</td><td> 2</td><td> 3</td><td> 4</td><td> 5</td><td> 6</td><td> 7</td><td> 8</td><td> 9</td><td>10</td><td>11</td><td>12</td></tr>\n",
       "\t<tr><th scope=row>2017</th><td> 1</td><td> 2</td><td> 3</td><td> 4</td><td> 5</td><td> 6</td><td> 7</td><td> 8</td><td> 9</td><td>10</td><td>11</td><td>12</td></tr>\n",
       "\t<tr><th scope=row>2018</th><td> 1</td><td> 2</td><td> 3</td><td> 4</td><td> 5</td><td> 6</td><td> 7</td><td> 8</td><td> 9</td><td>10</td><td>11</td><td>12</td></tr>\n",
       "\t<tr><th scope=row>2019</th><td> 1</td><td> 2</td><td> 3</td><td> 4</td><td> 5</td><td> 6</td><td> 7</td><td> 8</td><td> 9</td><td>10</td><td>11</td><td>12</td></tr>\n",
       "\t<tr><th scope=row>2020</th><td> 1</td><td> 2</td><td> 3</td><td> 4</td><td> 5</td><td> 6</td><td> 7</td><td> 8</td><td> 9</td><td>10</td><td>11</td><td>12</td></tr>\n",
       "\t<tr><th scope=row>2021</th><td> 1</td><td> 2</td><td> 3</td><td> 4</td><td> 5</td><td> 6</td><td> 7</td><td> 8</td><td> 9</td><td>10</td><td>11</td><td>12</td></tr>\n",
       "\t<tr><th scope=row>2022</th><td> 1</td><td> 2</td><td> 3</td><td> 4</td><td> 5</td><td> 6</td><td> 7</td><td> 8</td><td> 9</td><td>10</td><td>11</td><td>12</td></tr>\n",
       "\t<tr><th scope=row>2023</th><td> 1</td><td> 2</td><td> 3</td><td> 4</td><td> 5</td><td> 6</td><td> 7</td><td> 8</td><td> 9</td><td>10</td><td>11</td><td>12</td></tr>\n",
       "\t<tr><th scope=row>2024</th><td> 1</td><td> 2</td><td> 3</td><td>  </td><td>  </td><td>  </td><td>  </td><td>  </td><td>  </td><td>  </td><td>  </td><td>  </td></tr>\n",
       "</tbody>\n",
       "</table>\n"
      ],
      "text/latex": [
       "A Time Series: 31 × 12\n",
       "\\begin{tabular}{r|llllllllllll}\n",
       "  & Jan & Feb & Mar & Apr & May & Jun & Jul & Aug & Sep & Oct & Nov & Dec\\\\\n",
       "\\hline\n",
       "\t1994 &    &    &    &    &    &    &    &    &    & 10 & 11 & 12\\\\\n",
       "\t1995 &  1 &  2 &  3 &  4 &  5 &  6 &  7 &  8 &  9 & 10 & 11 & 12\\\\\n",
       "\t1996 &  1 &  2 &  3 &  4 &  5 &  6 &  7 &  8 &  9 & 10 & 11 & 12\\\\\n",
       "\t1997 &  1 &  2 &  3 &  4 &  5 &  6 &  7 &  8 &  9 & 10 & 11 & 12\\\\\n",
       "\t1998 &  1 &  2 &  3 &  4 &  5 &  6 &  7 &  8 &  9 & 10 & 11 & 12\\\\\n",
       "\t1999 &  1 &  2 &  3 &  4 &  5 &  6 &  7 &  8 &  9 & 10 & 11 & 12\\\\\n",
       "\t2000 &  1 &  2 &  3 &  4 &  5 &  6 &  7 &  8 &  9 & 10 & 11 & 12\\\\\n",
       "\t2001 &  1 &  2 &  3 &  4 &  5 &  6 &  7 &  8 &  9 & 10 & 11 & 12\\\\\n",
       "\t2002 &  1 &  2 &  3 &  4 &  5 &  6 &  7 &  8 &  9 & 10 & 11 & 12\\\\\n",
       "\t2003 &  1 &  2 &  3 &  4 &  5 &  6 &  7 &  8 &  9 & 10 & 11 & 12\\\\\n",
       "\t2004 &  1 &  2 &  3 &  4 &  5 &  6 &  7 &  8 &  9 & 10 & 11 & 12\\\\\n",
       "\t2005 &  1 &  2 &  3 &  4 &  5 &  6 &  7 &  8 &  9 & 10 & 11 & 12\\\\\n",
       "\t2006 &  1 &  2 &  3 &  4 &  5 &  6 &  7 &  8 &  9 & 10 & 11 & 12\\\\\n",
       "\t2007 &  1 &  2 &  3 &  4 &  5 &  6 &  7 &  8 &  9 & 10 & 11 & 12\\\\\n",
       "\t2008 &  1 &  2 &  3 &  4 &  5 &  6 &  7 &  8 &  9 & 10 & 11 & 12\\\\\n",
       "\t2009 &  1 &  2 &  3 &  4 &  5 &  6 &  7 &  8 &  9 & 10 & 11 & 12\\\\\n",
       "\t2010 &  1 &  2 &  3 &  4 &  5 &  6 &  7 &  8 &  9 & 10 & 11 & 12\\\\\n",
       "\t2011 &  1 &  2 &  3 &  4 &  5 &  6 &  7 &  8 &  9 & 10 & 11 & 12\\\\\n",
       "\t2012 &  1 &  2 &  3 &  4 &  5 &  6 &  7 &  8 &  9 & 10 & 11 & 12\\\\\n",
       "\t2013 &  1 &  2 &  3 &  4 &  5 &  6 &  7 &  8 &  9 & 10 & 11 & 12\\\\\n",
       "\t2014 &  1 &  2 &  3 &  4 &  5 &  6 &  7 &  8 &  9 & 10 & 11 & 12\\\\\n",
       "\t2015 &  1 &  2 &  3 &  4 &  5 &  6 &  7 &  8 &  9 & 10 & 11 & 12\\\\\n",
       "\t2016 &  1 &  2 &  3 &  4 &  5 &  6 &  7 &  8 &  9 & 10 & 11 & 12\\\\\n",
       "\t2017 &  1 &  2 &  3 &  4 &  5 &  6 &  7 &  8 &  9 & 10 & 11 & 12\\\\\n",
       "\t2018 &  1 &  2 &  3 &  4 &  5 &  6 &  7 &  8 &  9 & 10 & 11 & 12\\\\\n",
       "\t2019 &  1 &  2 &  3 &  4 &  5 &  6 &  7 &  8 &  9 & 10 & 11 & 12\\\\\n",
       "\t2020 &  1 &  2 &  3 &  4 &  5 &  6 &  7 &  8 &  9 & 10 & 11 & 12\\\\\n",
       "\t2021 &  1 &  2 &  3 &  4 &  5 &  6 &  7 &  8 &  9 & 10 & 11 & 12\\\\\n",
       "\t2022 &  1 &  2 &  3 &  4 &  5 &  6 &  7 &  8 &  9 & 10 & 11 & 12\\\\\n",
       "\t2023 &  1 &  2 &  3 &  4 &  5 &  6 &  7 &  8 &  9 & 10 & 11 & 12\\\\\n",
       "\t2024 &  1 &  2 &  3 &    &    &    &    &    &    &    &    &   \\\\\n",
       "\\end{tabular}\n"
      ],
      "text/markdown": [
       "\n",
       "A Time Series: 31 × 12\n",
       "\n",
       "| <!--/--> | Jan | Feb | Mar | Apr | May | Jun | Jul | Aug | Sep | Oct | Nov | Dec |\n",
       "|---|---|---|---|---|---|---|---|---|---|---|---|---|\n",
       "| 1994 | <!----> | <!----> | <!----> | <!----> | <!----> | <!----> | <!----> | <!----> | <!----> | 10 | 11 | 12 |\n",
       "| 1995 |  1 |  2 |  3 |  4 |  5 |  6 |  7 |  8 |  9 | 10 | 11 | 12 |\n",
       "| 1996 |  1 |  2 |  3 |  4 |  5 |  6 |  7 |  8 |  9 | 10 | 11 | 12 |\n",
       "| 1997 |  1 |  2 |  3 |  4 |  5 |  6 |  7 |  8 |  9 | 10 | 11 | 12 |\n",
       "| 1998 |  1 |  2 |  3 |  4 |  5 |  6 |  7 |  8 |  9 | 10 | 11 | 12 |\n",
       "| 1999 |  1 |  2 |  3 |  4 |  5 |  6 |  7 |  8 |  9 | 10 | 11 | 12 |\n",
       "| 2000 |  1 |  2 |  3 |  4 |  5 |  6 |  7 |  8 |  9 | 10 | 11 | 12 |\n",
       "| 2001 |  1 |  2 |  3 |  4 |  5 |  6 |  7 |  8 |  9 | 10 | 11 | 12 |\n",
       "| 2002 |  1 |  2 |  3 |  4 |  5 |  6 |  7 |  8 |  9 | 10 | 11 | 12 |\n",
       "| 2003 |  1 |  2 |  3 |  4 |  5 |  6 |  7 |  8 |  9 | 10 | 11 | 12 |\n",
       "| 2004 |  1 |  2 |  3 |  4 |  5 |  6 |  7 |  8 |  9 | 10 | 11 | 12 |\n",
       "| 2005 |  1 |  2 |  3 |  4 |  5 |  6 |  7 |  8 |  9 | 10 | 11 | 12 |\n",
       "| 2006 |  1 |  2 |  3 |  4 |  5 |  6 |  7 |  8 |  9 | 10 | 11 | 12 |\n",
       "| 2007 |  1 |  2 |  3 |  4 |  5 |  6 |  7 |  8 |  9 | 10 | 11 | 12 |\n",
       "| 2008 |  1 |  2 |  3 |  4 |  5 |  6 |  7 |  8 |  9 | 10 | 11 | 12 |\n",
       "| 2009 |  1 |  2 |  3 |  4 |  5 |  6 |  7 |  8 |  9 | 10 | 11 | 12 |\n",
       "| 2010 |  1 |  2 |  3 |  4 |  5 |  6 |  7 |  8 |  9 | 10 | 11 | 12 |\n",
       "| 2011 |  1 |  2 |  3 |  4 |  5 |  6 |  7 |  8 |  9 | 10 | 11 | 12 |\n",
       "| 2012 |  1 |  2 |  3 |  4 |  5 |  6 |  7 |  8 |  9 | 10 | 11 | 12 |\n",
       "| 2013 |  1 |  2 |  3 |  4 |  5 |  6 |  7 |  8 |  9 | 10 | 11 | 12 |\n",
       "| 2014 |  1 |  2 |  3 |  4 |  5 |  6 |  7 |  8 |  9 | 10 | 11 | 12 |\n",
       "| 2015 |  1 |  2 |  3 |  4 |  5 |  6 |  7 |  8 |  9 | 10 | 11 | 12 |\n",
       "| 2016 |  1 |  2 |  3 |  4 |  5 |  6 |  7 |  8 |  9 | 10 | 11 | 12 |\n",
       "| 2017 |  1 |  2 |  3 |  4 |  5 |  6 |  7 |  8 |  9 | 10 | 11 | 12 |\n",
       "| 2018 |  1 |  2 |  3 |  4 |  5 |  6 |  7 |  8 |  9 | 10 | 11 | 12 |\n",
       "| 2019 |  1 |  2 |  3 |  4 |  5 |  6 |  7 |  8 |  9 | 10 | 11 | 12 |\n",
       "| 2020 |  1 |  2 |  3 |  4 |  5 |  6 |  7 |  8 |  9 | 10 | 11 | 12 |\n",
       "| 2021 |  1 |  2 |  3 |  4 |  5 |  6 |  7 |  8 |  9 | 10 | 11 | 12 |\n",
       "| 2022 |  1 |  2 |  3 |  4 |  5 |  6 |  7 |  8 |  9 | 10 | 11 | 12 |\n",
       "| 2023 |  1 |  2 |  3 |  4 |  5 |  6 |  7 |  8 |  9 | 10 | 11 | 12 |\n",
       "| 2024 |  1 |  2 |  3 | <!----> | <!----> | <!----> | <!----> | <!----> | <!----> | <!----> | <!----> | <!----> |\n",
       "\n"
      ],
      "text/plain": [
       "     Jan Feb Mar Apr May Jun Jul Aug Sep Oct Nov Dec\n",
       "1994                                     10  11  12 \n",
       "1995  1   2   3   4   5   6   7   8   9  10  11  12 \n",
       "1996  1   2   3   4   5   6   7   8   9  10  11  12 \n",
       "1997  1   2   3   4   5   6   7   8   9  10  11  12 \n",
       "1998  1   2   3   4   5   6   7   8   9  10  11  12 \n",
       "1999  1   2   3   4   5   6   7   8   9  10  11  12 \n",
       "2000  1   2   3   4   5   6   7   8   9  10  11  12 \n",
       "2001  1   2   3   4   5   6   7   8   9  10  11  12 \n",
       "2002  1   2   3   4   5   6   7   8   9  10  11  12 \n",
       "2003  1   2   3   4   5   6   7   8   9  10  11  12 \n",
       "2004  1   2   3   4   5   6   7   8   9  10  11  12 \n",
       "2005  1   2   3   4   5   6   7   8   9  10  11  12 \n",
       "2006  1   2   3   4   5   6   7   8   9  10  11  12 \n",
       "2007  1   2   3   4   5   6   7   8   9  10  11  12 \n",
       "2008  1   2   3   4   5   6   7   8   9  10  11  12 \n",
       "2009  1   2   3   4   5   6   7   8   9  10  11  12 \n",
       "2010  1   2   3   4   5   6   7   8   9  10  11  12 \n",
       "2011  1   2   3   4   5   6   7   8   9  10  11  12 \n",
       "2012  1   2   3   4   5   6   7   8   9  10  11  12 \n",
       "2013  1   2   3   4   5   6   7   8   9  10  11  12 \n",
       "2014  1   2   3   4   5   6   7   8   9  10  11  12 \n",
       "2015  1   2   3   4   5   6   7   8   9  10  11  12 \n",
       "2016  1   2   3   4   5   6   7   8   9  10  11  12 \n",
       "2017  1   2   3   4   5   6   7   8   9  10  11  12 \n",
       "2018  1   2   3   4   5   6   7   8   9  10  11  12 \n",
       "2019  1   2   3   4   5   6   7   8   9  10  11  12 \n",
       "2020  1   2   3   4   5   6   7   8   9  10  11  12 \n",
       "2021  1   2   3   4   5   6   7   8   9  10  11  12 \n",
       "2022  1   2   3   4   5   6   7   8   9  10  11  12 \n",
       "2023  1   2   3   4   5   6   7   8   9  10  11  12 \n",
       "2024  1   2   3                                     "
      ]
     },
     "metadata": {},
     "output_type": "display_data"
    }
   ],
   "source": [
    "# Extract the cycle component in '\n",
    "cycle(cocoa_price_ts)"
   ]
  },
  {
   "cell_type": "code",
   "execution_count": 704,
   "id": "68b3c747-4498-464a-b48e-6646091faa28",
   "metadata": {},
   "outputs": [
    {
     "data": {
      "image/png": "[encoded data removed]",
      "text/plain": [
       "plot without title"
      ]
     },
     "metadata": {
      "image/png": {
       "height": 420,
       "width": 420
      }
     },
     "output_type": "display_data"
    }
   ],
   "source": [
    "# Create boxplots of cocoa prices grouped by cycle\n",
    "boxplot(cocoa_price_ts~cycle(cocoa_price_ts), col='lightblue')"
   ]
  },
  {
   "cell_type": "code",
   "execution_count": 705,
   "id": "5f4636f7-7cd0-42ab-a874-3dafae1ef8d6",
   "metadata": {},
   "outputs": [
    {
     "data": {
      "image/png": "[encoded data removed]",
      "text/plain": [
       "plot without title"
      ]
     },
     "metadata": {
      "image/png": {
       "height": 420,
       "width": 420
      }
     },
     "output_type": "display_data"
    }
   ],
   "source": [
    "plot(decomposition, col = colors, lwd = 3)"
   ]
  },
  {
   "cell_type": "code",
   "execution_count": 706,
   "id": "7aeaba10-7846-43f8-8459-cff380cbd86e",
   "metadata": {},
   "outputs": [
    {
     "data": {
      "image/png": "[encoded data removed]",
      "text/plain": [
       "Plot with title \"Series  cocoa_price_ts\""
      ]
     },
     "metadata": {
      "image/png": {
       "height": 420,
       "width": 420
      }
     },
     "output_type": "display_data"
    }
   ],
   "source": [
    "# Autocorrelation Function (ACF) Plot\n",
    "acf(cocoa_price_ts, col = \"blue\", lwd = 5)"
   ]
  },
  {
   "cell_type": "code",
   "execution_count": 707,
   "id": "c14ed78b-2f3f-4c29-96cc-b81646660dc5",
   "metadata": {},
   "outputs": [
    {
     "data": {
      "image/png": "[encoded data removed]",
      "text/plain": [
       "Plot with title \"Series  cocoa_price_ts\""
      ]
     },
     "metadata": {
      "image/png": {
       "height": 420,
       "width": 420
      }
     },
     "output_type": "display_data"
    }
   ],
   "source": [
    "# Partial Autocorrelation Function (PACF) Plot\n",
    "pacf(cocoa_price_ts, col = \"blue\", lwd = 5)"
   ]
  },
  {
   "cell_type": "code",
   "execution_count": 708,
   "id": "51a6f27b-a90a-49ca-9efb-d7a659dfdcc4",
   "metadata": {},
   "outputs": [
    {
     "data": {
      "image/png": "[encoded data removed]",
      "text/plain": [
       "Plot with title \"Histogram of Cocoa Price\""
      ]
     },
     "metadata": {
      "image/png": {
       "height": 420,
       "width": 420
      }
     },
     "output_type": "display_data"
    }
   ],
   "source": [
    "# Histogram Plot: Check the distribution of the data.\n",
    "hist(cocoa_price$Price, main = \"Histogram of Cocoa Price\", xlab = \"Price\", ylab = \"Frequency\", col = \"skyblue\")"
   ]
  },
  {
   "cell_type": "code",
   "execution_count": 709,
   "id": "d18d2fcf-08c9-4ebb-b313-e62326863124",
   "metadata": {},
   "outputs": [
    {
     "data": {
      "image/png": "[encoded data removed]",
      "text/plain": [
       "Plot with title \"Density Plot of Cocoa Price\""
      ]
     },
     "metadata": {
      "image/png": {
       "height": 420,
       "width": 420
      }
     },
     "output_type": "display_data"
    }
   ],
   "source": [
    "# Density Plot with Color\n",
    "plot(density(cocoa_price$Price), main = \"Density Plot of Cocoa Price\", xlab = \"Price\", ylab = \"Density\", col = \"green\")"
   ]
  },
  {
   "cell_type": "code",
   "execution_count": 710,
   "id": "8f06d351-8cac-487f-bf81-4d58797f5a0c",
   "metadata": {},
   "outputs": [
    {
     "name": "stdout",
     "output_type": "stream",
     "text": [
      "[1] \"Number of missing values in cocoa_price_ts : 0\"\n"
     ]
    }
   ],
   "source": [
    "# Check for missing values\n",
    "missing_values <- sum(is.na(cocoa_price_ts))\n",
    "# Print the number of missing values\n",
    "print(paste(\"Number of missing values in cocoa_price_ts :\", missing_values))"
   ]
  },
  {
   "cell_type": "markdown",
   "id": "c71c15ea-ab12-4dc0-aa54-cc0bd15870b2",
   "metadata": {},
   "source": [
    "# **SPLIT INTO TRAIN AND TEST SETS** "
   ]
  },
  {
   "cell_type": "code",
   "execution_count": 711,
   "id": "d6f4bf0b-8858-480e-a069-183671073312",
   "metadata": {},
   "outputs": [
    {
     "data": {
      "text/html": [
       "<table class=\"dataframe\">\n",
       "<caption>A Time Series: 29 × 12</caption>\n",
       "<thead>\n",
       "\t<tr><th></th><th scope=col>Jan</th><th scope=col>Feb</th><th scope=col>Mar</th><th scope=col>Apr</th><th scope=col>May</th><th scope=col>Jun</th><th scope=col>Jul</th><th scope=col>Aug</th><th scope=col>Sep</th><th scope=col>Oct</th><th scope=col>Nov</th><th scope=col>Dec</th></tr>\n",
       "</thead>\n",
       "<tbody>\n",
       "\t<tr><th scope=row>1995</th><td>       </td><td>       </td><td>       </td><td>       </td><td>       </td><td>       </td><td>       </td><td>       </td><td>       </td><td>1394.50</td><td>1436.50</td><td>1378.84</td></tr>\n",
       "\t<tr><th scope=row>1996</th><td>1349.50</td><td>1369.81</td><td>1338.62</td><td>1456.24</td><td>1524.09</td><td>1537.60</td><td>1495.70</td><td>1499.86</td><td>1476.14</td><td>1477.04</td><td>1469.33</td><td>1474.30</td></tr>\n",
       "\t<tr><th scope=row>1997</th><td>1428.45</td><td>1372.70</td><td>1523.60</td><td>1571.05</td><td>1568.29</td><td>1688.38</td><td>1677.30</td><td>1652.14</td><td>1769.64</td><td>1741.43</td><td>1694.80</td><td>1737.29</td></tr>\n",
       "\t<tr><th scope=row>1998</th><td>1668.10</td><td>1640.85</td><td>1719.18</td><td>1726.38</td><td>1794.35</td><td>1721.86</td><td>1712.17</td><td>1683.62</td><td>1687.32</td><td>1646.41</td><td>1388.52</td><td>1288.09</td></tr>\n",
       "\t<tr><th scope=row>1999</th><td>1254.90</td><td>1257.40</td><td>1206.52</td><td>1108.00</td><td> 998.75</td><td>1119.73</td><td>1074.77</td><td> 980.86</td><td>1009.86</td><td> 954.57</td><td> 893.64</td><td> 909.14</td></tr>\n",
       "\t<tr><th scope=row>2000</th><td> 906.38</td><td> 874.14</td><td> 966.70</td><td> 962.95</td><td>1003.68</td><td> 991.00</td><td> 996.62</td><td> 970.35</td><td>1013.57</td><td>1027.73</td><td> 936.09</td><td> 893.75</td></tr>\n",
       "\t<tr><th scope=row>2001</th><td>1031.86</td><td>1257.00</td><td>1236.73</td><td>1212.60</td><td>1233.23</td><td>1140.10</td><td>1123.82</td><td>1147.17</td><td>1118.85</td><td>1197.35</td><td>1397.77</td><td>1497.00</td></tr>\n",
       "\t<tr><th scope=row>2002</th><td>1567.59</td><td>1713.35</td><td>1815.35</td><td>1770.91</td><td>1749.78</td><td>1734.60</td><td>1881.78</td><td>2004.27</td><td>2206.19</td><td>2246.57</td><td>1811.29</td><td>1985.00</td></tr>\n",
       "\t<tr><th scope=row>2003</th><td>2055.27</td><td>2076.40</td><td>1847.48</td><td>1774.86</td><td>1515.81</td><td>1352.76</td><td>1372.35</td><td>1410.62</td><td>1450.73</td><td>1265.57</td><td>1289.90</td><td>1324.14</td></tr>\n",
       "\t<tr><th scope=row>2004</th><td>1286.43</td><td>1240.85</td><td>1226.57</td><td>1199.19</td><td>1178.15</td><td>1159.27</td><td>1271.91</td><td>1418.73</td><td>1261.05</td><td>1187.76</td><td>1278.18</td><td>1230.00</td></tr>\n",
       "\t<tr><th scope=row>2005</th><td>1181.00</td><td>1255.70</td><td>1331.45</td><td>1225.67</td><td>1190.52</td><td>1266.41</td><td>1237.38</td><td>1205.48</td><td>1227.36</td><td>1208.24</td><td>1217.23</td><td>1279.71</td></tr>\n",
       "\t<tr><th scope=row>2006</th><td>1301.38</td><td>1294.30</td><td>1283.83</td><td>1263.95</td><td>1248.86</td><td>1269.32</td><td>1321.38</td><td>1257.26</td><td>1231.33</td><td>1212.32</td><td>1226.73</td><td>1289.55</td></tr>\n",
       "\t<tr><th scope=row>2007</th><td>1310.18</td><td>1386.45</td><td>1452.59</td><td>1462.55</td><td>1483.32</td><td>1502.57</td><td>1568.77</td><td>1395.91</td><td>1393.45</td><td>1345.65</td><td>1339.77</td><td>1452.05</td></tr>\n",
       "\t<tr><th scope=row>2008</th><td>1505.59</td><td>1709.48</td><td>1721.05</td><td>1668.32</td><td>1729.43</td><td>1941.90</td><td>1874.61</td><td>1880.14</td><td>1866.73</td><td>1692.52</td><td>1622.80</td><td>1816.23</td></tr>\n",
       "\t<tr><th scope=row>2009</th><td>1985.29</td><td>2068.10</td><td>1922.59</td><td>1935.05</td><td>1817.80</td><td>1926.50</td><td>1980.87</td><td>2072.52</td><td>2157.45</td><td>2276.14</td><td>2268.90</td><td>2399.41</td></tr>\n",
       "\t<tr><th scope=row>2010</th><td>2470.30</td><td>2395.70</td><td>2276.96</td><td>2402.38</td><td>2528.90</td><td>2643.59</td><td>2523.64</td><td>2380.05</td><td>2196.36</td><td>2106.24</td><td>2133.95</td><td>2314.13</td></tr>\n",
       "\t<tr><th scope=row>2011</th><td>2366.30</td><td>2542.10</td><td>2421.22</td><td>2168.05</td><td>2142.33</td><td>2094.14</td><td>2217.00</td><td>2137.70</td><td>2087.59</td><td>1952.48</td><td>1863.82</td><td>1670.38</td></tr>\n",
       "\t<tr><th scope=row>2012</th><td>1789.05</td><td>1779.62</td><td>1785.73</td><td>1721.70</td><td>1807.83</td><td>1805.29</td><td>1912.23</td><td>2025.00</td><td>2036.20</td><td>1898.87</td><td>1930.86</td><td>1837.80</td></tr>\n",
       "\t<tr><th scope=row>2013</th><td>1710.73</td><td>1646.40</td><td>1662.25</td><td>1761.45</td><td>1806.68</td><td>1730.30</td><td>1764.57</td><td>1865.50</td><td>1958.81</td><td>2001.91</td><td>2042.05</td><td>2060.86</td></tr>\n",
       "\t<tr><th scope=row>2014</th><td>2070.82</td><td>2191.20</td><td>2199.48</td><td>2209.10</td><td>2205.86</td><td>2334.86</td><td>2361.22</td><td>2456.19</td><td>2497.64</td><td>2446.00</td><td>2332.30</td><td>2400.73</td></tr>\n",
       "\t<tr><th scope=row>2015</th><td>2514.76</td><td>2595.65</td><td>2662.59</td><td>2653.43</td><td>2773.05</td><td>2886.50</td><td>3023.78</td><td>2832.05</td><td>2920.68</td><td>2848.09</td><td>3134.86</td><td>3072.68</td></tr>\n",
       "\t<tr><th scope=row>2016</th><td>2720.15</td><td>2628.86</td><td>2762.23</td><td>2713.90</td><td>2738.29</td><td>2779.36</td><td>2757.90</td><td>2706.39</td><td>2569.27</td><td>2460.05</td><td>2318.86</td><td>2168.71</td></tr>\n",
       "\t<tr><th scope=row>2017</th><td>2064.67</td><td>1910.20</td><td>1924.26</td><td>1830.37</td><td>1794.77</td><td>1778.95</td><td>1726.10</td><td>1683.57</td><td>1677.24</td><td>1783.95</td><td>1812.32</td><td>1620.25</td></tr>\n",
       "\t<tr><th scope=row>2018</th><td>1599.77</td><td>1719.75</td><td>2030.00</td><td>2139.86</td><td>2249.73</td><td>2064.62</td><td>2017.45</td><td>1880.43</td><td>1882.15</td><td>1858.39</td><td>1922.82</td><td>1940.35</td></tr>\n",
       "\t<tr><th scope=row>2019</th><td>1982.14</td><td>1987.95</td><td>1948.19</td><td>2074.95</td><td>2069.32</td><td>2131.85</td><td>2154.70</td><td>1972.36</td><td>2093.19</td><td>2202.57</td><td>2280.90</td><td>2200.00</td></tr>\n",
       "\t<tr><th scope=row>2020</th><td>2346.14</td><td>2490.95</td><td>2118.68</td><td>2089.05</td><td>2123.75</td><td>1979.50</td><td>1831.07</td><td>1969.46</td><td>2070.42</td><td>1947.42</td><td>1992.33</td><td>1978.37</td></tr>\n",
       "\t<tr><th scope=row>2021</th><td>1965.34</td><td>1988.79</td><td>2068.94</td><td>1977.85</td><td>1986.69</td><td>1965.17</td><td>1968.23</td><td>2111.52</td><td>2173.62</td><td>2213.91</td><td>2098.42</td><td>2109.78</td></tr>\n",
       "\t<tr><th scope=row>2022</th><td>2179.34</td><td>2247.93</td><td>2234.49</td><td>2273.07</td><td>2237.81</td><td>2197.33</td><td>2200.62</td><td>2242.10</td><td>2243.96</td><td>2281.01</td><td>2333.84</td><td>2319.35</td></tr>\n",
       "\t<tr><th scope=row>2023</th><td>2357.59</td><td>2418.26</td><td>2491.37</td><td>2575.00</td><td>2673.46</td><td>2880.87</td><td>3028.41</td><td>3157.00</td><td>3395.58</td><td>       </td><td>       </td><td>       </td></tr>\n",
       "</tbody>\n",
       "</table>\n"
      ],
      "text/latex": [
       "A Time Series: 29 × 12\n",
       "\\begin{tabular}{r|llllllllllll}\n",
       "  & Jan & Feb & Mar & Apr & May & Jun & Jul & Aug & Sep & Oct & Nov & Dec\\\\\n",
       "\\hline\n",
       "\t1995 &         &         &         &         &         &         &         &         &         & 1394.50 & 1436.50 & 1378.84\\\\\n",
       "\t1996 & 1349.50 & 1369.81 & 1338.62 & 1456.24 & 1524.09 & 1537.60 & 1495.70 & 1499.86 & 1476.14 & 1477.04 & 1469.33 & 1474.30\\\\\n",
       "\t1997 & 1428.45 & 1372.70 & 1523.60 & 1571.05 & 1568.29 & 1688.38 & 1677.30 & 1652.14 & 1769.64 & 1741.43 & 1694.80 & 1737.29\\\\\n",
       "\t1998 & 1668.10 & 1640.85 & 1719.18 & 1726.38 & 1794.35 & 1721.86 & 1712.17 & 1683.62 & 1687.32 & 1646.41 & 1388.52 & 1288.09\\\\\n",
       "\t1999 & 1254.90 & 1257.40 & 1206.52 & 1108.00 &  998.75 & 1119.73 & 1074.77 &  980.86 & 1009.86 &  954.57 &  893.64 &  909.14\\\\\n",
       "\t2000 &  906.38 &  874.14 &  966.70 &  962.95 & 1003.68 &  991.00 &  996.62 &  970.35 & 1013.57 & 1027.73 &  936.09 &  893.75\\\\\n",
       "\t2001 & 1031.86 & 1257.00 & 1236.73 & 1212.60 & 1233.23 & 1140.10 & 1123.82 & 1147.17 & 1118.85 & 1197.35 & 1397.77 & 1497.00\\\\\n",
       "\t2002 & 1567.59 & 1713.35 & 1815.35 & 1770.91 & 1749.78 & 1734.60 & 1881.78 & 2004.27 & 2206.19 & 2246.57 & 1811.29 & 1985.00\\\\\n",
       "\t2003 & 2055.27 & 2076.40 & 1847.48 & 1774.86 & 1515.81 & 1352.76 & 1372.35 & 1410.62 & 1450.73 & 1265.57 & 1289.90 & 1324.14\\\\\n",
       "\t2004 & 1286.43 & 1240.85 & 1226.57 & 1199.19 & 1178.15 & 1159.27 & 1271.91 & 1418.73 & 1261.05 & 1187.76 & 1278.18 & 1230.00\\\\\n",
       "\t2005 & 1181.00 & 1255.70 & 1331.45 & 1225.67 & 1190.52 & 1266.41 & 1237.38 & 1205.48 & 1227.36 & 1208.24 & 1217.23 & 1279.71\\\\\n",
       "\t2006 & 1301.38 & 1294.30 & 1283.83 & 1263.95 & 1248.86 & 1269.32 & 1321.38 & 1257.26 & 1231.33 & 1212.32 & 1226.73 & 1289.55\\\\\n",
       "\t2007 & 1310.18 & 1386.45 & 1452.59 & 1462.55 & 1483.32 & 1502.57 & 1568.77 & 1395.91 & 1393.45 & 1345.65 & 1339.77 & 1452.05\\\\\n",
       "\t2008 & 1505.59 & 1709.48 & 1721.05 & 1668.32 & 1729.43 & 1941.90 & 1874.61 & 1880.14 & 1866.73 & 1692.52 & 1622.80 & 1816.23\\\\\n",
       "\t2009 & 1985.29 & 2068.10 & 1922.59 & 1935.05 & 1817.80 & 1926.50 & 1980.87 & 2072.52 & 2157.45 & 2276.14 & 2268.90 & 2399.41\\\\\n",
       "\t2010 & 2470.30 & 2395.70 & 2276.96 & 2402.38 & 2528.90 & 2643.59 & 2523.64 & 2380.05 & 2196.36 & 2106.24 & 2133.95 & 2314.13\\\\\n",
       "\t2011 & 2366.30 & 2542.10 & 2421.22 & 2168.05 & 2142.33 & 2094.14 & 2217.00 & 2137.70 & 2087.59 & 1952.48 & 1863.82 & 1670.38\\\\\n",
       "\t2012 & 1789.05 & 1779.62 & 1785.73 & 1721.70 & 1807.83 & 1805.29 & 1912.23 & 2025.00 & 2036.20 & 1898.87 & 1930.86 & 1837.80\\\\\n",
       "\t2013 & 1710.73 & 1646.40 & 1662.25 & 1761.45 & 1806.68 & 1730.30 & 1764.57 & 1865.50 & 1958.81 & 2001.91 & 2042.05 & 2060.86\\\\\n",
       "\t2014 & 2070.82 & 2191.20 & 2199.48 & 2209.10 & 2205.86 & 2334.86 & 2361.22 & 2456.19 & 2497.64 & 2446.00 & 2332.30 & 2400.73\\\\\n",
       "\t2015 & 2514.76 & 2595.65 & 2662.59 & 2653.43 & 2773.05 & 2886.50 & 3023.78 & 2832.05 & 2920.68 & 2848.09 & 3134.86 & 3072.68\\\\\n",
       "\t2016 & 2720.15 & 2628.86 & 2762.23 & 2713.90 & 2738.29 & 2779.36 & 2757.90 & 2706.39 & 2569.27 & 2460.05 & 2318.86 & 2168.71\\\\\n",
       "\t2017 & 2064.67 & 1910.20 & 1924.26 & 1830.37 & 1794.77 & 1778.95 & 1726.10 & 1683.57 & 1677.24 & 1783.95 & 1812.32 & 1620.25\\\\\n",
       "\t2018 & 1599.77 & 1719.75 & 2030.00 & 2139.86 & 2249.73 & 2064.62 & 2017.45 & 1880.43 & 1882.15 & 1858.39 & 1922.82 & 1940.35\\\\\n",
       "\t2019 & 1982.14 & 1987.95 & 1948.19 & 2074.95 & 2069.32 & 2131.85 & 2154.70 & 1972.36 & 2093.19 & 2202.57 & 2280.90 & 2200.00\\\\\n",
       "\t2020 & 2346.14 & 2490.95 & 2118.68 & 2089.05 & 2123.75 & 1979.50 & 1831.07 & 1969.46 & 2070.42 & 1947.42 & 1992.33 & 1978.37\\\\\n",
       "\t2021 & 1965.34 & 1988.79 & 2068.94 & 1977.85 & 1986.69 & 1965.17 & 1968.23 & 2111.52 & 2173.62 & 2213.91 & 2098.42 & 2109.78\\\\\n",
       "\t2022 & 2179.34 & 2247.93 & 2234.49 & 2273.07 & 2237.81 & 2197.33 & 2200.62 & 2242.10 & 2243.96 & 2281.01 & 2333.84 & 2319.35\\\\\n",
       "\t2023 & 2357.59 & 2418.26 & 2491.37 & 2575.00 & 2673.46 & 2880.87 & 3028.41 & 3157.00 & 3395.58 &         &         &        \\\\\n",
       "\\end{tabular}\n"
      ],
      "text/markdown": [
       "\n",
       "A Time Series: 29 × 12\n",
       "\n",
       "| <!--/--> | Jan | Feb | Mar | Apr | May | Jun | Jul | Aug | Sep | Oct | Nov | Dec |\n",
       "|---|---|---|---|---|---|---|---|---|---|---|---|---|\n",
       "| 1995 | <!----> | <!----> | <!----> | <!----> | <!----> | <!----> | <!----> | <!----> | <!----> | 1394.50 | 1436.50 | 1378.84 |\n",
       "| 1996 | 1349.50 | 1369.81 | 1338.62 | 1456.24 | 1524.09 | 1537.60 | 1495.70 | 1499.86 | 1476.14 | 1477.04 | 1469.33 | 1474.30 |\n",
       "| 1997 | 1428.45 | 1372.70 | 1523.60 | 1571.05 | 1568.29 | 1688.38 | 1677.30 | 1652.14 | 1769.64 | 1741.43 | 1694.80 | 1737.29 |\n",
       "| 1998 | 1668.10 | 1640.85 | 1719.18 | 1726.38 | 1794.35 | 1721.86 | 1712.17 | 1683.62 | 1687.32 | 1646.41 | 1388.52 | 1288.09 |\n",
       "| 1999 | 1254.90 | 1257.40 | 1206.52 | 1108.00 |  998.75 | 1119.73 | 1074.77 |  980.86 | 1009.86 |  954.57 |  893.64 |  909.14 |\n",
       "| 2000 |  906.38 |  874.14 |  966.70 |  962.95 | 1003.68 |  991.00 |  996.62 |  970.35 | 1013.57 | 1027.73 |  936.09 |  893.75 |\n",
       "| 2001 | 1031.86 | 1257.00 | 1236.73 | 1212.60 | 1233.23 | 1140.10 | 1123.82 | 1147.17 | 1118.85 | 1197.35 | 1397.77 | 1497.00 |\n",
       "| 2002 | 1567.59 | 1713.35 | 1815.35 | 1770.91 | 1749.78 | 1734.60 | 1881.78 | 2004.27 | 2206.19 | 2246.57 | 1811.29 | 1985.00 |\n",
       "| 2003 | 2055.27 | 2076.40 | 1847.48 | 1774.86 | 1515.81 | 1352.76 | 1372.35 | 1410.62 | 1450.73 | 1265.57 | 1289.90 | 1324.14 |\n",
       "| 2004 | 1286.43 | 1240.85 | 1226.57 | 1199.19 | 1178.15 | 1159.27 | 1271.91 | 1418.73 | 1261.05 | 1187.76 | 1278.18 | 1230.00 |\n",
       "| 2005 | 1181.00 | 1255.70 | 1331.45 | 1225.67 | 1190.52 | 1266.41 | 1237.38 | 1205.48 | 1227.36 | 1208.24 | 1217.23 | 1279.71 |\n",
       "| 2006 | 1301.38 | 1294.30 | 1283.83 | 1263.95 | 1248.86 | 1269.32 | 1321.38 | 1257.26 | 1231.33 | 1212.32 | 1226.73 | 1289.55 |\n",
       "| 2007 | 1310.18 | 1386.45 | 1452.59 | 1462.55 | 1483.32 | 1502.57 | 1568.77 | 1395.91 | 1393.45 | 1345.65 | 1339.77 | 1452.05 |\n",
       "| 2008 | 1505.59 | 1709.48 | 1721.05 | 1668.32 | 1729.43 | 1941.90 | 1874.61 | 1880.14 | 1866.73 | 1692.52 | 1622.80 | 1816.23 |\n",
       "| 2009 | 1985.29 | 2068.10 | 1922.59 | 1935.05 | 1817.80 | 1926.50 | 1980.87 | 2072.52 | 2157.45 | 2276.14 | 2268.90 | 2399.41 |\n",
       "| 2010 | 2470.30 | 2395.70 | 2276.96 | 2402.38 | 2528.90 | 2643.59 | 2523.64 | 2380.05 | 2196.36 | 2106.24 | 2133.95 | 2314.13 |\n",
       "| 2011 | 2366.30 | 2542.10 | 2421.22 | 2168.05 | 2142.33 | 2094.14 | 2217.00 | 2137.70 | 2087.59 | 1952.48 | 1863.82 | 1670.38 |\n",
       "| 2012 | 1789.05 | 1779.62 | 1785.73 | 1721.70 | 1807.83 | 1805.29 | 1912.23 | 2025.00 | 2036.20 | 1898.87 | 1930.86 | 1837.80 |\n",
       "| 2013 | 1710.73 | 1646.40 | 1662.25 | 1761.45 | 1806.68 | 1730.30 | 1764.57 | 1865.50 | 1958.81 | 2001.91 | 2042.05 | 2060.86 |\n",
       "| 2014 | 2070.82 | 2191.20 | 2199.48 | 2209.10 | 2205.86 | 2334.86 | 2361.22 | 2456.19 | 2497.64 | 2446.00 | 2332.30 | 2400.73 |\n",
       "| 2015 | 2514.76 | 2595.65 | 2662.59 | 2653.43 | 2773.05 | 2886.50 | 3023.78 | 2832.05 | 2920.68 | 2848.09 | 3134.86 | 3072.68 |\n",
       "| 2016 | 2720.15 | 2628.86 | 2762.23 | 2713.90 | 2738.29 | 2779.36 | 2757.90 | 2706.39 | 2569.27 | 2460.05 | 2318.86 | 2168.71 |\n",
       "| 2017 | 2064.67 | 1910.20 | 1924.26 | 1830.37 | 1794.77 | 1778.95 | 1726.10 | 1683.57 | 1677.24 | 1783.95 | 1812.32 | 1620.25 |\n",
       "| 2018 | 1599.77 | 1719.75 | 2030.00 | 2139.86 | 2249.73 | 2064.62 | 2017.45 | 1880.43 | 1882.15 | 1858.39 | 1922.82 | 1940.35 |\n",
       "| 2019 | 1982.14 | 1987.95 | 1948.19 | 2074.95 | 2069.32 | 2131.85 | 2154.70 | 1972.36 | 2093.19 | 2202.57 | 2280.90 | 2200.00 |\n",
       "| 2020 | 2346.14 | 2490.95 | 2118.68 | 2089.05 | 2123.75 | 1979.50 | 1831.07 | 1969.46 | 2070.42 | 1947.42 | 1992.33 | 1978.37 |\n",
       "| 2021 | 1965.34 | 1988.79 | 2068.94 | 1977.85 | 1986.69 | 1965.17 | 1968.23 | 2111.52 | 2173.62 | 2213.91 | 2098.42 | 2109.78 |\n",
       "| 2022 | 2179.34 | 2247.93 | 2234.49 | 2273.07 | 2237.81 | 2197.33 | 2200.62 | 2242.10 | 2243.96 | 2281.01 | 2333.84 | 2319.35 |\n",
       "| 2023 | 2357.59 | 2418.26 | 2491.37 | 2575.00 | 2673.46 | 2880.87 | 3028.41 | 3157.00 | 3395.58 | <!----> | <!----> | <!----> |\n",
       "\n"
      ],
      "text/plain": [
       "     Jan     Feb     Mar     Apr     May     Jun     Jul     Aug     Sep    \n",
       "1995                                                                        \n",
       "1996 1349.50 1369.81 1338.62 1456.24 1524.09 1537.60 1495.70 1499.86 1476.14\n",
       "1997 1428.45 1372.70 1523.60 1571.05 1568.29 1688.38 1677.30 1652.14 1769.64\n",
       "1998 1668.10 1640.85 1719.18 1726.38 1794.35 1721.86 1712.17 1683.62 1687.32\n",
       "1999 1254.90 1257.40 1206.52 1108.00  998.75 1119.73 1074.77  980.86 1009.86\n",
       "2000  906.38  874.14  966.70  962.95 1003.68  991.00  996.62  970.35 1013.57\n",
       "2001 1031.86 1257.00 1236.73 1212.60 1233.23 1140.10 1123.82 1147.17 1118.85\n",
       "2002 1567.59 1713.35 1815.35 1770.91 1749.78 1734.60 1881.78 2004.27 2206.19\n",
       "2003 2055.27 2076.40 1847.48 1774.86 1515.81 1352.76 1372.35 1410.62 1450.73\n",
       "2004 1286.43 1240.85 1226.57 1199.19 1178.15 1159.27 1271.91 1418.73 1261.05\n",
       "2005 1181.00 1255.70 1331.45 1225.67 1190.52 1266.41 1237.38 1205.48 1227.36\n",
       "2006 1301.38 1294.30 1283.83 1263.95 1248.86 1269.32 1321.38 1257.26 1231.33\n",
       "2007 1310.18 1386.45 1452.59 1462.55 1483.32 1502.57 1568.77 1395.91 1393.45\n",
       "2008 1505.59 1709.48 1721.05 1668.32 1729.43 1941.90 1874.61 1880.14 1866.73\n",
       "2009 1985.29 2068.10 1922.59 1935.05 1817.80 1926.50 1980.87 2072.52 2157.45\n",
       "2010 2470.30 2395.70 2276.96 2402.38 2528.90 2643.59 2523.64 2380.05 2196.36\n",
       "2011 2366.30 2542.10 2421.22 2168.05 2142.33 2094.14 2217.00 2137.70 2087.59\n",
       "2012 1789.05 1779.62 1785.73 1721.70 1807.83 1805.29 1912.23 2025.00 2036.20\n",
       "2013 1710.73 1646.40 1662.25 1761.45 1806.68 1730.30 1764.57 1865.50 1958.81\n",
       "2014 2070.82 2191.20 2199.48 2209.10 2205.86 2334.86 2361.22 2456.19 2497.64\n",
       "2015 2514.76 2595.65 2662.59 2653.43 2773.05 2886.50 3023.78 2832.05 2920.68\n",
       "2016 2720.15 2628.86 2762.23 2713.90 2738.29 2779.36 2757.90 2706.39 2569.27\n",
       "2017 2064.67 1910.20 1924.26 1830.37 1794.77 1778.95 1726.10 1683.57 1677.24\n",
       "2018 1599.77 1719.75 2030.00 2139.86 2249.73 2064.62 2017.45 1880.43 1882.15\n",
       "2019 1982.14 1987.95 1948.19 2074.95 2069.32 2131.85 2154.70 1972.36 2093.19\n",
       "2020 2346.14 2490.95 2118.68 2089.05 2123.75 1979.50 1831.07 1969.46 2070.42\n",
       "2021 1965.34 1988.79 2068.94 1977.85 1986.69 1965.17 1968.23 2111.52 2173.62\n",
       "2022 2179.34 2247.93 2234.49 2273.07 2237.81 2197.33 2200.62 2242.10 2243.96\n",
       "2023 2357.59 2418.26 2491.37 2575.00 2673.46 2880.87 3028.41 3157.00 3395.58\n",
       "     Oct     Nov     Dec    \n",
       "1995 1394.50 1436.50 1378.84\n",
       "1996 1477.04 1469.33 1474.30\n",
       "1997 1741.43 1694.80 1737.29\n",
       "1998 1646.41 1388.52 1288.09\n",
       "1999  954.57  893.64  909.14\n",
       "2000 1027.73  936.09  893.75\n",
       "2001 1197.35 1397.77 1497.00\n",
       "2002 2246.57 1811.29 1985.00\n",
       "2003 1265.57 1289.90 1324.14\n",
       "2004 1187.76 1278.18 1230.00\n",
       "2005 1208.24 1217.23 1279.71\n",
       "2006 1212.32 1226.73 1289.55\n",
       "2007 1345.65 1339.77 1452.05\n",
       "2008 1692.52 1622.80 1816.23\n",
       "2009 2276.14 2268.90 2399.41\n",
       "2010 2106.24 2133.95 2314.13\n",
       "2011 1952.48 1863.82 1670.38\n",
       "2012 1898.87 1930.86 1837.80\n",
       "2013 2001.91 2042.05 2060.86\n",
       "2014 2446.00 2332.30 2400.73\n",
       "2015 2848.09 3134.86 3072.68\n",
       "2016 2460.05 2318.86 2168.71\n",
       "2017 1783.95 1812.32 1620.25\n",
       "2018 1858.39 1922.82 1940.35\n",
       "2019 2202.57 2280.90 2200.00\n",
       "2020 1947.42 1992.33 1978.37\n",
       "2021 2213.91 2098.42 2109.78\n",
       "2022 2281.01 2333.84 2319.35\n",
       "2023                        "
      ]
     },
     "metadata": {},
     "output_type": "display_data"
    },
    {
     "data": {
      "image/png": "[encoded data removed]",
      "text/plain": [
       "Plot with title \"TRAINING SET\""
      ]
     },
     "metadata": {
      "image/png": {
       "height": 420,
       "width": 420
      }
     },
     "output_type": "display_data"
    }
   ],
   "source": [
    "# Split the time series data into training sets\n",
    "train <- window(cocoa_price_ts, start = c(1995, 10), end = c(2023, 9))\n",
    "train\n",
    "plot(train, col = \"blue\", lwd = 3, main = \"TRAINING SET\")"
   ]
  },
  {
   "cell_type": "code",
   "execution_count": 712,
   "id": "d2f2e719-03a4-4094-958b-9321ca3bf7d2",
   "metadata": {},
   "outputs": [
    {
     "data": {
      "text/html": [
       "<table class=\"dataframe\">\n",
       "<caption>A Time Series: 2 × 12</caption>\n",
       "<thead>\n",
       "\t<tr><th></th><th scope=col>Jan</th><th scope=col>Feb</th><th scope=col>Mar</th><th scope=col>Apr</th><th scope=col>May</th><th scope=col>Jun</th><th scope=col>Jul</th><th scope=col>Aug</th><th scope=col>Sep</th><th scope=col>Oct</th><th scope=col>Nov</th><th scope=col>Dec</th></tr>\n",
       "</thead>\n",
       "<tbody>\n",
       "\t<tr><th scope=row>2023</th><td>       </td><td>       </td><td>       </td><td></td><td></td><td></td><td></td><td></td><td></td><td>3495.03</td><td>3799.15</td><td>3897.04</td></tr>\n",
       "\t<tr><th scope=row>2024</th><td>4087.54</td><td>5226.12</td><td>6510.16</td><td></td><td></td><td></td><td></td><td></td><td></td><td>       </td><td>       </td><td>       </td></tr>\n",
       "</tbody>\n",
       "</table>\n"
      ],
      "text/latex": [
       "A Time Series: 2 × 12\n",
       "\\begin{tabular}{r|llllllllllll}\n",
       "  & Jan & Feb & Mar & Apr & May & Jun & Jul & Aug & Sep & Oct & Nov & Dec\\\\\n",
       "\\hline\n",
       "\t2023 &         &         &         &  &  &  &  &  &  & 3495.03 & 3799.15 & 3897.04\\\\\n",
       "\t2024 & 4087.54 & 5226.12 & 6510.16 &  &  &  &  &  &  &         &         &        \\\\\n",
       "\\end{tabular}\n"
      ],
      "text/markdown": [
       "\n",
       "A Time Series: 2 × 12\n",
       "\n",
       "| <!--/--> | Jan | Feb | Mar | Apr | May | Jun | Jul | Aug | Sep | Oct | Nov | Dec |\n",
       "|---|---|---|---|---|---|---|---|---|---|---|---|---|\n",
       "| 2023 | <!----> | <!----> | <!----> | <!----> | <!----> | <!----> | <!----> | <!----> | <!----> | 3495.03 | 3799.15 | 3897.04 |\n",
       "| 2024 | 4087.54 | 5226.12 | 6510.16 | <!----> | <!----> | <!----> | <!----> | <!----> | <!----> | <!----> | <!----> | <!----> |\n",
       "\n"
      ],
      "text/plain": [
       "     Jan     Feb     Mar     Apr May Jun Jul Aug Sep Oct     Nov     Dec    \n",
       "2023                                                 3495.03 3799.15 3897.04\n",
       "2024 4087.54 5226.12 6510.16                                                "
      ]
     },
     "metadata": {},
     "output_type": "display_data"
    },
    {
     "data": {
      "image/png": "[encoded data removed]",
      "text/plain": [
       "Plot with title \"TESTING SET\""
      ]
     },
     "metadata": {
      "image/png": {
       "height": 420,
       "width": 420
      }
     },
     "output_type": "display_data"
    }
   ],
   "source": [
    "# Split the time series data into test sets\n",
    "test <- window(cocoa_price_ts, start = c(2023, 10)) # end = c(2024, 3))\n",
    "test\n",
    "plot(test, col = \"red\", lwd = 4, main = \"TESTING SET\")"
   ]
  },
  {
   "cell_type": "code",
   "execution_count": 713,
   "id": "f839d7af-3aea-4ddd-911b-3c2b76d1d058",
   "metadata": {},
   "outputs": [
    {
     "data": {
      "image/png": "[encoded data removed]",
      "text/plain": [
       "Plot with title \"Train and Test Sets\""
      ]
     },
     "metadata": {
      "image/png": {
       "height": 420,
       "width": 420
      }
     },
     "output_type": "display_data"
    }
   ],
   "source": [
    "# Plot the entire time series with the train and test sets highlighted\n",
    "plot(cocoa_price_ts, ylim = c(0, 10000), type = 'l', lwd = 3, main = 'Train and Test Sets')\n",
    "lines(train, col = 'blue', lwd = 3)\n",
    "lines(test, col = 'red', lwd = 4)\n",
    "legend(\"topleft\", legend = c(\"Train\", \"Test\"), col = c(\"blue\", \"red\"), lwd = 4)"
   ]
  },
  {
   "cell_type": "markdown",
   "id": "9394fc9a-bbd6-4e9a-bb66-34db1c58f0ab",
   "metadata": {},
   "source": [
    "# **SIMPLE TIME SERIES MODELS**"
   ]
  },
  {
   "cell_type": "markdown",
   "id": "2f285b7a-5626-445c-bb97-0ce1e536c621",
   "metadata": {},
   "source": [
    "## **Forecast Using the Mean Model**"
   ]
  },
  {
   "cell_type": "markdown",
   "id": "7f10f385-ed49-42c6-bcf9-871acf07e8b3",
   "metadata": {},
   "source": [
    "In this model, the forecast of the future values equals the average of previous average cocoa price "
   ]
  },
  {
   "cell_type": "code",
   "execution_count": 714,
   "id": "99804adb-d251-4e32-93ab-a5aad0b56404",
   "metadata": {},
   "outputs": [
    {
     "data": {
      "text/html": [
       "1820.45428571429"
      ],
      "text/latex": [
       "1820.45428571429"
      ],
      "text/markdown": [
       "1820.45428571429"
      ],
      "text/plain": [
       "[1] 1820.454"
      ]
     },
     "metadata": {},
     "output_type": "display_data"
    }
   ],
   "source": [
    "# Calculate the mean of the training data\n",
    "mean_price <- mean(train)\n",
    "mean_price"
   ]
  },
  {
   "cell_type": "code",
   "execution_count": 715,
   "id": "6139b30f-0e34-4d80-b9ad-028134079bfc",
   "metadata": {},
   "outputs": [
    {
     "data": {
      "text/plain": [
       "         Point Forecast    Lo 80    Hi 80    Lo 95  Hi 95\n",
       "Oct 2023       1820.454 1169.006 2471.903 822.5087 2818.4\n",
       "Nov 2023       1820.454 1169.006 2471.903 822.5087 2818.4\n",
       "Dec 2023       1820.454 1169.006 2471.903 822.5087 2818.4\n",
       "Jan 2024       1820.454 1169.006 2471.903 822.5087 2818.4\n",
       "Feb 2024       1820.454 1169.006 2471.903 822.5087 2818.4\n",
       "Mar 2024       1820.454 1169.006 2471.903 822.5087 2818.4"
      ]
     },
     "metadata": {},
     "output_type": "display_data"
    }
   ],
   "source": [
    "# Create a vector of forecasted prices using the mean value\n",
    "forecast_mean <- meanf(train, length(test))\n",
    "forecast_mean"
   ]
  },
  {
   "cell_type": "code",
   "execution_count": 716,
   "id": "9cccde9b-4cdf-4c1f-bfdb-1d637705d6c5",
   "metadata": {
    "scrolled": true
   },
   "outputs": [
    {
     "data": {
      "text/html": [
       "<table class=\"dataframe\">\n",
       "<caption>A matrix: 2 × 8 of type dbl</caption>\n",
       "<thead>\n",
       "\t<tr><th></th><th scope=col>ME</th><th scope=col>RMSE</th><th scope=col>MAE</th><th scope=col>MPE</th><th scope=col>MAPE</th><th scope=col>MASE</th><th scope=col>ACF1</th><th scope=col>Theil's U</th></tr>\n",
       "</thead>\n",
       "<tbody>\n",
       "\t<tr><th scope=row>Training set</th><td>   0.00</td><td> 505.82</td><td> 413.90</td><td>-8.60</td><td>25.61</td><td>1.36</td><td>0.96</td><td>  NA</td></tr>\n",
       "\t<tr><th scope=row>Test set</th><td>2682.05</td><td>2879.91</td><td>2682.05</td><td>57.66</td><td>57.66</td><td>8.80</td><td>0.38</td><td>4.07</td></tr>\n",
       "</tbody>\n",
       "</table>\n"
      ],
      "text/latex": [
       "A matrix: 2 × 8 of type dbl\n",
       "\\begin{tabular}{r|llllllll}\n",
       "  & ME & RMSE & MAE & MPE & MAPE & MASE & ACF1 & Theil's U\\\\\n",
       "\\hline\n",
       "\tTraining set &    0.00 &  505.82 &  413.90 & -8.60 & 25.61 & 1.36 & 0.96 &   NA\\\\\n",
       "\tTest set & 2682.05 & 2879.91 & 2682.05 & 57.66 & 57.66 & 8.80 & 0.38 & 4.07\\\\\n",
       "\\end{tabular}\n"
      ],
      "text/markdown": [
       "\n",
       "A matrix: 2 × 8 of type dbl\n",
       "\n",
       "| <!--/--> | ME | RMSE | MAE | MPE | MAPE | MASE | ACF1 | Theil's U |\n",
       "|---|---|---|---|---|---|---|---|---|\n",
       "| Training set |    0.00 |  505.82 |  413.90 | -8.60 | 25.61 | 1.36 | 0.96 |   NA |\n",
       "| Test set | 2682.05 | 2879.91 | 2682.05 | 57.66 | 57.66 | 8.80 | 0.38 | 4.07 |\n",
       "\n"
      ],
      "text/plain": [
       "             ME      RMSE    MAE     MPE   MAPE  MASE ACF1 Theil's U\n",
       "Training set    0.00  505.82  413.90 -8.60 25.61 1.36 0.96   NA     \n",
       "Test set     2682.05 2879.91 2682.05 57.66 57.66 8.80 0.38 4.07     "
      ]
     },
     "metadata": {},
     "output_type": "display_data"
    }
   ],
   "source": [
    "round(accuracy(forecast_mean, test),2)"
   ]
  },
  {
   "cell_type": "code",
   "execution_count": 717,
   "id": "100122f2-46a7-4849-aaf3-222ae3330c3d",
   "metadata": {},
   "outputs": [
    {
     "data": {
      "image/png": "[encoded data removed]",
      "text/plain": [
       "Plot with title \"Forecast Using Mean Model\""
      ]
     },
     "metadata": {
      "image/png": {
       "height": 420,
       "width": 420
      }
     },
     "output_type": "display_data"
    }
   ],
   "source": [
    "plot(forecast_mean, col = 'blue', lwd = 3, ylim = c(0, 8000),\n",
    "     main = 'Forecast Using Mean Model', xlab = 'Year', ylab = 'Price')\n",
    "x <- c(time(train)[1], time(train)[18])\n",
    "y <- c(mean(train), mean(train))\n",
    "lines(x, y, col='black', lwd=4)\n",
    "x <- as.vector(time(test))\n",
    "y <- test\n",
    "lines(x, y, col='red', lwd=3)"
   ]
  },
  {
   "cell_type": "markdown",
   "id": "bc076517-59e3-438e-8665-483f65b43be4",
   "metadata": {},
   "source": [
    "## **Forecast Using Naive Model**"
   ]
  },
  {
   "cell_type": "markdown",
   "id": "c3f7b4aa-b0b7-4d6b-8b2d-538495cb0a4d",
   "metadata": {},
   "source": [
    "For naive forecast model , it simply forecasts the next value to be the same as the last observed value. "
   ]
  },
  {
   "cell_type": "code",
   "execution_count": 718,
   "id": "da836aa1-7f06-4a7b-aabb-0d417d725aac",
   "metadata": {},
   "outputs": [
    {
     "data": {
      "text/html": [
       "3395.58"
      ],
      "text/latex": [
       "3395.58"
      ],
      "text/markdown": [
       "3395.58"
      ],
      "text/plain": [
       "[1] 3395.58"
      ]
     },
     "metadata": {},
     "output_type": "display_data"
    }
   ],
   "source": [
    "train[length(train)]"
   ]
  },
  {
   "cell_type": "code",
   "execution_count": 719,
   "id": "b3e9ca8e-6724-4129-8663-1ea5039b0d30",
   "metadata": {},
   "outputs": [
    {
     "data": {
      "text/plain": [
       "         Point Forecast    Lo 80    Hi 80    Lo 95    Hi 95\n",
       "Oct 2023        3395.58 3266.944 3524.216 3198.848 3592.312\n",
       "Nov 2023        3395.58 3213.661 3577.499 3117.359 3673.801\n",
       "Dec 2023        3395.58 3172.776 3618.384 3054.831 3736.329\n",
       "Jan 2024        3395.58 3138.308 3652.852 3002.117 3789.043\n",
       "Feb 2024        3395.58 3107.941 3683.219 2955.675 3835.485\n",
       "Mar 2024        3395.58 3080.488 3710.672 2913.688 3877.472"
      ]
     },
     "metadata": {},
     "output_type": "display_data"
    }
   ],
   "source": [
    "# Generate forecasts using the naive model\n",
    "forecast.naive <- rwf(train, h=length(test))\n",
    "forecast.naive"
   ]
  },
  {
   "cell_type": "code",
   "execution_count": 720,
   "id": "21143203-4fa2-4d43-897a-26df6cea15ca",
   "metadata": {},
   "outputs": [
    {
     "data": {
      "image/png": "[encoded data removed]",
      "text/plain": [
       "Plot with title \"Forecast Using Naive Model\""
      ]
     },
     "metadata": {
      "image/png": {
       "height": 420,
       "width": 420
      }
     },
     "output_type": "display_data"
    }
   ],
   "source": [
    "plot(forecast.naive,col = 'blue', lwd = 3, ylim = c(0, 8000),\n",
    "     main = 'Forecast Using Naive Model')\n",
    "x <- time(train)[length(train)]\n",
    "y <- train[length(train)]\n",
    "points(x, y, col='black', lwd=5)\n",
    "x <- as.vector(time(test))\n",
    "y <- test\n",
    "lines(x, y, col='red', lwd=4)"
   ]
  },
  {
   "cell_type": "code",
   "execution_count": 721,
   "id": "18980edf-6947-4358-a4e7-5e37bcd9e3cf",
   "metadata": {},
   "outputs": [
    {
     "data": {
      "text/html": [
       "<table class=\"dataframe\">\n",
       "<caption>A matrix: 2 × 8 of type dbl</caption>\n",
       "<thead>\n",
       "\t<tr><th></th><th scope=col>ME</th><th scope=col>RMSE</th><th scope=col>MAE</th><th scope=col>MPE</th><th scope=col>MAPE</th><th scope=col>MASE</th><th scope=col>ACF1</th><th scope=col>Theil's U</th></tr>\n",
       "</thead>\n",
       "<tbody>\n",
       "\t<tr><th scope=row>Training set</th><td>   5.97</td><td> 100.38</td><td>  75.43</td><td> 0.11</td><td> 4.19</td><td>0.25</td><td>0.17</td><td>  NA</td></tr>\n",
       "\t<tr><th scope=row>Test set</th><td>1106.93</td><td>1525.04</td><td>1106.93</td><td>21.02</td><td>21.02</td><td>3.63</td><td>0.38</td><td>2.04</td></tr>\n",
       "</tbody>\n",
       "</table>\n"
      ],
      "text/latex": [
       "A matrix: 2 × 8 of type dbl\n",
       "\\begin{tabular}{r|llllllll}\n",
       "  & ME & RMSE & MAE & MPE & MAPE & MASE & ACF1 & Theil's U\\\\\n",
       "\\hline\n",
       "\tTraining set &    5.97 &  100.38 &   75.43 &  0.11 &  4.19 & 0.25 & 0.17 &   NA\\\\\n",
       "\tTest set & 1106.93 & 1525.04 & 1106.93 & 21.02 & 21.02 & 3.63 & 0.38 & 2.04\\\\\n",
       "\\end{tabular}\n"
      ],
      "text/markdown": [
       "\n",
       "A matrix: 2 × 8 of type dbl\n",
       "\n",
       "| <!--/--> | ME | RMSE | MAE | MPE | MAPE | MASE | ACF1 | Theil's U |\n",
       "|---|---|---|---|---|---|---|---|---|\n",
       "| Training set |    5.97 |  100.38 |   75.43 |  0.11 |  4.19 | 0.25 | 0.17 |   NA |\n",
       "| Test set | 1106.93 | 1525.04 | 1106.93 | 21.02 | 21.02 | 3.63 | 0.38 | 2.04 |\n",
       "\n"
      ],
      "text/plain": [
       "             ME      RMSE    MAE     MPE   MAPE  MASE ACF1 Theil's U\n",
       "Training set    5.97  100.38   75.43  0.11  4.19 0.25 0.17   NA     \n",
       "Test set     1106.93 1525.04 1106.93 21.02 21.02 3.63 0.38 2.04     "
      ]
     },
     "metadata": {},
     "output_type": "display_data"
    }
   ],
   "source": [
    "round(accuracy(forecast.naive, test), 2)"
   ]
  },
  {
   "cell_type": "markdown",
   "id": "ae0de747-27bc-4dbe-9c20-773dc3687a19",
   "metadata": {},
   "source": [
    "## **Forecast Using Seasonal Naive Model**"
   ]
  },
  {
   "cell_type": "markdown",
   "id": "6f10e624-ae02-4c8a-9dc9-7c4ada38d507",
   "metadata": {},
   "source": [
    "For naive forecasts, we simply use the last observed value from the same season as the forecast for all future time periods"
   ]
  },
  {
   "cell_type": "code",
   "execution_count": 722,
   "id": "717546f3-ec5c-43df-88ce-a255904186c5",
   "metadata": {},
   "outputs": [
    {
     "data": {
      "text/html": [
       "<table class=\"dataframe\">\n",
       "<caption>A Time Series: 29 × 12</caption>\n",
       "<thead>\n",
       "\t<tr><th></th><th scope=col>Jan</th><th scope=col>Feb</th><th scope=col>Mar</th><th scope=col>Apr</th><th scope=col>May</th><th scope=col>Jun</th><th scope=col>Jul</th><th scope=col>Aug</th><th scope=col>Sep</th><th scope=col>Oct</th><th scope=col>Nov</th><th scope=col>Dec</th></tr>\n",
       "</thead>\n",
       "<tbody>\n",
       "\t<tr><th scope=row>1995</th><td>       </td><td>       </td><td>       </td><td>       </td><td>       </td><td>       </td><td>       </td><td>       </td><td>       </td><td>1394.50</td><td>1436.50</td><td>1378.84</td></tr>\n",
       "\t<tr><th scope=row>1996</th><td>1349.50</td><td>1369.81</td><td>1338.62</td><td>1456.24</td><td>1524.09</td><td>1537.60</td><td>1495.70</td><td>1499.86</td><td>1476.14</td><td>1477.04</td><td>1469.33</td><td>1474.30</td></tr>\n",
       "\t<tr><th scope=row>1997</th><td>1428.45</td><td>1372.70</td><td>1523.60</td><td>1571.05</td><td>1568.29</td><td>1688.38</td><td>1677.30</td><td>1652.14</td><td>1769.64</td><td>1741.43</td><td>1694.80</td><td>1737.29</td></tr>\n",
       "\t<tr><th scope=row>1998</th><td>1668.10</td><td>1640.85</td><td>1719.18</td><td>1726.38</td><td>1794.35</td><td>1721.86</td><td>1712.17</td><td>1683.62</td><td>1687.32</td><td>1646.41</td><td>1388.52</td><td>1288.09</td></tr>\n",
       "\t<tr><th scope=row>1999</th><td>1254.90</td><td>1257.40</td><td>1206.52</td><td>1108.00</td><td> 998.75</td><td>1119.73</td><td>1074.77</td><td> 980.86</td><td>1009.86</td><td> 954.57</td><td> 893.64</td><td> 909.14</td></tr>\n",
       "\t<tr><th scope=row>2000</th><td> 906.38</td><td> 874.14</td><td> 966.70</td><td> 962.95</td><td>1003.68</td><td> 991.00</td><td> 996.62</td><td> 970.35</td><td>1013.57</td><td>1027.73</td><td> 936.09</td><td> 893.75</td></tr>\n",
       "\t<tr><th scope=row>2001</th><td>1031.86</td><td>1257.00</td><td>1236.73</td><td>1212.60</td><td>1233.23</td><td>1140.10</td><td>1123.82</td><td>1147.17</td><td>1118.85</td><td>1197.35</td><td>1397.77</td><td>1497.00</td></tr>\n",
       "\t<tr><th scope=row>2002</th><td>1567.59</td><td>1713.35</td><td>1815.35</td><td>1770.91</td><td>1749.78</td><td>1734.60</td><td>1881.78</td><td>2004.27</td><td>2206.19</td><td>2246.57</td><td>1811.29</td><td>1985.00</td></tr>\n",
       "\t<tr><th scope=row>2003</th><td>2055.27</td><td>2076.40</td><td>1847.48</td><td>1774.86</td><td>1515.81</td><td>1352.76</td><td>1372.35</td><td>1410.62</td><td>1450.73</td><td>1265.57</td><td>1289.90</td><td>1324.14</td></tr>\n",
       "\t<tr><th scope=row>2004</th><td>1286.43</td><td>1240.85</td><td>1226.57</td><td>1199.19</td><td>1178.15</td><td>1159.27</td><td>1271.91</td><td>1418.73</td><td>1261.05</td><td>1187.76</td><td>1278.18</td><td>1230.00</td></tr>\n",
       "\t<tr><th scope=row>2005</th><td>1181.00</td><td>1255.70</td><td>1331.45</td><td>1225.67</td><td>1190.52</td><td>1266.41</td><td>1237.38</td><td>1205.48</td><td>1227.36</td><td>1208.24</td><td>1217.23</td><td>1279.71</td></tr>\n",
       "\t<tr><th scope=row>2006</th><td>1301.38</td><td>1294.30</td><td>1283.83</td><td>1263.95</td><td>1248.86</td><td>1269.32</td><td>1321.38</td><td>1257.26</td><td>1231.33</td><td>1212.32</td><td>1226.73</td><td>1289.55</td></tr>\n",
       "\t<tr><th scope=row>2007</th><td>1310.18</td><td>1386.45</td><td>1452.59</td><td>1462.55</td><td>1483.32</td><td>1502.57</td><td>1568.77</td><td>1395.91</td><td>1393.45</td><td>1345.65</td><td>1339.77</td><td>1452.05</td></tr>\n",
       "\t<tr><th scope=row>2008</th><td>1505.59</td><td>1709.48</td><td>1721.05</td><td>1668.32</td><td>1729.43</td><td>1941.90</td><td>1874.61</td><td>1880.14</td><td>1866.73</td><td>1692.52</td><td>1622.80</td><td>1816.23</td></tr>\n",
       "\t<tr><th scope=row>2009</th><td>1985.29</td><td>2068.10</td><td>1922.59</td><td>1935.05</td><td>1817.80</td><td>1926.50</td><td>1980.87</td><td>2072.52</td><td>2157.45</td><td>2276.14</td><td>2268.90</td><td>2399.41</td></tr>\n",
       "\t<tr><th scope=row>2010</th><td>2470.30</td><td>2395.70</td><td>2276.96</td><td>2402.38</td><td>2528.90</td><td>2643.59</td><td>2523.64</td><td>2380.05</td><td>2196.36</td><td>2106.24</td><td>2133.95</td><td>2314.13</td></tr>\n",
       "\t<tr><th scope=row>2011</th><td>2366.30</td><td>2542.10</td><td>2421.22</td><td>2168.05</td><td>2142.33</td><td>2094.14</td><td>2217.00</td><td>2137.70</td><td>2087.59</td><td>1952.48</td><td>1863.82</td><td>1670.38</td></tr>\n",
       "\t<tr><th scope=row>2012</th><td>1789.05</td><td>1779.62</td><td>1785.73</td><td>1721.70</td><td>1807.83</td><td>1805.29</td><td>1912.23</td><td>2025.00</td><td>2036.20</td><td>1898.87</td><td>1930.86</td><td>1837.80</td></tr>\n",
       "\t<tr><th scope=row>2013</th><td>1710.73</td><td>1646.40</td><td>1662.25</td><td>1761.45</td><td>1806.68</td><td>1730.30</td><td>1764.57</td><td>1865.50</td><td>1958.81</td><td>2001.91</td><td>2042.05</td><td>2060.86</td></tr>\n",
       "\t<tr><th scope=row>2014</th><td>2070.82</td><td>2191.20</td><td>2199.48</td><td>2209.10</td><td>2205.86</td><td>2334.86</td><td>2361.22</td><td>2456.19</td><td>2497.64</td><td>2446.00</td><td>2332.30</td><td>2400.73</td></tr>\n",
       "\t<tr><th scope=row>2015</th><td>2514.76</td><td>2595.65</td><td>2662.59</td><td>2653.43</td><td>2773.05</td><td>2886.50</td><td>3023.78</td><td>2832.05</td><td>2920.68</td><td>2848.09</td><td>3134.86</td><td>3072.68</td></tr>\n",
       "\t<tr><th scope=row>2016</th><td>2720.15</td><td>2628.86</td><td>2762.23</td><td>2713.90</td><td>2738.29</td><td>2779.36</td><td>2757.90</td><td>2706.39</td><td>2569.27</td><td>2460.05</td><td>2318.86</td><td>2168.71</td></tr>\n",
       "\t<tr><th scope=row>2017</th><td>2064.67</td><td>1910.20</td><td>1924.26</td><td>1830.37</td><td>1794.77</td><td>1778.95</td><td>1726.10</td><td>1683.57</td><td>1677.24</td><td>1783.95</td><td>1812.32</td><td>1620.25</td></tr>\n",
       "\t<tr><th scope=row>2018</th><td>1599.77</td><td>1719.75</td><td>2030.00</td><td>2139.86</td><td>2249.73</td><td>2064.62</td><td>2017.45</td><td>1880.43</td><td>1882.15</td><td>1858.39</td><td>1922.82</td><td>1940.35</td></tr>\n",
       "\t<tr><th scope=row>2019</th><td>1982.14</td><td>1987.95</td><td>1948.19</td><td>2074.95</td><td>2069.32</td><td>2131.85</td><td>2154.70</td><td>1972.36</td><td>2093.19</td><td>2202.57</td><td>2280.90</td><td>2200.00</td></tr>\n",
       "\t<tr><th scope=row>2020</th><td>2346.14</td><td>2490.95</td><td>2118.68</td><td>2089.05</td><td>2123.75</td><td>1979.50</td><td>1831.07</td><td>1969.46</td><td>2070.42</td><td>1947.42</td><td>1992.33</td><td>1978.37</td></tr>\n",
       "\t<tr><th scope=row>2021</th><td>1965.34</td><td>1988.79</td><td>2068.94</td><td>1977.85</td><td>1986.69</td><td>1965.17</td><td>1968.23</td><td>2111.52</td><td>2173.62</td><td>2213.91</td><td>2098.42</td><td>2109.78</td></tr>\n",
       "\t<tr><th scope=row>2022</th><td>2179.34</td><td>2247.93</td><td>2234.49</td><td>2273.07</td><td>2237.81</td><td>2197.33</td><td>2200.62</td><td>2242.10</td><td>2243.96</td><td>2281.01</td><td>2333.84</td><td>2319.35</td></tr>\n",
       "\t<tr><th scope=row>2023</th><td>2357.59</td><td>2418.26</td><td>2491.37</td><td>2575.00</td><td>2673.46</td><td>2880.87</td><td>3028.41</td><td>3157.00</td><td>3395.58</td><td>       </td><td>       </td><td>       </td></tr>\n",
       "</tbody>\n",
       "</table>\n"
      ],
      "text/latex": [
       "A Time Series: 29 × 12\n",
       "\\begin{tabular}{r|llllllllllll}\n",
       "  & Jan & Feb & Mar & Apr & May & Jun & Jul & Aug & Sep & Oct & Nov & Dec\\\\\n",
       "\\hline\n",
       "\t1995 &         &         &         &         &         &         &         &         &         & 1394.50 & 1436.50 & 1378.84\\\\\n",
       "\t1996 & 1349.50 & 1369.81 & 1338.62 & 1456.24 & 1524.09 & 1537.60 & 1495.70 & 1499.86 & 1476.14 & 1477.04 & 1469.33 & 1474.30\\\\\n",
       "\t1997 & 1428.45 & 1372.70 & 1523.60 & 1571.05 & 1568.29 & 1688.38 & 1677.30 & 1652.14 & 1769.64 & 1741.43 & 1694.80 & 1737.29\\\\\n",
       "\t1998 & 1668.10 & 1640.85 & 1719.18 & 1726.38 & 1794.35 & 1721.86 & 1712.17 & 1683.62 & 1687.32 & 1646.41 & 1388.52 & 1288.09\\\\\n",
       "\t1999 & 1254.90 & 1257.40 & 1206.52 & 1108.00 &  998.75 & 1119.73 & 1074.77 &  980.86 & 1009.86 &  954.57 &  893.64 &  909.14\\\\\n",
       "\t2000 &  906.38 &  874.14 &  966.70 &  962.95 & 1003.68 &  991.00 &  996.62 &  970.35 & 1013.57 & 1027.73 &  936.09 &  893.75\\\\\n",
       "\t2001 & 1031.86 & 1257.00 & 1236.73 & 1212.60 & 1233.23 & 1140.10 & 1123.82 & 1147.17 & 1118.85 & 1197.35 & 1397.77 & 1497.00\\\\\n",
       "\t2002 & 1567.59 & 1713.35 & 1815.35 & 1770.91 & 1749.78 & 1734.60 & 1881.78 & 2004.27 & 2206.19 & 2246.57 & 1811.29 & 1985.00\\\\\n",
       "\t2003 & 2055.27 & 2076.40 & 1847.48 & 1774.86 & 1515.81 & 1352.76 & 1372.35 & 1410.62 & 1450.73 & 1265.57 & 1289.90 & 1324.14\\\\\n",
       "\t2004 & 1286.43 & 1240.85 & 1226.57 & 1199.19 & 1178.15 & 1159.27 & 1271.91 & 1418.73 & 1261.05 & 1187.76 & 1278.18 & 1230.00\\\\\n",
       "\t2005 & 1181.00 & 1255.70 & 1331.45 & 1225.67 & 1190.52 & 1266.41 & 1237.38 & 1205.48 & 1227.36 & 1208.24 & 1217.23 & 1279.71\\\\\n",
       "\t2006 & 1301.38 & 1294.30 & 1283.83 & 1263.95 & 1248.86 & 1269.32 & 1321.38 & 1257.26 & 1231.33 & 1212.32 & 1226.73 & 1289.55\\\\\n",
       "\t2007 & 1310.18 & 1386.45 & 1452.59 & 1462.55 & 1483.32 & 1502.57 & 1568.77 & 1395.91 & 1393.45 & 1345.65 & 1339.77 & 1452.05\\\\\n",
       "\t2008 & 1505.59 & 1709.48 & 1721.05 & 1668.32 & 1729.43 & 1941.90 & 1874.61 & 1880.14 & 1866.73 & 1692.52 & 1622.80 & 1816.23\\\\\n",
       "\t2009 & 1985.29 & 2068.10 & 1922.59 & 1935.05 & 1817.80 & 1926.50 & 1980.87 & 2072.52 & 2157.45 & 2276.14 & 2268.90 & 2399.41\\\\\n",
       "\t2010 & 2470.30 & 2395.70 & 2276.96 & 2402.38 & 2528.90 & 2643.59 & 2523.64 & 2380.05 & 2196.36 & 2106.24 & 2133.95 & 2314.13\\\\\n",
       "\t2011 & 2366.30 & 2542.10 & 2421.22 & 2168.05 & 2142.33 & 2094.14 & 2217.00 & 2137.70 & 2087.59 & 1952.48 & 1863.82 & 1670.38\\\\\n",
       "\t2012 & 1789.05 & 1779.62 & 1785.73 & 1721.70 & 1807.83 & 1805.29 & 1912.23 & 2025.00 & 2036.20 & 1898.87 & 1930.86 & 1837.80\\\\\n",
       "\t2013 & 1710.73 & 1646.40 & 1662.25 & 1761.45 & 1806.68 & 1730.30 & 1764.57 & 1865.50 & 1958.81 & 2001.91 & 2042.05 & 2060.86\\\\\n",
       "\t2014 & 2070.82 & 2191.20 & 2199.48 & 2209.10 & 2205.86 & 2334.86 & 2361.22 & 2456.19 & 2497.64 & 2446.00 & 2332.30 & 2400.73\\\\\n",
       "\t2015 & 2514.76 & 2595.65 & 2662.59 & 2653.43 & 2773.05 & 2886.50 & 3023.78 & 2832.05 & 2920.68 & 2848.09 & 3134.86 & 3072.68\\\\\n",
       "\t2016 & 2720.15 & 2628.86 & 2762.23 & 2713.90 & 2738.29 & 2779.36 & 2757.90 & 2706.39 & 2569.27 & 2460.05 & 2318.86 & 2168.71\\\\\n",
       "\t2017 & 2064.67 & 1910.20 & 1924.26 & 1830.37 & 1794.77 & 1778.95 & 1726.10 & 1683.57 & 1677.24 & 1783.95 & 1812.32 & 1620.25\\\\\n",
       "\t2018 & 1599.77 & 1719.75 & 2030.00 & 2139.86 & 2249.73 & 2064.62 & 2017.45 & 1880.43 & 1882.15 & 1858.39 & 1922.82 & 1940.35\\\\\n",
       "\t2019 & 1982.14 & 1987.95 & 1948.19 & 2074.95 & 2069.32 & 2131.85 & 2154.70 & 1972.36 & 2093.19 & 2202.57 & 2280.90 & 2200.00\\\\\n",
       "\t2020 & 2346.14 & 2490.95 & 2118.68 & 2089.05 & 2123.75 & 1979.50 & 1831.07 & 1969.46 & 2070.42 & 1947.42 & 1992.33 & 1978.37\\\\\n",
       "\t2021 & 1965.34 & 1988.79 & 2068.94 & 1977.85 & 1986.69 & 1965.17 & 1968.23 & 2111.52 & 2173.62 & 2213.91 & 2098.42 & 2109.78\\\\\n",
       "\t2022 & 2179.34 & 2247.93 & 2234.49 & 2273.07 & 2237.81 & 2197.33 & 2200.62 & 2242.10 & 2243.96 & 2281.01 & 2333.84 & 2319.35\\\\\n",
       "\t2023 & 2357.59 & 2418.26 & 2491.37 & 2575.00 & 2673.46 & 2880.87 & 3028.41 & 3157.00 & 3395.58 &         &         &        \\\\\n",
       "\\end{tabular}\n"
      ],
      "text/markdown": [
       "\n",
       "A Time Series: 29 × 12\n",
       "\n",
       "| <!--/--> | Jan | Feb | Mar | Apr | May | Jun | Jul | Aug | Sep | Oct | Nov | Dec |\n",
       "|---|---|---|---|---|---|---|---|---|---|---|---|---|\n",
       "| 1995 | <!----> | <!----> | <!----> | <!----> | <!----> | <!----> | <!----> | <!----> | <!----> | 1394.50 | 1436.50 | 1378.84 |\n",
       "| 1996 | 1349.50 | 1369.81 | 1338.62 | 1456.24 | 1524.09 | 1537.60 | 1495.70 | 1499.86 | 1476.14 | 1477.04 | 1469.33 | 1474.30 |\n",
       "| 1997 | 1428.45 | 1372.70 | 1523.60 | 1571.05 | 1568.29 | 1688.38 | 1677.30 | 1652.14 | 1769.64 | 1741.43 | 1694.80 | 1737.29 |\n",
       "| 1998 | 1668.10 | 1640.85 | 1719.18 | 1726.38 | 1794.35 | 1721.86 | 1712.17 | 1683.62 | 1687.32 | 1646.41 | 1388.52 | 1288.09 |\n",
       "| 1999 | 1254.90 | 1257.40 | 1206.52 | 1108.00 |  998.75 | 1119.73 | 1074.77 |  980.86 | 1009.86 |  954.57 |  893.64 |  909.14 |\n",
       "| 2000 |  906.38 |  874.14 |  966.70 |  962.95 | 1003.68 |  991.00 |  996.62 |  970.35 | 1013.57 | 1027.73 |  936.09 |  893.75 |\n",
       "| 2001 | 1031.86 | 1257.00 | 1236.73 | 1212.60 | 1233.23 | 1140.10 | 1123.82 | 1147.17 | 1118.85 | 1197.35 | 1397.77 | 1497.00 |\n",
       "| 2002 | 1567.59 | 1713.35 | 1815.35 | 1770.91 | 1749.78 | 1734.60 | 1881.78 | 2004.27 | 2206.19 | 2246.57 | 1811.29 | 1985.00 |\n",
       "| 2003 | 2055.27 | 2076.40 | 1847.48 | 1774.86 | 1515.81 | 1352.76 | 1372.35 | 1410.62 | 1450.73 | 1265.57 | 1289.90 | 1324.14 |\n",
       "| 2004 | 1286.43 | 1240.85 | 1226.57 | 1199.19 | 1178.15 | 1159.27 | 1271.91 | 1418.73 | 1261.05 | 1187.76 | 1278.18 | 1230.00 |\n",
       "| 2005 | 1181.00 | 1255.70 | 1331.45 | 1225.67 | 1190.52 | 1266.41 | 1237.38 | 1205.48 | 1227.36 | 1208.24 | 1217.23 | 1279.71 |\n",
       "| 2006 | 1301.38 | 1294.30 | 1283.83 | 1263.95 | 1248.86 | 1269.32 | 1321.38 | 1257.26 | 1231.33 | 1212.32 | 1226.73 | 1289.55 |\n",
       "| 2007 | 1310.18 | 1386.45 | 1452.59 | 1462.55 | 1483.32 | 1502.57 | 1568.77 | 1395.91 | 1393.45 | 1345.65 | 1339.77 | 1452.05 |\n",
       "| 2008 | 1505.59 | 1709.48 | 1721.05 | 1668.32 | 1729.43 | 1941.90 | 1874.61 | 1880.14 | 1866.73 | 1692.52 | 1622.80 | 1816.23 |\n",
       "| 2009 | 1985.29 | 2068.10 | 1922.59 | 1935.05 | 1817.80 | 1926.50 | 1980.87 | 2072.52 | 2157.45 | 2276.14 | 2268.90 | 2399.41 |\n",
       "| 2010 | 2470.30 | 2395.70 | 2276.96 | 2402.38 | 2528.90 | 2643.59 | 2523.64 | 2380.05 | 2196.36 | 2106.24 | 2133.95 | 2314.13 |\n",
       "| 2011 | 2366.30 | 2542.10 | 2421.22 | 2168.05 | 2142.33 | 2094.14 | 2217.00 | 2137.70 | 2087.59 | 1952.48 | 1863.82 | 1670.38 |\n",
       "| 2012 | 1789.05 | 1779.62 | 1785.73 | 1721.70 | 1807.83 | 1805.29 | 1912.23 | 2025.00 | 2036.20 | 1898.87 | 1930.86 | 1837.80 |\n",
       "| 2013 | 1710.73 | 1646.40 | 1662.25 | 1761.45 | 1806.68 | 1730.30 | 1764.57 | 1865.50 | 1958.81 | 2001.91 | 2042.05 | 2060.86 |\n",
       "| 2014 | 2070.82 | 2191.20 | 2199.48 | 2209.10 | 2205.86 | 2334.86 | 2361.22 | 2456.19 | 2497.64 | 2446.00 | 2332.30 | 2400.73 |\n",
       "| 2015 | 2514.76 | 2595.65 | 2662.59 | 2653.43 | 2773.05 | 2886.50 | 3023.78 | 2832.05 | 2920.68 | 2848.09 | 3134.86 | 3072.68 |\n",
       "| 2016 | 2720.15 | 2628.86 | 2762.23 | 2713.90 | 2738.29 | 2779.36 | 2757.90 | 2706.39 | 2569.27 | 2460.05 | 2318.86 | 2168.71 |\n",
       "| 2017 | 2064.67 | 1910.20 | 1924.26 | 1830.37 | 1794.77 | 1778.95 | 1726.10 | 1683.57 | 1677.24 | 1783.95 | 1812.32 | 1620.25 |\n",
       "| 2018 | 1599.77 | 1719.75 | 2030.00 | 2139.86 | 2249.73 | 2064.62 | 2017.45 | 1880.43 | 1882.15 | 1858.39 | 1922.82 | 1940.35 |\n",
       "| 2019 | 1982.14 | 1987.95 | 1948.19 | 2074.95 | 2069.32 | 2131.85 | 2154.70 | 1972.36 | 2093.19 | 2202.57 | 2280.90 | 2200.00 |\n",
       "| 2020 | 2346.14 | 2490.95 | 2118.68 | 2089.05 | 2123.75 | 1979.50 | 1831.07 | 1969.46 | 2070.42 | 1947.42 | 1992.33 | 1978.37 |\n",
       "| 2021 | 1965.34 | 1988.79 | 2068.94 | 1977.85 | 1986.69 | 1965.17 | 1968.23 | 2111.52 | 2173.62 | 2213.91 | 2098.42 | 2109.78 |\n",
       "| 2022 | 2179.34 | 2247.93 | 2234.49 | 2273.07 | 2237.81 | 2197.33 | 2200.62 | 2242.10 | 2243.96 | 2281.01 | 2333.84 | 2319.35 |\n",
       "| 2023 | 2357.59 | 2418.26 | 2491.37 | 2575.00 | 2673.46 | 2880.87 | 3028.41 | 3157.00 | 3395.58 | <!----> | <!----> | <!----> |\n",
       "\n"
      ],
      "text/plain": [
       "     Jan     Feb     Mar     Apr     May     Jun     Jul     Aug     Sep    \n",
       "1995                                                                        \n",
       "1996 1349.50 1369.81 1338.62 1456.24 1524.09 1537.60 1495.70 1499.86 1476.14\n",
       "1997 1428.45 1372.70 1523.60 1571.05 1568.29 1688.38 1677.30 1652.14 1769.64\n",
       "1998 1668.10 1640.85 1719.18 1726.38 1794.35 1721.86 1712.17 1683.62 1687.32\n",
       "1999 1254.90 1257.40 1206.52 1108.00  998.75 1119.73 1074.77  980.86 1009.86\n",
       "2000  906.38  874.14  966.70  962.95 1003.68  991.00  996.62  970.35 1013.57\n",
       "2001 1031.86 1257.00 1236.73 1212.60 1233.23 1140.10 1123.82 1147.17 1118.85\n",
       "2002 1567.59 1713.35 1815.35 1770.91 1749.78 1734.60 1881.78 2004.27 2206.19\n",
       "2003 2055.27 2076.40 1847.48 1774.86 1515.81 1352.76 1372.35 1410.62 1450.73\n",
       "2004 1286.43 1240.85 1226.57 1199.19 1178.15 1159.27 1271.91 1418.73 1261.05\n",
       "2005 1181.00 1255.70 1331.45 1225.67 1190.52 1266.41 1237.38 1205.48 1227.36\n",
       "2006 1301.38 1294.30 1283.83 1263.95 1248.86 1269.32 1321.38 1257.26 1231.33\n",
       "2007 1310.18 1386.45 1452.59 1462.55 1483.32 1502.57 1568.77 1395.91 1393.45\n",
       "2008 1505.59 1709.48 1721.05 1668.32 1729.43 1941.90 1874.61 1880.14 1866.73\n",
       "2009 1985.29 2068.10 1922.59 1935.05 1817.80 1926.50 1980.87 2072.52 2157.45\n",
       "2010 2470.30 2395.70 2276.96 2402.38 2528.90 2643.59 2523.64 2380.05 2196.36\n",
       "2011 2366.30 2542.10 2421.22 2168.05 2142.33 2094.14 2217.00 2137.70 2087.59\n",
       "2012 1789.05 1779.62 1785.73 1721.70 1807.83 1805.29 1912.23 2025.00 2036.20\n",
       "2013 1710.73 1646.40 1662.25 1761.45 1806.68 1730.30 1764.57 1865.50 1958.81\n",
       "2014 2070.82 2191.20 2199.48 2209.10 2205.86 2334.86 2361.22 2456.19 2497.64\n",
       "2015 2514.76 2595.65 2662.59 2653.43 2773.05 2886.50 3023.78 2832.05 2920.68\n",
       "2016 2720.15 2628.86 2762.23 2713.90 2738.29 2779.36 2757.90 2706.39 2569.27\n",
       "2017 2064.67 1910.20 1924.26 1830.37 1794.77 1778.95 1726.10 1683.57 1677.24\n",
       "2018 1599.77 1719.75 2030.00 2139.86 2249.73 2064.62 2017.45 1880.43 1882.15\n",
       "2019 1982.14 1987.95 1948.19 2074.95 2069.32 2131.85 2154.70 1972.36 2093.19\n",
       "2020 2346.14 2490.95 2118.68 2089.05 2123.75 1979.50 1831.07 1969.46 2070.42\n",
       "2021 1965.34 1988.79 2068.94 1977.85 1986.69 1965.17 1968.23 2111.52 2173.62\n",
       "2022 2179.34 2247.93 2234.49 2273.07 2237.81 2197.33 2200.62 2242.10 2243.96\n",
       "2023 2357.59 2418.26 2491.37 2575.00 2673.46 2880.87 3028.41 3157.00 3395.58\n",
       "     Oct     Nov     Dec    \n",
       "1995 1394.50 1436.50 1378.84\n",
       "1996 1477.04 1469.33 1474.30\n",
       "1997 1741.43 1694.80 1737.29\n",
       "1998 1646.41 1388.52 1288.09\n",
       "1999  954.57  893.64  909.14\n",
       "2000 1027.73  936.09  893.75\n",
       "2001 1197.35 1397.77 1497.00\n",
       "2002 2246.57 1811.29 1985.00\n",
       "2003 1265.57 1289.90 1324.14\n",
       "2004 1187.76 1278.18 1230.00\n",
       "2005 1208.24 1217.23 1279.71\n",
       "2006 1212.32 1226.73 1289.55\n",
       "2007 1345.65 1339.77 1452.05\n",
       "2008 1692.52 1622.80 1816.23\n",
       "2009 2276.14 2268.90 2399.41\n",
       "2010 2106.24 2133.95 2314.13\n",
       "2011 1952.48 1863.82 1670.38\n",
       "2012 1898.87 1930.86 1837.80\n",
       "2013 2001.91 2042.05 2060.86\n",
       "2014 2446.00 2332.30 2400.73\n",
       "2015 2848.09 3134.86 3072.68\n",
       "2016 2460.05 2318.86 2168.71\n",
       "2017 1783.95 1812.32 1620.25\n",
       "2018 1858.39 1922.82 1940.35\n",
       "2019 2202.57 2280.90 2200.00\n",
       "2020 1947.42 1992.33 1978.37\n",
       "2021 2213.91 2098.42 2109.78\n",
       "2022 2281.01 2333.84 2319.35\n",
       "2023                        "
      ]
     },
     "metadata": {},
     "output_type": "display_data"
    }
   ],
   "source": [
    "train"
   ]
  },
  {
   "cell_type": "code",
   "execution_count": 723,
   "id": "aa4393ad-bba8-4e0f-a3d4-5e0ee4ba3206",
   "metadata": {},
   "outputs": [
    {
     "data": {
      "text/plain": [
       "         Point Forecast    Lo 80    Hi 80    Lo 95    Hi 95\n",
       "Oct 2023        2281.01 1774.846 2787.174 1506.899 3055.121\n",
       "Nov 2023        2333.84 1827.676 2840.004 1559.729 3107.951\n",
       "Dec 2023        2319.35 1813.186 2825.514 1545.239 3093.461\n",
       "Jan 2024        2357.59 1851.426 2863.754 1583.479 3131.701\n",
       "Feb 2024        2418.26 1912.096 2924.424 1644.149 3192.371\n",
       "Mar 2024        2491.37 1985.206 2997.534 1717.259 3265.481"
      ]
     },
     "metadata": {},
     "output_type": "display_data"
    }
   ],
   "source": [
    "forecast.snaive <- snaive(train,h= 6)\n",
    "forecast.snaive"
   ]
  },
  {
   "cell_type": "code",
   "execution_count": 724,
   "id": "7e7c7470-6315-4091-a93d-81d63fa541fe",
   "metadata": {},
   "outputs": [
    {
     "data": {
      "image/png": "[encoded data removed]",
      "text/plain": [
       "Plot with title \"Forecast Using Seasonal Naive Model\""
      ]
     },
     "metadata": {
      "image/png": {
       "height": 420,
       "width": 420
      }
     },
     "output_type": "display_data"
    }
   ],
   "source": [
    "plot(forecast.snaive,col = 'blue', lwd = 3, ylim = c(0, 8000),\n",
    "     main = 'Forecast Using Seasonal Naive Model')\n",
    "x <- time(train)[length(train)]\n",
    "y <- train[length(train)]\n",
    "points(x, y, col='black', lwd=5)\n",
    "x <- as.vector(time(test))\n",
    "y <- test\n",
    "lines(x, y, col='red', lwd=4)\n"
   ]
  },
  {
   "cell_type": "code",
   "execution_count": 725,
   "id": "864198f4-46fd-4fc5-a418-001c172b80b6",
   "metadata": {},
   "outputs": [
    {
     "data": {
      "text/html": [
       "<table class=\"dataframe\">\n",
       "<caption>A matrix: 2 × 8 of type dbl</caption>\n",
       "<thead>\n",
       "\t<tr><th></th><th scope=col>ME</th><th scope=col>RMSE</th><th scope=col>MAE</th><th scope=col>MPE</th><th scope=col>MAPE</th><th scope=col>MASE</th><th scope=col>ACF1</th><th scope=col>Theil's U</th></tr>\n",
       "</thead>\n",
       "<tbody>\n",
       "\t<tr><th scope=row>Training set</th><td>  45.23</td><td> 394.96</td><td> 304.82</td><td>-0.21</td><td>17.28</td><td>1.00</td><td>0.92</td><td>  NA</td></tr>\n",
       "\t<tr><th scope=row>Test set</th><td>2135.60</td><td>2350.09</td><td>2135.60</td><td>45.26</td><td>45.26</td><td>7.01</td><td>0.38</td><td>3.29</td></tr>\n",
       "</tbody>\n",
       "</table>\n"
      ],
      "text/latex": [
       "A matrix: 2 × 8 of type dbl\n",
       "\\begin{tabular}{r|llllllll}\n",
       "  & ME & RMSE & MAE & MPE & MAPE & MASE & ACF1 & Theil's U\\\\\n",
       "\\hline\n",
       "\tTraining set &   45.23 &  394.96 &  304.82 & -0.21 & 17.28 & 1.00 & 0.92 &   NA\\\\\n",
       "\tTest set & 2135.60 & 2350.09 & 2135.60 & 45.26 & 45.26 & 7.01 & 0.38 & 3.29\\\\\n",
       "\\end{tabular}\n"
      ],
      "text/markdown": [
       "\n",
       "A matrix: 2 × 8 of type dbl\n",
       "\n",
       "| <!--/--> | ME | RMSE | MAE | MPE | MAPE | MASE | ACF1 | Theil's U |\n",
       "|---|---|---|---|---|---|---|---|---|\n",
       "| Training set |   45.23 |  394.96 |  304.82 | -0.21 | 17.28 | 1.00 | 0.92 |   NA |\n",
       "| Test set | 2135.60 | 2350.09 | 2135.60 | 45.26 | 45.26 | 7.01 | 0.38 | 3.29 |\n",
       "\n"
      ],
      "text/plain": [
       "             ME      RMSE    MAE     MPE   MAPE  MASE ACF1 Theil's U\n",
       "Training set   45.23  394.96  304.82 -0.21 17.28 1.00 0.92   NA     \n",
       "Test set     2135.60 2350.09 2135.60 45.26 45.26 7.01 0.38 3.29     "
      ]
     },
     "metadata": {},
     "output_type": "display_data"
    }
   ],
   "source": [
    "round(accuracy(forecast.snaive, test),2)"
   ]
  },
  {
   "cell_type": "markdown",
   "id": "dd6a5930-ba35-4f0c-a5fe-2b25d9cd0157",
   "metadata": {},
   "source": [
    "## **Forecast Using Drift Method**"
   ]
  },
  {
   "cell_type": "markdown",
   "id": "ab846862-c781-4041-88a1-3121f60d4308",
   "metadata": {},
   "source": [
    "Forecast Using Drift Method, allowing the forecasts to increase or decrease over time"
   ]
  },
  {
   "cell_type": "code",
   "execution_count": 726,
   "id": "acae5250-ad6e-4e71-af1e-873cf5cd2111",
   "metadata": {},
   "outputs": [
    {
     "data": {
      "text/plain": [
       "         Point Forecast    Lo 80    Hi 80    Lo 95    Hi 95\n",
       "Oct 2023       3401.553 3272.762 3530.345 3204.583 3598.523\n",
       "Nov 2023       3407.527 3225.117 3589.937 3128.555 3686.499\n",
       "Dec 2023       3413.500 3189.763 3637.237 3071.324 3755.676\n",
       "Jan 2024       3419.473 3160.743 3678.204 3023.779 3815.168\n",
       "Feb 2024       3425.447 3135.751 3715.143 2982.395 3868.499\n",
       "Mar 2024       3431.420 3113.607 3749.233 2945.367 3917.473"
      ]
     },
     "metadata": {},
     "output_type": "display_data"
    }
   ],
   "source": [
    "# Generate forecasts using the drift method\n",
    "forecast.drift <- rwf(train, h=length(test), drift=TRUE)\n",
    "forecast.drift"
   ]
  },
  {
   "cell_type": "code",
   "execution_count": 727,
   "id": "86706c34-d94f-4919-b0cc-94db3a1e2107",
   "metadata": {},
   "outputs": [
    {
     "data": {
      "image/png": "[encoded data removed]",
      "text/plain": [
       "Plot with title \"Forecast Using Drift Method\""
      ]
     },
     "metadata": {
      "image/png": {
       "height": 420,
       "width": 420
      }
     },
     "output_type": "display_data"
    }
   ],
   "source": [
    "plot(forecast.snaive,col = 'blue', lwd = 3, ylim = c(0, 8000),\n",
    "     main = 'Forecast Using Drift Method')\n",
    "x <- c(time(train)[1], time(train)[length(train)])\n",
    "y <- c(train[1], train[length(train)])\n",
    "lines(x, y, col='black', lwd=5)\n",
    "x <- as.vector(time(test))\n",
    "y <- test \n",
    "lines(x, y, col='red', lwd=4)"
   ]
  },
  {
   "cell_type": "code",
   "execution_count": 728,
   "id": "3753c18d-816a-41df-bd3a-319f193f58bc",
   "metadata": {},
   "outputs": [
    {
     "data": {
      "text/html": [
       "<table class=\"dataframe\">\n",
       "<caption>A matrix: 2 × 8 of type dbl</caption>\n",
       "<thead>\n",
       "\t<tr><th></th><th scope=col>ME</th><th scope=col>RMSE</th><th scope=col>MAE</th><th scope=col>MPE</th><th scope=col>MAPE</th><th scope=col>MASE</th><th scope=col>ACF1</th><th scope=col>Theil's U</th></tr>\n",
       "</thead>\n",
       "<tbody>\n",
       "\t<tr><th scope=row>Training set</th><td>   0.00</td><td> 100.20</td><td>  75.15</td><td>-0.24</td><td> 4.20</td><td>0.25</td><td>0.17</td><td>  NA</td></tr>\n",
       "\t<tr><th scope=row>Test set</th><td>1086.02</td><td>1503.51</td><td>1086.02</td><td>20.58</td><td>20.58</td><td>3.56</td><td>0.38</td><td>2.01</td></tr>\n",
       "</tbody>\n",
       "</table>\n"
      ],
      "text/latex": [
       "A matrix: 2 × 8 of type dbl\n",
       "\\begin{tabular}{r|llllllll}\n",
       "  & ME & RMSE & MAE & MPE & MAPE & MASE & ACF1 & Theil's U\\\\\n",
       "\\hline\n",
       "\tTraining set &    0.00 &  100.20 &   75.15 & -0.24 &  4.20 & 0.25 & 0.17 &   NA\\\\\n",
       "\tTest set & 1086.02 & 1503.51 & 1086.02 & 20.58 & 20.58 & 3.56 & 0.38 & 2.01\\\\\n",
       "\\end{tabular}\n"
      ],
      "text/markdown": [
       "\n",
       "A matrix: 2 × 8 of type dbl\n",
       "\n",
       "| <!--/--> | ME | RMSE | MAE | MPE | MAPE | MASE | ACF1 | Theil's U |\n",
       "|---|---|---|---|---|---|---|---|---|\n",
       "| Training set |    0.00 |  100.20 |   75.15 | -0.24 |  4.20 | 0.25 | 0.17 |   NA |\n",
       "| Test set | 1086.02 | 1503.51 | 1086.02 | 20.58 | 20.58 | 3.56 | 0.38 | 2.01 |\n",
       "\n"
      ],
      "text/plain": [
       "             ME      RMSE    MAE     MPE   MAPE  MASE ACF1 Theil's U\n",
       "Training set    0.00  100.20   75.15 -0.24  4.20 0.25 0.17   NA     \n",
       "Test set     1086.02 1503.51 1086.02 20.58 20.58 3.56 0.38 2.01     "
      ]
     },
     "metadata": {},
     "output_type": "display_data"
    }
   ],
   "source": [
    "round(accuracy(forecast.drift, test),2)"
   ]
  },
  {
   "cell_type": "markdown",
   "id": "2f879707-2e8f-4689-8921-647bec65e337",
   "metadata": {},
   "source": [
    "## **EVALUATION OF SIMPLE TIME SERIES MODELS**"
   ]
  },
  {
   "cell_type": "code",
   "execution_count": 729,
   "id": "6c3541e4-b378-4e20-bb8c-05128871d5f4",
   "metadata": {},
   "outputs": [],
   "source": [
    "# Mean forecast\n",
    "accuracy_mean <- accuracy(forecast_mean, test)\n",
    "# Naive forecast\n",
    "accuracy_naive <- accuracy(forecast.naive, test)\n",
    "# Seasonal naive forecast\n",
    "accuracy_snaive <- accuracy(forecast.snaive, test)\n",
    "# Drift forecast\n",
    "accuracy_drift <- accuracy(forecast.drift, test)"
   ]
  },
  {
   "cell_type": "code",
   "execution_count": 730,
   "id": "e23c7d05-44bc-44fb-82b7-f2963020bdf2",
   "metadata": {},
   "outputs": [],
   "source": [
    "# Round accuracy measures to two decimal places\n",
    "accuracy_mean <- round(accuracy_mean, 2)\n",
    "accuracy_naive <- round(accuracy_naive, 2)\n",
    "accuracy_snaive <- round(accuracy_snaive, 2)\n",
    "accuracy_drift <- round(accuracy_drift, 2)"
   ]
  },
  {
   "cell_type": "code",
   "execution_count": 731,
   "id": "4756bd53-bd36-4a55-8d62-c958b8a44bad",
   "metadata": {},
   "outputs": [],
   "source": [
    "# Create a data frame to display the evaluation results\n",
    "evaluation_results_simple <- data.frame(\n",
    "  Model = c(\"Mean\", \"Naive\", \"Seasonal Naive\", \"Drift\"),\n",
    "  MAPE = c(accuracy_mean[2,5], accuracy_naive[2,5], accuracy_snaive[2,5], accuracy_drift[2,5]),\n",
    "  MAE = c(accuracy_mean[2,3], accuracy_naive[2,3], accuracy_snaive[2,3], accuracy_drift[2,3]),\n",
    "  RMSE = c(accuracy_mean[2,2], accuracy_naive[2,2], accuracy_snaive[2,2], accuracy_drift[2,2])\n",
    ")\n",
    "# Round the numeric columns to two decimal places\n",
    "evaluation_results_simple[, -1] <- round(evaluation_results_simple[, -1], 2)"
   ]
  },
  {
   "cell_type": "code",
   "execution_count": 732,
   "id": "2fa6a09f-9ea2-4a65-b750-52a964ff157c",
   "metadata": {},
   "outputs": [
    {
     "name": "stdout",
     "output_type": "stream",
     "text": [
      "           Model  MAPE     MAE    RMSE\n",
      "1           Mean 57.66 2682.05 2879.91\n",
      "2          Naive 21.02 1106.93 1525.04\n",
      "3 Seasonal Naive 45.26 2135.60 2350.09\n",
      "4          Drift 20.58 1086.02 1503.51\n"
     ]
    }
   ],
   "source": [
    "print(evaluation_results_simple)"
   ]
  },
  {
   "cell_type": "code",
   "execution_count": 733,
   "id": "ca419657-d096-4ce9-a104-1aabc883c5ee",
   "metadata": {},
   "outputs": [
    {
     "data": {
      "text/html": [
       "<table class=\"dataframe\">\n",
       "<caption>A data.frame: 4 × 4</caption>\n",
       "<thead>\n",
       "\t<tr><th scope=col>Model</th><th scope=col>MAPE</th><th scope=col>MAE</th><th scope=col>RMSE</th></tr>\n",
       "\t<tr><th scope=col>&lt;chr&gt;</th><th scope=col>&lt;dbl&gt;</th><th scope=col>&lt;dbl&gt;</th><th scope=col>&lt;dbl&gt;</th></tr>\n",
       "</thead>\n",
       "<tbody>\n",
       "\t<tr><td>Mean          </td><td>57.66</td><td>2682.05</td><td>2879.91</td></tr>\n",
       "\t<tr><td>Naive         </td><td>21.02</td><td>1106.93</td><td>1525.04</td></tr>\n",
       "\t<tr><td>Seasonal Naive</td><td>45.26</td><td>2135.60</td><td>2350.09</td></tr>\n",
       "\t<tr><td>Drift         </td><td>20.58</td><td>1086.02</td><td>1503.51</td></tr>\n",
       "</tbody>\n",
       "</table>\n"
      ],
      "text/latex": [
       "A data.frame: 4 × 4\n",
       "\\begin{tabular}{llll}\n",
       " Model & MAPE & MAE & RMSE\\\\\n",
       " <chr> & <dbl> & <dbl> & <dbl>\\\\\n",
       "\\hline\n",
       "\t Mean           & 57.66 & 2682.05 & 2879.91\\\\\n",
       "\t Naive          & 21.02 & 1106.93 & 1525.04\\\\\n",
       "\t Seasonal Naive & 45.26 & 2135.60 & 2350.09\\\\\n",
       "\t Drift          & 20.58 & 1086.02 & 1503.51\\\\\n",
       "\\end{tabular}\n"
      ],
      "text/markdown": [
       "\n",
       "A data.frame: 4 × 4\n",
       "\n",
       "| Model &lt;chr&gt; | MAPE &lt;dbl&gt; | MAE &lt;dbl&gt; | RMSE &lt;dbl&gt; |\n",
       "|---|---|---|---|\n",
       "| Mean           | 57.66 | 2682.05 | 2879.91 |\n",
       "| Naive          | 21.02 | 1106.93 | 1525.04 |\n",
       "| Seasonal Naive | 45.26 | 2135.60 | 2350.09 |\n",
       "| Drift          | 20.58 | 1086.02 | 1503.51 |\n",
       "\n"
      ],
      "text/plain": [
       "  Model          MAPE  MAE     RMSE   \n",
       "1 Mean           57.66 2682.05 2879.91\n",
       "2 Naive          21.02 1106.93 1525.04\n",
       "3 Seasonal Naive 45.26 2135.60 2350.09\n",
       "4 Drift          20.58 1086.02 1503.51"
      ]
     },
     "metadata": {},
     "output_type": "display_data"
    }
   ],
   "source": [
    "evaluation_results_simple"
   ]
  },
  {
   "cell_type": "markdown",
   "id": "cc6e1683-e7cd-4147-b3a3-016f736ba07c",
   "metadata": {},
   "source": [
    "**VISUALIZE TO VIEW THE DISTRIBUTION**"
   ]
  },
  {
   "cell_type": "code",
   "execution_count": 734,
   "id": "30229262-187c-4981-8a9f-51714a66111e",
   "metadata": {},
   "outputs": [],
   "source": [
    "# Create a data frame with the evaluation results for simple time series models\n",
    "evaluation_results_simple_ts <- data.frame(\n",
    "  Model = c(\"Mean\", \"Naive\", \"Seasonal Naive\", \"Drift\"),\n",
    "  MAPE = c(413.90, 75.43, 304.82, 75.15),\n",
    "  MAE = c(2682.05, 1106.93, 2135.60, 1086.02),\n",
    "  RMSE = c(505.82, 100.38, 394.96, 100.20)\n",
    ")"
   ]
  },
  {
   "cell_type": "code",
   "execution_count": 735,
   "id": "174c6829-94a7-47a0-a7e7-3e20ddca8e5c",
   "metadata": {},
   "outputs": [
    {
     "data": {
      "image/png": "[encoded data removed]",
      "text/plain": [
       "plot without title"
      ]
     },
     "metadata": {
      "image/png": {
       "height": 420,
       "width": 420
      }
     },
     "output_type": "display_data"
    }
   ],
   "source": [
    "# Melt the data frame for easier plotting\n",
    "evaluation_results_simple_ts_melted <- reshape2::melt(evaluation_results_simple_ts, id.vars = \"Model\")\n",
    "\n",
    "# Plot MAPE, MAE, and RMSE in a single plot\n",
    "ggplot(evaluation_results_simple_ts_melted, aes(x = Model, y = value, fill = variable)) +\n",
    "  geom_bar(stat = \"identity\", position = \"dodge\") +\n",
    "  labs(title = \"Evaluation Results for Simple Time Series Models\",\n",
    "       y = \"Accuracy\",\n",
    "       x = \"Model\",\n",
    "       fill = \"Accuracy Measure\") +\n",
    "  theme_minimal() +\n",
    "  theme(axis.text.x = element_text(angle = 45, hjust = 1)) +\n",
    "  scale_fill_manual(values = c(\"MAPE\" = \"blue\", \"MAE\" = \"green\", \"RMSE\" = \"red\"))\n"
   ]
  },
  {
   "cell_type": "markdown",
   "id": "f6668790-6e74-43dd-9d47-a184e7f70e80",
   "metadata": {},
   "source": [
    "# **EXPONENTIAL SMOOTHING MODELS** "
   ]
  },
  {
   "cell_type": "markdown",
   "id": "c36e1d17-c495-4571-b73a-28e1db6485a1",
   "metadata": {},
   "source": [
    "## **Simple Exponential Smoothing model**"
   ]
  },
  {
   "cell_type": "markdown",
   "id": "f9f4d29c-afad-4d1b-8beb-135510ec8f70",
   "metadata": {},
   "source": [
    "Exponential smoothing models are a class of forecasting methods that assign exponentially decreasing weights to past observations."
   ]
  },
  {
   "cell_type": "code",
   "execution_count": 736,
   "id": "e49f55c4-8cd4-45a6-81cf-2fac168423fb",
   "metadata": {},
   "outputs": [
    {
     "data": {
      "text/plain": [
       "         Point Forecast    Lo 80    Hi 80    Lo 95    Hi 95\n",
       "Oct 2023       3395.556 3266.726 3524.387 3198.527 3592.585\n",
       "Nov 2023       3395.556 3213.371 3577.741 3116.929 3674.184\n",
       "Dec 2023       3395.556 3172.430 3618.682 3054.314 3736.798\n",
       "Jan 2024       3395.556 3137.914 3653.198 3001.527 3789.585\n",
       "Feb 2024       3395.556 3107.505 3683.607 2955.020 3836.092\n",
       "Mar 2024       3395.556 3080.013 3711.099 2912.975 3878.137"
      ]
     },
     "metadata": {},
     "output_type": "display_data"
    }
   ],
   "source": [
    "# Generate forecasts using the fitted SES model\n",
    "simplex_ses <-  ses(train, h=length(test))\n",
    "simplex_ses"
   ]
  },
  {
   "cell_type": "code",
   "execution_count": 737,
   "id": "0420934f-0792-4ab2-b399-1c3e63bec3f3",
   "metadata": {},
   "outputs": [
    {
     "data": {
      "image/png": "[encoded data removed]",
      "text/plain": [
       "Plot with title \"Forecasts from Simple exponential smoothing\""
      ]
     },
     "metadata": {
      "image/png": {
       "height": 420,
       "width": 420
      }
     },
     "output_type": "display_data"
    }
   ],
   "source": [
    "plot(simplex_ses, lw=2, col='blue')\n",
    "x <- as.vector(time(train))\n",
    "y <- simplex_ses$fitted\n",
    "lines(x, y, col='black', lw=2)\n",
    "x <- as.vector(time(test))\n",
    "y <- test\n",
    "lines(x, y, col='red', lwd=4)"
   ]
  },
  {
   "cell_type": "code",
   "execution_count": 738,
   "id": "6fb61b23-628c-40e6-9836-6948ad193f56",
   "metadata": {},
   "outputs": [
    {
     "data": {
      "text/html": [
       "<table class=\"dataframe\">\n",
       "<caption>A matrix: 2 × 8 of type dbl</caption>\n",
       "<thead>\n",
       "\t<tr><th></th><th scope=col>ME</th><th scope=col>RMSE</th><th scope=col>MAE</th><th scope=col>MPE</th><th scope=col>MAPE</th><th scope=col>MASE</th><th scope=col>ACF1</th><th scope=col>Theil's U</th></tr>\n",
       "</thead>\n",
       "<tbody>\n",
       "\t<tr><th scope=row>Training set</th><td>   5.954</td><td> 100.227</td><td>  75.206</td><td> 0.113</td><td> 4.179</td><td>0.247</td><td>0.170</td><td>   NA</td></tr>\n",
       "\t<tr><th scope=row>Test set</th><td>1106.951</td><td>1525.059</td><td>1106.951</td><td>21.023</td><td>21.023</td><td>3.632</td><td>0.384</td><td>2.039</td></tr>\n",
       "</tbody>\n",
       "</table>\n"
      ],
      "text/latex": [
       "A matrix: 2 × 8 of type dbl\n",
       "\\begin{tabular}{r|llllllll}\n",
       "  & ME & RMSE & MAE & MPE & MAPE & MASE & ACF1 & Theil's U\\\\\n",
       "\\hline\n",
       "\tTraining set &    5.954 &  100.227 &   75.206 &  0.113 &  4.179 & 0.247 & 0.170 &    NA\\\\\n",
       "\tTest set & 1106.951 & 1525.059 & 1106.951 & 21.023 & 21.023 & 3.632 & 0.384 & 2.039\\\\\n",
       "\\end{tabular}\n"
      ],
      "text/markdown": [
       "\n",
       "A matrix: 2 × 8 of type dbl\n",
       "\n",
       "| <!--/--> | ME | RMSE | MAE | MPE | MAPE | MASE | ACF1 | Theil's U |\n",
       "|---|---|---|---|---|---|---|---|---|\n",
       "| Training set |    5.954 |  100.227 |   75.206 |  0.113 |  4.179 | 0.247 | 0.170 |    NA |\n",
       "| Test set | 1106.951 | 1525.059 | 1106.951 | 21.023 | 21.023 | 3.632 | 0.384 | 2.039 |\n",
       "\n"
      ],
      "text/plain": [
       "             ME       RMSE     MAE      MPE    MAPE   MASE  ACF1  Theil's U\n",
       "Training set    5.954  100.227   75.206  0.113  4.179 0.247 0.170    NA    \n",
       "Test set     1106.951 1525.059 1106.951 21.023 21.023 3.632 0.384 2.039    "
      ]
     },
     "metadata": {},
     "output_type": "display_data"
    }
   ],
   "source": [
    "round(accuracy(simplex_ses, test),3)"
   ]
  },
  {
   "cell_type": "code",
   "execution_count": 739,
   "id": "324ee27a-564b-4eb4-8a17-0ddbf85585de",
   "metadata": {},
   "outputs": [
    {
     "data": {
      "text/plain": [
       "Simple exponential smoothing \n",
       "\n",
       "Call:\n",
       " ses(y = train, h = length(test)) \n",
       "\n",
       "  Smoothing parameters:\n",
       "    alpha = 0.9999 \n",
       "\n",
       "  Initial states:\n",
       "    l = 1395.2838 \n",
       "\n",
       "  sigma:  100.527\n",
       "\n",
       "     AIC     AICc      BIC \n",
       "5056.750 5056.822 5068.201 "
      ]
     },
     "metadata": {},
     "output_type": "display_data"
    }
   ],
   "source": [
    "simplex_ses$model"
   ]
  },
  {
   "cell_type": "code",
   "execution_count": 740,
   "id": "305d2d7e-7200-4198-b340-bbf99529e22c",
   "metadata": {},
   "outputs": [
    {
     "data": {
      "text/plain": [
       "         Point Forecast    Lo 80    Hi 80    Lo 95    Hi 95\n",
       "Oct 2023       2400.231 2000.488 2799.975 1788.877 3011.586\n",
       "Nov 2023       2400.231 1999.989 2800.474 1788.113 3012.350\n",
       "Dec 2023       2400.231 1999.490 2800.973 1787.350 3013.112\n",
       "Jan 2024       2400.231 1998.992 2801.471 1786.589 3013.874\n",
       "Feb 2024       2400.231 1998.494 2801.968 1785.828 3014.635\n",
       "Mar 2024       2400.231 1997.997 2802.465 1785.068 3015.395"
      ]
     },
     "metadata": {},
     "output_type": "display_data"
    }
   ],
   "source": [
    "simplex_ses_0.05 <- ses(train, h=length(test), alpha=0.05)\n",
    "simplex_ses_0.05"
   ]
  },
  {
   "cell_type": "code",
   "execution_count": 741,
   "id": "359bd9d5-82f6-4128-858a-b15d3c86ec4f",
   "metadata": {},
   "outputs": [
    {
     "data": {
      "image/png": "[encoded data removed]",
      "text/plain": [
       "Plot with title \"Forecasts from Simple exponential smoothing\""
      ]
     },
     "metadata": {
      "image/png": {
       "height": 420,
       "width": 420
      }
     },
     "output_type": "display_data"
    }
   ],
   "source": [
    "plot(simplex_ses_0.05, lw=2, col='blue')\n",
    "x <- as.vector(time(train))\n",
    "y <- simplex_ses_0.05$fitted\n",
    "lines(x, y, col='black', lw=4)\n",
    "x <- as.vector(time(test))\n",
    "y <- test\n",
    "lines(x, y, col='red', lwd=3)"
   ]
  },
  {
   "cell_type": "code",
   "execution_count": 742,
   "id": "ba1fba84-5441-4cb4-8f42-b4074883a425",
   "metadata": {},
   "outputs": [
    {
     "data": {
      "text/html": [
       "<table class=\"dataframe\">\n",
       "<caption>A matrix: 2 × 8 of type dbl</caption>\n",
       "<thead>\n",
       "\t<tr><th></th><th scope=col>ME</th><th scope=col>RMSE</th><th scope=col>MAE</th><th scope=col>MPE</th><th scope=col>MAPE</th><th scope=col>MASE</th><th scope=col>ACF1</th><th scope=col>Theil's U</th></tr>\n",
       "</thead>\n",
       "<tbody>\n",
       "\t<tr><th scope=row>Training set</th><td>  56.069</td><td> 310.992</td><td> 243.473</td><td> 0.068</td><td>13.693</td><td>0.799</td><td>0.930</td><td>   NA</td></tr>\n",
       "\t<tr><th scope=row>Test set</th><td>2102.275</td><td>2349.474</td><td>2102.275</td><td>44.173</td><td>44.173</td><td>6.897</td><td>0.384</td><td>3.281</td></tr>\n",
       "</tbody>\n",
       "</table>\n"
      ],
      "text/latex": [
       "A matrix: 2 × 8 of type dbl\n",
       "\\begin{tabular}{r|llllllll}\n",
       "  & ME & RMSE & MAE & MPE & MAPE & MASE & ACF1 & Theil's U\\\\\n",
       "\\hline\n",
       "\tTraining set &   56.069 &  310.992 &  243.473 &  0.068 & 13.693 & 0.799 & 0.930 &    NA\\\\\n",
       "\tTest set & 2102.275 & 2349.474 & 2102.275 & 44.173 & 44.173 & 6.897 & 0.384 & 3.281\\\\\n",
       "\\end{tabular}\n"
      ],
      "text/markdown": [
       "\n",
       "A matrix: 2 × 8 of type dbl\n",
       "\n",
       "| <!--/--> | ME | RMSE | MAE | MPE | MAPE | MASE | ACF1 | Theil's U |\n",
       "|---|---|---|---|---|---|---|---|---|\n",
       "| Training set |   56.069 |  310.992 |  243.473 |  0.068 | 13.693 | 0.799 | 0.930 |    NA |\n",
       "| Test set | 2102.275 | 2349.474 | 2102.275 | 44.173 | 44.173 | 6.897 | 0.384 | 3.281 |\n",
       "\n"
      ],
      "text/plain": [
       "             ME       RMSE     MAE      MPE    MAPE   MASE  ACF1  Theil's U\n",
       "Training set   56.069  310.992  243.473  0.068 13.693 0.799 0.930    NA    \n",
       "Test set     2102.275 2349.474 2102.275 44.173 44.173 6.897 0.384 3.281    "
      ]
     },
     "metadata": {},
     "output_type": "display_data"
    }
   ],
   "source": [
    "round(accuracy(simplex_ses_0.05, test),3)"
   ]
  },
  {
   "cell_type": "code",
   "execution_count": 743,
   "id": "7d4f5c90-93fb-45dc-94f3-6bde4b6540e2",
   "metadata": {},
   "outputs": [
    {
     "data": {
      "text/plain": [
       "         Point Forecast    Lo 80    Hi 80    Lo 95    Hi 95\n",
       "Oct 2023       3306.448 3165.386 3447.510 3090.712 3522.184\n",
       "Nov 2023       3306.448 3134.260 3478.637 3043.109 3569.788\n",
       "Dec 2023       3306.448 3107.956 3504.940 3002.881 3610.016\n",
       "Jan 2024       3306.448 3084.752 3528.145 2967.393 3645.504\n",
       "Feb 2024       3306.448 3063.756 3549.141 2935.282 3677.614\n",
       "Mar 2024       3306.448 3044.437 3568.460 2905.737 3707.160"
      ]
     },
     "metadata": {},
     "output_type": "display_data"
    }
   ],
   "source": [
    "simplex_ses_0.7 <- ses(train, h=length(test), alpha=0.7)\n",
    "simplex_ses_0.7 "
   ]
  },
  {
   "cell_type": "code",
   "execution_count": 744,
   "id": "71fd25ec-f512-40a0-a01d-ff6716f09f2d",
   "metadata": {},
   "outputs": [
    {
     "data": {
      "image/png": "[encoded data removed]",
      "text/plain": [
       "Plot with title \"Forecasts from Simple exponential smoothing\""
      ]
     },
     "metadata": {
      "image/png": {
       "height": 420,
       "width": 420
      }
     },
     "output_type": "display_data"
    }
   ],
   "source": [
    "plot(simplex_ses_0.7, lw=2, col='blue')\n",
    "x <- as.vector(time(train))\n",
    "y <- simplex_ses_0.7$fitted\n",
    "lines(x, y, col='black', lw=3)\n",
    "x <- as.vector(time(test))\n",
    "y <- test\n",
    "lines(x, y, col='red', lwd=3)"
   ]
  },
  {
   "cell_type": "code",
   "execution_count": 745,
   "id": "1fcdadf5-f476-40ec-bcff-1c8688b043e0",
   "metadata": {},
   "outputs": [
    {
     "data": {
      "text/html": [
       "<table class=\"dataframe\">\n",
       "<caption>A matrix: 2 × 8 of type dbl</caption>\n",
       "<thead>\n",
       "\t<tr><th></th><th scope=col>ME</th><th scope=col>RMSE</th><th scope=col>MAE</th><th scope=col>MPE</th><th scope=col>MAPE</th><th scope=col>MASE</th><th scope=col>ACF1</th><th scope=col>Theil's U</th></tr>\n",
       "</thead>\n",
       "<tbody>\n",
       "\t<tr><th scope=row>Training set</th><td>   8.100</td><td> 109.743</td><td>  83.821</td><td> 0.131</td><td> 4.636</td><td>0.275</td><td>0.421</td><td>  NA</td></tr>\n",
       "\t<tr><th scope=row>Test set</th><td>1196.058</td><td>1590.918</td><td>1196.058</td><td>23.095</td><td>23.095</td><td>3.924</td><td>0.384</td><td>2.14</td></tr>\n",
       "</tbody>\n",
       "</table>\n"
      ],
      "text/latex": [
       "A matrix: 2 × 8 of type dbl\n",
       "\\begin{tabular}{r|llllllll}\n",
       "  & ME & RMSE & MAE & MPE & MAPE & MASE & ACF1 & Theil's U\\\\\n",
       "\\hline\n",
       "\tTraining set &    8.100 &  109.743 &   83.821 &  0.131 &  4.636 & 0.275 & 0.421 &   NA\\\\\n",
       "\tTest set & 1196.058 & 1590.918 & 1196.058 & 23.095 & 23.095 & 3.924 & 0.384 & 2.14\\\\\n",
       "\\end{tabular}\n"
      ],
      "text/markdown": [
       "\n",
       "A matrix: 2 × 8 of type dbl\n",
       "\n",
       "| <!--/--> | ME | RMSE | MAE | MPE | MAPE | MASE | ACF1 | Theil's U |\n",
       "|---|---|---|---|---|---|---|---|---|\n",
       "| Training set |    8.100 |  109.743 |   83.821 |  0.131 |  4.636 | 0.275 | 0.421 |   NA |\n",
       "| Test set | 1196.058 | 1590.918 | 1196.058 | 23.095 | 23.095 | 3.924 | 0.384 | 2.14 |\n",
       "\n"
      ],
      "text/plain": [
       "             ME       RMSE     MAE      MPE    MAPE   MASE  ACF1  Theil's U\n",
       "Training set    8.100  109.743   83.821  0.131  4.636 0.275 0.421   NA     \n",
       "Test set     1196.058 1590.918 1196.058 23.095 23.095 3.924 0.384 2.14     "
      ]
     },
     "metadata": {},
     "output_type": "display_data"
    }
   ],
   "source": [
    "round(accuracy(simplex_ses_0.7, test),3)"
   ]
  },
  {
   "cell_type": "markdown",
   "id": "8c530ec3-43db-4de4-998d-aedf296cfbcf",
   "metadata": {},
   "source": [
    "## **Using ets(‘ANN’)**"
   ]
  },
  {
   "cell_type": "code",
   "execution_count": 746,
   "id": "a432bb1d-3bc4-4bf1-86a1-d02ff2940388",
   "metadata": {},
   "outputs": [],
   "source": [
    "forecast_ann <- ets(train, model='ANN')"
   ]
  },
  {
   "cell_type": "code",
   "execution_count": 747,
   "id": "9e4d4f30-4cf4-4432-85b1-40fd7a148f09",
   "metadata": {},
   "outputs": [
    {
     "data": {
      "text/plain": [
       "         Point Forecast    Lo 80    Hi 80    Lo 95    Hi 95\n",
       "Oct 2023       3395.556 3266.726 3524.387 3198.527 3592.585\n",
       "Nov 2023       3395.556 3213.371 3577.741 3116.929 3674.184\n",
       "Dec 2023       3395.556 3172.430 3618.682 3054.314 3736.798\n",
       "Jan 2024       3395.556 3137.914 3653.198 3001.527 3789.585\n",
       "Feb 2024       3395.556 3107.505 3683.607 2955.020 3836.092\n",
       "Mar 2024       3395.556 3080.013 3711.099 2912.975 3878.137"
      ]
     },
     "metadata": {},
     "output_type": "display_data"
    }
   ],
   "source": [
    "# Fit the ETS model with ANN (additive error, no trend, additive seasonality)\n",
    "forecast_ann2 <- forecast::forecast(ets(train, model = 'ANN'), h = length(test))\n",
    "(forecast_ann2)"
   ]
  },
  {
   "cell_type": "code",
   "execution_count": 748,
   "id": "3a547d5d-52e0-4ac2-9dd7-02c5a6a78f06",
   "metadata": {},
   "outputs": [
    {
     "data": {
      "image/png": "[encoded data removed]",
      "text/plain": [
       "Plot with title \"Forecasts from ETS(A,N,N)\""
      ]
     },
     "metadata": {
      "image/png": {
       "height": 420,
       "width": 420
      }
     },
     "output_type": "display_data"
    }
   ],
   "source": [
    "plot(forecast_ann2, lw=2, col='blue')\n",
    "x <- as.vector(time(train))\n",
    "y <- forecast_ann2$fitted\n",
    "lines(x, y, col='black', lw=3)\n",
    "x <- as.vector(time(test))\n",
    "y <- test\n",
    "lines(x, y, col='red', lwd=3)"
   ]
  },
  {
   "cell_type": "code",
   "execution_count": 749,
   "id": "317189b3-f304-4f1d-ae24-6caa12ac7131",
   "metadata": {},
   "outputs": [
    {
     "data": {
      "text/html": [
       "<table class=\"dataframe\">\n",
       "<caption>A matrix: 2 × 8 of type dbl</caption>\n",
       "<thead>\n",
       "\t<tr><th></th><th scope=col>ME</th><th scope=col>RMSE</th><th scope=col>MAE</th><th scope=col>MPE</th><th scope=col>MAPE</th><th scope=col>MASE</th><th scope=col>ACF1</th><th scope=col>Theil's U</th></tr>\n",
       "</thead>\n",
       "<tbody>\n",
       "\t<tr><th scope=row>Training set</th><td>   5.954</td><td> 100.227</td><td>  75.206</td><td> 0.113</td><td> 4.179</td><td>0.247</td><td>0.170</td><td>   NA</td></tr>\n",
       "\t<tr><th scope=row>Test set</th><td>1106.951</td><td>1525.059</td><td>1106.951</td><td>21.023</td><td>21.023</td><td>3.632</td><td>0.384</td><td>2.039</td></tr>\n",
       "</tbody>\n",
       "</table>\n"
      ],
      "text/latex": [
       "A matrix: 2 × 8 of type dbl\n",
       "\\begin{tabular}{r|llllllll}\n",
       "  & ME & RMSE & MAE & MPE & MAPE & MASE & ACF1 & Theil's U\\\\\n",
       "\\hline\n",
       "\tTraining set &    5.954 &  100.227 &   75.206 &  0.113 &  4.179 & 0.247 & 0.170 &    NA\\\\\n",
       "\tTest set & 1106.951 & 1525.059 & 1106.951 & 21.023 & 21.023 & 3.632 & 0.384 & 2.039\\\\\n",
       "\\end{tabular}\n"
      ],
      "text/markdown": [
       "\n",
       "A matrix: 2 × 8 of type dbl\n",
       "\n",
       "| <!--/--> | ME | RMSE | MAE | MPE | MAPE | MASE | ACF1 | Theil's U |\n",
       "|---|---|---|---|---|---|---|---|---|\n",
       "| Training set |    5.954 |  100.227 |   75.206 |  0.113 |  4.179 | 0.247 | 0.170 |    NA |\n",
       "| Test set | 1106.951 | 1525.059 | 1106.951 | 21.023 | 21.023 | 3.632 | 0.384 | 2.039 |\n",
       "\n"
      ],
      "text/plain": [
       "             ME       RMSE     MAE      MPE    MAPE   MASE  ACF1  Theil's U\n",
       "Training set    5.954  100.227   75.206  0.113  4.179 0.247 0.170    NA    \n",
       "Test set     1106.951 1525.059 1106.951 21.023 21.023 3.632 0.384 2.039    "
      ]
     },
     "metadata": {},
     "output_type": "display_data"
    }
   ],
   "source": [
    "round(accuracy(forecast_ann2, test),3)"
   ]
  },
  {
   "cell_type": "code",
   "execution_count": 750,
   "id": "98d1afc7-f5e6-49e0-9ac9-bd173ada9f3f",
   "metadata": {},
   "outputs": [
    {
     "data": {
      "image/png": "[encoded data removed]",
      "text/plain": [
       "plot without title"
      ]
     },
     "metadata": {
      "image/png": {
       "height": 420,
       "width": 420
      }
     },
     "output_type": "display_data"
    }
   ],
   "source": [
    "plot(forecast_ann)"
   ]
  },
  {
   "cell_type": "code",
   "execution_count": 751,
   "id": "0404104e-c7df-4d5c-a61f-00658430476f",
   "metadata": {},
   "outputs": [
    {
     "data": {
      "text/plain": [
       "         Point Forecast    Lo 80    Hi 80    Lo 95    Hi 95\n",
       "Oct 2023       3395.556 3266.726 3524.387 3198.527 3592.585\n",
       "Nov 2023       3395.556 3213.371 3577.741 3116.929 3674.184\n",
       "Dec 2023       3395.556 3172.430 3618.682 3054.314 3736.798\n",
       "Jan 2024       3395.556 3137.914 3653.198 3001.527 3789.585\n",
       "Feb 2024       3395.556 3107.505 3683.607 2955.020 3836.092\n",
       "Mar 2024       3395.556 3080.013 3711.099 2912.975 3878.137"
      ]
     },
     "metadata": {},
     "output_type": "display_data"
    }
   ],
   "source": [
    "forecast_ann2"
   ]
  },
  {
   "cell_type": "code",
   "execution_count": 752,
   "id": "37f23075-ad68-4561-acef-c6c515dc5ece",
   "metadata": {},
   "outputs": [
    {
     "data": {
      "text/plain": [
       "ETS(A,N,N) \n",
       "\n",
       "Call:\n",
       " ets(y = train, model = \"ANN\") \n",
       "\n",
       "  Smoothing parameters:\n",
       "    alpha = 0.9999 \n",
       "\n",
       "  Initial states:\n",
       "    l = 1395.2838 \n",
       "\n",
       "  sigma:  100.527\n",
       "\n",
       "     AIC     AICc      BIC \n",
       "5056.750 5056.822 5068.201 "
      ]
     },
     "metadata": {},
     "output_type": "display_data"
    }
   ],
   "source": [
    "forecast_ann"
   ]
  },
  {
   "cell_type": "code",
   "execution_count": 753,
   "id": "1df96c84-8515-4ee0-abfa-70bc30121ad4",
   "metadata": {},
   "outputs": [
    {
     "data": {
      "text/html": [
       "<table class=\"dataframe\">\n",
       "<caption>A matrix: 2 × 8 of type dbl</caption>\n",
       "<thead>\n",
       "\t<tr><th></th><th scope=col>ME</th><th scope=col>RMSE</th><th scope=col>MAE</th><th scope=col>MPE</th><th scope=col>MAPE</th><th scope=col>MASE</th><th scope=col>ACF1</th><th scope=col>Theil's U</th></tr>\n",
       "</thead>\n",
       "<tbody>\n",
       "\t<tr><th scope=row>Training set</th><td>   5.95</td><td> 100.23</td><td>  75.21</td><td> 0.11</td><td> 4.18</td><td>0.25</td><td>0.17</td><td>  NA</td></tr>\n",
       "\t<tr><th scope=row>Test set</th><td>1106.95</td><td>1525.06</td><td>1106.95</td><td>21.02</td><td>21.02</td><td>3.63</td><td>0.38</td><td>2.04</td></tr>\n",
       "</tbody>\n",
       "</table>\n"
      ],
      "text/latex": [
       "A matrix: 2 × 8 of type dbl\n",
       "\\begin{tabular}{r|llllllll}\n",
       "  & ME & RMSE & MAE & MPE & MAPE & MASE & ACF1 & Theil's U\\\\\n",
       "\\hline\n",
       "\tTraining set &    5.95 &  100.23 &   75.21 &  0.11 &  4.18 & 0.25 & 0.17 &   NA\\\\\n",
       "\tTest set & 1106.95 & 1525.06 & 1106.95 & 21.02 & 21.02 & 3.63 & 0.38 & 2.04\\\\\n",
       "\\end{tabular}\n"
      ],
      "text/markdown": [
       "\n",
       "A matrix: 2 × 8 of type dbl\n",
       "\n",
       "| <!--/--> | ME | RMSE | MAE | MPE | MAPE | MASE | ACF1 | Theil's U |\n",
       "|---|---|---|---|---|---|---|---|---|\n",
       "| Training set |    5.95 |  100.23 |   75.21 |  0.11 |  4.18 | 0.25 | 0.17 |   NA |\n",
       "| Test set | 1106.95 | 1525.06 | 1106.95 | 21.02 | 21.02 | 3.63 | 0.38 | 2.04 |\n",
       "\n"
      ],
      "text/plain": [
       "             ME      RMSE    MAE     MPE   MAPE  MASE ACF1 Theil's U\n",
       "Training set    5.95  100.23   75.21  0.11  4.18 0.25 0.17   NA     \n",
       "Test set     1106.95 1525.06 1106.95 21.02 21.02 3.63 0.38 2.04     "
      ]
     },
     "metadata": {},
     "output_type": "display_data"
    }
   ],
   "source": [
    "round(accuracy(forecast_ann2, test),2)"
   ]
  },
  {
   "cell_type": "code",
   "execution_count": 754,
   "id": "51f34e0d-e717-49af-9196-415eaa21b9f2",
   "metadata": {},
   "outputs": [
    {
     "data": {
      "text/html": [
       "<table class=\"dataframe\">\n",
       "<caption>A matrix: 2 × 8 of type dbl</caption>\n",
       "<thead>\n",
       "\t<tr><th></th><th scope=col>ME</th><th scope=col>RMSE</th><th scope=col>MAE</th><th scope=col>MPE</th><th scope=col>MAPE</th><th scope=col>MASE</th><th scope=col>ACF1</th><th scope=col>Theil's U</th></tr>\n",
       "</thead>\n",
       "<tbody>\n",
       "\t<tr><th scope=row>Training set</th><td>   5.954</td><td> 100.227</td><td>  75.206</td><td> 0.113</td><td> 4.179</td><td>0.247</td><td>0.170</td><td>   NA</td></tr>\n",
       "\t<tr><th scope=row>Test set</th><td>1106.951</td><td>1525.059</td><td>1106.951</td><td>21.023</td><td>21.023</td><td>3.632</td><td>0.384</td><td>2.039</td></tr>\n",
       "</tbody>\n",
       "</table>\n"
      ],
      "text/latex": [
       "A matrix: 2 × 8 of type dbl\n",
       "\\begin{tabular}{r|llllllll}\n",
       "  & ME & RMSE & MAE & MPE & MAPE & MASE & ACF1 & Theil's U\\\\\n",
       "\\hline\n",
       "\tTraining set &    5.954 &  100.227 &   75.206 &  0.113 &  4.179 & 0.247 & 0.170 &    NA\\\\\n",
       "\tTest set & 1106.951 & 1525.059 & 1106.951 & 21.023 & 21.023 & 3.632 & 0.384 & 2.039\\\\\n",
       "\\end{tabular}\n"
      ],
      "text/markdown": [
       "\n",
       "A matrix: 2 × 8 of type dbl\n",
       "\n",
       "| <!--/--> | ME | RMSE | MAE | MPE | MAPE | MASE | ACF1 | Theil's U |\n",
       "|---|---|---|---|---|---|---|---|---|\n",
       "| Training set |    5.954 |  100.227 |   75.206 |  0.113 |  4.179 | 0.247 | 0.170 |    NA |\n",
       "| Test set | 1106.951 | 1525.059 | 1106.951 | 21.023 | 21.023 | 3.632 | 0.384 | 2.039 |\n",
       "\n"
      ],
      "text/plain": [
       "             ME       RMSE     MAE      MPE    MAPE   MASE  ACF1  Theil's U\n",
       "Training set    5.954  100.227   75.206  0.113  4.179 0.247 0.170    NA    \n",
       "Test set     1106.951 1525.059 1106.951 21.023 21.023 3.632 0.384 2.039    "
      ]
     },
     "metadata": {},
     "output_type": "display_data"
    }
   ],
   "source": [
    "round(accuracy(simplex_ses, test),3)"
   ]
  },
  {
   "cell_type": "code",
   "execution_count": 755,
   "id": "e7ae0415-7935-424d-80bb-6d021ec1044f",
   "metadata": {},
   "outputs": [
    {
     "data": {
      "text/html": [
       "<table class=\"dataframe\">\n",
       "<caption>A matrix: 2 × 8 of type dbl</caption>\n",
       "<thead>\n",
       "\t<tr><th></th><th scope=col>ME</th><th scope=col>RMSE</th><th scope=col>MAE</th><th scope=col>MPE</th><th scope=col>MAPE</th><th scope=col>MASE</th><th scope=col>ACF1</th><th scope=col>Theil's U</th></tr>\n",
       "</thead>\n",
       "<tbody>\n",
       "\t<tr><th scope=row>Training set</th><td>   5.953787</td><td> 100.2274</td><td>  75.20632</td><td> 0.1129027</td><td> 4.179265</td><td>0.2467257</td><td>0.1695202</td><td>      NA</td></tr>\n",
       "\t<tr><th scope=row>Test set</th><td>1106.950545</td><td>1525.0591</td><td>1106.95054</td><td>21.0227100</td><td>21.022710</td><td>3.6315186</td><td>0.3844148</td><td>2.039491</td></tr>\n",
       "</tbody>\n",
       "</table>\n"
      ],
      "text/latex": [
       "A matrix: 2 × 8 of type dbl\n",
       "\\begin{tabular}{r|llllllll}\n",
       "  & ME & RMSE & MAE & MPE & MAPE & MASE & ACF1 & Theil's U\\\\\n",
       "\\hline\n",
       "\tTraining set &    5.953787 &  100.2274 &   75.20632 &  0.1129027 &  4.179265 & 0.2467257 & 0.1695202 &       NA\\\\\n",
       "\tTest set & 1106.950545 & 1525.0591 & 1106.95054 & 21.0227100 & 21.022710 & 3.6315186 & 0.3844148 & 2.039491\\\\\n",
       "\\end{tabular}\n"
      ],
      "text/markdown": [
       "\n",
       "A matrix: 2 × 8 of type dbl\n",
       "\n",
       "| <!--/--> | ME | RMSE | MAE | MPE | MAPE | MASE | ACF1 | Theil's U |\n",
       "|---|---|---|---|---|---|---|---|---|\n",
       "| Training set |    5.953787 |  100.2274 |   75.20632 |  0.1129027 |  4.179265 | 0.2467257 | 0.1695202 |       NA |\n",
       "| Test set | 1106.950545 | 1525.0591 | 1106.95054 | 21.0227100 | 21.022710 | 3.6315186 | 0.3844148 | 2.039491 |\n",
       "\n"
      ],
      "text/plain": [
       "             ME          RMSE      MAE        MPE        MAPE      MASE     \n",
       "Training set    5.953787  100.2274   75.20632  0.1129027  4.179265 0.2467257\n",
       "Test set     1106.950545 1525.0591 1106.95054 21.0227100 21.022710 3.6315186\n",
       "             ACF1      Theil's U\n",
       "Training set 0.1695202       NA \n",
       "Test set     0.3844148 2.039491 "
      ]
     },
     "metadata": {},
     "output_type": "display_data"
    }
   ],
   "source": [
    "round(accuracy(forecast_ann2, test),8)"
   ]
  },
  {
   "cell_type": "code",
   "execution_count": 756,
   "id": "589f740c-d928-45da-96e7-c33124a91136",
   "metadata": {},
   "outputs": [
    {
     "data": {
      "text/html": [
       "<table class=\"dataframe\">\n",
       "<caption>A matrix: 2 × 8 of type dbl</caption>\n",
       "<thead>\n",
       "\t<tr><th></th><th scope=col>ME</th><th scope=col>RMSE</th><th scope=col>MAE</th><th scope=col>MPE</th><th scope=col>MAPE</th><th scope=col>MASE</th><th scope=col>ACF1</th><th scope=col>Theil's U</th></tr>\n",
       "</thead>\n",
       "<tbody>\n",
       "\t<tr><th scope=row>Training set</th><td>   5.953787</td><td> 100.2274</td><td>  75.20632</td><td> 0.1129027</td><td> 4.179265</td><td>0.2467257</td><td>0.1695202</td><td>      NA</td></tr>\n",
       "\t<tr><th scope=row>Test set</th><td>1106.950545</td><td>1525.0591</td><td>1106.95054</td><td>21.0227100</td><td>21.022710</td><td>3.6315186</td><td>0.3844148</td><td>2.039491</td></tr>\n",
       "</tbody>\n",
       "</table>\n"
      ],
      "text/latex": [
       "A matrix: 2 × 8 of type dbl\n",
       "\\begin{tabular}{r|llllllll}\n",
       "  & ME & RMSE & MAE & MPE & MAPE & MASE & ACF1 & Theil's U\\\\\n",
       "\\hline\n",
       "\tTraining set &    5.953787 &  100.2274 &   75.20632 &  0.1129027 &  4.179265 & 0.2467257 & 0.1695202 &       NA\\\\\n",
       "\tTest set & 1106.950545 & 1525.0591 & 1106.95054 & 21.0227100 & 21.022710 & 3.6315186 & 0.3844148 & 2.039491\\\\\n",
       "\\end{tabular}\n"
      ],
      "text/markdown": [
       "\n",
       "A matrix: 2 × 8 of type dbl\n",
       "\n",
       "| <!--/--> | ME | RMSE | MAE | MPE | MAPE | MASE | ACF1 | Theil's U |\n",
       "|---|---|---|---|---|---|---|---|---|\n",
       "| Training set |    5.953787 |  100.2274 |   75.20632 |  0.1129027 |  4.179265 | 0.2467257 | 0.1695202 |       NA |\n",
       "| Test set | 1106.950545 | 1525.0591 | 1106.95054 | 21.0227100 | 21.022710 | 3.6315186 | 0.3844148 | 2.039491 |\n",
       "\n"
      ],
      "text/plain": [
       "             ME          RMSE      MAE        MPE        MAPE      MASE     \n",
       "Training set    5.953787  100.2274   75.20632  0.1129027  4.179265 0.2467257\n",
       "Test set     1106.950545 1525.0591 1106.95054 21.0227100 21.022710 3.6315186\n",
       "             ACF1      Theil's U\n",
       "Training set 0.1695202       NA \n",
       "Test set     0.3844148 2.039491 "
      ]
     },
     "metadata": {},
     "output_type": "display_data"
    }
   ],
   "source": [
    "round(accuracy(simplex_ses, test),8)"
   ]
  },
  {
   "cell_type": "markdown",
   "id": "a95e690f-0225-4391-8db4-13f044d68d44",
   "metadata": {},
   "source": [
    "## **Using holt()**"
   ]
  },
  {
   "cell_type": "code",
   "execution_count": 757,
   "id": "35aec137-d5a6-47d5-9e48-408dbaeee360",
   "metadata": {},
   "outputs": [
    {
     "data": {
      "text/plain": [
       "         Point Forecast    Lo 80    Hi 80    Lo 95    Hi 95\n",
       "Oct 2023       3401.576 3272.541 3530.612 3204.233 3598.919\n",
       "Nov 2023       3407.815 3225.417 3590.213 3128.861 3686.769\n",
       "Dec 2023       3414.053 3190.690 3637.417 3072.449 3755.658\n",
       "Jan 2024       3420.292 3162.384 3678.200 3025.855 3814.729\n",
       "Feb 2024       3426.531 3138.181 3714.880 2985.538 3867.523\n",
       "Mar 2024       3432.769 3116.893 3748.645 2949.679 3915.860"
      ]
     },
     "metadata": {},
     "output_type": "display_data"
    }
   ],
   "source": [
    "forecast.holt <- holt(train, h=length(test))\n",
    "forecast.holt"
   ]
  },
  {
   "cell_type": "code",
   "execution_count": 758,
   "id": "05e099b1-300a-4b04-859c-5e75da6fb071",
   "metadata": {},
   "outputs": [
    {
     "data": {
      "image/png": "[encoded data removed]",
      "text/plain": [
       "Plot with title \"Forecasts from Holt's method\""
      ]
     },
     "metadata": {
      "image/png": {
       "height": 420,
       "width": 420
      }
     },
     "output_type": "display_data"
    }
   ],
   "source": [
    "plot(forecast.holt, lw=2, col='blue')\n",
    "x <- as.vector(time(train))\n",
    "y <- forecast.holt$model$fitted\n",
    "lines(x, y, col='black', lw=3)\n",
    "x <- as.vector(time(train))\n",
    "y <- forecast.holt$model$fitted\n",
    "lines(x, y, col='black', lw=2)\n",
    "x <- as.vector(time(test))\n",
    "y <- test\n",
    "lines(x, y, col='red', lwd=3)"
   ]
  },
  {
   "cell_type": "code",
   "execution_count": 759,
   "id": "25465839-7734-4225-8c2a-a5814d2ac72c",
   "metadata": {},
   "outputs": [
    {
     "data": {
      "text/html": [
       "<table class=\"dataframe\">\n",
       "<caption>A matrix: 2 × 8 of type dbl</caption>\n",
       "<thead>\n",
       "\t<tr><th></th><th scope=col>ME</th><th scope=col>RMSE</th><th scope=col>MAE</th><th scope=col>MPE</th><th scope=col>MAPE</th><th scope=col>MASE</th><th scope=col>ACF1</th><th scope=col>Theil's U</th></tr>\n",
       "</thead>\n",
       "<tbody>\n",
       "\t<tr><th scope=row>Training set</th><td>  -0.117</td><td> 100.086</td><td>  75.045</td><td>-0.248</td><td> 4.192</td><td>0.246</td><td>0.171</td><td>   NA</td></tr>\n",
       "\t<tr><th scope=row>Test set</th><td>1085.334</td><td>1502.732</td><td>1085.334</td><td>20.566</td><td>20.566</td><td>3.561</td><td>0.383</td><td>2.007</td></tr>\n",
       "</tbody>\n",
       "</table>\n"
      ],
      "text/latex": [
       "A matrix: 2 × 8 of type dbl\n",
       "\\begin{tabular}{r|llllllll}\n",
       "  & ME & RMSE & MAE & MPE & MAPE & MASE & ACF1 & Theil's U\\\\\n",
       "\\hline\n",
       "\tTraining set &   -0.117 &  100.086 &   75.045 & -0.248 &  4.192 & 0.246 & 0.171 &    NA\\\\\n",
       "\tTest set & 1085.334 & 1502.732 & 1085.334 & 20.566 & 20.566 & 3.561 & 0.383 & 2.007\\\\\n",
       "\\end{tabular}\n"
      ],
      "text/markdown": [
       "\n",
       "A matrix: 2 × 8 of type dbl\n",
       "\n",
       "| <!--/--> | ME | RMSE | MAE | MPE | MAPE | MASE | ACF1 | Theil's U |\n",
       "|---|---|---|---|---|---|---|---|---|\n",
       "| Training set |   -0.117 |  100.086 |   75.045 | -0.248 |  4.192 | 0.246 | 0.171 |    NA |\n",
       "| Test set | 1085.334 | 1502.732 | 1085.334 | 20.566 | 20.566 | 3.561 | 0.383 | 2.007 |\n",
       "\n"
      ],
      "text/plain": [
       "             ME       RMSE     MAE      MPE    MAPE   MASE  ACF1  Theil's U\n",
       "Training set   -0.117  100.086   75.045 -0.248  4.192 0.246 0.171    NA    \n",
       "Test set     1085.334 1502.732 1085.334 20.566 20.566 3.561 0.383 2.007    "
      ]
     },
     "metadata": {},
     "output_type": "display_data"
    }
   ],
   "source": [
    "round(accuracy(forecast.holt, test),3)"
   ]
  },
  {
   "cell_type": "markdown",
   "id": "219e4990-35e1-4490-ad45-8c4d00a59fd6",
   "metadata": {},
   "source": [
    "## **Using ets with model='AAN'**"
   ]
  },
  {
   "cell_type": "code",
   "execution_count": 760,
   "id": "8dcf71db-d8c7-4207-b896-883a61323542",
   "metadata": {},
   "outputs": [],
   "source": [
    "# Fit the ETS model with the ANN specification\n",
    "forecast_ets<- ets(train, model = 'ANN')"
   ]
  },
  {
   "cell_type": "code",
   "execution_count": 761,
   "id": "d205eafb-3393-4a64-9879-9d7221f5ce09",
   "metadata": {},
   "outputs": [
    {
     "data": {
      "text/plain": [
       "         Point Forecast    Lo 80    Hi 80    Lo 95    Hi 95\n",
       "Oct 2023       3395.556 3266.726 3524.387 3198.527 3592.585\n",
       "Nov 2023       3395.556 3213.371 3577.741 3116.929 3674.184\n",
       "Dec 2023       3395.556 3172.430 3618.682 3054.314 3736.798\n",
       "Jan 2024       3395.556 3137.914 3653.198 3001.527 3789.585\n",
       "Feb 2024       3395.556 3107.505 3683.607 2955.020 3836.092\n",
       "Mar 2024       3395.556 3080.013 3711.099 2912.975 3878.137"
      ]
     },
     "metadata": {},
     "output_type": "display_data"
    }
   ],
   "source": [
    "# Generate forecasts using the fitted ETS model\n",
    "forecast_ets3 <- forecast.ets(forecast_ets, h = length(test))\n",
    "forecast_ets3"
   ]
  },
  {
   "cell_type": "code",
   "execution_count": 762,
   "id": "b497bcba-d9b9-40b3-becb-2de1f95eb164",
   "metadata": {},
   "outputs": [
    {
     "data": {
      "text/html": [
       "<style>\n",
       ".list-inline {list-style: none; margin:0; padding: 0}\n",
       ".list-inline>li {display: inline-block}\n",
       ".list-inline>li:not(:last-child)::after {content: \"\\00b7\"; padding: 0 .5ex}\n",
       "</style>\n",
       "<ol class=list-inline><li>'loglik'</li><li>'aic'</li><li>'bic'</li><li>'aicc'</li><li>'mse'</li><li>'amse'</li><li>'fit'</li><li>'residuals'</li><li>'fitted'</li><li>'states'</li><li>'par'</li><li>'m'</li><li>'method'</li><li>'series'</li><li>'components'</li><li>'call'</li><li>'initstate'</li><li>'sigma2'</li><li>'x'</li></ol>\n"
      ],
      "text/latex": [
       "\\begin{enumerate*}\n",
       "\\item 'loglik'\n",
       "\\item 'aic'\n",
       "\\item 'bic'\n",
       "\\item 'aicc'\n",
       "\\item 'mse'\n",
       "\\item 'amse'\n",
       "\\item 'fit'\n",
       "\\item 'residuals'\n",
       "\\item 'fitted'\n",
       "\\item 'states'\n",
       "\\item 'par'\n",
       "\\item 'm'\n",
       "\\item 'method'\n",
       "\\item 'series'\n",
       "\\item 'components'\n",
       "\\item 'call'\n",
       "\\item 'initstate'\n",
       "\\item 'sigma2'\n",
       "\\item 'x'\n",
       "\\end{enumerate*}\n"
      ],
      "text/markdown": [
       "1. 'loglik'\n",
       "2. 'aic'\n",
       "3. 'bic'\n",
       "4. 'aicc'\n",
       "5. 'mse'\n",
       "6. 'amse'\n",
       "7. 'fit'\n",
       "8. 'residuals'\n",
       "9. 'fitted'\n",
       "10. 'states'\n",
       "11. 'par'\n",
       "12. 'm'\n",
       "13. 'method'\n",
       "14. 'series'\n",
       "15. 'components'\n",
       "16. 'call'\n",
       "17. 'initstate'\n",
       "18. 'sigma2'\n",
       "19. 'x'\n",
       "\n",
       "\n"
      ],
      "text/plain": [
       " [1] \"loglik\"     \"aic\"        \"bic\"        \"aicc\"       \"mse\"       \n",
       " [6] \"amse\"       \"fit\"        \"residuals\"  \"fitted\"     \"states\"    \n",
       "[11] \"par\"        \"m\"          \"method\"     \"series\"     \"components\"\n",
       "[16] \"call\"       \"initstate\"  \"sigma2\"     \"x\"         "
      ]
     },
     "metadata": {},
     "output_type": "display_data"
    }
   ],
   "source": [
    "names(forecast_ets)"
   ]
  },
  {
   "cell_type": "code",
   "execution_count": 763,
   "id": "0eae51c0-30a0-49c0-9e56-72bcc7f99515",
   "metadata": {},
   "outputs": [
    {
     "data": {
      "text/html": [
       "15"
      ],
      "text/latex": [
       "15"
      ],
      "text/markdown": [
       "15"
      ],
      "text/plain": [
       "[1] 15"
      ]
     },
     "metadata": {},
     "output_type": "display_data"
    },
    {
     "data": {
      "image/png": "[encoded data removed]",
      "text/plain": [
       "Plot with title \"Forecasts from ETS(A,N,N)\""
      ]
     },
     "metadata": {
      "image/png": {
       "height": 420,
       "width": 420
      }
     },
     "output_type": "display_data"
    }
   ],
   "source": [
    "plot(forecast_ets3, lw=2, col='blue')\n",
    "x <- as.vector(time(train))\n",
    "y <- forecast_ets$fitted\n",
    "lines(x, y, col='black', lw=3)\n",
    "x <- as.vector(time(train))\n",
    "15\n",
    "y <- forecast_ets$fitted\n",
    "lines(x, y, col='black', lw=2)\n",
    "x <- as.vector(time(test))\n",
    "y <- test\n",
    "lines(x, y, col='red', lwd=4)"
   ]
  },
  {
   "cell_type": "code",
   "execution_count": 764,
   "id": "daa59b24-5750-47db-84cd-b0ae69b1a8ff",
   "metadata": {},
   "outputs": [
    {
     "data": {
      "text/plain": [
       "ETS(A,N,N) \n",
       "\n",
       "Call:\n",
       " ets(y = train, model = \"ANN\") \n",
       "\n",
       "  Smoothing parameters:\n",
       "    alpha = 0.9999 \n",
       "\n",
       "  Initial states:\n",
       "    l = 1395.2838 \n",
       "\n",
       "  sigma:  100.527\n",
       "\n",
       "     AIC     AICc      BIC \n",
       "5056.750 5056.822 5068.201 "
      ]
     },
     "metadata": {},
     "output_type": "display_data"
    }
   ],
   "source": [
    "forecast_ets"
   ]
  },
  {
   "cell_type": "code",
   "execution_count": 765,
   "id": "660d4a40-2f10-414b-8f10-21979321c60e",
   "metadata": {},
   "outputs": [
    {
     "data": {
      "image/png": "[encoded data removed]",
      "text/plain": [
       "plot without title"
      ]
     },
     "metadata": {
      "image/png": {
       "height": 420,
       "width": 420
      }
     },
     "output_type": "display_data"
    }
   ],
   "source": [
    "plot(forecast_ets)"
   ]
  },
  {
   "cell_type": "code",
   "execution_count": 766,
   "id": "a54bf8c8-6df9-4cd7-8329-9fe4a107f2a8",
   "metadata": {},
   "outputs": [
    {
     "data": {
      "text/html": [
       "<table class=\"dataframe\">\n",
       "<caption>A matrix: 2 × 8 of type dbl</caption>\n",
       "<thead>\n",
       "\t<tr><th></th><th scope=col>ME</th><th scope=col>RMSE</th><th scope=col>MAE</th><th scope=col>MPE</th><th scope=col>MAPE</th><th scope=col>MASE</th><th scope=col>ACF1</th><th scope=col>Theil's U</th></tr>\n",
       "</thead>\n",
       "<tbody>\n",
       "\t<tr><th scope=row>Training set</th><td>   5.954</td><td> 100.227</td><td>  75.206</td><td> 0.113</td><td> 4.179</td><td>0.247</td><td>0.170</td><td>   NA</td></tr>\n",
       "\t<tr><th scope=row>Test set</th><td>1106.951</td><td>1525.059</td><td>1106.951</td><td>21.023</td><td>21.023</td><td>3.632</td><td>0.384</td><td>2.039</td></tr>\n",
       "</tbody>\n",
       "</table>\n"
      ],
      "text/latex": [
       "A matrix: 2 × 8 of type dbl\n",
       "\\begin{tabular}{r|llllllll}\n",
       "  & ME & RMSE & MAE & MPE & MAPE & MASE & ACF1 & Theil's U\\\\\n",
       "\\hline\n",
       "\tTraining set &    5.954 &  100.227 &   75.206 &  0.113 &  4.179 & 0.247 & 0.170 &    NA\\\\\n",
       "\tTest set & 1106.951 & 1525.059 & 1106.951 & 21.023 & 21.023 & 3.632 & 0.384 & 2.039\\\\\n",
       "\\end{tabular}\n"
      ],
      "text/markdown": [
       "\n",
       "A matrix: 2 × 8 of type dbl\n",
       "\n",
       "| <!--/--> | ME | RMSE | MAE | MPE | MAPE | MASE | ACF1 | Theil's U |\n",
       "|---|---|---|---|---|---|---|---|---|\n",
       "| Training set |    5.954 |  100.227 |   75.206 |  0.113 |  4.179 | 0.247 | 0.170 |    NA |\n",
       "| Test set | 1106.951 | 1525.059 | 1106.951 | 21.023 | 21.023 | 3.632 | 0.384 | 2.039 |\n",
       "\n"
      ],
      "text/plain": [
       "             ME       RMSE     MAE      MPE    MAPE   MASE  ACF1  Theil's U\n",
       "Training set    5.954  100.227   75.206  0.113  4.179 0.247 0.170    NA    \n",
       "Test set     1106.951 1525.059 1106.951 21.023 21.023 3.632 0.384 2.039    "
      ]
     },
     "metadata": {},
     "output_type": "display_data"
    }
   ],
   "source": [
    "round(accuracy(forecast_ets3, test),3)"
   ]
  },
  {
   "cell_type": "code",
   "execution_count": 767,
   "id": "087ef8c9-76e2-4b65-9d19-96232e8bcedc",
   "metadata": {},
   "outputs": [
    {
     "data": {
      "text/html": [
       "<table class=\"dataframe\">\n",
       "<caption>A matrix: 2 × 8 of type dbl</caption>\n",
       "<thead>\n",
       "\t<tr><th></th><th scope=col>ME</th><th scope=col>RMSE</th><th scope=col>MAE</th><th scope=col>MPE</th><th scope=col>MAPE</th><th scope=col>MASE</th><th scope=col>ACF1</th><th scope=col>Theil's U</th></tr>\n",
       "</thead>\n",
       "<tbody>\n",
       "\t<tr><th scope=row>Training set</th><td>  -0.117</td><td> 100.086</td><td>  75.045</td><td>-0.248</td><td> 4.192</td><td>0.246</td><td>0.171</td><td>   NA</td></tr>\n",
       "\t<tr><th scope=row>Test set</th><td>1085.334</td><td>1502.732</td><td>1085.334</td><td>20.566</td><td>20.566</td><td>3.561</td><td>0.383</td><td>2.007</td></tr>\n",
       "</tbody>\n",
       "</table>\n"
      ],
      "text/latex": [
       "A matrix: 2 × 8 of type dbl\n",
       "\\begin{tabular}{r|llllllll}\n",
       "  & ME & RMSE & MAE & MPE & MAPE & MASE & ACF1 & Theil's U\\\\\n",
       "\\hline\n",
       "\tTraining set &   -0.117 &  100.086 &   75.045 & -0.248 &  4.192 & 0.246 & 0.171 &    NA\\\\\n",
       "\tTest set & 1085.334 & 1502.732 & 1085.334 & 20.566 & 20.566 & 3.561 & 0.383 & 2.007\\\\\n",
       "\\end{tabular}\n"
      ],
      "text/markdown": [
       "\n",
       "A matrix: 2 × 8 of type dbl\n",
       "\n",
       "| <!--/--> | ME | RMSE | MAE | MPE | MAPE | MASE | ACF1 | Theil's U |\n",
       "|---|---|---|---|---|---|---|---|---|\n",
       "| Training set |   -0.117 |  100.086 |   75.045 | -0.248 |  4.192 | 0.246 | 0.171 |    NA |\n",
       "| Test set | 1085.334 | 1502.732 | 1085.334 | 20.566 | 20.566 | 3.561 | 0.383 | 2.007 |\n",
       "\n"
      ],
      "text/plain": [
       "             ME       RMSE     MAE      MPE    MAPE   MASE  ACF1  Theil's U\n",
       "Training set   -0.117  100.086   75.045 -0.248  4.192 0.246 0.171    NA    \n",
       "Test set     1085.334 1502.732 1085.334 20.566 20.566 3.561 0.383 2.007    "
      ]
     },
     "metadata": {},
     "output_type": "display_data"
    }
   ],
   "source": [
    "round(accuracy(forecast.holt, test),3)"
   ]
  },
  {
   "cell_type": "markdown",
   "id": "0149a1fc-4ac2-4ef9-b85c-aac4b02106a8",
   "metadata": {},
   "source": [
    "## **USING  ETS AAA**"
   ]
  },
  {
   "cell_type": "code",
   "execution_count": 768,
   "id": "7f2e8ff3-ecf6-4f91-b77f-17976dff5d98",
   "metadata": {},
   "outputs": [],
   "source": [
    "# Generate the ETS model with 'AAA' specification\n",
    "forecast_ets_aaa <- ets(train, model = 'AAA') "
   ]
  },
  {
   "cell_type": "code",
   "execution_count": 769,
   "id": "69546cc1-7f37-4c51-bffa-6b794fa7bede",
   "metadata": {},
   "outputs": [],
   "source": [
    "# Generate forecasts using the fitted ETS model\n",
    "forecast_ets_aaa4 <- forecast.ets(forecast_ets_aaa, h = 6)"
   ]
  },
  {
   "cell_type": "code",
   "execution_count": 770,
   "id": "18f99c0c-7047-43a7-aff1-7a74911823bb",
   "metadata": {},
   "outputs": [
    {
     "data": {
      "image/png": "[encoded data removed]",
      "text/plain": [
       "Plot with title \"Forecasts from ETS(A,Ad,A)\""
      ]
     },
     "metadata": {
      "image/png": {
       "height": 420,
       "width": 420
      }
     },
     "output_type": "display_data"
    }
   ],
   "source": [
    "plot(forecast_ets_aaa4, lw=2, col='blue')\n",
    "x <- as.vector(time(train))\n",
    "y <- forecast_ets_aaa$fitted\n",
    "lines(x, y, col='black', lw=3)\n",
    "x <- as.vector(time(test))\n",
    "y <- test\n",
    "lines(x, y, col='red', lwd=3)"
   ]
  },
  {
   "cell_type": "code",
   "execution_count": 771,
   "id": "69bcd4d5-5cf5-43f8-9c29-d52660d6a415",
   "metadata": {},
   "outputs": [
    {
     "data": {
      "text/plain": [
       "ETS(A,Ad,A) \n",
       "\n",
       "Call:\n",
       " ets(y = train, model = \"AAA\") \n",
       "\n",
       "  Smoothing parameters:\n",
       "    alpha = 0.9999 \n",
       "    beta  = 0.0904 \n",
       "    gamma = 1e-04 \n",
       "    phi   = 0.8028 \n",
       "\n",
       "  Initial states:\n",
       "    l = 1437.1636 \n",
       "    b = 11.0796 \n",
       "    s = 26.9133 8.7233 18.4016 10.3139 3.7581 0.7264\n",
       "           15.2923 15.6134 -19.2511 -27.8592 -32.9162 -19.7157\n",
       "\n",
       "  sigma:  100.7413\n",
       "\n",
       "     AIC     AICc      BIC \n",
       "5072.741 5074.899 5141.449 "
      ]
     },
     "metadata": {},
     "output_type": "display_data"
    }
   ],
   "source": [
    "forecast_ets_aaa "
   ]
  },
  {
   "cell_type": "code",
   "execution_count": 772,
   "id": "4b214e8a-53a2-42fc-9eb7-c884b9298d0a",
   "metadata": {},
   "outputs": [
    {
     "data": {
      "text/plain": [
       "         Point Forecast    Lo 80    Hi 80    Lo 95    Hi 95\n",
       "Oct 2023       3388.365 3259.260 3517.470 3190.916 3585.814\n",
       "Nov 2023       3406.732 3217.414 3596.050 3117.195 3696.268\n",
       "Dec 2023       3437.180 3198.109 3676.252 3071.552 3802.808\n",
       "Jan 2024       3466.171 3182.852 3749.490 3032.872 3899.470\n",
       "Feb 2024       3517.398 3193.542 3841.254 3022.103 4012.693\n",
       "Mar 2024       3530.212 3168.642 3891.781 2977.238 4083.185"
      ]
     },
     "metadata": {},
     "output_type": "display_data"
    }
   ],
   "source": [
    "forecast_ets_aaa4"
   ]
  },
  {
   "cell_type": "code",
   "execution_count": 773,
   "id": "407acaa1-6027-49ae-ac05-c17e8d16be69",
   "metadata": {},
   "outputs": [
    {
     "data": {
      "text/html": [
       "<table class=\"dataframe\">\n",
       "<caption>A matrix: 2 × 8 of type dbl</caption>\n",
       "<thead>\n",
       "\t<tr><th></th><th scope=col>ME</th><th scope=col>RMSE</th><th scope=col>MAE</th><th scope=col>MPE</th><th scope=col>MAPE</th><th scope=col>MASE</th><th scope=col>ACF1</th><th scope=col>Theil's U</th></tr>\n",
       "</thead>\n",
       "<tbody>\n",
       "\t<tr><th scope=row>Training set</th><td>   4.538038</td><td>  98.15966</td><td>  73.02333</td><td> 0.09611116</td><td> 4.081885</td><td>0.2395641</td><td>0.1009178</td><td>      NA</td></tr>\n",
       "\t<tr><th scope=row>Test set</th><td>1044.830385</td><td>1446.99479</td><td>1044.83039</td><td>19.80873278</td><td>19.808733</td><td>3.4277241</td><td>0.3733740</td><td>1.928451</td></tr>\n",
       "</tbody>\n",
       "</table>\n"
      ],
      "text/latex": [
       "A matrix: 2 × 8 of type dbl\n",
       "\\begin{tabular}{r|llllllll}\n",
       "  & ME & RMSE & MAE & MPE & MAPE & MASE & ACF1 & Theil's U\\\\\n",
       "\\hline\n",
       "\tTraining set &    4.538038 &   98.15966 &   73.02333 &  0.09611116 &  4.081885 & 0.2395641 & 0.1009178 &       NA\\\\\n",
       "\tTest set & 1044.830385 & 1446.99479 & 1044.83039 & 19.80873278 & 19.808733 & 3.4277241 & 0.3733740 & 1.928451\\\\\n",
       "\\end{tabular}\n"
      ],
      "text/markdown": [
       "\n",
       "A matrix: 2 × 8 of type dbl\n",
       "\n",
       "| <!--/--> | ME | RMSE | MAE | MPE | MAPE | MASE | ACF1 | Theil's U |\n",
       "|---|---|---|---|---|---|---|---|---|\n",
       "| Training set |    4.538038 |   98.15966 |   73.02333 |  0.09611116 |  4.081885 | 0.2395641 | 0.1009178 |       NA |\n",
       "| Test set | 1044.830385 | 1446.99479 | 1044.83039 | 19.80873278 | 19.808733 | 3.4277241 | 0.3733740 | 1.928451 |\n",
       "\n"
      ],
      "text/plain": [
       "             ME          RMSE       MAE        MPE         MAPE      MASE     \n",
       "Training set    4.538038   98.15966   73.02333  0.09611116  4.081885 0.2395641\n",
       "Test set     1044.830385 1446.99479 1044.83039 19.80873278 19.808733 3.4277241\n",
       "             ACF1      Theil's U\n",
       "Training set 0.1009178       NA \n",
       "Test set     0.3733740 1.928451 "
      ]
     },
     "metadata": {},
     "output_type": "display_data"
    }
   ],
   "source": [
    "accuracy(forecast_ets_aaa4, test)"
   ]
  },
  {
   "cell_type": "code",
   "execution_count": 774,
   "id": "f72fdd13-938e-41fa-aa76-961a671d7973",
   "metadata": {},
   "outputs": [
    {
     "data": {
      "text/html": [
       "<table class=\"dataframe\">\n",
       "<caption>A matrix: 2 × 8 of type dbl</caption>\n",
       "<thead>\n",
       "\t<tr><th></th><th scope=col>ME</th><th scope=col>RMSE</th><th scope=col>MAE</th><th scope=col>MPE</th><th scope=col>MAPE</th><th scope=col>MASE</th><th scope=col>ACF1</th><th scope=col>Theil's U</th></tr>\n",
       "</thead>\n",
       "<tbody>\n",
       "\t<tr><th scope=row>Training set</th><td>   4.538</td><td>  98.160</td><td>  73.023</td><td> 0.096</td><td> 4.082</td><td>0.240</td><td>0.101</td><td>   NA</td></tr>\n",
       "\t<tr><th scope=row>Test set</th><td>1044.830</td><td>1446.995</td><td>1044.830</td><td>19.809</td><td>19.809</td><td>3.428</td><td>0.373</td><td>1.928</td></tr>\n",
       "</tbody>\n",
       "</table>\n"
      ],
      "text/latex": [
       "A matrix: 2 × 8 of type dbl\n",
       "\\begin{tabular}{r|llllllll}\n",
       "  & ME & RMSE & MAE & MPE & MAPE & MASE & ACF1 & Theil's U\\\\\n",
       "\\hline\n",
       "\tTraining set &    4.538 &   98.160 &   73.023 &  0.096 &  4.082 & 0.240 & 0.101 &    NA\\\\\n",
       "\tTest set & 1044.830 & 1446.995 & 1044.830 & 19.809 & 19.809 & 3.428 & 0.373 & 1.928\\\\\n",
       "\\end{tabular}\n"
      ],
      "text/markdown": [
       "\n",
       "A matrix: 2 × 8 of type dbl\n",
       "\n",
       "| <!--/--> | ME | RMSE | MAE | MPE | MAPE | MASE | ACF1 | Theil's U |\n",
       "|---|---|---|---|---|---|---|---|---|\n",
       "| Training set |    4.538 |   98.160 |   73.023 |  0.096 |  4.082 | 0.240 | 0.101 |    NA |\n",
       "| Test set | 1044.830 | 1446.995 | 1044.830 | 19.809 | 19.809 | 3.428 | 0.373 | 1.928 |\n",
       "\n"
      ],
      "text/plain": [
       "             ME       RMSE     MAE      MPE    MAPE   MASE  ACF1  Theil's U\n",
       "Training set    4.538   98.160   73.023  0.096  4.082 0.240 0.101    NA    \n",
       "Test set     1044.830 1446.995 1044.830 19.809 19.809 3.428 0.373 1.928    "
      ]
     },
     "metadata": {},
     "output_type": "display_data"
    }
   ],
   "source": [
    "round(accuracy(forecast_ets_aaa4, test),3)"
   ]
  },
  {
   "cell_type": "markdown",
   "id": "aec6259d-fe11-44fe-b4d1-b8beb24fa28c",
   "metadata": {},
   "source": [
    "## **Using ETS MMM**"
   ]
  },
  {
   "cell_type": "code",
   "execution_count": 775,
   "id": "df711f45-3ef2-438e-b3c0-c9a5c69b6a9f",
   "metadata": {},
   "outputs": [],
   "source": [
    "# Generate the ETS model with 'MMM'\n",
    "forcast_ets.mmm <- ets(train, model = 'MMM')"
   ]
  },
  {
   "cell_type": "code",
   "execution_count": 776,
   "id": "df042b8a-49c2-4e37-b9ba-e08b11e0e5df",
   "metadata": {},
   "outputs": [],
   "source": [
    "# Generate forecasts using the fitted ETS-MMM model\n",
    "forcast_ets.mmm5 <- forecast.ets(forcast_ets.mmm, h = 6)"
   ]
  },
  {
   "cell_type": "code",
   "execution_count": 777,
   "id": "7c152bc3-1d69-45f4-a81f-5d64a2899422",
   "metadata": {},
   "outputs": [
    {
     "data": {
      "image/png": "[encoded data removed]",
      "text/plain": [
       "Plot with title \"Forecasts from ETS(M,Md,M)\""
      ]
     },
     "metadata": {
      "image/png": {
       "height": 420,
       "width": 420
      }
     },
     "output_type": "display_data"
    }
   ],
   "source": [
    "plot(forcast_ets.mmm5, lw=2, col='blue')\n",
    "x <- as.vector(time(train))\n",
    "y <- forcast_ets.mmm$fitted\n",
    "lines(x, y, col='black', lw=4)\n",
    "x <- as.vector(time(test))\n",
    "y <- test\n",
    "lines(x, y, col='red', lwd=4)\n"
   ]
  },
  {
   "cell_type": "code",
   "execution_count": 778,
   "id": "e27f8aa2-4206-47f7-9e39-8a9f559c46f5",
   "metadata": {},
   "outputs": [
    {
     "data": {
      "text/plain": [
       "ETS(M,Md,M) \n",
       "\n",
       "Call:\n",
       " ets(y = train, model = \"MMM\") \n",
       "\n",
       "  Smoothing parameters:\n",
       "    alpha = 0.9998 \n",
       "    beta  = 0.0385 \n",
       "    gamma = 1e-04 \n",
       "    phi   = 0.9623 \n",
       "\n",
       "  Initial states:\n",
       "    l = 1351.5297 \n",
       "    b = 0.9884 \n",
       "    s = 1.006 0.9999 1.0068 1.0057 1.0036 1.0065\n",
       "           1.0201 1.0151 0.9886 0.9809 0.978 0.9887\n",
       "\n",
       "  sigma:  0.0556\n",
       "\n",
       "     AIC     AICc      BIC \n",
       "5047.939 5050.096 5116.647 "
      ]
     },
     "metadata": {},
     "output_type": "display_data"
    }
   ],
   "source": [
    "forcast_ets.mmm"
   ]
  },
  {
   "cell_type": "code",
   "execution_count": 779,
   "id": "500fc050-c8ce-4e24-acc6-45f13257c88d",
   "metadata": {},
   "outputs": [
    {
     "data": {
      "text/plain": [
       "         Point Forecast    Lo 80    Hi 80    Lo 95    Hi 95\n",
       "Oct 2023       3379.947 3139.392 3615.862 3010.215 3730.541\n",
       "Nov 2023       3386.300 3048.881 3738.418 2886.617 3919.268\n",
       "Dec 2023       3438.276 3020.773 3870.483 2791.256 4112.799\n",
       "Jan 2024       3506.336 2994.836 4028.598 2760.590 4340.788\n",
       "Feb 2024       3641.269 3048.569 4267.866 2773.512 4635.226\n",
       "Mar 2024       3699.556 3023.032 4414.434 2746.842 4882.720"
      ]
     },
     "metadata": {},
     "output_type": "display_data"
    }
   ],
   "source": [
    "forcast_ets.mmm5"
   ]
  },
  {
   "cell_type": "code",
   "execution_count": 780,
   "id": "f379dbc8-17b8-4c62-a7e8-313d1534db5d",
   "metadata": {},
   "outputs": [
    {
     "data": {
      "text/html": [
       "<table class=\"dataframe\">\n",
       "<caption>A matrix: 2 × 8 of type dbl</caption>\n",
       "<thead>\n",
       "\t<tr><th></th><th scope=col>ME</th><th scope=col>RMSE</th><th scope=col>MAE</th><th scope=col>MPE</th><th scope=col>MAPE</th><th scope=col>MASE</th><th scope=col>ACF1</th><th scope=col>Theil's U</th></tr>\n",
       "</thead>\n",
       "<tbody>\n",
       "\t<tr><th scope=row>Training set</th><td>  2.415658</td><td>  99.33988</td><td> 73.28198</td><td> 0.0145616</td><td> 4.095683</td><td>0.2404126</td><td>0.1525435</td><td>      NA</td></tr>\n",
       "\t<tr><th scope=row>Test set</th><td>993.892661</td><td>1362.79115</td><td>993.89266</td><td>18.9414761</td><td>18.941476</td><td>3.2606152</td><td>0.3589004</td><td>1.816627</td></tr>\n",
       "</tbody>\n",
       "</table>\n"
      ],
      "text/latex": [
       "A matrix: 2 × 8 of type dbl\n",
       "\\begin{tabular}{r|llllllll}\n",
       "  & ME & RMSE & MAE & MPE & MAPE & MASE & ACF1 & Theil's U\\\\\n",
       "\\hline\n",
       "\tTraining set &   2.415658 &   99.33988 &  73.28198 &  0.0145616 &  4.095683 & 0.2404126 & 0.1525435 &       NA\\\\\n",
       "\tTest set & 993.892661 & 1362.79115 & 993.89266 & 18.9414761 & 18.941476 & 3.2606152 & 0.3589004 & 1.816627\\\\\n",
       "\\end{tabular}\n"
      ],
      "text/markdown": [
       "\n",
       "A matrix: 2 × 8 of type dbl\n",
       "\n",
       "| <!--/--> | ME | RMSE | MAE | MPE | MAPE | MASE | ACF1 | Theil's U |\n",
       "|---|---|---|---|---|---|---|---|---|\n",
       "| Training set |   2.415658 |   99.33988 |  73.28198 |  0.0145616 |  4.095683 | 0.2404126 | 0.1525435 |       NA |\n",
       "| Test set | 993.892661 | 1362.79115 | 993.89266 | 18.9414761 | 18.941476 | 3.2606152 | 0.3589004 | 1.816627 |\n",
       "\n"
      ],
      "text/plain": [
       "             ME         RMSE       MAE       MPE        MAPE      MASE     \n",
       "Training set   2.415658   99.33988  73.28198  0.0145616  4.095683 0.2404126\n",
       "Test set     993.892661 1362.79115 993.89266 18.9414761 18.941476 3.2606152\n",
       "             ACF1      Theil's U\n",
       "Training set 0.1525435       NA \n",
       "Test set     0.3589004 1.816627 "
      ]
     },
     "metadata": {},
     "output_type": "display_data"
    }
   ],
   "source": [
    "accuracy(forcast_ets.mmm5, test)"
   ]
  },
  {
   "cell_type": "code",
   "execution_count": 781,
   "id": "cf009130-fc98-423e-a472-946e1749e1dc",
   "metadata": {},
   "outputs": [
    {
     "data": {
      "text/html": [
       "<table class=\"dataframe\">\n",
       "<caption>A matrix: 2 × 8 of type dbl</caption>\n",
       "<thead>\n",
       "\t<tr><th></th><th scope=col>ME</th><th scope=col>RMSE</th><th scope=col>MAE</th><th scope=col>MPE</th><th scope=col>MAPE</th><th scope=col>MASE</th><th scope=col>ACF1</th><th scope=col>Theil's U</th></tr>\n",
       "</thead>\n",
       "<tbody>\n",
       "\t<tr><th scope=row>Training set</th><td>  2.416</td><td>  99.340</td><td> 73.282</td><td> 0.015</td><td> 4.096</td><td>0.240</td><td>0.153</td><td>   NA</td></tr>\n",
       "\t<tr><th scope=row>Test set</th><td>993.893</td><td>1362.791</td><td>993.893</td><td>18.941</td><td>18.941</td><td>3.261</td><td>0.359</td><td>1.817</td></tr>\n",
       "</tbody>\n",
       "</table>\n"
      ],
      "text/latex": [
       "A matrix: 2 × 8 of type dbl\n",
       "\\begin{tabular}{r|llllllll}\n",
       "  & ME & RMSE & MAE & MPE & MAPE & MASE & ACF1 & Theil's U\\\\\n",
       "\\hline\n",
       "\tTraining set &   2.416 &   99.340 &  73.282 &  0.015 &  4.096 & 0.240 & 0.153 &    NA\\\\\n",
       "\tTest set & 993.893 & 1362.791 & 993.893 & 18.941 & 18.941 & 3.261 & 0.359 & 1.817\\\\\n",
       "\\end{tabular}\n"
      ],
      "text/markdown": [
       "\n",
       "A matrix: 2 × 8 of type dbl\n",
       "\n",
       "| <!--/--> | ME | RMSE | MAE | MPE | MAPE | MASE | ACF1 | Theil's U |\n",
       "|---|---|---|---|---|---|---|---|---|\n",
       "| Training set |   2.416 |   99.340 |  73.282 |  0.015 |  4.096 | 0.240 | 0.153 |    NA |\n",
       "| Test set | 993.893 | 1362.791 | 993.893 | 18.941 | 18.941 | 3.261 | 0.359 | 1.817 |\n",
       "\n"
      ],
      "text/plain": [
       "             ME      RMSE     MAE     MPE    MAPE   MASE  ACF1  Theil's U\n",
       "Training set   2.416   99.340  73.282  0.015  4.096 0.240 0.153    NA    \n",
       "Test set     993.893 1362.791 993.893 18.941 18.941 3.261 0.359 1.817    "
      ]
     },
     "metadata": {},
     "output_type": "display_data"
    }
   ],
   "source": [
    "round(accuracy(forcast_ets.mmm5, test),3)"
   ]
  },
  {
   "cell_type": "code",
   "execution_count": 782,
   "id": "8d661600-0f32-4be0-a148-48c00b0c8928",
   "metadata": {},
   "outputs": [
    {
     "data": {
      "image/png": "[encoded data removed]",
      "text/plain": [
       "plot without title"
      ]
     },
     "metadata": {
      "image/png": {
       "height": 420,
       "width": 420
      }
     },
     "output_type": "display_data"
    }
   ],
   "source": [
    "# Plot with customized color and line width\n",
    "plot(forcast_ets.mmm, col = \"blue\", lwd = 3)"
   ]
  },
  {
   "cell_type": "markdown",
   "id": "c63697d3-7539-456a-bf67-cf6c210278b7",
   "metadata": {},
   "source": [
    "## **EVALUATION OF EXPONENTIAL SMOOTHING MODELS**"
   ]
  },
  {
   "cell_type": "code",
   "execution_count": 783,
   "id": "2b12bae4-6ec8-4603-97ec-6928fdd5a26f",
   "metadata": {},
   "outputs": [],
   "source": [
    "# SES model\n",
    "accuracy_ses <- accuracy(simplex_ses, test)\n",
    "accuracy_ses_0.05 <- accuracy(simplex_ses_0.05, test)\n",
    "accuracy_ses_0.7 <- accuracy(simplex_ses_0.7, test)\n",
    "# ETS with 'ANN' model\n",
    "accuracy_ann <- accuracy(forecast_ann2, test)\n",
    "# Holt's method\n",
    "accuracy_holt <- accuracy(forecast.holt, test)\n",
    "# ETS with 'AAN' model\n",
    "accuracy_ets_aan <- accuracy(forecast_ets3, test)\n",
    "# ETS with 'AAA' model\n",
    "accuracy_ets_aaa <- accuracy(forecast_ets_aaa4, test)\n",
    "# ETS with 'MMM' model\n",
    "accuracy_ets_mmm <- accuracy(forcast_ets.mmm5, test)"
   ]
  },
  {
   "cell_type": "code",
   "execution_count": 784,
   "id": "171e710f-931e-4f4d-a163-acc4d31dcd5e",
   "metadata": {},
   "outputs": [],
   "source": [
    "# Round accuracy measures to three decimal places\n",
    "accuracy_ses <- round(accuracy(simplex_ses, test), 3)\n",
    "accuracy_ses_0.05 <- round(accuracy(simplex_ses_0.05, test), 3)\n",
    "accuracy_ses_0.7 <- round(accuracy(simplex_ses_0.7, test), 3)\n",
    "accuracy_ann <- round(accuracy(forecast_ann2, test), 3)\n",
    "accuracy_holt <- round(accuracy(forecast.holt, test), 3)\n",
    "accuracy_ets_aan <- round(accuracy(forecast_ets3, test), 3)\n",
    "accuracy_ets_aaa <- round(accuracy(forecast_ets_aaa4, test), 3)\n",
    "accuracy_ets_mmm <- round(accuracy(forcast_ets.mmm5, test), 3)"
   ]
  },
  {
   "cell_type": "code",
   "execution_count": 785,
   "id": "d88548d9-5ea9-4d27-8c1f-ca2683e00361",
   "metadata": {},
   "outputs": [],
   "source": [
    "# Create a data frame to display the evaluation results\n",
    "evaluation_results_exp_smoothing <- data.frame(\n",
    "  Model = c(\"Simple Exponential Smoothing\", \"Simple Exponential Smoothing (Alpha = 0.05)\", \"Simple Exponential Smoothing (Alpha = 0.7)\", \n",
    "            \"ETS (ANN)\", \"Holt's Method\", \"ETS (AAN)\", \"ETS (AAA)\", \"ETS (MMM)\"),\n",
    "  MAPE = c(accuracy_ses[2,5], accuracy_ses_0.05[2,5], accuracy_ses_0.7[2,5], accuracy_ann[2,5], accuracy_holt[2,5],\n",
    "           accuracy_ets_aan[2,5], accuracy_ets_aaa[2,5], accuracy_ets_mmm[2,5]),\n",
    "  MAE = c(accuracy_ses[2,3], accuracy_ses_0.05[2,3], accuracy_ses_0.7[2,3], accuracy_ann[2,3], accuracy_holt[2,3],\n",
    "          accuracy_ets_aan[2,3], accuracy_ets_aaa[2,3], accuracy_ets_mmm[2,3]),\n",
    "  RMSE = c(accuracy_ses[2,2], accuracy_ses_0.05[2,2], accuracy_ses_0.7[2,2], accuracy_ann[2,2], accuracy_holt[2,2],\n",
    "           accuracy_ets_aan[2,2], accuracy_ets_aaa[2,2], accuracy_ets_mmm[2,2])\n",
    ")"
   ]
  },
  {
   "cell_type": "code",
   "execution_count": 786,
   "id": "fb4bbb14-77e2-4dc6-b80d-ea19a6d6a122",
   "metadata": {},
   "outputs": [
    {
     "name": "stdout",
     "output_type": "stream",
     "text": [
      "                                        Model   MAPE      MAE     RMSE\n",
      "1                Simple Exponential Smoothing 21.023 1106.951 1525.059\n",
      "2 Simple Exponential Smoothing (Alpha = 0.05) 44.173 2102.275 2349.474\n",
      "3  Simple Exponential Smoothing (Alpha = 0.7) 23.095 1196.058 1590.918\n",
      "4                                   ETS (ANN) 21.023 1106.951 1525.059\n",
      "5                               Holt's Method 20.566 1085.334 1502.732\n",
      "6                                   ETS (AAN) 21.023 1106.951 1525.059\n",
      "7                                   ETS (AAA) 19.809 1044.830 1446.995\n",
      "8                                   ETS (MMM) 18.941  993.893 1362.791\n"
     ]
    }
   ],
   "source": [
    "print(evaluation_results_exp_smoothing)\n"
   ]
  },
  {
   "cell_type": "code",
   "execution_count": 787,
   "id": "2becce10-76a2-425a-b225-952013f36e2e",
   "metadata": {},
   "outputs": [
    {
     "data": {
      "text/html": [
       "<table class=\"dataframe\">\n",
       "<caption>A data.frame: 8 × 4</caption>\n",
       "<thead>\n",
       "\t<tr><th scope=col>Model</th><th scope=col>MAPE</th><th scope=col>MAE</th><th scope=col>RMSE</th></tr>\n",
       "\t<tr><th scope=col>&lt;chr&gt;</th><th scope=col>&lt;dbl&gt;</th><th scope=col>&lt;dbl&gt;</th><th scope=col>&lt;dbl&gt;</th></tr>\n",
       "</thead>\n",
       "<tbody>\n",
       "\t<tr><td>Simple Exponential Smoothing               </td><td>21.023</td><td>1106.951</td><td>1525.059</td></tr>\n",
       "\t<tr><td>Simple Exponential Smoothing (Alpha = 0.05)</td><td>44.173</td><td>2102.275</td><td>2349.474</td></tr>\n",
       "\t<tr><td>Simple Exponential Smoothing (Alpha = 0.7) </td><td>23.095</td><td>1196.058</td><td>1590.918</td></tr>\n",
       "\t<tr><td>ETS (ANN)                                  </td><td>21.023</td><td>1106.951</td><td>1525.059</td></tr>\n",
       "\t<tr><td>Holt's Method                              </td><td>20.566</td><td>1085.334</td><td>1502.732</td></tr>\n",
       "\t<tr><td>ETS (AAN)                                  </td><td>21.023</td><td>1106.951</td><td>1525.059</td></tr>\n",
       "\t<tr><td>ETS (AAA)                                  </td><td>19.809</td><td>1044.830</td><td>1446.995</td></tr>\n",
       "\t<tr><td>ETS (MMM)                                  </td><td>18.941</td><td> 993.893</td><td>1362.791</td></tr>\n",
       "</tbody>\n",
       "</table>\n"
      ],
      "text/latex": [
       "A data.frame: 8 × 4\n",
       "\\begin{tabular}{llll}\n",
       " Model & MAPE & MAE & RMSE\\\\\n",
       " <chr> & <dbl> & <dbl> & <dbl>\\\\\n",
       "\\hline\n",
       "\t Simple Exponential Smoothing                & 21.023 & 1106.951 & 1525.059\\\\\n",
       "\t Simple Exponential Smoothing (Alpha = 0.05) & 44.173 & 2102.275 & 2349.474\\\\\n",
       "\t Simple Exponential Smoothing (Alpha = 0.7)  & 23.095 & 1196.058 & 1590.918\\\\\n",
       "\t ETS (ANN)                                   & 21.023 & 1106.951 & 1525.059\\\\\n",
       "\t Holt's Method                               & 20.566 & 1085.334 & 1502.732\\\\\n",
       "\t ETS (AAN)                                   & 21.023 & 1106.951 & 1525.059\\\\\n",
       "\t ETS (AAA)                                   & 19.809 & 1044.830 & 1446.995\\\\\n",
       "\t ETS (MMM)                                   & 18.941 &  993.893 & 1362.791\\\\\n",
       "\\end{tabular}\n"
      ],
      "text/markdown": [
       "\n",
       "A data.frame: 8 × 4\n",
       "\n",
       "| Model &lt;chr&gt; | MAPE &lt;dbl&gt; | MAE &lt;dbl&gt; | RMSE &lt;dbl&gt; |\n",
       "|---|---|---|---|\n",
       "| Simple Exponential Smoothing                | 21.023 | 1106.951 | 1525.059 |\n",
       "| Simple Exponential Smoothing (Alpha = 0.05) | 44.173 | 2102.275 | 2349.474 |\n",
       "| Simple Exponential Smoothing (Alpha = 0.7)  | 23.095 | 1196.058 | 1590.918 |\n",
       "| ETS (ANN)                                   | 21.023 | 1106.951 | 1525.059 |\n",
       "| Holt's Method                               | 20.566 | 1085.334 | 1502.732 |\n",
       "| ETS (AAN)                                   | 21.023 | 1106.951 | 1525.059 |\n",
       "| ETS (AAA)                                   | 19.809 | 1044.830 | 1446.995 |\n",
       "| ETS (MMM)                                   | 18.941 |  993.893 | 1362.791 |\n",
       "\n"
      ],
      "text/plain": [
       "  Model                                       MAPE   MAE      RMSE    \n",
       "1 Simple Exponential Smoothing                21.023 1106.951 1525.059\n",
       "2 Simple Exponential Smoothing (Alpha = 0.05) 44.173 2102.275 2349.474\n",
       "3 Simple Exponential Smoothing (Alpha = 0.7)  23.095 1196.058 1590.918\n",
       "4 ETS (ANN)                                   21.023 1106.951 1525.059\n",
       "5 Holt's Method                               20.566 1085.334 1502.732\n",
       "6 ETS (AAN)                                   21.023 1106.951 1525.059\n",
       "7 ETS (AAA)                                   19.809 1044.830 1446.995\n",
       "8 ETS (MMM)                                   18.941  993.893 1362.791"
      ]
     },
     "metadata": {},
     "output_type": "display_data"
    }
   ],
   "source": [
    "evaluation_results_exp_smoothing"
   ]
  },
  {
   "cell_type": "markdown",
   "id": "3a4ea524-77b6-4213-bf21-4a559778dcb9",
   "metadata": {},
   "source": [
    "**VISUALIZE TO VIEW THE DISTRIBUTION**"
   ]
  },
  {
   "cell_type": "code",
   "execution_count": 788,
   "id": "f984b0a9-0fcd-4675-b886-3b52fa93e563",
   "metadata": {},
   "outputs": [],
   "source": [
    "library(ggplot2)\n",
    "\n",
    "# Create a data frame with the evaluation results\n",
    "evaluation_results <- data.frame(\n",
    "  Model = c(\"Simple Exponential Smoothing\", \"Simple Exponential Smoothing (Alpha = 0.05)\", \"Simple Exponential Smoothing (Alpha = 0.7)\", \n",
    "            \"ETS (ANN)\", \"Holt's Method\", \"ETS (AAN)\", \"ETS (AAA)\", \"ETS (MMM)\"),\n",
    "  MAPE = c(75.206, 243.473, 83.821, 75.206, 75.045, 75.206, 73.023, 73.282),\n",
    "  MAE = c(1106.951, 2102.275, 1196.058, 1106.951, 1085.334, 1106.951, 1044.830, 993.893),\n",
    "  RMSE = c(100.227, 310.992, 109.743, 100.227, 100.086, 100.227, 98.160, 99.340)\n",
    ")\n"
   ]
  },
  {
   "cell_type": "code",
   "execution_count": 789,
   "id": "487506d9-4713-47d9-859e-f2f17bbf80c1",
   "metadata": {},
   "outputs": [
    {
     "data": {
      "image/png": "[encoded data removed]",
      "text/plain": [
       "plot without title"
      ]
     },
     "metadata": {
      "image/png": {
       "height": 420,
       "width": 420
      }
     },
     "output_type": "display_data"
    }
   ],
   "source": [
    "# Melt the data frame for easier plotting\n",
    "evaluation_results_melted <- reshape2::melt(evaluation_results, id.vars = \"Model\")\n",
    "\n",
    "# Plot MAPE\n",
    "ggplot(evaluation_results_melted, aes(x = Model, y = value, fill = variable)) +\n",
    "  geom_bar(stat = \"identity\", position = \"dodge\") +\n",
    "  labs(title = \"Evaluation Results for Exponential Smoothing\",\n",
    "       y = \"Accuracy\",\n",
    "       x = \"Model\",ZZ\n",
    "       fill = \"Accuracy Measure\") +\n",
    "  theme_minimal() +\n",
    "  theme(axis.text.x = element_text(angle = 45, hjust = 1)) +\n",
    "  scale_fill_manual(values = c(\"MAPE\" = \"blue\", \"MAE\" = \"green\", \"RMSE\" = \"red\"))"
   ]
  },
  {
   "cell_type": "markdown",
   "id": "2dadaf14-a62f-4da8-91f4-172fd4dc5bf2",
   "metadata": {},
   "source": [
    "# **ARIMA/SARIMA MODELS**"
   ]
  },
  {
   "cell_type": "code",
   "execution_count": 790,
   "id": "dcdffb53-572e-4929-889e-b628490733ec",
   "metadata": {},
   "outputs": [
    {
     "data": {
      "text/html": [
       "<table class=\"dataframe\">\n",
       "<caption>A Time Series: 31 × 12</caption>\n",
       "<thead>\n",
       "\t<tr><th></th><th scope=col>Jan</th><th scope=col>Feb</th><th scope=col>Mar</th><th scope=col>Apr</th><th scope=col>May</th><th scope=col>Jun</th><th scope=col>Jul</th><th scope=col>Aug</th><th scope=col>Sep</th><th scope=col>Oct</th><th scope=col>Nov</th><th scope=col>Dec</th></tr>\n",
       "</thead>\n",
       "<tbody>\n",
       "\t<tr><th scope=row>1994</th><td>       </td><td>       </td><td>       </td><td>       </td><td>       </td><td>       </td><td>       </td><td>       </td><td>       </td><td>1447.95</td><td>1437.05</td><td>1399.43</td></tr>\n",
       "\t<tr><th scope=row>1995</th><td>1468.86</td><td>1510.55</td><td>1484.91</td><td>1469.26</td><td>1445.32</td><td>1437.14</td><td>1364.10</td><td>1413.00</td><td>1396.86</td><td>1394.50</td><td>1436.50</td><td>1378.84</td></tr>\n",
       "\t<tr><th scope=row>1996</th><td>1349.50</td><td>1369.81</td><td>1338.62</td><td>1456.24</td><td>1524.09</td><td>1537.60</td><td>1495.70</td><td>1499.86</td><td>1476.14</td><td>1477.04</td><td>1469.33</td><td>1474.30</td></tr>\n",
       "\t<tr><th scope=row>1997</th><td>1428.45</td><td>1372.70</td><td>1523.60</td><td>1571.05</td><td>1568.29</td><td>1688.38</td><td>1677.30</td><td>1652.14</td><td>1769.64</td><td>1741.43</td><td>1694.80</td><td>1737.29</td></tr>\n",
       "\t<tr><th scope=row>1998</th><td>1668.10</td><td>1640.85</td><td>1719.18</td><td>1726.38</td><td>1794.35</td><td>1721.86</td><td>1712.17</td><td>1683.62</td><td>1687.32</td><td>1646.41</td><td>1388.52</td><td>1288.09</td></tr>\n",
       "\t<tr><th scope=row>1999</th><td>1254.90</td><td>1257.40</td><td>1206.52</td><td>1108.00</td><td> 998.75</td><td>1119.73</td><td>1074.77</td><td> 980.86</td><td>1009.86</td><td> 954.57</td><td> 893.64</td><td> 909.14</td></tr>\n",
       "\t<tr><th scope=row>2000</th><td> 906.38</td><td> 874.14</td><td> 966.70</td><td> 962.95</td><td>1003.68</td><td> 991.00</td><td> 996.62</td><td> 970.35</td><td>1013.57</td><td>1027.73</td><td> 936.09</td><td> 893.75</td></tr>\n",
       "\t<tr><th scope=row>2001</th><td>1031.86</td><td>1257.00</td><td>1236.73</td><td>1212.60</td><td>1233.23</td><td>1140.10</td><td>1123.82</td><td>1147.17</td><td>1118.85</td><td>1197.35</td><td>1397.77</td><td>1497.00</td></tr>\n",
       "\t<tr><th scope=row>2002</th><td>1567.59</td><td>1713.35</td><td>1815.35</td><td>1770.91</td><td>1749.78</td><td>1734.60</td><td>1881.78</td><td>2004.27</td><td>2206.19</td><td>2246.57</td><td>1811.29</td><td>1985.00</td></tr>\n",
       "\t<tr><th scope=row>2003</th><td>2055.27</td><td>2076.40</td><td>1847.48</td><td>1774.86</td><td>1515.81</td><td>1352.76</td><td>1372.35</td><td>1410.62</td><td>1450.73</td><td>1265.57</td><td>1289.90</td><td>1324.14</td></tr>\n",
       "\t<tr><th scope=row>2004</th><td>1286.43</td><td>1240.85</td><td>1226.57</td><td>1199.19</td><td>1178.15</td><td>1159.27</td><td>1271.91</td><td>1418.73</td><td>1261.05</td><td>1187.76</td><td>1278.18</td><td>1230.00</td></tr>\n",
       "\t<tr><th scope=row>2005</th><td>1181.00</td><td>1255.70</td><td>1331.45</td><td>1225.67</td><td>1190.52</td><td>1266.41</td><td>1237.38</td><td>1205.48</td><td>1227.36</td><td>1208.24</td><td>1217.23</td><td>1279.71</td></tr>\n",
       "\t<tr><th scope=row>2006</th><td>1301.38</td><td>1294.30</td><td>1283.83</td><td>1263.95</td><td>1248.86</td><td>1269.32</td><td>1321.38</td><td>1257.26</td><td>1231.33</td><td>1212.32</td><td>1226.73</td><td>1289.55</td></tr>\n",
       "\t<tr><th scope=row>2007</th><td>1310.18</td><td>1386.45</td><td>1452.59</td><td>1462.55</td><td>1483.32</td><td>1502.57</td><td>1568.77</td><td>1395.91</td><td>1393.45</td><td>1345.65</td><td>1339.77</td><td>1452.05</td></tr>\n",
       "\t<tr><th scope=row>2008</th><td>1505.59</td><td>1709.48</td><td>1721.05</td><td>1668.32</td><td>1729.43</td><td>1941.90</td><td>1874.61</td><td>1880.14</td><td>1866.73</td><td>1692.52</td><td>1622.80</td><td>1816.23</td></tr>\n",
       "\t<tr><th scope=row>2009</th><td>1985.29</td><td>2068.10</td><td>1922.59</td><td>1935.05</td><td>1817.80</td><td>1926.50</td><td>1980.87</td><td>2072.52</td><td>2157.45</td><td>2276.14</td><td>2268.90</td><td>2399.41</td></tr>\n",
       "\t<tr><th scope=row>2010</th><td>2470.30</td><td>2395.70</td><td>2276.96</td><td>2402.38</td><td>2528.90</td><td>2643.59</td><td>2523.64</td><td>2380.05</td><td>2196.36</td><td>2106.24</td><td>2133.95</td><td>2314.13</td></tr>\n",
       "\t<tr><th scope=row>2011</th><td>2366.30</td><td>2542.10</td><td>2421.22</td><td>2168.05</td><td>2142.33</td><td>2094.14</td><td>2217.00</td><td>2137.70</td><td>2087.59</td><td>1952.48</td><td>1863.82</td><td>1670.38</td></tr>\n",
       "\t<tr><th scope=row>2012</th><td>1789.05</td><td>1779.62</td><td>1785.73</td><td>1721.70</td><td>1807.83</td><td>1805.29</td><td>1912.23</td><td>2025.00</td><td>2036.20</td><td>1898.87</td><td>1930.86</td><td>1837.80</td></tr>\n",
       "\t<tr><th scope=row>2013</th><td>1710.73</td><td>1646.40</td><td>1662.25</td><td>1761.45</td><td>1806.68</td><td>1730.30</td><td>1764.57</td><td>1865.50</td><td>1958.81</td><td>2001.91</td><td>2042.05</td><td>2060.86</td></tr>\n",
       "\t<tr><th scope=row>2014</th><td>2070.82</td><td>2191.20</td><td>2199.48</td><td>2209.10</td><td>2205.86</td><td>2334.86</td><td>2361.22</td><td>2456.19</td><td>2497.64</td><td>2446.00</td><td>2332.30</td><td>2400.73</td></tr>\n",
       "\t<tr><th scope=row>2015</th><td>2514.76</td><td>2595.65</td><td>2662.59</td><td>2653.43</td><td>2773.05</td><td>2886.50</td><td>3023.78</td><td>2832.05</td><td>2920.68</td><td>2848.09</td><td>3134.86</td><td>3072.68</td></tr>\n",
       "\t<tr><th scope=row>2016</th><td>2720.15</td><td>2628.86</td><td>2762.23</td><td>2713.90</td><td>2738.29</td><td>2779.36</td><td>2757.90</td><td>2706.39</td><td>2569.27</td><td>2460.05</td><td>2318.86</td><td>2168.71</td></tr>\n",
       "\t<tr><th scope=row>2017</th><td>2064.67</td><td>1910.20</td><td>1924.26</td><td>1830.37</td><td>1794.77</td><td>1778.95</td><td>1726.10</td><td>1683.57</td><td>1677.24</td><td>1783.95</td><td>1812.32</td><td>1620.25</td></tr>\n",
       "\t<tr><th scope=row>2018</th><td>1599.77</td><td>1719.75</td><td>2030.00</td><td>2139.86</td><td>2249.73</td><td>2064.62</td><td>2017.45</td><td>1880.43</td><td>1882.15</td><td>1858.39</td><td>1922.82</td><td>1940.35</td></tr>\n",
       "\t<tr><th scope=row>2019</th><td>1982.14</td><td>1987.95</td><td>1948.19</td><td>2074.95</td><td>2069.32</td><td>2131.85</td><td>2154.70</td><td>1972.36</td><td>2093.19</td><td>2202.57</td><td>2280.90</td><td>2200.00</td></tr>\n",
       "\t<tr><th scope=row>2020</th><td>2346.14</td><td>2490.95</td><td>2118.68</td><td>2089.05</td><td>2123.75</td><td>1979.50</td><td>1831.07</td><td>1969.46</td><td>2070.42</td><td>1947.42</td><td>1992.33</td><td>1978.37</td></tr>\n",
       "\t<tr><th scope=row>2021</th><td>1965.34</td><td>1988.79</td><td>2068.94</td><td>1977.85</td><td>1986.69</td><td>1965.17</td><td>1968.23</td><td>2111.52</td><td>2173.62</td><td>2213.91</td><td>2098.42</td><td>2109.78</td></tr>\n",
       "\t<tr><th scope=row>2022</th><td>2179.34</td><td>2247.93</td><td>2234.49</td><td>2273.07</td><td>2237.81</td><td>2197.33</td><td>2200.62</td><td>2242.10</td><td>2243.96</td><td>2281.01</td><td>2333.84</td><td>2319.35</td></tr>\n",
       "\t<tr><th scope=row>2023</th><td>2357.59</td><td>2418.26</td><td>2491.37</td><td>2575.00</td><td>2673.46</td><td>2880.87</td><td>3028.41</td><td>3157.00</td><td>3395.58</td><td>3495.03</td><td>3799.15</td><td>3897.04</td></tr>\n",
       "\t<tr><th scope=row>2024</th><td>4087.54</td><td>5226.12</td><td>6510.16</td><td>       </td><td>       </td><td>       </td><td>       </td><td>       </td><td>       </td><td>       </td><td>       </td><td>       </td></tr>\n",
       "</tbody>\n",
       "</table>\n"
      ],
      "text/latex": [
       "A Time Series: 31 × 12\n",
       "\\begin{tabular}{r|llllllllllll}\n",
       "  & Jan & Feb & Mar & Apr & May & Jun & Jul & Aug & Sep & Oct & Nov & Dec\\\\\n",
       "\\hline\n",
       "\t1994 &         &         &         &         &         &         &         &         &         & 1447.95 & 1437.05 & 1399.43\\\\\n",
       "\t1995 & 1468.86 & 1510.55 & 1484.91 & 1469.26 & 1445.32 & 1437.14 & 1364.10 & 1413.00 & 1396.86 & 1394.50 & 1436.50 & 1378.84\\\\\n",
       "\t1996 & 1349.50 & 1369.81 & 1338.62 & 1456.24 & 1524.09 & 1537.60 & 1495.70 & 1499.86 & 1476.14 & 1477.04 & 1469.33 & 1474.30\\\\\n",
       "\t1997 & 1428.45 & 1372.70 & 1523.60 & 1571.05 & 1568.29 & 1688.38 & 1677.30 & 1652.14 & 1769.64 & 1741.43 & 1694.80 & 1737.29\\\\\n",
       "\t1998 & 1668.10 & 1640.85 & 1719.18 & 1726.38 & 1794.35 & 1721.86 & 1712.17 & 1683.62 & 1687.32 & 1646.41 & 1388.52 & 1288.09\\\\\n",
       "\t1999 & 1254.90 & 1257.40 & 1206.52 & 1108.00 &  998.75 & 1119.73 & 1074.77 &  980.86 & 1009.86 &  954.57 &  893.64 &  909.14\\\\\n",
       "\t2000 &  906.38 &  874.14 &  966.70 &  962.95 & 1003.68 &  991.00 &  996.62 &  970.35 & 1013.57 & 1027.73 &  936.09 &  893.75\\\\\n",
       "\t2001 & 1031.86 & 1257.00 & 1236.73 & 1212.60 & 1233.23 & 1140.10 & 1123.82 & 1147.17 & 1118.85 & 1197.35 & 1397.77 & 1497.00\\\\\n",
       "\t2002 & 1567.59 & 1713.35 & 1815.35 & 1770.91 & 1749.78 & 1734.60 & 1881.78 & 2004.27 & 2206.19 & 2246.57 & 1811.29 & 1985.00\\\\\n",
       "\t2003 & 2055.27 & 2076.40 & 1847.48 & 1774.86 & 1515.81 & 1352.76 & 1372.35 & 1410.62 & 1450.73 & 1265.57 & 1289.90 & 1324.14\\\\\n",
       "\t2004 & 1286.43 & 1240.85 & 1226.57 & 1199.19 & 1178.15 & 1159.27 & 1271.91 & 1418.73 & 1261.05 & 1187.76 & 1278.18 & 1230.00\\\\\n",
       "\t2005 & 1181.00 & 1255.70 & 1331.45 & 1225.67 & 1190.52 & 1266.41 & 1237.38 & 1205.48 & 1227.36 & 1208.24 & 1217.23 & 1279.71\\\\\n",
       "\t2006 & 1301.38 & 1294.30 & 1283.83 & 1263.95 & 1248.86 & 1269.32 & 1321.38 & 1257.26 & 1231.33 & 1212.32 & 1226.73 & 1289.55\\\\\n",
       "\t2007 & 1310.18 & 1386.45 & 1452.59 & 1462.55 & 1483.32 & 1502.57 & 1568.77 & 1395.91 & 1393.45 & 1345.65 & 1339.77 & 1452.05\\\\\n",
       "\t2008 & 1505.59 & 1709.48 & 1721.05 & 1668.32 & 1729.43 & 1941.90 & 1874.61 & 1880.14 & 1866.73 & 1692.52 & 1622.80 & 1816.23\\\\\n",
       "\t2009 & 1985.29 & 2068.10 & 1922.59 & 1935.05 & 1817.80 & 1926.50 & 1980.87 & 2072.52 & 2157.45 & 2276.14 & 2268.90 & 2399.41\\\\\n",
       "\t2010 & 2470.30 & 2395.70 & 2276.96 & 2402.38 & 2528.90 & 2643.59 & 2523.64 & 2380.05 & 2196.36 & 2106.24 & 2133.95 & 2314.13\\\\\n",
       "\t2011 & 2366.30 & 2542.10 & 2421.22 & 2168.05 & 2142.33 & 2094.14 & 2217.00 & 2137.70 & 2087.59 & 1952.48 & 1863.82 & 1670.38\\\\\n",
       "\t2012 & 1789.05 & 1779.62 & 1785.73 & 1721.70 & 1807.83 & 1805.29 & 1912.23 & 2025.00 & 2036.20 & 1898.87 & 1930.86 & 1837.80\\\\\n",
       "\t2013 & 1710.73 & 1646.40 & 1662.25 & 1761.45 & 1806.68 & 1730.30 & 1764.57 & 1865.50 & 1958.81 & 2001.91 & 2042.05 & 2060.86\\\\\n",
       "\t2014 & 2070.82 & 2191.20 & 2199.48 & 2209.10 & 2205.86 & 2334.86 & 2361.22 & 2456.19 & 2497.64 & 2446.00 & 2332.30 & 2400.73\\\\\n",
       "\t2015 & 2514.76 & 2595.65 & 2662.59 & 2653.43 & 2773.05 & 2886.50 & 3023.78 & 2832.05 & 2920.68 & 2848.09 & 3134.86 & 3072.68\\\\\n",
       "\t2016 & 2720.15 & 2628.86 & 2762.23 & 2713.90 & 2738.29 & 2779.36 & 2757.90 & 2706.39 & 2569.27 & 2460.05 & 2318.86 & 2168.71\\\\\n",
       "\t2017 & 2064.67 & 1910.20 & 1924.26 & 1830.37 & 1794.77 & 1778.95 & 1726.10 & 1683.57 & 1677.24 & 1783.95 & 1812.32 & 1620.25\\\\\n",
       "\t2018 & 1599.77 & 1719.75 & 2030.00 & 2139.86 & 2249.73 & 2064.62 & 2017.45 & 1880.43 & 1882.15 & 1858.39 & 1922.82 & 1940.35\\\\\n",
       "\t2019 & 1982.14 & 1987.95 & 1948.19 & 2074.95 & 2069.32 & 2131.85 & 2154.70 & 1972.36 & 2093.19 & 2202.57 & 2280.90 & 2200.00\\\\\n",
       "\t2020 & 2346.14 & 2490.95 & 2118.68 & 2089.05 & 2123.75 & 1979.50 & 1831.07 & 1969.46 & 2070.42 & 1947.42 & 1992.33 & 1978.37\\\\\n",
       "\t2021 & 1965.34 & 1988.79 & 2068.94 & 1977.85 & 1986.69 & 1965.17 & 1968.23 & 2111.52 & 2173.62 & 2213.91 & 2098.42 & 2109.78\\\\\n",
       "\t2022 & 2179.34 & 2247.93 & 2234.49 & 2273.07 & 2237.81 & 2197.33 & 2200.62 & 2242.10 & 2243.96 & 2281.01 & 2333.84 & 2319.35\\\\\n",
       "\t2023 & 2357.59 & 2418.26 & 2491.37 & 2575.00 & 2673.46 & 2880.87 & 3028.41 & 3157.00 & 3395.58 & 3495.03 & 3799.15 & 3897.04\\\\\n",
       "\t2024 & 4087.54 & 5226.12 & 6510.16 &         &         &         &         &         &         &         &         &        \\\\\n",
       "\\end{tabular}\n"
      ],
      "text/markdown": [
       "\n",
       "A Time Series: 31 × 12\n",
       "\n",
       "| <!--/--> | Jan | Feb | Mar | Apr | May | Jun | Jul | Aug | Sep | Oct | Nov | Dec |\n",
       "|---|---|---|---|---|---|---|---|---|---|---|---|---|\n",
       "| 1994 | <!----> | <!----> | <!----> | <!----> | <!----> | <!----> | <!----> | <!----> | <!----> | 1447.95 | 1437.05 | 1399.43 |\n",
       "| 1995 | 1468.86 | 1510.55 | 1484.91 | 1469.26 | 1445.32 | 1437.14 | 1364.10 | 1413.00 | 1396.86 | 1394.50 | 1436.50 | 1378.84 |\n",
       "| 1996 | 1349.50 | 1369.81 | 1338.62 | 1456.24 | 1524.09 | 1537.60 | 1495.70 | 1499.86 | 1476.14 | 1477.04 | 1469.33 | 1474.30 |\n",
       "| 1997 | 1428.45 | 1372.70 | 1523.60 | 1571.05 | 1568.29 | 1688.38 | 1677.30 | 1652.14 | 1769.64 | 1741.43 | 1694.80 | 1737.29 |\n",
       "| 1998 | 1668.10 | 1640.85 | 1719.18 | 1726.38 | 1794.35 | 1721.86 | 1712.17 | 1683.62 | 1687.32 | 1646.41 | 1388.52 | 1288.09 |\n",
       "| 1999 | 1254.90 | 1257.40 | 1206.52 | 1108.00 |  998.75 | 1119.73 | 1074.77 |  980.86 | 1009.86 |  954.57 |  893.64 |  909.14 |\n",
       "| 2000 |  906.38 |  874.14 |  966.70 |  962.95 | 1003.68 |  991.00 |  996.62 |  970.35 | 1013.57 | 1027.73 |  936.09 |  893.75 |\n",
       "| 2001 | 1031.86 | 1257.00 | 1236.73 | 1212.60 | 1233.23 | 1140.10 | 1123.82 | 1147.17 | 1118.85 | 1197.35 | 1397.77 | 1497.00 |\n",
       "| 2002 | 1567.59 | 1713.35 | 1815.35 | 1770.91 | 1749.78 | 1734.60 | 1881.78 | 2004.27 | 2206.19 | 2246.57 | 1811.29 | 1985.00 |\n",
       "| 2003 | 2055.27 | 2076.40 | 1847.48 | 1774.86 | 1515.81 | 1352.76 | 1372.35 | 1410.62 | 1450.73 | 1265.57 | 1289.90 | 1324.14 |\n",
       "| 2004 | 1286.43 | 1240.85 | 1226.57 | 1199.19 | 1178.15 | 1159.27 | 1271.91 | 1418.73 | 1261.05 | 1187.76 | 1278.18 | 1230.00 |\n",
       "| 2005 | 1181.00 | 1255.70 | 1331.45 | 1225.67 | 1190.52 | 1266.41 | 1237.38 | 1205.48 | 1227.36 | 1208.24 | 1217.23 | 1279.71 |\n",
       "| 2006 | 1301.38 | 1294.30 | 1283.83 | 1263.95 | 1248.86 | 1269.32 | 1321.38 | 1257.26 | 1231.33 | 1212.32 | 1226.73 | 1289.55 |\n",
       "| 2007 | 1310.18 | 1386.45 | 1452.59 | 1462.55 | 1483.32 | 1502.57 | 1568.77 | 1395.91 | 1393.45 | 1345.65 | 1339.77 | 1452.05 |\n",
       "| 2008 | 1505.59 | 1709.48 | 1721.05 | 1668.32 | 1729.43 | 1941.90 | 1874.61 | 1880.14 | 1866.73 | 1692.52 | 1622.80 | 1816.23 |\n",
       "| 2009 | 1985.29 | 2068.10 | 1922.59 | 1935.05 | 1817.80 | 1926.50 | 1980.87 | 2072.52 | 2157.45 | 2276.14 | 2268.90 | 2399.41 |\n",
       "| 2010 | 2470.30 | 2395.70 | 2276.96 | 2402.38 | 2528.90 | 2643.59 | 2523.64 | 2380.05 | 2196.36 | 2106.24 | 2133.95 | 2314.13 |\n",
       "| 2011 | 2366.30 | 2542.10 | 2421.22 | 2168.05 | 2142.33 | 2094.14 | 2217.00 | 2137.70 | 2087.59 | 1952.48 | 1863.82 | 1670.38 |\n",
       "| 2012 | 1789.05 | 1779.62 | 1785.73 | 1721.70 | 1807.83 | 1805.29 | 1912.23 | 2025.00 | 2036.20 | 1898.87 | 1930.86 | 1837.80 |\n",
       "| 2013 | 1710.73 | 1646.40 | 1662.25 | 1761.45 | 1806.68 | 1730.30 | 1764.57 | 1865.50 | 1958.81 | 2001.91 | 2042.05 | 2060.86 |\n",
       "| 2014 | 2070.82 | 2191.20 | 2199.48 | 2209.10 | 2205.86 | 2334.86 | 2361.22 | 2456.19 | 2497.64 | 2446.00 | 2332.30 | 2400.73 |\n",
       "| 2015 | 2514.76 | 2595.65 | 2662.59 | 2653.43 | 2773.05 | 2886.50 | 3023.78 | 2832.05 | 2920.68 | 2848.09 | 3134.86 | 3072.68 |\n",
       "| 2016 | 2720.15 | 2628.86 | 2762.23 | 2713.90 | 2738.29 | 2779.36 | 2757.90 | 2706.39 | 2569.27 | 2460.05 | 2318.86 | 2168.71 |\n",
       "| 2017 | 2064.67 | 1910.20 | 1924.26 | 1830.37 | 1794.77 | 1778.95 | 1726.10 | 1683.57 | 1677.24 | 1783.95 | 1812.32 | 1620.25 |\n",
       "| 2018 | 1599.77 | 1719.75 | 2030.00 | 2139.86 | 2249.73 | 2064.62 | 2017.45 | 1880.43 | 1882.15 | 1858.39 | 1922.82 | 1940.35 |\n",
       "| 2019 | 1982.14 | 1987.95 | 1948.19 | 2074.95 | 2069.32 | 2131.85 | 2154.70 | 1972.36 | 2093.19 | 2202.57 | 2280.90 | 2200.00 |\n",
       "| 2020 | 2346.14 | 2490.95 | 2118.68 | 2089.05 | 2123.75 | 1979.50 | 1831.07 | 1969.46 | 2070.42 | 1947.42 | 1992.33 | 1978.37 |\n",
       "| 2021 | 1965.34 | 1988.79 | 2068.94 | 1977.85 | 1986.69 | 1965.17 | 1968.23 | 2111.52 | 2173.62 | 2213.91 | 2098.42 | 2109.78 |\n",
       "| 2022 | 2179.34 | 2247.93 | 2234.49 | 2273.07 | 2237.81 | 2197.33 | 2200.62 | 2242.10 | 2243.96 | 2281.01 | 2333.84 | 2319.35 |\n",
       "| 2023 | 2357.59 | 2418.26 | 2491.37 | 2575.00 | 2673.46 | 2880.87 | 3028.41 | 3157.00 | 3395.58 | 3495.03 | 3799.15 | 3897.04 |\n",
       "| 2024 | 4087.54 | 5226.12 | 6510.16 | <!----> | <!----> | <!----> | <!----> | <!----> | <!----> | <!----> | <!----> | <!----> |\n",
       "\n"
      ],
      "text/plain": [
       "     Jan     Feb     Mar     Apr     May     Jun     Jul     Aug     Sep    \n",
       "1994                                                                        \n",
       "1995 1468.86 1510.55 1484.91 1469.26 1445.32 1437.14 1364.10 1413.00 1396.86\n",
       "1996 1349.50 1369.81 1338.62 1456.24 1524.09 1537.60 1495.70 1499.86 1476.14\n",
       "1997 1428.45 1372.70 1523.60 1571.05 1568.29 1688.38 1677.30 1652.14 1769.64\n",
       "1998 1668.10 1640.85 1719.18 1726.38 1794.35 1721.86 1712.17 1683.62 1687.32\n",
       "1999 1254.90 1257.40 1206.52 1108.00  998.75 1119.73 1074.77  980.86 1009.86\n",
       "2000  906.38  874.14  966.70  962.95 1003.68  991.00  996.62  970.35 1013.57\n",
       "2001 1031.86 1257.00 1236.73 1212.60 1233.23 1140.10 1123.82 1147.17 1118.85\n",
       "2002 1567.59 1713.35 1815.35 1770.91 1749.78 1734.60 1881.78 2004.27 2206.19\n",
       "2003 2055.27 2076.40 1847.48 1774.86 1515.81 1352.76 1372.35 1410.62 1450.73\n",
       "2004 1286.43 1240.85 1226.57 1199.19 1178.15 1159.27 1271.91 1418.73 1261.05\n",
       "2005 1181.00 1255.70 1331.45 1225.67 1190.52 1266.41 1237.38 1205.48 1227.36\n",
       "2006 1301.38 1294.30 1283.83 1263.95 1248.86 1269.32 1321.38 1257.26 1231.33\n",
       "2007 1310.18 1386.45 1452.59 1462.55 1483.32 1502.57 1568.77 1395.91 1393.45\n",
       "2008 1505.59 1709.48 1721.05 1668.32 1729.43 1941.90 1874.61 1880.14 1866.73\n",
       "2009 1985.29 2068.10 1922.59 1935.05 1817.80 1926.50 1980.87 2072.52 2157.45\n",
       "2010 2470.30 2395.70 2276.96 2402.38 2528.90 2643.59 2523.64 2380.05 2196.36\n",
       "2011 2366.30 2542.10 2421.22 2168.05 2142.33 2094.14 2217.00 2137.70 2087.59\n",
       "2012 1789.05 1779.62 1785.73 1721.70 1807.83 1805.29 1912.23 2025.00 2036.20\n",
       "2013 1710.73 1646.40 1662.25 1761.45 1806.68 1730.30 1764.57 1865.50 1958.81\n",
       "2014 2070.82 2191.20 2199.48 2209.10 2205.86 2334.86 2361.22 2456.19 2497.64\n",
       "2015 2514.76 2595.65 2662.59 2653.43 2773.05 2886.50 3023.78 2832.05 2920.68\n",
       "2016 2720.15 2628.86 2762.23 2713.90 2738.29 2779.36 2757.90 2706.39 2569.27\n",
       "2017 2064.67 1910.20 1924.26 1830.37 1794.77 1778.95 1726.10 1683.57 1677.24\n",
       "2018 1599.77 1719.75 2030.00 2139.86 2249.73 2064.62 2017.45 1880.43 1882.15\n",
       "2019 1982.14 1987.95 1948.19 2074.95 2069.32 2131.85 2154.70 1972.36 2093.19\n",
       "2020 2346.14 2490.95 2118.68 2089.05 2123.75 1979.50 1831.07 1969.46 2070.42\n",
       "2021 1965.34 1988.79 2068.94 1977.85 1986.69 1965.17 1968.23 2111.52 2173.62\n",
       "2022 2179.34 2247.93 2234.49 2273.07 2237.81 2197.33 2200.62 2242.10 2243.96\n",
       "2023 2357.59 2418.26 2491.37 2575.00 2673.46 2880.87 3028.41 3157.00 3395.58\n",
       "2024 4087.54 5226.12 6510.16                                                \n",
       "     Oct     Nov     Dec    \n",
       "1994 1447.95 1437.05 1399.43\n",
       "1995 1394.50 1436.50 1378.84\n",
       "1996 1477.04 1469.33 1474.30\n",
       "1997 1741.43 1694.80 1737.29\n",
       "1998 1646.41 1388.52 1288.09\n",
       "1999  954.57  893.64  909.14\n",
       "2000 1027.73  936.09  893.75\n",
       "2001 1197.35 1397.77 1497.00\n",
       "2002 2246.57 1811.29 1985.00\n",
       "2003 1265.57 1289.90 1324.14\n",
       "2004 1187.76 1278.18 1230.00\n",
       "2005 1208.24 1217.23 1279.71\n",
       "2006 1212.32 1226.73 1289.55\n",
       "2007 1345.65 1339.77 1452.05\n",
       "2008 1692.52 1622.80 1816.23\n",
       "2009 2276.14 2268.90 2399.41\n",
       "2010 2106.24 2133.95 2314.13\n",
       "2011 1952.48 1863.82 1670.38\n",
       "2012 1898.87 1930.86 1837.80\n",
       "2013 2001.91 2042.05 2060.86\n",
       "2014 2446.00 2332.30 2400.73\n",
       "2015 2848.09 3134.86 3072.68\n",
       "2016 2460.05 2318.86 2168.71\n",
       "2017 1783.95 1812.32 1620.25\n",
       "2018 1858.39 1922.82 1940.35\n",
       "2019 2202.57 2280.90 2200.00\n",
       "2020 1947.42 1992.33 1978.37\n",
       "2021 2213.91 2098.42 2109.78\n",
       "2022 2281.01 2333.84 2319.35\n",
       "2023 3495.03 3799.15 3897.04\n",
       "2024                        "
      ]
     },
     "metadata": {},
     "output_type": "display_data"
    }
   ],
   "source": [
    "cocoa_price_ts"
   ]
  },
  {
   "cell_type": "code",
   "execution_count": 791,
   "id": "e94b9e3d-c886-4c89-a749-a9a9444fa329",
   "metadata": {},
   "outputs": [],
   "source": [
    "diff_cocoa_price_ts2 <- diff(cocoa_price_ts)"
   ]
  },
  {
   "cell_type": "code",
   "execution_count": 792,
   "id": "cf4e441a-76ca-4fab-99a5-a0b50bf52af4",
   "metadata": {},
   "outputs": [
    {
     "data": {
      "image/png": "[encoded data removed]",
      "text/plain": [
       "plot without title"
      ]
     },
     "metadata": {
      "image/png": {
       "height": 420,
       "width": 420
      }
     },
     "output_type": "display_data"
    }
   ],
   "source": [
    "par(mfrow=c(2,1))\n",
    "plot(cocoa_price_ts)\n",
    "plot(diff_cocoa_price_ts2)"
   ]
  },
  {
   "cell_type": "code",
   "execution_count": 793,
   "id": "15e871db-88de-4cf3-9eec-09dccf203565",
   "metadata": {},
   "outputs": [
    {
     "data": {
      "image/png": "[encoded data removed]",
      "text/plain": [
       "Plot with title \"diff(diff_cocoa_price_ts2)\""
      ]
     },
     "metadata": {
      "image/png": {
       "height": 420,
       "width": 420
      }
     },
     "output_type": "display_data"
    }
   ],
   "source": [
    "par(mfrow=c(2,1))\n",
    "\n",
    "plot(cocoa_price_ts, col='blue', main='Nile')\n",
    "x <- as.vector(time(cocoa_price_ts))\n",
    "y <- ma(cocoa_price_ts, order=5)\n",
    "lines(x, y, col='red', lw=4)\n",
    "y <- ma(cocoa_price_ts, order=20)\n",
    "lines(x, y, col='darkgreen', lw=6)\n",
    "\n",
    "plot(diff_cocoa_price_ts2, col='blue', main='diff(diff_cocoa_price_ts2)')\n",
    "x <- as.vector(time(diff_cocoa_price_ts2))\n",
    "y <- ma(diff_cocoa_price_ts2, order=5)\n",
    "lines(x, y, col='red', lw=4)\n",
    "y <- ma(diff_cocoa_price_ts2, order=20)\n",
    "lines(x, y, col='darkgreen', lw=6)"
   ]
  },
  {
   "cell_type": "code",
   "execution_count": 794,
   "id": "c15c117e-9ab3-4b6a-bd5d-5731ed6dfa2e",
   "metadata": {},
   "outputs": [
    {
     "data": {
      "image/png": "[encoded data removed]",
      "text/plain": [
       "Plot with title \"diff(diff_cocoa_price_ts2)\""
      ]
     },
     "metadata": {
      "image/png": {
       "height": 420,
       "width": 420
      }
     },
     "output_type": "display_data"
    }
   ],
   "source": [
    "plot(diff_cocoa_price_ts2, col='blue', main='diff(diff_cocoa_price_ts2)')\n",
    "x <- as.vector(time(diff_cocoa_price_ts2))\n",
    "y <- ma(diff_cocoa_price_ts2, order=5)\n",
    "lines(x, y, col='red', lw=4)\n",
    "y <- ma(diff_cocoa_price_ts2, order=20)\n",
    "lines(x, y, col='darkgreen', lw=6)"
   ]
  },
  {
   "cell_type": "code",
   "execution_count": 795,
   "id": "6a907bec-cda6-4652-a4e4-874a2c40feda",
   "metadata": {},
   "outputs": [
    {
     "data": {
      "text/html": [
       "'function'"
      ],
      "text/latex": [
       "'function'"
      ],
      "text/markdown": [
       "'function'"
      ],
      "text/plain": [
       "[1] \"function\""
      ]
     },
     "metadata": {},
     "output_type": "display_data"
    }
   ],
   "source": [
    "# Check the class of the arima_model object\n",
    "class(arima)"
   ]
  },
  {
   "cell_type": "code",
   "execution_count": 796,
   "id": "c5eaa4c8-3baa-4370-b8f7-472673f4caea",
   "metadata": {},
   "outputs": [],
   "source": [
    "# Fit ARIMA model\n",
    "arima_model <- arima(train, order = c(1, 1, 1))"
   ]
  },
  {
   "cell_type": "code",
   "execution_count": 797,
   "id": "ff5d823b-b93e-4a70-92d4-15972a4709c3",
   "metadata": {},
   "outputs": [],
   "source": [
    "# Generate forecasts\n",
    "forecast_arima <- forecast:::forecast.Arima(arima_model, h = 6)"
   ]
  },
  {
   "cell_type": "code",
   "execution_count": 798,
   "id": "0b9ff506-e25a-44d1-b099-de791e1b215c",
   "metadata": {},
   "outputs": [
    {
     "data": {
      "image/png": "[encoded data removed]",
      "text/plain": [
       "Plot with title \"Forecasts from ARIMA(1,1,1)\""
      ]
     },
     "metadata": {
      "image/png": {
       "height": 420,
       "width": 420
      }
     },
     "output_type": "display_data"
    }
   ],
   "source": [
    "plot(forecast_arima, lw=2, col='blue')\n",
    "x <- as.vector(time(train))\n",
    "y <- arima_model$fitted\n",
    "lines(x, y, col='black', lw=4)\n",
    "x <- as.vector(time(test))\n",
    "y <- test\n",
    "lines(x, y, col='red', lwd=4)\n"
   ]
  },
  {
   "cell_type": "code",
   "execution_count": 799,
   "id": "dacedb25-2d08-458a-b8fd-7359312d4e8a",
   "metadata": {},
   "outputs": [
    {
     "data": {
      "text/plain": [
       "         Point Forecast    Lo 80    Hi 80    Lo 95    Hi 95\n",
       "Oct 2023       3435.163 3308.780 3561.547 3241.876 3628.450\n",
       "Nov 2023       3431.460 3235.149 3627.772 3131.228 3731.693\n",
       "Dec 2023       3431.807 3185.964 3677.650 3055.822 3807.791\n",
       "Jan 2024       3431.774 3144.718 3718.830 2992.760 3870.789\n",
       "Feb 2024       3431.777 3108.733 3754.822 2937.723 3925.831\n",
       "Mar 2024       3431.777 3076.369 3787.185 2888.227 3975.327"
      ]
     },
     "metadata": {},
     "output_type": "display_data"
    }
   ],
   "source": [
    "forecast_arima"
   ]
  },
  {
   "cell_type": "code",
   "execution_count": 800,
   "id": "0c0b1715-91ca-4eef-a994-0c99f540b1c7",
   "metadata": {},
   "outputs": [
    {
     "data": {
      "text/html": [
       "<table class=\"dataframe\">\n",
       "<caption>A matrix: 2 × 8 of type dbl</caption>\n",
       "<thead>\n",
       "\t<tr><th></th><th scope=col>ME</th><th scope=col>RMSE</th><th scope=col>MAE</th><th scope=col>MPE</th><th scope=col>MAPE</th><th scope=col>MASE</th><th scope=col>ACF1</th><th scope=col>Theil's U</th></tr>\n",
       "</thead>\n",
       "<tbody>\n",
       "\t<tr><th scope=row>Training set</th><td>   5.17454</td><td>  98.47071</td><td>  73.35418</td><td> 0.1075145</td><td> 4.084446</td><td>0.2406495</td><td>-0.002847536</td><td>      NA</td></tr>\n",
       "\t<tr><th scope=row>Test set</th><td>1070.21350</td><td>1498.96394</td><td>1070.21350</td><td>20.1653721</td><td>20.165372</td><td>3.5109972</td><td> 0.384251138</td><td>1.999531</td></tr>\n",
       "</tbody>\n",
       "</table>\n"
      ],
      "text/latex": [
       "A matrix: 2 × 8 of type dbl\n",
       "\\begin{tabular}{r|llllllll}\n",
       "  & ME & RMSE & MAE & MPE & MAPE & MASE & ACF1 & Theil's U\\\\\n",
       "\\hline\n",
       "\tTraining set &    5.17454 &   98.47071 &   73.35418 &  0.1075145 &  4.084446 & 0.2406495 & -0.002847536 &       NA\\\\\n",
       "\tTest set & 1070.21350 & 1498.96394 & 1070.21350 & 20.1653721 & 20.165372 & 3.5109972 &  0.384251138 & 1.999531\\\\\n",
       "\\end{tabular}\n"
      ],
      "text/markdown": [
       "\n",
       "A matrix: 2 × 8 of type dbl\n",
       "\n",
       "| <!--/--> | ME | RMSE | MAE | MPE | MAPE | MASE | ACF1 | Theil's U |\n",
       "|---|---|---|---|---|---|---|---|---|\n",
       "| Training set |    5.17454 |   98.47071 |   73.35418 |  0.1075145 |  4.084446 | 0.2406495 | -0.002847536 |       NA |\n",
       "| Test set | 1070.21350 | 1498.96394 | 1070.21350 | 20.1653721 | 20.165372 | 3.5109972 |  0.384251138 | 1.999531 |\n",
       "\n"
      ],
      "text/plain": [
       "             ME         RMSE       MAE        MPE        MAPE      MASE     \n",
       "Training set    5.17454   98.47071   73.35418  0.1075145  4.084446 0.2406495\n",
       "Test set     1070.21350 1498.96394 1070.21350 20.1653721 20.165372 3.5109972\n",
       "             ACF1         Theil's U\n",
       "Training set -0.002847536       NA \n",
       "Test set      0.384251138 1.999531 "
      ]
     },
     "metadata": {},
     "output_type": "display_data"
    }
   ],
   "source": [
    "accuracy(forecast_arima, test)"
   ]
  },
  {
   "cell_type": "code",
   "execution_count": 801,
   "id": "ed6faa65-a397-4560-ad0f-62ddde8e33ff",
   "metadata": {},
   "outputs": [
    {
     "data": {
      "text/plain": [
       "\n",
       "Call:\n",
       "arima(x = train, order = c(1, 1, 1))\n",
       "\n",
       "Coefficients:\n",
       "          ar1     ma1\n",
       "      -0.0935  0.2821\n",
       "s.e.   0.2007  0.1892\n",
       "\n",
       "sigma^2 estimated as 9725:  log likelihood = -2013.43,  aic = 4032.86"
      ]
     },
     "metadata": {},
     "output_type": "display_data"
    }
   ],
   "source": [
    "arima_model"
   ]
  },
  {
   "cell_type": "code",
   "execution_count": 802,
   "id": "77687e03-49fc-4568-b5c8-50c7dd417773",
   "metadata": {},
   "outputs": [
    {
     "data": {
      "text/html": [
       "<table class=\"dataframe\">\n",
       "<caption>A matrix: 2 × 8 of type dbl</caption>\n",
       "<thead>\n",
       "\t<tr><th></th><th scope=col>ME</th><th scope=col>RMSE</th><th scope=col>MAE</th><th scope=col>MPE</th><th scope=col>MAPE</th><th scope=col>MASE</th><th scope=col>ACF1</th><th scope=col>Theil's U</th></tr>\n",
       "</thead>\n",
       "<tbody>\n",
       "\t<tr><th scope=row>Training set</th><td>   5.17454</td><td>  98.47071</td><td>  73.35418</td><td> 0.1075145</td><td> 4.084446</td><td>0.2406495</td><td>-0.002847536</td><td>      NA</td></tr>\n",
       "\t<tr><th scope=row>Test set</th><td>1070.21350</td><td>1498.96394</td><td>1070.21350</td><td>20.1653721</td><td>20.165372</td><td>3.5109972</td><td> 0.384251138</td><td>1.999531</td></tr>\n",
       "</tbody>\n",
       "</table>\n"
      ],
      "text/latex": [
       "A matrix: 2 × 8 of type dbl\n",
       "\\begin{tabular}{r|llllllll}\n",
       "  & ME & RMSE & MAE & MPE & MAPE & MASE & ACF1 & Theil's U\\\\\n",
       "\\hline\n",
       "\tTraining set &    5.17454 &   98.47071 &   73.35418 &  0.1075145 &  4.084446 & 0.2406495 & -0.002847536 &       NA\\\\\n",
       "\tTest set & 1070.21350 & 1498.96394 & 1070.21350 & 20.1653721 & 20.165372 & 3.5109972 &  0.384251138 & 1.999531\\\\\n",
       "\\end{tabular}\n"
      ],
      "text/markdown": [
       "\n",
       "A matrix: 2 × 8 of type dbl\n",
       "\n",
       "| <!--/--> | ME | RMSE | MAE | MPE | MAPE | MASE | ACF1 | Theil's U |\n",
       "|---|---|---|---|---|---|---|---|---|\n",
       "| Training set |    5.17454 |   98.47071 |   73.35418 |  0.1075145 |  4.084446 | 0.2406495 | -0.002847536 |       NA |\n",
       "| Test set | 1070.21350 | 1498.96394 | 1070.21350 | 20.1653721 | 20.165372 | 3.5109972 |  0.384251138 | 1.999531 |\n",
       "\n"
      ],
      "text/plain": [
       "             ME         RMSE       MAE        MPE        MAPE      MASE     \n",
       "Training set    5.17454   98.47071   73.35418  0.1075145  4.084446 0.2406495\n",
       "Test set     1070.21350 1498.96394 1070.21350 20.1653721 20.165372 3.5109972\n",
       "             ACF1         Theil's U\n",
       "Training set -0.002847536       NA \n",
       "Test set      0.384251138 1.999531 "
      ]
     },
     "metadata": {},
     "output_type": "display_data"
    }
   ],
   "source": [
    "accuracy(forecast_arima, test)"
   ]
  },
  {
   "cell_type": "code",
   "execution_count": 803,
   "id": "3a3f7ca7-6739-4240-943a-49fe30f6356c",
   "metadata": {},
   "outputs": [
    {
     "name": "stdout",
     "output_type": "stream",
     "text": [
      "Augmented Dickey-Fuller Test \n",
      "alternative: stationary \n",
      " \n",
      "Type 1: no drift no trend \n",
      "     lag   ADF p.value\n",
      "[1,]   0 0.897   0.901\n",
      "[2,]   1 0.604   0.818\n",
      "[3,]   2 0.754   0.861\n",
      "[4,]   3 0.767   0.865\n",
      "[5,]   4 0.684   0.841\n",
      "[6,]   5 0.764   0.864\n",
      "Type 2: with drift no trend \n",
      "     lag    ADF p.value\n",
      "[1,]   0 -0.576   0.848\n",
      "[2,]   1 -1.049   0.681\n",
      "[3,]   2 -0.858   0.748\n",
      "[4,]   3 -0.857   0.749\n",
      "[5,]   4 -0.988   0.703\n",
      "[6,]   5 -0.894   0.735\n",
      "Type 3: with drift and trend \n",
      "     lag   ADF p.value\n",
      "[1,]   0 -1.86   0.636\n",
      "[2,]   1 -2.43   0.393\n",
      "[3,]   2 -2.17   0.506\n",
      "[4,]   3 -2.16   0.508\n",
      "[5,]   4 -2.35   0.429\n",
      "[6,]   5 -2.20   0.490\n",
      "---- \n",
      "Note: in fact, p.value = 0.01 means p.value <= 0.01 \n"
     ]
    }
   ],
   "source": [
    "adf.test(train)"
   ]
  },
  {
   "cell_type": "code",
   "execution_count": 804,
   "id": "5877ab79-3cdb-468f-a951-59a7323ed03a",
   "metadata": {},
   "outputs": [
    {
     "data": {
      "text/html": [
       "1"
      ],
      "text/latex": [
       "1"
      ],
      "text/markdown": [
       "1"
      ],
      "text/plain": [
       "[1] 1"
      ]
     },
     "metadata": {},
     "output_type": "display_data"
    }
   ],
   "source": [
    "ndiffs(train)"
   ]
  },
  {
   "cell_type": "code",
   "execution_count": 805,
   "id": "5c4999cd-476a-4cc4-89f1-40856b534318",
   "metadata": {},
   "outputs": [],
   "source": [
    "plot.acf.pacf <- function(ts)\n",
    "{ layout(mat = matrix(c(1,1,2,3), \n",
    "                      nrow=2, ncol=2, byrow=TRUE))\n",
    "  plot(ts)\n",
    "  Acf(ts, main='ACF')\n",
    "  Pacf(ts, main='PACF')\n",
    "}"
   ]
  },
  {
   "cell_type": "code",
   "execution_count": 806,
   "id": "84cfd366-587f-46a7-8a18-d833a6c16e47",
   "metadata": {},
   "outputs": [
    {
     "data": {
      "image/png": "[encoded data removed]",
      "text/plain": [
       "Plot with title \"PACF\""
      ]
     },
     "metadata": {
      "image/png": {
       "height": 420,
       "width": 420
      }
     },
     "output_type": "display_data"
    }
   ],
   "source": [
    "plot.acf.pacf(diff_cocoa_price_ts2)"
   ]
  },
  {
   "cell_type": "code",
   "execution_count": 807,
   "id": "3262835a-4dcb-4ee8-8569-cf2c901a3f16",
   "metadata": {},
   "outputs": [
    {
     "data": {
      "text/plain": [
       "\n",
       "Call:\n",
       "arima(x = train, order = c(1, 1, 1))\n",
       "\n",
       "Coefficients:\n",
       "          ar1     ma1\n",
       "      -0.0935  0.2821\n",
       "s.e.   0.2007  0.1892\n",
       "\n",
       "sigma^2 estimated as 9725:  log likelihood = -2013.43,  aic = 4032.86"
      ]
     },
     "metadata": {},
     "output_type": "display_data"
    }
   ],
   "source": [
    "arima_model <- arima(train, order=c(1,1,1))\n",
    "arima_model"
   ]
  },
  {
   "cell_type": "code",
   "execution_count": 808,
   "id": "86090710-52bb-4d5f-a4a8-c8e3a677087a",
   "metadata": {},
   "outputs": [
    {
     "data": {
      "text/plain": [
       "$call\n",
       "arima(x = train, order = c(1, 1, 1))\n",
       "\n",
       "$series\n",
       "[1] \"train\"\n",
       "\n",
       "$code\n",
       "[1] 0\n",
       "\n",
       "$n.cond\n",
       "[1] 0\n",
       "\n",
       "$nobs\n",
       "[1] 335\n",
       "\n",
       "$model\n",
       "$model$phi\n",
       "[1] -0.09354634\n",
       "\n",
       "$model$theta\n",
       "[1] 0.2821358\n",
       "\n",
       "$model$Delta\n",
       "[1] 1\n",
       "\n",
       "$model$Z\n",
       "[1] 1 0 1\n",
       "\n",
       "$model$a\n",
       "[1]  238.58000   61.90149 3157.00000\n",
       "\n",
       "$model$P\n",
       "             [,1]         [,2]          [,3]\n",
       "[1,] 0.000000e+00 0.000000e+00  3.204287e-23\n",
       "[2,] 0.000000e+00 0.000000e+00  1.141545e-23\n",
       "[3,] 3.204287e-23 1.141545e-23 -3.204287e-23\n",
       "\n",
       "$model$T\n",
       "            [,1] [,2] [,3]\n",
       "[1,] -0.09354634    1    0\n",
       "[2,]  0.00000000    0    0\n",
       "[3,]  1.00000000    0    1\n",
       "\n",
       "$model$V\n",
       "          [,1]       [,2] [,3]\n",
       "[1,] 1.0000000 0.28213582    0\n",
       "[2,] 0.2821358 0.07960062    0\n",
       "[3,] 0.0000000 0.00000000    0\n",
       "\n",
       "$model$h\n",
       "[1] 0\n",
       "\n",
       "$model$Pn\n",
       "              [,1]       [,2]          [,3]\n",
       "[1,]  1.000000e+00 0.28213582 -8.417956e-24\n",
       "[2,]  2.821358e-01 0.07960062  0.000000e+00\n",
       "[3,] -8.417956e-24 0.00000000 -3.204287e-23\n",
       "\n"
      ]
     },
     "metadata": {},
     "output_type": "display_data"
    }
   ],
   "source": [
    "tail(arima_model)"
   ]
  },
  {
   "cell_type": "code",
   "execution_count": 809,
   "id": "83abba70-d9a8-4028-ad94-7b6544578ff9",
   "metadata": {},
   "outputs": [
    {
     "data": {
      "image/png": "[encoded data removed]",
      "text/plain": [
       "plot without title"
      ]
     },
     "metadata": {
      "image/png": {
       "height": 420,
       "width": 420
      }
     },
     "output_type": "display_data"
    }
   ],
   "source": [
    "autoplot(train)"
   ]
  },
  {
   "cell_type": "code",
   "execution_count": 810,
   "id": "3d423ab2-3b68-45c2-9d9a-bb583b60d496",
   "metadata": {},
   "outputs": [
    {
     "name": "stdout",
     "output_type": "stream",
     "text": [
      "Augmented Dickey-Fuller Test \n",
      "alternative: stationary \n",
      " \n",
      "Type 1: no drift no trend \n",
      "     lag   ADF p.value\n",
      "[1,]   0 0.897   0.901\n",
      "[2,]   1 0.604   0.818\n",
      "[3,]   2 0.754   0.861\n",
      "[4,]   3 0.767   0.865\n",
      "[5,]   4 0.684   0.841\n",
      "[6,]   5 0.764   0.864\n",
      "Type 2: with drift no trend \n",
      "     lag    ADF p.value\n",
      "[1,]   0 -0.576   0.848\n",
      "[2,]   1 -1.049   0.681\n",
      "[3,]   2 -0.858   0.748\n",
      "[4,]   3 -0.857   0.749\n",
      "[5,]   4 -0.988   0.703\n",
      "[6,]   5 -0.894   0.735\n",
      "Type 3: with drift and trend \n",
      "     lag   ADF p.value\n",
      "[1,]   0 -1.86   0.636\n",
      "[2,]   1 -2.43   0.393\n",
      "[3,]   2 -2.17   0.506\n",
      "[4,]   3 -2.16   0.508\n",
      "[5,]   4 -2.35   0.429\n",
      "[6,]   5 -2.20   0.490\n",
      "---- \n",
      "Note: in fact, p.value = 0.01 means p.value <= 0.01 \n"
     ]
    }
   ],
   "source": [
    "adf.test(train)"
   ]
  },
  {
   "cell_type": "code",
   "execution_count": 811,
   "id": "55d1a707-3706-4412-a6bf-721917f7ab21",
   "metadata": {},
   "outputs": [
    {
     "data": {
      "text/html": [
       "1"
      ],
      "text/latex": [
       "1"
      ],
      "text/markdown": [
       "1"
      ],
      "text/plain": [
       "[1] 1"
      ]
     },
     "metadata": {},
     "output_type": "display_data"
    }
   ],
   "source": [
    "ndiffs(train)"
   ]
  },
  {
   "cell_type": "code",
   "execution_count": 812,
   "id": "a0ce614e-cdaf-4855-95f0-2a15466ac70c",
   "metadata": {},
   "outputs": [],
   "source": [
    "First_diff <- train %>% diff()"
   ]
  },
  {
   "cell_type": "code",
   "execution_count": 813,
   "id": "ffd298eb-f32a-460b-bd0d-77ce59133dd8",
   "metadata": {},
   "outputs": [
    {
     "data": {
      "image/png": "[encoded data removed]",
      "text/plain": [
       "plot without title"
      ]
     },
     "metadata": {
      "image/png": {
       "height": 420,
       "width": 420
      }
     },
     "output_type": "display_data"
    }
   ],
   "source": [
    "ggtsdisplay (First_diff,main=\" 1st Difference\")"
   ]
  },
  {
   "cell_type": "markdown",
   "id": "4c7902d5-bd4e-4c1a-b0a0-90985ba15402",
   "metadata": {},
   "source": [
    "## **Fitting the models**"
   ]
  },
  {
   "cell_type": "markdown",
   "id": "fc961fe7-1692-41d5-a54f-58eb4977da18",
   "metadata": {},
   "source": [
    "**ARIMA(0,1,1)**"
   ]
  },
  {
   "cell_type": "code",
   "execution_count": 814,
   "id": "8c49ade4-da19-427e-9d4e-7746089e0d2f",
   "metadata": {},
   "outputs": [
    {
     "data": {
      "text/html": [
       "<table class=\"dataframe\">\n",
       "<caption>A matrix: 2 × 8 of type dbl</caption>\n",
       "<thead>\n",
       "\t<tr><th></th><th scope=col>ME</th><th scope=col>RMSE</th><th scope=col>MAE</th><th scope=col>MPE</th><th scope=col>MAPE</th><th scope=col>MASE</th><th scope=col>ACF1</th><th scope=col>Theil's U</th></tr>\n",
       "</thead>\n",
       "<tbody>\n",
       "\t<tr><th scope=row>Training set</th><td>   5.091</td><td>  98.498</td><td>  73.285</td><td> 0.107</td><td> 4.085</td><td>0.240</td><td>-0.008</td><td>   NA</td></tr>\n",
       "\t<tr><th scope=row>Test set</th><td>1064.393</td><td>1494.456</td><td>1064.393</td><td>20.033</td><td>20.033</td><td>3.492</td><td> 0.384</td><td>1.993</td></tr>\n",
       "</tbody>\n",
       "</table>\n"
      ],
      "text/latex": [
       "A matrix: 2 × 8 of type dbl\n",
       "\\begin{tabular}{r|llllllll}\n",
       "  & ME & RMSE & MAE & MPE & MAPE & MASE & ACF1 & Theil's U\\\\\n",
       "\\hline\n",
       "\tTraining set &    5.091 &   98.498 &   73.285 &  0.107 &  4.085 & 0.240 & -0.008 &    NA\\\\\n",
       "\tTest set & 1064.393 & 1494.456 & 1064.393 & 20.033 & 20.033 & 3.492 &  0.384 & 1.993\\\\\n",
       "\\end{tabular}\n"
      ],
      "text/markdown": [
       "\n",
       "A matrix: 2 × 8 of type dbl\n",
       "\n",
       "| <!--/--> | ME | RMSE | MAE | MPE | MAPE | MASE | ACF1 | Theil's U |\n",
       "|---|---|---|---|---|---|---|---|---|\n",
       "| Training set |    5.091 |   98.498 |   73.285 |  0.107 |  4.085 | 0.240 | -0.008 |    NA |\n",
       "| Test set | 1064.393 | 1494.456 | 1064.393 | 20.033 | 20.033 | 3.492 |  0.384 | 1.993 |\n",
       "\n"
      ],
      "text/plain": [
       "             ME       RMSE     MAE      MPE    MAPE   MASE  ACF1   Theil's U\n",
       "Training set    5.091   98.498   73.285  0.107  4.085 0.240 -0.008    NA    \n",
       "Test set     1064.393 1494.456 1064.393 20.033 20.033 3.492  0.384 1.993    "
      ]
     },
     "metadata": {},
     "output_type": "display_data"
    }
   ],
   "source": [
    "# Fit ARIMA(0,1,1) model\n",
    "arima_011 <- Arima(train, order = c(0, 1, 1))\n",
    "\n",
    "# Generate forecasts\n",
    "forecast_arima_011 <- forecast:::forecast.Arima(arima_011, h = 6)\n",
    "\n",
    "# Evaluate accuracy\n",
    "accuracy_arima_011 <- round(accuracy(forecast_arima_011, test), 3)\n",
    "accuracy_arima_011"
   ]
  },
  {
   "cell_type": "code",
   "execution_count": 815,
   "id": "34c42bd4-8e6c-48f4-aa32-aa846e258393",
   "metadata": {},
   "outputs": [
    {
     "data": {
      "text/plain": [
       "         Point Forecast    Lo 80    Hi 80    Lo 95    Hi 95\n",
       "Oct 2023       3438.114 3311.506 3564.722 3244.483 3631.744\n",
       "Nov 2023       3438.114 3240.791 3635.436 3136.335 3739.892\n",
       "Dec 2023       3438.114 3189.432 3686.795 3057.788 3818.440\n",
       "Jan 2024       3438.114 3146.997 3729.231 2992.889 3883.339\n",
       "Feb 2024       3438.114 3110.005 3766.223 2936.314 3939.913\n",
       "Mar 2024       3438.114 3076.780 3799.447 2885.501 3990.726"
      ]
     },
     "metadata": {},
     "output_type": "display_data"
    }
   ],
   "source": [
    "forecast_arima_011"
   ]
  },
  {
   "cell_type": "code",
   "execution_count": 816,
   "id": "31ac0419-327a-4caa-959c-5d2a980292f0",
   "metadata": {},
   "outputs": [
    {
     "data": {
      "text/plain": [
       "Series: train \n",
       "ARIMA(0,1,1) \n",
       "\n",
       "Coefficients:\n",
       "         ma1\n",
       "      0.1954\n",
       "s.e.  0.0548\n",
       "\n",
       "sigma^2 = 9760:  log likelihood = -2013.53\n",
       "AIC=4031.05   AICc=4031.09   BIC=4038.68\n",
       "\n",
       "Training set error measures:\n",
       "                   ME     RMSE     MAE       MPE     MAPE      MASE\n",
       "Training set 5.090612 98.49839 73.2851 0.1065705 4.084549 0.2404228\n",
       "                     ACF1\n",
       "Training set -0.008168717"
      ]
     },
     "metadata": {},
     "output_type": "display_data"
    }
   ],
   "source": [
    "summary(arima_011)"
   ]
  },
  {
   "cell_type": "markdown",
   "id": "580e6314-f14c-4ca0-a4c1-edcf4b954a4f",
   "metadata": {},
   "source": [
    "**ARIMA(3,1,0)**"
   ]
  },
  {
   "cell_type": "code",
   "execution_count": 817,
   "id": "d16b54fe-e1f9-48c3-bd48-43a43e19be64",
   "metadata": {},
   "outputs": [
    {
     "data": {
      "text/html": [
       "<table class=\"dataframe\">\n",
       "<caption>A matrix: 2 × 8 of type dbl</caption>\n",
       "<thead>\n",
       "\t<tr><th></th><th scope=col>ME</th><th scope=col>RMSE</th><th scope=col>MAE</th><th scope=col>MPE</th><th scope=col>MAPE</th><th scope=col>MASE</th><th scope=col>ACF1</th><th scope=col>Theil's U</th></tr>\n",
       "</thead>\n",
       "<tbody>\n",
       "\t<tr><th scope=row>Training set</th><td>   5.396</td><td>  98.365</td><td>  73.356</td><td> 0.11</td><td> 4.082</td><td>0.241</td><td>-0.002</td><td>   NA</td></tr>\n",
       "\t<tr><th scope=row>Test set</th><td>1089.242</td><td>1514.901</td><td>1089.242</td><td>20.59</td><td>20.590</td><td>3.573</td><td> 0.385</td><td>2.024</td></tr>\n",
       "</tbody>\n",
       "</table>\n"
      ],
      "text/latex": [
       "A matrix: 2 × 8 of type dbl\n",
       "\\begin{tabular}{r|llllllll}\n",
       "  & ME & RMSE & MAE & MPE & MAPE & MASE & ACF1 & Theil's U\\\\\n",
       "\\hline\n",
       "\tTraining set &    5.396 &   98.365 &   73.356 &  0.11 &  4.082 & 0.241 & -0.002 &    NA\\\\\n",
       "\tTest set & 1089.242 & 1514.901 & 1089.242 & 20.59 & 20.590 & 3.573 &  0.385 & 2.024\\\\\n",
       "\\end{tabular}\n"
      ],
      "text/markdown": [
       "\n",
       "A matrix: 2 × 8 of type dbl\n",
       "\n",
       "| <!--/--> | ME | RMSE | MAE | MPE | MAPE | MASE | ACF1 | Theil's U |\n",
       "|---|---|---|---|---|---|---|---|---|\n",
       "| Training set |    5.396 |   98.365 |   73.356 |  0.11 |  4.082 | 0.241 | -0.002 |    NA |\n",
       "| Test set | 1089.242 | 1514.901 | 1089.242 | 20.59 | 20.590 | 3.573 |  0.385 | 2.024 |\n",
       "\n"
      ],
      "text/plain": [
       "             ME       RMSE     MAE      MPE   MAPE   MASE  ACF1   Theil's U\n",
       "Training set    5.396   98.365   73.356  0.11  4.082 0.241 -0.002    NA    \n",
       "Test set     1089.242 1514.901 1089.242 20.59 20.590 3.573  0.385 2.024    "
      ]
     },
     "metadata": {},
     "output_type": "display_data"
    }
   ],
   "source": [
    "# Fit ARIMA(3,1,0) model\n",
    "arima_310 <- Arima(train, order = c(3, 1, 0))\n",
    "\n",
    "# Generate forecasts\n",
    "forecast_arima_310 <- forecast:::forecast.Arima(arima_310, h = 6)\n",
    "\n",
    "# Evaluate accuracy and round to 3 decimal places\n",
    "accuracy_arima_310 <- round(accuracy(forecast_arima_310, test), 3)\n",
    "\n",
    "# Print the accuracy measures\n",
    "accuracy_arima_310\n"
   ]
  },
  {
   "cell_type": "code",
   "execution_count": 818,
   "id": "ed7b964e-8972-4b5a-9d01-f007d72a4b0d",
   "metadata": {},
   "outputs": [
    {
     "data": {
      "text/plain": [
       "         Point Forecast    Lo 80    Hi 80    Lo 95    Hi 95\n",
       "Oct 2023       3429.137 3302.321 3555.953 3235.188 3623.086\n",
       "Nov 2023       3415.160 3218.235 3612.085 3113.990 3716.331\n",
       "Dec 2023       3408.670 3164.317 3653.023 3034.965 3782.375\n",
       "Jan 2024       3408.450 3126.338 3690.562 2976.997 3839.903\n",
       "Feb 2024       3409.008 3093.762 3724.255 2926.881 3891.136\n",
       "Mar 2024       3409.161 3063.835 3754.487 2881.031 3937.292"
      ]
     },
     "metadata": {},
     "output_type": "display_data"
    }
   ],
   "source": [
    "forecast_arima_310"
   ]
  },
  {
   "cell_type": "code",
   "execution_count": 819,
   "id": "17a50a3a-9930-4a69-967f-d320b6d74a08",
   "metadata": {},
   "outputs": [
    {
     "data": {
      "text/plain": [
       "Series: train \n",
       "ARIMA(3,1,0) \n",
       "\n",
       "Coefficients:\n",
       "        ar1      ar2      ar3\n",
       "      0.188  -0.0826  -0.0046\n",
       "s.e.  0.055   0.0557   0.0552\n",
       "\n",
       "sigma^2 = 9792:  log likelihood = -2013.07\n",
       "AIC=4034.15   AICc=4034.27   BIC=4049.4\n",
       "\n",
       "Training set error measures:\n",
       "                   ME     RMSE      MAE       MPE     MAPE      MASE\n",
       "Training set 5.395675 98.36459 73.35635 0.1103345 4.081893 0.2406566\n",
       "                     ACF1\n",
       "Training set -0.001983463"
      ]
     },
     "metadata": {},
     "output_type": "display_data"
    }
   ],
   "source": [
    "summary (arima_310)"
   ]
  },
  {
   "cell_type": "markdown",
   "id": "ce7884cc-9d9d-4f70-bbc6-e6776808a75e",
   "metadata": {},
   "source": [
    "**ARIMA(2,1,0)**"
   ]
  },
  {
   "cell_type": "code",
   "execution_count": 820,
   "id": "0c7518c0-c39d-4a70-8d9d-79d83891e969",
   "metadata": {},
   "outputs": [
    {
     "data": {
      "text/html": [
       "<table class=\"dataframe\">\n",
       "<caption>A matrix: 2 × 8 of type dbl</caption>\n",
       "<thead>\n",
       "\t<tr><th></th><th scope=col>ME</th><th scope=col>RMSE</th><th scope=col>MAE</th><th scope=col>MPE</th><th scope=col>MAPE</th><th scope=col>MASE</th><th scope=col>ACF1</th><th scope=col>Theil's U</th></tr>\n",
       "</thead>\n",
       "<tbody>\n",
       "\t<tr><th scope=row>Training set</th><td>   5.377</td><td>  98.366</td><td>  73.355</td><td> 0.110</td><td> 4.081</td><td>0.241</td><td>-0.003</td><td>   NA</td></tr>\n",
       "\t<tr><th scope=row>Test set</th><td>1087.266</td><td>1513.170</td><td>1087.266</td><td>20.547</td><td>20.547</td><td>3.567</td><td> 0.384</td><td>2.021</td></tr>\n",
       "</tbody>\n",
       "</table>\n"
      ],
      "text/latex": [
       "A matrix: 2 × 8 of type dbl\n",
       "\\begin{tabular}{r|llllllll}\n",
       "  & ME & RMSE & MAE & MPE & MAPE & MASE & ACF1 & Theil's U\\\\\n",
       "\\hline\n",
       "\tTraining set &    5.377 &   98.366 &   73.355 &  0.110 &  4.081 & 0.241 & -0.003 &    NA\\\\\n",
       "\tTest set & 1087.266 & 1513.170 & 1087.266 & 20.547 & 20.547 & 3.567 &  0.384 & 2.021\\\\\n",
       "\\end{tabular}\n"
      ],
      "text/markdown": [
       "\n",
       "A matrix: 2 × 8 of type dbl\n",
       "\n",
       "| <!--/--> | ME | RMSE | MAE | MPE | MAPE | MASE | ACF1 | Theil's U |\n",
       "|---|---|---|---|---|---|---|---|---|\n",
       "| Training set |    5.377 |   98.366 |   73.355 |  0.110 |  4.081 | 0.241 | -0.003 |    NA |\n",
       "| Test set | 1087.266 | 1513.170 | 1087.266 | 20.547 | 20.547 | 3.567 |  0.384 | 2.021 |\n",
       "\n"
      ],
      "text/plain": [
       "             ME       RMSE     MAE      MPE    MAPE   MASE  ACF1   Theil's U\n",
       "Training set    5.377   98.366   73.355  0.110  4.081 0.241 -0.003    NA    \n",
       "Test set     1087.266 1513.170 1087.266 20.547 20.547 3.567  0.384 2.021    "
      ]
     },
     "metadata": {},
     "output_type": "display_data"
    }
   ],
   "source": [
    "# Fit ARIMA(2,1,0) model\n",
    "arima_210 <- Arima(train, order = c(2, 1, 0))\n",
    "\n",
    "# Generate forecasts\n",
    "forecast_arima_210 <- forecast:::forecast.Arima(arima_210, h = 6)\n",
    "\n",
    "# Evaluate accuracy and round to 3 decimal places\n",
    "accuracy_arima_210 <- round(accuracy(forecast_arima_210, test), 3)\n",
    "\n",
    "# Print the accuracy measures\n",
    "accuracy_arima_210\n"
   ]
  },
  {
   "cell_type": "code",
   "execution_count": 821,
   "id": "9d097aa0-8f32-4f37-b027-e02ab4e587b0",
   "metadata": {},
   "outputs": [
    {
     "data": {
      "text/plain": [
       "         Point Forecast    Lo 80    Hi 80    Lo 95    Hi 95\n",
       "Oct 2023       3429.809 3303.182 3556.436 3236.149 3623.469\n",
       "Nov 2023       3416.369 3219.697 3613.041 3115.585 3717.152\n",
       "Dec 2023       3410.983 3166.979 3654.986 3037.812 3784.154\n",
       "Jan 2024       3411.089 3129.130 3693.048 2979.869 3842.308\n",
       "Feb 2024       3411.558 3096.216 3726.899 2929.284 3893.831\n",
       "Mar 2024       3411.637 3066.023 3757.251 2883.066 3940.208"
      ]
     },
     "metadata": {},
     "output_type": "display_data"
    }
   ],
   "source": [
    "forecast_arima_210"
   ]
  },
  {
   "cell_type": "code",
   "execution_count": 822,
   "id": "3aa070de-aff4-4292-b519-099ac92720f9",
   "metadata": {},
   "outputs": [
    {
     "data": {
      "text/plain": [
       "Series: train \n",
       "ARIMA(2,1,0) \n",
       "\n",
       "Coefficients:\n",
       "         ar1      ar2\n",
       "      0.1884  -0.0834\n",
       "s.e.  0.0548   0.0549\n",
       "\n",
       "sigma^2 = 9763:  log likelihood = -2013.08\n",
       "AIC=4032.15   AICc=4032.23   BIC=4043.6\n",
       "\n",
       "Training set error measures:\n",
       "                   ME     RMSE      MAE       MPE    MAPE      MASE\n",
       "Training set 5.377018 98.36561 73.35471 0.1101504 4.08113 0.2406512\n",
       "                     ACF1\n",
       "Training set -0.002610904"
      ]
     },
     "metadata": {},
     "output_type": "display_data"
    }
   ],
   "source": [
    "summary (arima_210)"
   ]
  },
  {
   "cell_type": "markdown",
   "id": "19fab0b1-6d5c-4a2d-ace8-72da2bd6c6c8",
   "metadata": {},
   "source": [
    "**ARIMA(4,1,0)**"
   ]
  },
  {
   "cell_type": "code",
   "execution_count": 823,
   "id": "3f497d14-ceaf-495e-9b79-2c6b5e8b1e03",
   "metadata": {},
   "outputs": [
    {
     "data": {
      "text/html": [
       "<table class=\"dataframe\">\n",
       "<caption>A matrix: 2 × 8 of type dbl</caption>\n",
       "<thead>\n",
       "\t<tr><th></th><th scope=col>ME</th><th scope=col>RMSE</th><th scope=col>MAE</th><th scope=col>MPE</th><th scope=col>MAPE</th><th scope=col>MASE</th><th scope=col>ACF1</th><th scope=col>Theil's U</th></tr>\n",
       "</thead>\n",
       "<tbody>\n",
       "\t<tr><th scope=row>Training set</th><td>   5.173</td><td>  98.185</td><td>  73.266</td><td> 0.110</td><td> 4.079</td><td>0.240</td><td>0.001</td><td>   NA</td></tr>\n",
       "\t<tr><th scope=row>Test set</th><td>1054.349</td><td>1482.282</td><td>1054.349</td><td>19.833</td><td>19.833</td><td>3.459</td><td>0.381</td><td>1.975</td></tr>\n",
       "</tbody>\n",
       "</table>\n"
      ],
      "text/latex": [
       "A matrix: 2 × 8 of type dbl\n",
       "\\begin{tabular}{r|llllllll}\n",
       "  & ME & RMSE & MAE & MPE & MAPE & MASE & ACF1 & Theil's U\\\\\n",
       "\\hline\n",
       "\tTraining set &    5.173 &   98.185 &   73.266 &  0.110 &  4.079 & 0.240 & 0.001 &    NA\\\\\n",
       "\tTest set & 1054.349 & 1482.282 & 1054.349 & 19.833 & 19.833 & 3.459 & 0.381 & 1.975\\\\\n",
       "\\end{tabular}\n"
      ],
      "text/markdown": [
       "\n",
       "A matrix: 2 × 8 of type dbl\n",
       "\n",
       "| <!--/--> | ME | RMSE | MAE | MPE | MAPE | MASE | ACF1 | Theil's U |\n",
       "|---|---|---|---|---|---|---|---|---|\n",
       "| Training set |    5.173 |   98.185 |   73.266 |  0.110 |  4.079 | 0.240 | 0.001 |    NA |\n",
       "| Test set | 1054.349 | 1482.282 | 1054.349 | 19.833 | 19.833 | 3.459 | 0.381 | 1.975 |\n",
       "\n"
      ],
      "text/plain": [
       "             ME       RMSE     MAE      MPE    MAPE   MASE  ACF1  Theil's U\n",
       "Training set    5.173   98.185   73.266  0.110  4.079 0.240 0.001    NA    \n",
       "Test set     1054.349 1482.282 1054.349 19.833 19.833 3.459 0.381 1.975    "
      ]
     },
     "metadata": {},
     "output_type": "display_data"
    }
   ],
   "source": [
    "# Fit ARIMA(4,1,0) model\n",
    "arima_410 <- Arima(train, order = c(4, 1, 0))\n",
    "\n",
    "# Generate forecasts\n",
    "forecast_arima_410 <- forecast:::forecast.Arima(arima_410, h = 6)\n",
    "\n",
    "# Evaluate accuracy and round to 3 decimal places\n",
    "accuracy_arima_410 <- round(accuracy(forecast_arima_410, test), 3)\n",
    "\n",
    "# Print the accuracy measures\n",
    "accuracy_arima_410\n"
   ]
  },
  {
   "cell_type": "code",
   "execution_count": 824,
   "id": "d98555a2-04b2-485b-8839-89e46231a9c8",
   "metadata": {},
   "outputs": [
    {
     "data": {
      "text/plain": [
       "         Point Forecast    Lo 80    Hi 80    Lo 95    Hi 95\n",
       "Oct 2023       3441.276 3314.501 3568.052 3247.390 3635.163\n",
       "Nov 2023       3438.681 3241.709 3635.654 3137.438 3739.925\n",
       "Dec 2023       3438.981 3194.066 3683.896 3064.416 3813.546\n",
       "Jan 2024       3453.094 3170.567 3735.622 3021.006 3885.183\n",
       "Feb 2024       3458.563 3139.745 3777.380 2970.973 3946.152\n",
       "Mar 2024       3458.350 3105.613 3811.088 2918.885 3997.815"
      ]
     },
     "metadata": {},
     "output_type": "display_data"
    }
   ],
   "source": [
    "forecast_arima_410"
   ]
  },
  {
   "cell_type": "code",
   "execution_count": 825,
   "id": "ee951480-c9cd-4b56-b639-d51eaa5ae745",
   "metadata": {},
   "outputs": [
    {
     "data": {
      "text/plain": [
       "Series: train \n",
       "ARIMA(4,1,0) \n",
       "\n",
       "Coefficients:\n",
       "         ar1      ar2      ar3     ar4\n",
       "      0.1891  -0.0768  -0.0148  0.0609\n",
       "s.e.  0.0549   0.0558   0.0558  0.0553\n",
       "\n",
       "sigma^2 = 9786:  log likelihood = -2012.47\n",
       "AIC=4034.94   AICc=4035.12   BIC=4054.01\n",
       "\n",
       "Training set error measures:\n",
       "                   ME     RMSE      MAE       MPE     MAPE      MASE\n",
       "Training set 5.173355 98.18476 73.26567 0.1095519 4.078971 0.2403591\n",
       "                    ACF1\n",
       "Training set 0.001126503"
      ]
     },
     "metadata": {},
     "output_type": "display_data"
    }
   ],
   "source": [
    "summary (arima_410)"
   ]
  },
  {
   "cell_type": "markdown",
   "id": "549c7920-b9e9-4819-84c1-211be4be89b8",
   "metadata": {},
   "source": [
    "**ARIMA(3,1,1)**"
   ]
  },
  {
   "cell_type": "code",
   "execution_count": 826,
   "id": "5731be7e-b876-4e27-add4-89401aade540",
   "metadata": {},
   "outputs": [
    {
     "data": {
      "text/html": [
       "<table class=\"dataframe\">\n",
       "<caption>A matrix: 2 × 8 of type dbl</caption>\n",
       "<thead>\n",
       "\t<tr><th></th><th scope=col>ME</th><th scope=col>RMSE</th><th scope=col>MAE</th><th scope=col>MPE</th><th scope=col>MAPE</th><th scope=col>MASE</th><th scope=col>ACF1</th><th scope=col>Theil's U</th></tr>\n",
       "</thead>\n",
       "<tbody>\n",
       "\t<tr><th scope=row>Training set</th><td>   5.484</td><td>  98.145</td><td>  73.000</td><td> 0.112</td><td> 4.070</td><td>0.239</td><td>0.004</td><td>   NA</td></tr>\n",
       "\t<tr><th scope=row>Test set</th><td>1095.478</td><td>1520.314</td><td>1095.478</td><td>20.728</td><td>20.728</td><td>3.594</td><td>0.385</td><td>2.032</td></tr>\n",
       "</tbody>\n",
       "</table>\n"
      ],
      "text/latex": [
       "A matrix: 2 × 8 of type dbl\n",
       "\\begin{tabular}{r|llllllll}\n",
       "  & ME & RMSE & MAE & MPE & MAPE & MASE & ACF1 & Theil's U\\\\\n",
       "\\hline\n",
       "\tTraining set &    5.484 &   98.145 &   73.000 &  0.112 &  4.070 & 0.239 & 0.004 &    NA\\\\\n",
       "\tTest set & 1095.478 & 1520.314 & 1095.478 & 20.728 & 20.728 & 3.594 & 0.385 & 2.032\\\\\n",
       "\\end{tabular}\n"
      ],
      "text/markdown": [
       "\n",
       "A matrix: 2 × 8 of type dbl\n",
       "\n",
       "| <!--/--> | ME | RMSE | MAE | MPE | MAPE | MASE | ACF1 | Theil's U |\n",
       "|---|---|---|---|---|---|---|---|---|\n",
       "| Training set |    5.484 |   98.145 |   73.000 |  0.112 |  4.070 | 0.239 | 0.004 |    NA |\n",
       "| Test set | 1095.478 | 1520.314 | 1095.478 | 20.728 | 20.728 | 3.594 | 0.385 | 2.032 |\n",
       "\n"
      ],
      "text/plain": [
       "             ME       RMSE     MAE      MPE    MAPE   MASE  ACF1  Theil's U\n",
       "Training set    5.484   98.145   73.000  0.112  4.070 0.239 0.004    NA    \n",
       "Test set     1095.478 1520.314 1095.478 20.728 20.728 3.594 0.385 2.032    "
      ]
     },
     "metadata": {},
     "output_type": "display_data"
    }
   ],
   "source": [
    "# Fit ARIMA(3,1,1) model\n",
    "arima_311 <- Arima(train, order = c(3, 1, 1))\n",
    "\n",
    "# Generate forecasts\n",
    "forecast_arima_311 <- forecast:::forecast.Arima(arima_311, h = 6)\n",
    "\n",
    "# Evaluate accuracy and round to 3 decimal places\n",
    "accuracy_arima_311 <- round(accuracy(forecast_arima_311, test), 3)\n",
    "\n",
    "# Print the accuracy measures\n",
    "accuracy_arima_311\n"
   ]
  },
  {
   "cell_type": "code",
   "execution_count": 827,
   "id": "21389b13-726f-43c0-8efa-53e18c3d2a71",
   "metadata": {},
   "outputs": [
    {
     "data": {
      "text/plain": [
       "         Point Forecast    Lo 80    Hi 80    Lo 95    Hi 95\n",
       "Oct 2023       3429.058 3302.334 3555.782 3235.251 3622.866\n",
       "Nov 2023       3411.945 3215.173 3608.718 3111.008 3712.883\n",
       "Dec 2023       3397.865 3153.168 3642.562 3023.633 3772.097\n",
       "Jan 2024       3400.865 3120.828 3680.903 2972.585 3829.145\n",
       "Feb 2024       3400.197 3087.849 3712.545 2922.501 3877.892\n",
       "Mar 2024       3402.242 3061.112 3743.373 2880.529 3923.956"
      ]
     },
     "metadata": {},
     "output_type": "display_data"
    }
   ],
   "source": [
    "forecast_arima_311"
   ]
  },
  {
   "cell_type": "code",
   "execution_count": 828,
   "id": "e7850635-df49-46f9-87f1-82e93e431160",
   "metadata": {},
   "outputs": [
    {
     "data": {
      "text/plain": [
       "Series: train \n",
       "ARIMA(3,1,1) \n",
       "\n",
       "Coefficients:\n",
       "          ar1     ar2      ar3     ma1\n",
       "      -0.5411  0.0616  -0.1065  0.7290\n",
       "s.e.   0.2367  0.0745   0.0548  0.2327\n",
       "\n",
       "sigma^2 = 9778:  log likelihood = -2012.33\n",
       "AIC=4034.67   AICc=4034.85   BIC=4053.74\n",
       "\n",
       "Training set error measures:\n",
       "                   ME    RMSE      MAE       MPE    MAPE      MASE        ACF1\n",
       "Training set 5.483682 98.1446 72.99999 0.1119815 4.06966 0.2394875 0.003594554"
      ]
     },
     "metadata": {},
     "output_type": "display_data"
    }
   ],
   "source": [
    "summary (arima_311)"
   ]
  },
  {
   "cell_type": "markdown",
   "id": "e75cf441-286d-4a86-a7cc-1559af1e5687",
   "metadata": {},
   "source": [
    "**ARIMA(2,1,1)**"
   ]
  },
  {
   "cell_type": "code",
   "execution_count": 829,
   "id": "bd526d9a-1f2f-47e9-b75e-0e99985e5979",
   "metadata": {},
   "outputs": [
    {
     "data": {
      "text/html": [
       "<table class=\"dataframe\">\n",
       "<caption>A matrix: 2 × 8 of type dbl</caption>\n",
       "<thead>\n",
       "\t<tr><th></th><th scope=col>ME</th><th scope=col>RMSE</th><th scope=col>MAE</th><th scope=col>MPE</th><th scope=col>MAPE</th><th scope=col>MASE</th><th scope=col>ACF1</th><th scope=col>Theil's U</th></tr>\n",
       "</thead>\n",
       "<tbody>\n",
       "\t<tr><th scope=row>Training set</th><td>   5.390</td><td>  98.365</td><td>  73.355</td><td> 0.110</td><td> 4.082</td><td>0.241</td><td>-0.002</td><td>   NA</td></tr>\n",
       "\t<tr><th scope=row>Test set</th><td>1088.634</td><td>1514.376</td><td>1088.634</td><td>20.577</td><td>20.577</td><td>3.571</td><td> 0.385</td><td>2.023</td></tr>\n",
       "</tbody>\n",
       "</table>\n"
      ],
      "text/latex": [
       "A matrix: 2 × 8 of type dbl\n",
       "\\begin{tabular}{r|llllllll}\n",
       "  & ME & RMSE & MAE & MPE & MAPE & MASE & ACF1 & Theil's U\\\\\n",
       "\\hline\n",
       "\tTraining set &    5.390 &   98.365 &   73.355 &  0.110 &  4.082 & 0.241 & -0.002 &    NA\\\\\n",
       "\tTest set & 1088.634 & 1514.376 & 1088.634 & 20.577 & 20.577 & 3.571 &  0.385 & 2.023\\\\\n",
       "\\end{tabular}\n"
      ],
      "text/markdown": [
       "\n",
       "A matrix: 2 × 8 of type dbl\n",
       "\n",
       "| <!--/--> | ME | RMSE | MAE | MPE | MAPE | MASE | ACF1 | Theil's U |\n",
       "|---|---|---|---|---|---|---|---|---|\n",
       "| Training set |    5.390 |   98.365 |   73.355 |  0.110 |  4.082 | 0.241 | -0.002 |    NA |\n",
       "| Test set | 1088.634 | 1514.376 | 1088.634 | 20.577 | 20.577 | 3.571 |  0.385 | 2.023 |\n",
       "\n"
      ],
      "text/plain": [
       "             ME       RMSE     MAE      MPE    MAPE   MASE  ACF1   Theil's U\n",
       "Training set    5.390   98.365   73.355  0.110  4.082 0.241 -0.002    NA    \n",
       "Test set     1088.634 1514.376 1088.634 20.577 20.577 3.571  0.385 2.023    "
      ]
     },
     "metadata": {},
     "output_type": "display_data"
    }
   ],
   "source": [
    "# Fit ARIMA(2,1,1) model\n",
    "arima_211 <- Arima(train, order = c(2, 1, 1))\n",
    "\n",
    "# Generate forecasts\n",
    "forecast_arima_211 <- forecast:::forecast.Arima(arima_211, h = 6)\n",
    "\n",
    "# Evaluate accuracy and round to 3 decimal places\n",
    "accuracy_arima_211 <- round(accuracy(forecast_arima_211, test), 3)\n",
    "\n",
    "# Print the accuracy measures\n",
    "accuracy_arima_211\n"
   ]
  },
  {
   "cell_type": "code",
   "execution_count": 830,
   "id": "4e48ab5d-69a1-41e5-9217-b58f3bb6f666",
   "metadata": {},
   "outputs": [
    {
     "data": {
      "text/plain": [
       "         Point Forecast    Lo 80    Hi 80    Lo 95    Hi 95\n",
       "Oct 2023       3429.354 3302.537 3556.171 3235.403 3623.304\n",
       "Nov 2023       3415.543 3218.596 3612.490 3114.339 3716.747\n",
       "Dec 2023       3409.401 3165.027 3653.774 3035.664 3783.137\n",
       "Jan 2024       3409.257 3127.035 3691.479 2977.636 3840.879\n",
       "Feb 2024       3409.776 3094.323 3725.229 2927.333 3892.220\n",
       "Mar 2024       3409.906 3064.299 3755.513 2881.345 3938.467"
      ]
     },
     "metadata": {},
     "output_type": "display_data"
    }
   ],
   "source": [
    "forecast_arima_211"
   ]
  },
  {
   "cell_type": "code",
   "execution_count": 831,
   "id": "7c33f132-3fe4-4b29-8bc0-a0abebec10bd",
   "metadata": {},
   "outputs": [
    {
     "data": {
      "text/plain": [
       "Series: train \n",
       "ARIMA(2,1,1) \n",
       "\n",
       "Coefficients:\n",
       "         ar1      ar2      ma1\n",
       "      0.2252  -0.0898  -0.0370\n",
       "s.e.  0.4324   0.0910   0.4327\n",
       "\n",
       "sigma^2 = 9792:  log likelihood = -2013.08\n",
       "AIC=4034.15   AICc=4034.27   BIC=4049.41\n",
       "\n",
       "Training set error measures:\n",
       "                   ME     RMSE      MAE      MPE     MAPE      MASE\n",
       "Training set 5.389504 98.36535 73.35491 0.110271 4.081583 0.2406519\n",
       "                     ACF1\n",
       "Training set -0.002263265"
      ]
     },
     "metadata": {},
     "output_type": "display_data"
    }
   ],
   "source": [
    "summary (arima_211)"
   ]
  },
  {
   "cell_type": "markdown",
   "id": "9db91085-5be8-462e-acc8-01940a64ef96",
   "metadata": {},
   "source": [
    "**ARIMA(4,1,1)**"
   ]
  },
  {
   "cell_type": "code",
   "execution_count": 832,
   "id": "9c8c5002-1e08-41c1-a192-65fbaa6a83a4",
   "metadata": {},
   "outputs": [
    {
     "data": {
      "text/html": [
       "<table class=\"dataframe\">\n",
       "<caption>A matrix: 2 × 8 of type dbl</caption>\n",
       "<thead>\n",
       "\t<tr><th></th><th scope=col>ME</th><th scope=col>RMSE</th><th scope=col>MAE</th><th scope=col>MPE</th><th scope=col>MAPE</th><th scope=col>MASE</th><th scope=col>ACF1</th><th scope=col>Theil's U</th></tr>\n",
       "</thead>\n",
       "<tbody>\n",
       "\t<tr><th scope=row>Training set</th><td>   5.187</td><td>  97.901</td><td>  72.611</td><td> 0.110</td><td> 4.041</td><td>0.238</td><td>0.001</td><td>   NA</td></tr>\n",
       "\t<tr><th scope=row>Test set</th><td>1057.954</td><td>1487.196</td><td>1057.954</td><td>19.901</td><td>19.901</td><td>3.471</td><td>0.382</td><td>1.982</td></tr>\n",
       "</tbody>\n",
       "</table>\n"
      ],
      "text/latex": [
       "A matrix: 2 × 8 of type dbl\n",
       "\\begin{tabular}{r|llllllll}\n",
       "  & ME & RMSE & MAE & MPE & MAPE & MASE & ACF1 & Theil's U\\\\\n",
       "\\hline\n",
       "\tTraining set &    5.187 &   97.901 &   72.611 &  0.110 &  4.041 & 0.238 & 0.001 &    NA\\\\\n",
       "\tTest set & 1057.954 & 1487.196 & 1057.954 & 19.901 & 19.901 & 3.471 & 0.382 & 1.982\\\\\n",
       "\\end{tabular}\n"
      ],
      "text/markdown": [
       "\n",
       "A matrix: 2 × 8 of type dbl\n",
       "\n",
       "| <!--/--> | ME | RMSE | MAE | MPE | MAPE | MASE | ACF1 | Theil's U |\n",
       "|---|---|---|---|---|---|---|---|---|\n",
       "| Training set |    5.187 |   97.901 |   72.611 |  0.110 |  4.041 | 0.238 | 0.001 |    NA |\n",
       "| Test set | 1057.954 | 1487.196 | 1057.954 | 19.901 | 19.901 | 3.471 | 0.382 | 1.982 |\n",
       "\n"
      ],
      "text/plain": [
       "             ME       RMSE     MAE      MPE    MAPE   MASE  ACF1  Theil's U\n",
       "Training set    5.187   97.901   72.611  0.110  4.041 0.238 0.001    NA    \n",
       "Test set     1057.954 1487.196 1057.954 19.901 19.901 3.471 0.382 1.982    "
      ]
     },
     "metadata": {},
     "output_type": "display_data"
    }
   ],
   "source": [
    "# Fit ARIMA(4,1,1) model\n",
    "arima_411 <- Arima(train, order = c(4, 1, 1))\n",
    "\n",
    "# Generate forecasts\n",
    "forecast_arima_411 <- forecast:::forecast.Arima(arima_411, h = 6)\n",
    "\n",
    "# Evaluate accuracy and round to 3 decimal places\n",
    "accuracy_arima_411 <- round(accuracy(forecast_arima_411, test), 3)\n",
    "\n",
    "# Print the accuracy measures\n",
    "accuracy_arima_411\n"
   ]
  },
  {
   "cell_type": "code",
   "execution_count": 833,
   "id": "0123c1f2-12dc-4a6f-871f-ef1a64630c7a",
   "metadata": {},
   "outputs": [
    {
     "data": {
      "text/plain": [
       "         Point Forecast    Lo 80    Hi 80    Lo 95    Hi 95\n",
       "Oct 2023       3443.973 3317.373 3570.574 3250.355 3637.592\n",
       "Nov 2023       3436.587 3239.341 3633.834 3134.924 3738.250\n",
       "Dec 2023       3435.496 3190.121 3680.871 3060.228 3810.765\n",
       "Jan 2024       3451.280 3168.527 3734.034 3018.846 3883.714\n",
       "Feb 2024       3449.726 3129.325 3770.127 2959.715 3939.737\n",
       "Mar 2024       3450.254 3096.874 3803.633 2909.806 3990.701"
      ]
     },
     "metadata": {},
     "output_type": "display_data"
    }
   ],
   "source": [
    "forecast_arima_411"
   ]
  },
  {
   "cell_type": "markdown",
   "id": "1f576d9f-20a1-41fd-9328-e507d7750a72",
   "metadata": {},
   "source": [
    "**SERIMA**"
   ]
  },
  {
   "cell_type": "code",
   "execution_count": 834,
   "id": "d3987c50-976f-49c1-9486-6325a5e46efb",
   "metadata": {},
   "outputs": [
    {
     "data": {
      "text/html": [
       "<table class=\"dataframe\">\n",
       "<caption>A matrix: 2 × 8 of type dbl</caption>\n",
       "<thead>\n",
       "\t<tr><th></th><th scope=col>ME</th><th scope=col>RMSE</th><th scope=col>MAE</th><th scope=col>MPE</th><th scope=col>MAPE</th><th scope=col>MASE</th><th scope=col>ACF1</th><th scope=col>Theil's U</th></tr>\n",
       "</thead>\n",
       "<tbody>\n",
       "\t<tr><th scope=row>Training set</th><td>   5.090612</td><td>  98.49839</td><td>  73.2851</td><td> 0.1065705</td><td> 4.084549</td><td>0.2404228</td><td>-0.008168717</td><td>      NA</td></tr>\n",
       "\t<tr><th scope=row>Test set</th><td>1064.392947</td><td>1494.45583</td><td>1064.3929</td><td>20.0328622</td><td>20.032862</td><td>3.4919020</td><td> 0.384414805</td><td>1.992567</td></tr>\n",
       "</tbody>\n",
       "</table>\n"
      ],
      "text/latex": [
       "A matrix: 2 × 8 of type dbl\n",
       "\\begin{tabular}{r|llllllll}\n",
       "  & ME & RMSE & MAE & MPE & MAPE & MASE & ACF1 & Theil's U\\\\\n",
       "\\hline\n",
       "\tTraining set &    5.090612 &   98.49839 &   73.2851 &  0.1065705 &  4.084549 & 0.2404228 & -0.008168717 &       NA\\\\\n",
       "\tTest set & 1064.392947 & 1494.45583 & 1064.3929 & 20.0328622 & 20.032862 & 3.4919020 &  0.384414805 & 1.992567\\\\\n",
       "\\end{tabular}\n"
      ],
      "text/markdown": [
       "\n",
       "A matrix: 2 × 8 of type dbl\n",
       "\n",
       "| <!--/--> | ME | RMSE | MAE | MPE | MAPE | MASE | ACF1 | Theil's U |\n",
       "|---|---|---|---|---|---|---|---|---|\n",
       "| Training set |    5.090612 |   98.49839 |   73.2851 |  0.1065705 |  4.084549 | 0.2404228 | -0.008168717 |       NA |\n",
       "| Test set | 1064.392947 | 1494.45583 | 1064.3929 | 20.0328622 | 20.032862 | 3.4919020 |  0.384414805 | 1.992567 |\n",
       "\n"
      ],
      "text/plain": [
       "             ME          RMSE       MAE       MPE        MAPE      MASE     \n",
       "Training set    5.090612   98.49839   73.2851  0.1065705  4.084549 0.2404228\n",
       "Test set     1064.392947 1494.45583 1064.3929 20.0328622 20.032862 3.4919020\n",
       "             ACF1         Theil's U\n",
       "Training set -0.008168717       NA \n",
       "Test set      0.384414805 1.992567 "
      ]
     },
     "metadata": {},
     "output_type": "display_data"
    }
   ],
   "source": [
    "# Fit a SARIMA model using automatic selection\n",
    "sarima_model <- forecast::auto.arima(train)\n",
    "\n",
    "# Generate forecasts\n",
    "forecast_sarima <- forecast:::forecast.Arima(sarima_model, h = 6)\n",
    "\n",
    "# Calculate accuracy measures\n",
    "accuracy_sarima <- accuracy(forecast_sarima, test)\n",
    "\n",
    "# Print accuracy measures\n",
    "accuracy_sarima\n"
   ]
  },
  {
   "cell_type": "code",
   "execution_count": 835,
   "id": "74fde2d9-1bca-4ff7-9997-db00ca70ae67",
   "metadata": {},
   "outputs": [
    {
     "data": {
      "text/plain": [
       "         Point Forecast    Lo 80    Hi 80    Lo 95    Hi 95\n",
       "Oct 2023       3438.114 3311.506 3564.722 3244.483 3631.744\n",
       "Nov 2023       3438.114 3240.791 3635.436 3136.335 3739.892\n",
       "Dec 2023       3438.114 3189.432 3686.795 3057.788 3818.440\n",
       "Jan 2024       3438.114 3146.997 3729.231 2992.889 3883.339\n",
       "Feb 2024       3438.114 3110.005 3766.223 2936.314 3939.913\n",
       "Mar 2024       3438.114 3076.780 3799.447 2885.501 3990.726"
      ]
     },
     "metadata": {},
     "output_type": "display_data"
    }
   ],
   "source": [
    "forecast_sarima"
   ]
  },
  {
   "cell_type": "code",
   "execution_count": 836,
   "id": "11e69547-805d-4402-8056-10f50c59d7ac",
   "metadata": {},
   "outputs": [
    {
     "data": {
      "text/plain": [
       "Series: train \n",
       "ARIMA(4,1,1) \n",
       "\n",
       "Coefficients:\n",
       "          ar1     ar2      ar3     ar4     ma1\n",
       "      -0.3669  0.0296  -0.0642  0.0784  0.5616\n",
       "s.e.   0.2409  0.0723   0.0610  0.0576  0.2364\n",
       "\n",
       "sigma^2 = 9759:  log likelihood = -2011.51\n",
       "AIC=4035.02   AICc=4035.28   BIC=4057.91\n",
       "\n",
       "Training set error measures:\n",
       "                   ME     RMSE      MAE       MPE     MAPE      MASE\n",
       "Training set 5.186521 97.90079 72.61147 0.1103038 4.040661 0.2382129\n",
       "                     ACF1\n",
       "Training set 0.0006009217"
      ]
     },
     "metadata": {},
     "output_type": "display_data"
    }
   ],
   "source": [
    "summary (arima_411)"
   ]
  },
  {
   "cell_type": "code",
   "execution_count": 837,
   "id": "d3a79ce5-dea9-4f8e-9917-ac81cb0d703f",
   "metadata": {},
   "outputs": [
    {
     "data": {
      "text/plain": [
       "Series: train \n",
       "ARIMA(0,1,1) \n",
       "\n",
       "Coefficients:\n",
       "         ma1\n",
       "      0.1954\n",
       "s.e.  0.0548\n",
       "\n",
       "sigma^2 = 9760:  log likelihood = -2013.53\n",
       "AIC=4031.05   AICc=4031.09   BIC=4038.68"
      ]
     },
     "metadata": {},
     "output_type": "display_data"
    }
   ],
   "source": [
    "auto.arima(train)"
   ]
  },
  {
   "cell_type": "code",
   "execution_count": 838,
   "id": "0bcc9229-eb13-454f-9659-ab1793185481",
   "metadata": {},
   "outputs": [
    {
     "name": "stdout",
     "output_type": "stream",
     "text": [
      "\n",
      "\tLjung-Box test\n",
      "\n",
      "data:  Residuals\n",
      "Q* = 20.824, df = 24, p-value = 0.6491\n",
      "\n",
      "Model df: 0.   Total lags used: 24\n",
      "\n"
     ]
    },
    {
     "data": {
      "image/png": "[encoded data removed]",
      "text/plain": [
       "plot without title"
      ]
     },
     "metadata": {
      "image/png": {
       "height": 420,
       "width": 420
      }
     },
     "output_type": "display_data"
    }
   ],
   "source": [
    "checkresiduals(forecast_arima_411$residuals)"
   ]
  },
  {
   "cell_type": "code",
   "execution_count": 839,
   "id": "4e5dd47f-9703-4a16-b0e3-e8cdfe67c8ea",
   "metadata": {},
   "outputs": [
    {
     "data": {
      "image/png": "[encoded data removed]",
      "text/plain": [
       "plot without title"
      ]
     },
     "metadata": {
      "image/png": {
       "height": 420,
       "width": 420
      }
     },
     "output_type": "display_data"
    }
   ],
   "source": [
    "autoplot(forecast_arima_411)"
   ]
  },
  {
   "cell_type": "markdown",
   "id": "ef2670ed-2cfa-4562-b492-e33929b907e5",
   "metadata": {},
   "source": [
    "## **EVALUATIONS OF ARIMA MODELS**"
   ]
  },
  {
   "cell_type": "code",
   "execution_count": 840,
   "id": "9594c57e-b4e5-48eb-9714-dccf7856ad6f",
   "metadata": {},
   "outputs": [],
   "source": [
    "# Accuracy measures for each forecast\n",
    "accuracy_arima_011 <- accuracy(forecast_arima_011, test)\n",
    "accuracy_arima_310 <- accuracy(forecast_arima_310, test)\n",
    "accuracy_arima_210 <- accuracy(forecast_arima_210, test)\n",
    "accuracy_arima_410 <- accuracy(forecast_arima_410, test)\n",
    "accuracy_arima_311 <- accuracy(forecast_arima_311, test)\n",
    "accuracy_arima_211 <- accuracy(forecast_arima_211, test)\n",
    "accuracy_arima_411 <- accuracy(forecast_arima_411, test)\n",
    "accuracy_sarima <- accuracy(forecast_sarima, test)"
   ]
  },
  {
   "cell_type": "code",
   "execution_count": 841,
   "id": "49affad6-1150-47ea-81e1-0581dfbe594a",
   "metadata": {},
   "outputs": [],
   "source": [
    "# Round accuracy measures to three decimal places\n",
    "accuracy_arima_011 <- round(accuracy_arima_011, 3)\n",
    "accuracy_arima_310 <- round(accuracy_arima_310, 3)\n",
    "accuracy_arima_210 <- round(accuracy_arima_210, 3)\n",
    "accuracy_arima_410 <- round(accuracy_arima_410, 3)\n",
    "accuracy_arima_311 <- round(accuracy_arima_311, 3)\n",
    "accuracy_arima_211 <- round(accuracy_arima_211, 3)\n",
    "accuracy_arima_411 <- round(accuracy_arima_411, 3)\n",
    "accuracy_sarima <- round(accuracy_sarima, 3)"
   ]
  },
  {
   "cell_type": "code",
   "execution_count": 842,
   "id": "74b67121-b740-4ca6-a0f0-61d29d43afa5",
   "metadata": {},
   "outputs": [],
   "source": [
    "# Create a data frame to display the evaluation results\n",
    "evaluation_results_arima_sarima <- data.frame(\n",
    "  Model = c(\"ARIMA(0,1,1)\", \"ARIMA(3,1,0)\", \"ARIMA(2,1,0)\", \"ARIMA(4,1,0)\", \"ARIMA(3,1,1)\", \"ARIMA(2,1,1)\", \"ARIMA(4,1,1)\", \"SARIMA\"),\n",
    "  MAPE = c(accuracy_arima_011[2, 5], accuracy_arima_310[2, 5], accuracy_arima_210[2, 5], accuracy_arima_410[2, 5],\n",
    "           accuracy_arima_311[2, 5], accuracy_arima_211[2, 5], accuracy_arima_411[2, 5], accuracy_sarima[2, 5]),\n",
    "  MAE = c(accuracy_arima_011[2, 3], accuracy_arima_310[2, 3], accuracy_arima_210[2, 3], accuracy_arima_410[2, 3],\n",
    "          accuracy_arima_311[2, 3], accuracy_arima_211[2, 3], accuracy_arima_411[2, 3], accuracy_sarima[2, 3]),\n",
    "  RMSE = c(accuracy_arima_011[2, 2], accuracy_arima_310[2, 2], accuracy_arima_210[2, 2], accuracy_arima_410[2, 2],\n",
    "           accuracy_arima_311[2, 2], accuracy_arima_211[2, 2], accuracy_arima_411[2, 2], accuracy_sarima[2, 2])\n",
    ")"
   ]
  },
  {
   "cell_type": "code",
   "execution_count": 843,
   "id": "9d5b6c2d-af17-481a-bd85-8de08615c61d",
   "metadata": {},
   "outputs": [
    {
     "data": {
      "text/html": [
       "<table class=\"dataframe\">\n",
       "<caption>A data.frame: 8 × 4</caption>\n",
       "<thead>\n",
       "\t<tr><th scope=col>Model</th><th scope=col>MAPE</th><th scope=col>MAE</th><th scope=col>RMSE</th></tr>\n",
       "\t<tr><th scope=col>&lt;chr&gt;</th><th scope=col>&lt;dbl&gt;</th><th scope=col>&lt;dbl&gt;</th><th scope=col>&lt;dbl&gt;</th></tr>\n",
       "</thead>\n",
       "<tbody>\n",
       "\t<tr><td>ARIMA(0,1,1)</td><td>20.033</td><td>1064.393</td><td>1494.456</td></tr>\n",
       "\t<tr><td>ARIMA(3,1,0)</td><td>20.590</td><td>1089.242</td><td>1514.901</td></tr>\n",
       "\t<tr><td>ARIMA(2,1,0)</td><td>20.547</td><td>1087.266</td><td>1513.170</td></tr>\n",
       "\t<tr><td>ARIMA(4,1,0)</td><td>19.833</td><td>1054.349</td><td>1482.282</td></tr>\n",
       "\t<tr><td>ARIMA(3,1,1)</td><td>20.728</td><td>1095.478</td><td>1520.314</td></tr>\n",
       "\t<tr><td>ARIMA(2,1,1)</td><td>20.577</td><td>1088.634</td><td>1514.376</td></tr>\n",
       "\t<tr><td>ARIMA(4,1,1)</td><td>19.901</td><td>1057.954</td><td>1487.196</td></tr>\n",
       "\t<tr><td>SARIMA      </td><td>20.033</td><td>1064.393</td><td>1494.456</td></tr>\n",
       "</tbody>\n",
       "</table>\n"
      ],
      "text/latex": [
       "A data.frame: 8 × 4\n",
       "\\begin{tabular}{llll}\n",
       " Model & MAPE & MAE & RMSE\\\\\n",
       " <chr> & <dbl> & <dbl> & <dbl>\\\\\n",
       "\\hline\n",
       "\t ARIMA(0,1,1) & 20.033 & 1064.393 & 1494.456\\\\\n",
       "\t ARIMA(3,1,0) & 20.590 & 1089.242 & 1514.901\\\\\n",
       "\t ARIMA(2,1,0) & 20.547 & 1087.266 & 1513.170\\\\\n",
       "\t ARIMA(4,1,0) & 19.833 & 1054.349 & 1482.282\\\\\n",
       "\t ARIMA(3,1,1) & 20.728 & 1095.478 & 1520.314\\\\\n",
       "\t ARIMA(2,1,1) & 20.577 & 1088.634 & 1514.376\\\\\n",
       "\t ARIMA(4,1,1) & 19.901 & 1057.954 & 1487.196\\\\\n",
       "\t SARIMA       & 20.033 & 1064.393 & 1494.456\\\\\n",
       "\\end{tabular}\n"
      ],
      "text/markdown": [
       "\n",
       "A data.frame: 8 × 4\n",
       "\n",
       "| Model &lt;chr&gt; | MAPE &lt;dbl&gt; | MAE &lt;dbl&gt; | RMSE &lt;dbl&gt; |\n",
       "|---|---|---|---|\n",
       "| ARIMA(0,1,1) | 20.033 | 1064.393 | 1494.456 |\n",
       "| ARIMA(3,1,0) | 20.590 | 1089.242 | 1514.901 |\n",
       "| ARIMA(2,1,0) | 20.547 | 1087.266 | 1513.170 |\n",
       "| ARIMA(4,1,0) | 19.833 | 1054.349 | 1482.282 |\n",
       "| ARIMA(3,1,1) | 20.728 | 1095.478 | 1520.314 |\n",
       "| ARIMA(2,1,1) | 20.577 | 1088.634 | 1514.376 |\n",
       "| ARIMA(4,1,1) | 19.901 | 1057.954 | 1487.196 |\n",
       "| SARIMA       | 20.033 | 1064.393 | 1494.456 |\n",
       "\n"
      ],
      "text/plain": [
       "  Model        MAPE   MAE      RMSE    \n",
       "1 ARIMA(0,1,1) 20.033 1064.393 1494.456\n",
       "2 ARIMA(3,1,0) 20.590 1089.242 1514.901\n",
       "3 ARIMA(2,1,0) 20.547 1087.266 1513.170\n",
       "4 ARIMA(4,1,0) 19.833 1054.349 1482.282\n",
       "5 ARIMA(3,1,1) 20.728 1095.478 1520.314\n",
       "6 ARIMA(2,1,1) 20.577 1088.634 1514.376\n",
       "7 ARIMA(4,1,1) 19.901 1057.954 1487.196\n",
       "8 SARIMA       20.033 1064.393 1494.456"
      ]
     },
     "metadata": {},
     "output_type": "display_data"
    }
   ],
   "source": [
    "evaluation_results_arima_sarima"
   ]
  },
  {
   "cell_type": "markdown",
   "id": "31324e68-2848-4a4b-84ad-b5968e6e8296",
   "metadata": {},
   "source": [
    "# **OVERALL TOP MODELS** "
   ]
  },
  {
   "cell_type": "code",
   "execution_count": 844,
   "id": "27cc67a0-a919-47f0-874a-760f0e945274",
   "metadata": {},
   "outputs": [
    {
     "data": {
      "text/html": [
       "<table class=\"dataframe\">\n",
       "<caption>A data.frame: 20 × 2</caption>\n",
       "<thead>\n",
       "\t<tr><th></th><th scope=col>Model</th><th scope=col>Mean_MAPE</th></tr>\n",
       "\t<tr><th></th><th scope=col>&lt;chr&gt;</th><th scope=col>&lt;dbl&gt;</th></tr>\n",
       "</thead>\n",
       "<tbody>\n",
       "\t<tr><th scope=row>12</th><td>ETS (MMM)                                  </td><td> 6.313667</td></tr>\n",
       "\t<tr><th scope=row>11</th><td>ETS (AAA)                                  </td><td> 6.603000</td></tr>\n",
       "\t<tr><th scope=row>16</th><td>ARIMA(4,1,0)                               </td><td> 6.611000</td></tr>\n",
       "\t<tr><th scope=row>19</th><td>ARIMA(4,1,1)                               </td><td> 6.633667</td></tr>\n",
       "\t<tr><th scope=row>13</th><td>ARIMA(0,1,1)                               </td><td> 6.677667</td></tr>\n",
       "\t<tr><th scope=row>20</th><td>SARIMA                                     </td><td> 6.677667</td></tr>\n",
       "\t<tr><th scope=row>15</th><td>ARIMA(2,1,0)                               </td><td> 6.849000</td></tr>\n",
       "\t<tr><th scope=row>9</th><td>Holt's Method                              </td><td> 6.855333</td></tr>\n",
       "\t<tr><th scope=row>18</th><td>ARIMA(2,1,1)                               </td><td> 6.859000</td></tr>\n",
       "\t<tr><th scope=row>4</th><td>Drift                                      </td><td> 6.860000</td></tr>\n",
       "\t<tr><th scope=row>14</th><td>ARIMA(3,1,0)                               </td><td> 6.863333</td></tr>\n",
       "\t<tr><th scope=row>17</th><td>ARIMA(3,1,1)                               </td><td> 6.909333</td></tr>\n",
       "\t<tr><th scope=row>2</th><td>Naive                                      </td><td> 7.006667</td></tr>\n",
       "\t<tr><th scope=row>5</th><td>Simple Exponential Smoothing               </td><td> 7.007667</td></tr>\n",
       "\t<tr><th scope=row>8</th><td>ETS (ANN)                                  </td><td> 7.007667</td></tr>\n",
       "\t<tr><th scope=row>10</th><td>ETS (AAN)                                  </td><td> 7.007667</td></tr>\n",
       "\t<tr><th scope=row>7</th><td>Simple Exponential Smoothing (Alpha = 0.7) </td><td> 7.698333</td></tr>\n",
       "\t<tr><th scope=row>6</th><td>Simple Exponential Smoothing (Alpha = 0.05)</td><td>14.724333</td></tr>\n",
       "\t<tr><th scope=row>3</th><td>Seasonal Naive                             </td><td>15.086667</td></tr>\n",
       "\t<tr><th scope=row>1</th><td>Mean                                       </td><td>19.220000</td></tr>\n",
       "</tbody>\n",
       "</table>\n"
      ],
      "text/latex": [
       "A data.frame: 20 × 2\n",
       "\\begin{tabular}{r|ll}\n",
       "  & Model & Mean\\_MAPE\\\\\n",
       "  & <chr> & <dbl>\\\\\n",
       "\\hline\n",
       "\t12 & ETS (MMM)                                   &  6.313667\\\\\n",
       "\t11 & ETS (AAA)                                   &  6.603000\\\\\n",
       "\t16 & ARIMA(4,1,0)                                &  6.611000\\\\\n",
       "\t19 & ARIMA(4,1,1)                                &  6.633667\\\\\n",
       "\t13 & ARIMA(0,1,1)                                &  6.677667\\\\\n",
       "\t20 & SARIMA                                      &  6.677667\\\\\n",
       "\t15 & ARIMA(2,1,0)                                &  6.849000\\\\\n",
       "\t9 & Holt's Method                               &  6.855333\\\\\n",
       "\t18 & ARIMA(2,1,1)                                &  6.859000\\\\\n",
       "\t4 & Drift                                       &  6.860000\\\\\n",
       "\t14 & ARIMA(3,1,0)                                &  6.863333\\\\\n",
       "\t17 & ARIMA(3,1,1)                                &  6.909333\\\\\n",
       "\t2 & Naive                                       &  7.006667\\\\\n",
       "\t5 & Simple Exponential Smoothing                &  7.007667\\\\\n",
       "\t8 & ETS (ANN)                                   &  7.007667\\\\\n",
       "\t10 & ETS (AAN)                                   &  7.007667\\\\\n",
       "\t7 & Simple Exponential Smoothing (Alpha = 0.7)  &  7.698333\\\\\n",
       "\t6 & Simple Exponential Smoothing (Alpha = 0.05) & 14.724333\\\\\n",
       "\t3 & Seasonal Naive                              & 15.086667\\\\\n",
       "\t1 & Mean                                        & 19.220000\\\\\n",
       "\\end{tabular}\n"
      ],
      "text/markdown": [
       "\n",
       "A data.frame: 20 × 2\n",
       "\n",
       "| <!--/--> | Model &lt;chr&gt; | Mean_MAPE &lt;dbl&gt; |\n",
       "|---|---|---|\n",
       "| 12 | ETS (MMM)                                   |  6.313667 |\n",
       "| 11 | ETS (AAA)                                   |  6.603000 |\n",
       "| 16 | ARIMA(4,1,0)                                |  6.611000 |\n",
       "| 19 | ARIMA(4,1,1)                                |  6.633667 |\n",
       "| 13 | ARIMA(0,1,1)                                |  6.677667 |\n",
       "| 20 | SARIMA                                      |  6.677667 |\n",
       "| 15 | ARIMA(2,1,0)                                |  6.849000 |\n",
       "| 9 | Holt's Method                               |  6.855333 |\n",
       "| 18 | ARIMA(2,1,1)                                |  6.859000 |\n",
       "| 4 | Drift                                       |  6.860000 |\n",
       "| 14 | ARIMA(3,1,0)                                |  6.863333 |\n",
       "| 17 | ARIMA(3,1,1)                                |  6.909333 |\n",
       "| 2 | Naive                                       |  7.006667 |\n",
       "| 5 | Simple Exponential Smoothing                |  7.007667 |\n",
       "| 8 | ETS (ANN)                                   |  7.007667 |\n",
       "| 10 | ETS (AAN)                                   |  7.007667 |\n",
       "| 7 | Simple Exponential Smoothing (Alpha = 0.7)  |  7.698333 |\n",
       "| 6 | Simple Exponential Smoothing (Alpha = 0.05) | 14.724333 |\n",
       "| 3 | Seasonal Naive                              | 15.086667 |\n",
       "| 1 | Mean                                        | 19.220000 |\n",
       "\n"
      ],
      "text/plain": [
       "   Model                                       Mean_MAPE\n",
       "12 ETS (MMM)                                    6.313667\n",
       "11 ETS (AAA)                                    6.603000\n",
       "16 ARIMA(4,1,0)                                 6.611000\n",
       "19 ARIMA(4,1,1)                                 6.633667\n",
       "13 ARIMA(0,1,1)                                 6.677667\n",
       "20 SARIMA                                       6.677667\n",
       "15 ARIMA(2,1,0)                                 6.849000\n",
       "9  Holt's Method                                6.855333\n",
       "18 ARIMA(2,1,1)                                 6.859000\n",
       "4  Drift                                        6.860000\n",
       "14 ARIMA(3,1,0)                                 6.863333\n",
       "17 ARIMA(3,1,1)                                 6.909333\n",
       "2  Naive                                        7.006667\n",
       "5  Simple Exponential Smoothing                 7.007667\n",
       "8  ETS (ANN)                                    7.007667\n",
       "10 ETS (AAN)                                    7.007667\n",
       "7  Simple Exponential Smoothing (Alpha = 0.7)   7.698333\n",
       "6  Simple Exponential Smoothing (Alpha = 0.05) 14.724333\n",
       "3  Seasonal Naive                              15.086667\n",
       "1  Mean                                        19.220000"
      ]
     },
     "metadata": {},
     "output_type": "display_data"
    }
   ],
   "source": [
    "# Combine all evaluation results\n",
    "all_evaluation_results <- list(evaluation_results_simple, evaluation_results_exp_smoothing, evaluation_results_arima_sarima)\n",
    "all_models <- unique(unlist(sapply(all_evaluation_results, function(df) df$Model)))\n",
    "\n",
    "# Initialize a data frame to store mean MAPE for each model\n",
    "mean_mape_df <- data.frame(Model = all_models, Mean_MAPE = rep(NA, length(all_models)))\n",
    "\n",
    "# Calculate mean MAPE for each model across all methods\n",
    "for (model in all_models) {\n",
    "  mape_values <- numeric(length(all_evaluation_results))\n",
    "  for (i in seq_along(all_evaluation_results)) {\n",
    "    model_row <- which(all_evaluation_results[[i]]$Model == model)\n",
    "    if (length(model_row) > 0) {\n",
    "      mape_values[i] <- all_evaluation_results[[i]][model_row, \"MAPE\", ]\n",
    "    }\n",
    "  }\n",
    "  mean_mape_df[mean_mape_df$Model == model, \"Mean_MAPE\"] <- mean(mape_values, na.rm = TRUE)\n",
    "}\n",
    "\n",
    "# Sort the mean MAPE data frame by Mean_MAPE in ascending order to get top models\n",
    "top_models <- mean_mape_df[order(mean_mape_df$Mean_MAPE), ]\n",
    "\n",
    "# Print the top models\n",
    "top_models\n"
   ]
  },
  {
   "cell_type": "code",
   "execution_count": 845,
   "id": "bedeecb3-3a0f-4d09-9875-697552a2fde0",
   "metadata": {},
   "outputs": [
    {
     "name": "stdout",
     "output_type": "stream",
     "text": [
      "[1] \"Top Models based on MAPE:\"\n",
      "                                         Model Mean_MAPE Mean_RMSE\n",
      "12                                   ETS (MMM)  6.313667  454.2637\n",
      "11                                   ETS (AAA)  6.603000  482.3317\n",
      "16                                ARIMA(4,1,0)  6.611000  494.0940\n",
      "19                                ARIMA(4,1,1)  6.633667  495.7320\n",
      "13                                ARIMA(0,1,1)  6.677667  498.1520\n",
      "20                                      SARIMA  6.677667  498.1520\n",
      "15                                ARIMA(2,1,0)  6.849000  504.3900\n",
      "9                                Holt's Method  6.855333  500.9107\n",
      "18                                ARIMA(2,1,1)  6.859000  504.7920\n",
      "4                                        Drift  6.860000  501.1700\n",
      "14                                ARIMA(3,1,0)  6.863333  504.9670\n",
      "17                                ARIMA(3,1,1)  6.909333  506.7713\n",
      "2                                        Naive  7.006667  508.3467\n",
      "5                 Simple Exponential Smoothing  7.007667  508.3530\n",
      "8                                    ETS (ANN)  7.007667  508.3530\n",
      "10                                   ETS (AAN)  7.007667  508.3530\n",
      "7   Simple Exponential Smoothing (Alpha = 0.7)  7.698333  530.3060\n",
      "6  Simple Exponential Smoothing (Alpha = 0.05) 14.724333  783.1580\n",
      "3                               Seasonal Naive 15.086667  783.3633\n",
      "1                                         Mean 19.220000  959.9700\n",
      "[1] \"\\nTop Models based on RMSE:\"\n",
      "                                         Model Mean_MAPE Mean_RMSE\n",
      "12                                   ETS (MMM)  6.313667  454.2637\n",
      "11                                   ETS (AAA)  6.603000  482.3317\n",
      "16                                ARIMA(4,1,0)  6.611000  494.0940\n",
      "19                                ARIMA(4,1,1)  6.633667  495.7320\n",
      "13                                ARIMA(0,1,1)  6.677667  498.1520\n",
      "20                                      SARIMA  6.677667  498.1520\n",
      "9                                Holt's Method  6.855333  500.9107\n",
      "4                                        Drift  6.860000  501.1700\n",
      "15                                ARIMA(2,1,0)  6.849000  504.3900\n",
      "18                                ARIMA(2,1,1)  6.859000  504.7920\n",
      "14                                ARIMA(3,1,0)  6.863333  504.9670\n",
      "17                                ARIMA(3,1,1)  6.909333  506.7713\n",
      "2                                        Naive  7.006667  508.3467\n",
      "5                 Simple Exponential Smoothing  7.007667  508.3530\n",
      "8                                    ETS (ANN)  7.007667  508.3530\n",
      "10                                   ETS (AAN)  7.007667  508.3530\n",
      "7   Simple Exponential Smoothing (Alpha = 0.7)  7.698333  530.3060\n",
      "6  Simple Exponential Smoothing (Alpha = 0.05) 14.724333  783.1580\n",
      "3                               Seasonal Naive 15.086667  783.3633\n",
      "1                                         Mean 19.220000  959.9700\n"
     ]
    }
   ],
   "source": [
    "# Combine all evaluation results\n",
    "all_evaluation_results <- list(evaluation_results_simple, evaluation_results_exp_smoothing, evaluation_results_arima_sarima)\n",
    "all_models <- unique(unlist(sapply(all_evaluation_results, function(df) df$Model)))\n",
    "\n",
    "# Initialize a data frame to store mean MAPE and RMSE for each model\n",
    "mean_metrics_df <- data.frame(Model = all_models, Mean_MAPE = rep(NA, length(all_models)), Mean_RMSE = rep(NA, length(all_models)))\n",
    "\n",
    "# Calculate mean MAPE and RMSE for each model across all methods\n",
    "for (model in all_models) {\n",
    "  mape_values <- numeric(length(all_evaluation_results))\n",
    "  rmse_values <- numeric(length(all_evaluation_results))\n",
    "  for (i in seq_along(all_evaluation_results)) {\n",
    "    model_row <- which(all_evaluation_results[[i]]$Model == model)\n",
    "    if (length(model_row) > 0) {\n",
    "      mape_values[i] <- all_evaluation_results[[i]][model_row, \"MAPE\"]\n",
    "      rmse_values[i] <- all_evaluation_results[[i]][model_row, \"RMSE\"]\n",
    "    }\n",
    "  }\n",
    "  mean_metrics_df[mean_metrics_df$Model == model, \"Mean_MAPE\"] <- mean(mape_values, na.rm = TRUE)\n",
    "  mean_metrics_df[mean_metrics_df$Model == model, \"Mean_RMSE\"] <- mean(rmse_values, na.rm = TRUE)\n",
    "}\n",
    "\n",
    "# Sort the mean metrics data frame by Mean_MAPE in ascending order to get top models\n",
    "top_models_mape <- mean_metrics_df[order(mean_metrics_df$Mean_MAPE), ]\n",
    "top_models_rmse <- mean_metrics_df[order(mean_metrics_df$Mean_RMSE), ]\n",
    "\n",
    "# Print the top models based on MAPE\n",
    "print(\"Top Models based on MAPE:\")\n",
    "print(top_models_mape)\n",
    "\n",
    "# Print the top models based on RMSE\n",
    "print(\"\\nTop Models based on RMSE:\")\n",
    "print(top_models_rmse)\n"
   ]
  },
  {
   "cell_type": "code",
   "execution_count": 846,
   "id": "383628a5-8a36-413b-bb38-9f1a31368ede",
   "metadata": {},
   "outputs": [
    {
     "name": "stdout",
     "output_type": "stream",
     "text": [
      "[1] \"Overall Top Model:\"\n"
     ]
    },
    {
     "data": {
      "text/html": [
       "<table class=\"dataframe\">\n",
       "<caption>A data.frame: 1 × 4</caption>\n",
       "<thead>\n",
       "\t<tr><th></th><th scope=col>Model</th><th scope=col>MAPE</th><th scope=col>MAE</th><th scope=col>RMSE</th></tr>\n",
       "\t<tr><th></th><th scope=col>&lt;chr&gt;</th><th scope=col>&lt;dbl&gt;</th><th scope=col>&lt;dbl&gt;</th><th scope=col>&lt;dbl&gt;</th></tr>\n",
       "</thead>\n",
       "<tbody>\n",
       "\t<tr><th scope=row>12</th><td>ETS (MMM)</td><td>18.941</td><td>993.893</td><td>1362.791</td></tr>\n",
       "</tbody>\n",
       "</table>\n"
      ],
      "text/latex": [
       "A data.frame: 1 × 4\n",
       "\\begin{tabular}{r|llll}\n",
       "  & Model & MAPE & MAE & RMSE\\\\\n",
       "  & <chr> & <dbl> & <dbl> & <dbl>\\\\\n",
       "\\hline\n",
       "\t12 & ETS (MMM) & 18.941 & 993.893 & 1362.791\\\\\n",
       "\\end{tabular}\n"
      ],
      "text/markdown": [
       "\n",
       "A data.frame: 1 × 4\n",
       "\n",
       "| <!--/--> | Model &lt;chr&gt; | MAPE &lt;dbl&gt; | MAE &lt;dbl&gt; | RMSE &lt;dbl&gt; |\n",
       "|---|---|---|---|---|\n",
       "| 12 | ETS (MMM) | 18.941 | 993.893 | 1362.791 |\n",
       "\n"
      ],
      "text/plain": [
       "   Model     MAPE   MAE     RMSE    \n",
       "12 ETS (MMM) 18.941 993.893 1362.791"
      ]
     },
     "metadata": {},
     "output_type": "display_data"
    }
   ],
   "source": [
    "# Combine all evaluation results\n",
    "all_evaluation_results <- list(evaluation_results_simple, evaluation_results_exp_smoothing, evaluation_results_arima_sarima)\n",
    "\n",
    "# Combine into one data frame\n",
    "all_results <- do.call(rbind, all_evaluation_results)\n",
    "\n",
    "# Find the overall top model based on lowest MAPE\n",
    "overall_top_model <- all_results[which.min(all_results$MAPE), ]\n",
    "\n",
    "# Print the overall top model\n",
    "print(\"Overall Top Model:\")\n",
    "(overall_top_model)\n"
   ]
  },
  {
   "cell_type": "code",
   "execution_count": null,
   "id": "7fcefea3-8a39-4422-abd0-1b5b8165cf49",
   "metadata": {},
   "outputs": [],
   "source": []
  }
 ],
 "metadata": {
  "kernelspec": {
   "display_name": "R",
   "language": "R",
   "name": "ir"
  },
  "language_info": {
   "codemirror_mode": "r",
   "file_extension": ".r",
   "mimetype": "text/x-r-source",
   "name": "R",
   "pygments_lexer": "r",
   "version": "4.3.2"
  }
 },
 "nbformat": 4,
 "nbformat_minor": 5
}
